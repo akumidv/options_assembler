{
 "cells": [
  {
   "cell_type": "markdown",
   "source": [
    "\n",
    "Chekulaev M. Riddles and secrets of option trading. 2001\n",
    "Чекулаев М. Загадки и тайны опционной торговли. 2001\n"
   ],
   "metadata": {
    "collapsed": false
   }
  },
  {
   "cell_type": "markdown",
   "source": [
    "## Intro\n",
    "Any purchase is an option that consists of the intrinsic value (the liquidation value of the asset) and the time value (the difference between the value of the asset and its liquidation value. The time cost is exactly the part that we overpay.\n"
   ],
   "metadata": {
    "collapsed": false
   }
  }
 ],
 "metadata": {
  "kernelspec": {
   "display_name": "Python 3",
   "language": "python",
   "name": "python3"
  },
  "language_info": {
   "codemirror_mode": {
    "name": "ipython",
    "version": 2
   },
   "file_extension": ".py",
   "mimetype": "text/x-python",
   "name": "python",
   "nbconvert_exporter": "python",
   "pygments_lexer": "ipython2",
   "version": "2.7.6"
  }
 },
 "nbformat": 4,
 "nbformat_minor": 0
}
