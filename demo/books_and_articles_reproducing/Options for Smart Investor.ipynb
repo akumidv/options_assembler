{
 "cells": [
  {
   "cell_type": "markdown",
   "id": "b15e828b-7014-4ca9-a5dc-92e65983e05d",
   "metadata": {},
   "source": [
    "### From articles \"Options for smart investor\"\n",
    "\n",
    "https://dzen.ru/id/5f6b2336d03ed90da6bf9d00\n"
   ]
  },
  {
   "cell_type": "code",
   "execution_count": 1,
   "outputs": [],
   "source": [
    "# Prepare data and option_lib to use in Google Collab\n",
    "!bash -c '\\\n",
    "OPT_LIB_PATH=\"/content/option_lib\"; \\\n",
    "if [[ ! (-z \"${COLAB_JUPYTER_IP}\" || -d \"${OPT_LIB_PATH}\" ) ]]; then \\\n",
    "  git clone https://github.com/akumidv/option_lib.git \"${OPT_LIB_PATH}\"; \\\n",
    "  DATA_PATH=\"/content/data\"; \\\n",
    "  mkdir -p \"${DATA_PATH}/DERIBIT/BTC-USD/EOD/futures\"; \\\n",
    "  mkdir -p \"${DATA_PATH}/DERIBIT/BTC-USD/EOD/options\"; \\\n",
    "  gdown --fuzzy \"https://drive.google.com/file/d/1n2T4jBHeanGLtBLlLWgYIHzK9hYsGT97/view?usp=sharing\"  -O \"/content/data/DERIBIT/BTC-USD/EOD/futures/2025.parquet\" ;\\\n",
    "  gdown --fuzzy \"https://drive.google.com/file/d/10Eo_4oNSlx0rbe2efn5OXToONAi5nPhV/view?usp=sharing\"  -O \"/content/data/DERIBIT/BTC-USD/EOD/options/2025.parquet\"  ;\\\n",
    "  export VENV_PATH=\"${OPT_LIB_PATH}/.venv\";\\\n",
    "  pip install poetry ;\\\n",
    "  cd ${OPT_LIB_PATH} ;\\\n",
    "  POETRY_VIRTUALENVS_IN_PROJECT=true poetry install --no-interaction;\\\n",
    "fi'\n",
    "import sys, os\n",
    "\n",
    "if os.path.isdir('/content/option_lib') and '/content/option_lib/src' not in sys.path:\n",
    "    sys.path.extend(\n",
    "        ['/content/option_lib/src', '/content/option_lib/.venv/'])  # Not work yet - poetry install somewhere else\n",
    "    os.environ['DATA_PATH'] = '/content/data'\n"
   ],
   "metadata": {
    "collapsed": false
   }
  },
  {
   "cell_type": "code",
   "execution_count": 2,
   "id": "d69cb3a3-0b44-4ad9-b63d-59f32cacf86a",
   "metadata": {},
   "outputs": [
    {
     "data": {
      "text/html": "        <script type=\"text/javascript\">\n        window.PlotlyConfig = {MathJaxConfig: 'local'};\n        if (window.MathJax && window.MathJax.Hub && window.MathJax.Hub.Config) {window.MathJax.Hub.Config({SVG: {font: \"STIX-Web\"}});}\n        </script>\n        <script type=\"module\">import \"https://cdn.plot.ly/plotly-3.0.1.min\"</script>\n        "
     },
     "metadata": {},
     "output_type": "display_data"
    }
   ],
   "source": [
    "import datetime\n",
    "import pandas as pd\n",
    "from chart_studio import plotly\n",
    "from plotly import graph_objs as go\n",
    "from plotly.offline import iplot, init_notebook_mode\n",
    "#import plotly.express as px\n",
    "\n",
    "from options_assembler.provider import PandasLocalFileProvider, RequestParameters\n",
    "from options_assembler.entities import OptionType, OptionPriceStatus\n",
    "from options_assembler import Option\n",
    "from options_assembler.entities import LegType, OptionLeg\n",
    "\n",
    "init_notebook_mode(connected=True)\n",
    "\n",
    "pd.set_option(\"display.max_rows\", 20, \"display.max_columns\", 30)"
   ]
  },
  {
   "cell_type": "code",
   "execution_count": 3,
   "outputs": [],
   "source": [
    "deribit_provider = PandasLocalFileProvider('DERIBIT', os.environ.get('DATA_PATH', '../../data'))\n",
    "cur_dt = datetime.date.today()\n",
    "provider_params = RequestParameters(period_to=cur_dt.year)\n",
    "btc = Option(deribit_provider, 'BTC', provider_params,\n",
    "             option_columns=['timestamp', 'expiration_date', 'strike', 'option_type', 'price',\n",
    "                             'underlying_expiration_date', 'exchange_price', 'exchange_iv',\n",
    "                             'underlying_price'])  #, 'iv', 'delta', 'gamma', 'vega', 'theta', 'quick_delta', 'contract_size'])\n"
   ],
   "metadata": {
    "collapsed": false
   }
  },
  {
   "cell_type": "code",
   "execution_count": 4,
   "id": "9e861fa5-47b3-417d-8ec2-52a2b42ea203",
   "metadata": {},
   "outputs": [
    {
     "data": {
      "text/plain": "                      timestamp           expiration_date    strike  \\\n0     2025-03-07 00:00:00+00:00 2025-03-10 00:00:00+00:00  100000.0   \n1     2025-03-08 00:00:00+00:00 2025-03-10 00:00:00+00:00  100000.0   \n2     2025-03-09 00:00:00+00:00 2025-03-10 00:00:00+00:00  100000.0   \n3     2025-03-10 00:00:00+00:00 2025-03-10 00:00:00+00:00  100000.0   \n5     2025-03-07 00:00:00+00:00 2025-03-10 00:00:00+00:00  100000.0   \n...                         ...                       ...       ...   \n35223 2025-03-09 00:00:00+00:00 2025-03-09 00:00:00+00:00   98000.0   \n35225 2025-03-06 00:00:00+00:00 2025-03-09 00:00:00+00:00   98000.0   \n35226 2025-03-07 00:00:00+00:00 2025-03-09 00:00:00+00:00   98000.0   \n35227 2025-03-08 00:00:00+00:00 2025-03-09 00:00:00+00:00   98000.0   \n35228 2025-03-09 00:00:00+00:00 2025-03-09 00:00:00+00:00   98000.0   \n\n      option_type         price underlying_expiration_date  exchange_price  \\\n0               c     26.023704  2025-03-10 00:00:00+00:00       19.236722   \n1               c      8.615089  2025-03-10 00:00:00+00:00        1.406844   \n2               c      8.058437  2025-03-10 00:00:00+00:00        0.000000   \n3               c      8.223679  2025-03-10 00:00:00+00:00        0.000000   \n5               p  14445.122258  2025-03-10 00:00:00+00:00    13285.977891   \n...           ...           ...                        ...             ...   \n35223           c      8.597618  2025-03-09 00:00:00+00:00        0.000000   \n35225           p   8544.061550  2025-03-09 00:00:00+00:00     8509.239553   \n35226           p  12427.527172  2025-03-09 00:00:00+00:00    11278.250862   \n35227           p  11974.973710  2025-03-09 00:00:00+00:00    11850.689852   \n35228           p  12050.402000  2025-03-09 00:00:00+00:00    12023.820359   \n\n       exchange_iv  underlying_price  \n0            76.47      86725.488807  \n1            80.67      86146.710485  \n2           110.98      80579.920875  \n3           110.98      82236.790000  \n5            76.47      86730.054757  \n...            ...               ...  \n35223        87.16      85976.180000  \n35225        94.12      89937.750000  \n35226        87.16      86734.688447  \n35227        87.16      86148.732516  \n35228        87.16      85976.180000  \n\n[31831 rows x 9 columns]",
      "text/html": "<div>\n<style scoped>\n    .dataframe tbody tr th:only-of-type {\n        vertical-align: middle;\n    }\n\n    .dataframe tbody tr th {\n        vertical-align: top;\n    }\n\n    .dataframe thead th {\n        text-align: right;\n    }\n</style>\n<table border=\"1\" class=\"dataframe\">\n  <thead>\n    <tr style=\"text-align: right;\">\n      <th></th>\n      <th>timestamp</th>\n      <th>expiration_date</th>\n      <th>strike</th>\n      <th>option_type</th>\n      <th>price</th>\n      <th>underlying_expiration_date</th>\n      <th>exchange_price</th>\n      <th>exchange_iv</th>\n      <th>underlying_price</th>\n    </tr>\n  </thead>\n  <tbody>\n    <tr>\n      <th>0</th>\n      <td>2025-03-07 00:00:00+00:00</td>\n      <td>2025-03-10 00:00:00+00:00</td>\n      <td>100000.0</td>\n      <td>c</td>\n      <td>26.023704</td>\n      <td>2025-03-10 00:00:00+00:00</td>\n      <td>19.236722</td>\n      <td>76.47</td>\n      <td>86725.488807</td>\n    </tr>\n    <tr>\n      <th>1</th>\n      <td>2025-03-08 00:00:00+00:00</td>\n      <td>2025-03-10 00:00:00+00:00</td>\n      <td>100000.0</td>\n      <td>c</td>\n      <td>8.615089</td>\n      <td>2025-03-10 00:00:00+00:00</td>\n      <td>1.406844</td>\n      <td>80.67</td>\n      <td>86146.710485</td>\n    </tr>\n    <tr>\n      <th>2</th>\n      <td>2025-03-09 00:00:00+00:00</td>\n      <td>2025-03-10 00:00:00+00:00</td>\n      <td>100000.0</td>\n      <td>c</td>\n      <td>8.058437</td>\n      <td>2025-03-10 00:00:00+00:00</td>\n      <td>0.000000</td>\n      <td>110.98</td>\n      <td>80579.920875</td>\n    </tr>\n    <tr>\n      <th>3</th>\n      <td>2025-03-10 00:00:00+00:00</td>\n      <td>2025-03-10 00:00:00+00:00</td>\n      <td>100000.0</td>\n      <td>c</td>\n      <td>8.223679</td>\n      <td>2025-03-10 00:00:00+00:00</td>\n      <td>0.000000</td>\n      <td>110.98</td>\n      <td>82236.790000</td>\n    </tr>\n    <tr>\n      <th>5</th>\n      <td>2025-03-07 00:00:00+00:00</td>\n      <td>2025-03-10 00:00:00+00:00</td>\n      <td>100000.0</td>\n      <td>p</td>\n      <td>14445.122258</td>\n      <td>2025-03-10 00:00:00+00:00</td>\n      <td>13285.977891</td>\n      <td>76.47</td>\n      <td>86730.054757</td>\n    </tr>\n    <tr>\n      <th>...</th>\n      <td>...</td>\n      <td>...</td>\n      <td>...</td>\n      <td>...</td>\n      <td>...</td>\n      <td>...</td>\n      <td>...</td>\n      <td>...</td>\n      <td>...</td>\n    </tr>\n    <tr>\n      <th>35223</th>\n      <td>2025-03-09 00:00:00+00:00</td>\n      <td>2025-03-09 00:00:00+00:00</td>\n      <td>98000.0</td>\n      <td>c</td>\n      <td>8.597618</td>\n      <td>2025-03-09 00:00:00+00:00</td>\n      <td>0.000000</td>\n      <td>87.16</td>\n      <td>85976.180000</td>\n    </tr>\n    <tr>\n      <th>35225</th>\n      <td>2025-03-06 00:00:00+00:00</td>\n      <td>2025-03-09 00:00:00+00:00</td>\n      <td>98000.0</td>\n      <td>p</td>\n      <td>8544.061550</td>\n      <td>2025-03-09 00:00:00+00:00</td>\n      <td>8509.239553</td>\n      <td>94.12</td>\n      <td>89937.750000</td>\n    </tr>\n    <tr>\n      <th>35226</th>\n      <td>2025-03-07 00:00:00+00:00</td>\n      <td>2025-03-09 00:00:00+00:00</td>\n      <td>98000.0</td>\n      <td>p</td>\n      <td>12427.527172</td>\n      <td>2025-03-09 00:00:00+00:00</td>\n      <td>11278.250862</td>\n      <td>87.16</td>\n      <td>86734.688447</td>\n    </tr>\n    <tr>\n      <th>35227</th>\n      <td>2025-03-08 00:00:00+00:00</td>\n      <td>2025-03-09 00:00:00+00:00</td>\n      <td>98000.0</td>\n      <td>p</td>\n      <td>11974.973710</td>\n      <td>2025-03-09 00:00:00+00:00</td>\n      <td>11850.689852</td>\n      <td>87.16</td>\n      <td>86148.732516</td>\n    </tr>\n    <tr>\n      <th>35228</th>\n      <td>2025-03-09 00:00:00+00:00</td>\n      <td>2025-03-09 00:00:00+00:00</td>\n      <td>98000.0</td>\n      <td>p</td>\n      <td>12050.402000</td>\n      <td>2025-03-09 00:00:00+00:00</td>\n      <td>12023.820359</td>\n      <td>87.16</td>\n      <td>85976.180000</td>\n    </tr>\n  </tbody>\n</table>\n<p>31831 rows × 9 columns</p>\n</div>"
     },
     "execution_count": 4,
     "metadata": {},
     "output_type": "execute_result"
    }
   ],
   "source": [
    "btc.df_hist"
   ]
  },
  {
   "cell_type": "code",
   "execution_count": 5,
   "outputs": [
    {
     "data": {
      "text/plain": "                  timestamp           expiration_date    price\n0 2025-02-11 00:00:00+00:00 2025-02-14 00:00:00+00:00  95800.0\n1 2025-02-12 00:00:00+00:00 2025-02-14 00:00:00+00:00  97942.5",
      "text/html": "<div>\n<style scoped>\n    .dataframe tbody tr th:only-of-type {\n        vertical-align: middle;\n    }\n\n    .dataframe tbody tr th {\n        vertical-align: top;\n    }\n\n    .dataframe thead th {\n        text-align: right;\n    }\n</style>\n<table border=\"1\" class=\"dataframe\">\n  <thead>\n    <tr style=\"text-align: right;\">\n      <th></th>\n      <th>timestamp</th>\n      <th>expiration_date</th>\n      <th>price</th>\n    </tr>\n  </thead>\n  <tbody>\n    <tr>\n      <th>0</th>\n      <td>2025-02-11 00:00:00+00:00</td>\n      <td>2025-02-14 00:00:00+00:00</td>\n      <td>95800.0</td>\n    </tr>\n    <tr>\n      <th>1</th>\n      <td>2025-02-12 00:00:00+00:00</td>\n      <td>2025-02-14 00:00:00+00:00</td>\n      <td>97942.5</td>\n    </tr>\n  </tbody>\n</table>\n</div>"
     },
     "execution_count": 5,
     "metadata": {},
     "output_type": "execute_result"
    }
   ],
   "source": [
    "df_fut = btc.df_fut\n",
    "df_fut.head(2)"
   ],
   "metadata": {
    "collapsed": false
   }
  },
  {
   "cell_type": "code",
   "execution_count": 6,
   "outputs": [
    {
     "data": {
      "text/plain": "                  timestamp           expiration_date    strike option_type  \\\n0 2025-03-07 00:00:00+00:00 2025-03-10 00:00:00+00:00  100000.0           c   \n1 2025-03-08 00:00:00+00:00 2025-03-10 00:00:00+00:00  100000.0           c   \n\n       price underlying_expiration_date  exchange_price  exchange_iv  \\\n0  26.023704  2025-03-10 00:00:00+00:00       19.236722        76.47   \n1   8.615089  2025-03-10 00:00:00+00:00        1.406844        80.67   \n\n   underlying_price  intrinsic_value  time_value  \n0      86725.488807              0.0   26.023704  \n1      86146.710485              0.0    8.615089  ",
      "text/html": "<div>\n<style scoped>\n    .dataframe tbody tr th:only-of-type {\n        vertical-align: middle;\n    }\n\n    .dataframe tbody tr th {\n        vertical-align: top;\n    }\n\n    .dataframe thead th {\n        text-align: right;\n    }\n</style>\n<table border=\"1\" class=\"dataframe\">\n  <thead>\n    <tr style=\"text-align: right;\">\n      <th></th>\n      <th>timestamp</th>\n      <th>expiration_date</th>\n      <th>strike</th>\n      <th>option_type</th>\n      <th>price</th>\n      <th>underlying_expiration_date</th>\n      <th>exchange_price</th>\n      <th>exchange_iv</th>\n      <th>underlying_price</th>\n      <th>intrinsic_value</th>\n      <th>time_value</th>\n    </tr>\n  </thead>\n  <tbody>\n    <tr>\n      <th>0</th>\n      <td>2025-03-07 00:00:00+00:00</td>\n      <td>2025-03-10 00:00:00+00:00</td>\n      <td>100000.0</td>\n      <td>c</td>\n      <td>26.023704</td>\n      <td>2025-03-10 00:00:00+00:00</td>\n      <td>19.236722</td>\n      <td>76.47</td>\n      <td>86725.488807</td>\n      <td>0.0</td>\n      <td>26.023704</td>\n    </tr>\n    <tr>\n      <th>1</th>\n      <td>2025-03-08 00:00:00+00:00</td>\n      <td>2025-03-10 00:00:00+00:00</td>\n      <td>100000.0</td>\n      <td>c</td>\n      <td>8.615089</td>\n      <td>2025-03-10 00:00:00+00:00</td>\n      <td>1.406844</td>\n      <td>80.67</td>\n      <td>86146.710485</td>\n      <td>0.0</td>\n      <td>8.615089</td>\n    </tr>\n  </tbody>\n</table>\n</div>"
     },
     "execution_count": 6,
     "metadata": {},
     "output_type": "execute_result"
    }
   ],
   "source": [
    "btc.enrichment.add_column('underlying_price').add_column('time_value')\n",
    "btc.df_hist.head(2)"
   ],
   "metadata": {
    "collapsed": false
   }
  },
  {
   "cell_type": "code",
   "execution_count": 7,
   "id": "1351f71b-062f-4419-81cb-5e451b78ba6d",
   "metadata": {
    "editable": true,
    "slideshow": {
     "slide_type": ""
    },
    "tags": []
   },
   "outputs": [
    {
     "data": {
      "text/plain": "                   timestamp           expiration_date   strike option_type  \\\n80 2025-03-09 00:00:00+00:00 2025-03-10 00:00:00+00:00  80500.0           c   \n83 2025-03-09 00:00:00+00:00 2025-03-10 00:00:00+00:00  80500.0           p   \n\n         price underlying_expiration_date  exchange_price  exchange_iv  \\\n80  846.135885  2025-03-10 00:00:00+00:00      891.962605        87.59   \n83  725.259330  2025-03-10 00:00:00+00:00      812.037415        87.59   \n\n    underlying_price  intrinsic_value  time_value price_status  \n80      80579.920875        79.920875   766.21501          atm  \n83      80579.920875         0.000000   725.25933          atm  ",
      "text/html": "<div>\n<style scoped>\n    .dataframe tbody tr th:only-of-type {\n        vertical-align: middle;\n    }\n\n    .dataframe tbody tr th {\n        vertical-align: top;\n    }\n\n    .dataframe thead th {\n        text-align: right;\n    }\n</style>\n<table border=\"1\" class=\"dataframe\">\n  <thead>\n    <tr style=\"text-align: right;\">\n      <th></th>\n      <th>timestamp</th>\n      <th>expiration_date</th>\n      <th>strike</th>\n      <th>option_type</th>\n      <th>price</th>\n      <th>underlying_expiration_date</th>\n      <th>exchange_price</th>\n      <th>exchange_iv</th>\n      <th>underlying_price</th>\n      <th>intrinsic_value</th>\n      <th>time_value</th>\n      <th>price_status</th>\n    </tr>\n  </thead>\n  <tbody>\n    <tr>\n      <th>80</th>\n      <td>2025-03-09 00:00:00+00:00</td>\n      <td>2025-03-10 00:00:00+00:00</td>\n      <td>80500.0</td>\n      <td>c</td>\n      <td>846.135885</td>\n      <td>2025-03-10 00:00:00+00:00</td>\n      <td>891.962605</td>\n      <td>87.59</td>\n      <td>80579.920875</td>\n      <td>79.920875</td>\n      <td>766.21501</td>\n      <td>atm</td>\n    </tr>\n    <tr>\n      <th>83</th>\n      <td>2025-03-09 00:00:00+00:00</td>\n      <td>2025-03-10 00:00:00+00:00</td>\n      <td>80500.0</td>\n      <td>p</td>\n      <td>725.259330</td>\n      <td>2025-03-10 00:00:00+00:00</td>\n      <td>812.037415</td>\n      <td>87.59</td>\n      <td>80579.920875</td>\n      <td>0.000000</td>\n      <td>725.25933</td>\n      <td>atm</td>\n    </tr>\n  </tbody>\n</table>\n</div>"
     },
     "execution_count": 7,
     "metadata": {},
     "output_type": "execute_result"
    }
   ],
   "source": [
    "btc.enrichment.add_column('price_status')\n",
    "btc.df_hist[btc.df_hist['price_status'] == OptionPriceStatus.ATM.code].head(2)"
   ]
  },
  {
   "cell_type": "code",
   "execution_count": 8,
   "outputs": [
    {
     "data": {
      "text/plain": "                      timestamp           expiration_date    strike  \\\n0     2025-03-07 00:00:00+00:00 2025-03-10 00:00:00+00:00  100000.0   \n1     2025-03-08 00:00:00+00:00 2025-03-10 00:00:00+00:00  100000.0   \n2     2025-03-09 00:00:00+00:00 2025-03-10 00:00:00+00:00  100000.0   \n3     2025-03-10 00:00:00+00:00 2025-03-10 00:00:00+00:00  100000.0   \n5     2025-03-07 00:00:00+00:00 2025-03-10 00:00:00+00:00  100000.0   \n...                         ...                       ...       ...   \n35223 2025-03-09 00:00:00+00:00 2025-03-09 00:00:00+00:00   98000.0   \n35225 2025-03-06 00:00:00+00:00 2025-03-09 00:00:00+00:00   98000.0   \n35226 2025-03-07 00:00:00+00:00 2025-03-09 00:00:00+00:00   98000.0   \n35227 2025-03-08 00:00:00+00:00 2025-03-09 00:00:00+00:00   98000.0   \n35228 2025-03-09 00:00:00+00:00 2025-03-09 00:00:00+00:00   98000.0   \n\n      option_type         price underlying_expiration_date  exchange_price  \\\n0               c     26.023704  2025-03-10 00:00:00+00:00       19.236722   \n1               c      8.615089  2025-03-10 00:00:00+00:00        1.406844   \n2               c      8.058437  2025-03-10 00:00:00+00:00        0.000000   \n3               c      8.223679  2025-03-10 00:00:00+00:00        0.000000   \n5               p  14445.122258  2025-03-10 00:00:00+00:00    13285.977891   \n...           ...           ...                        ...             ...   \n35223           c      8.597618  2025-03-09 00:00:00+00:00        0.000000   \n35225           p   8544.061550  2025-03-09 00:00:00+00:00     8509.239553   \n35226           p  12427.527172  2025-03-09 00:00:00+00:00    11278.250862   \n35227           p  11974.973710  2025-03-09 00:00:00+00:00    11850.689852   \n35228           p  12050.402000  2025-03-09 00:00:00+00:00    12023.820359   \n\n       exchange_iv  underlying_price  intrinsic_value   time_value  \\\n0            76.47      86725.488807         0.000000    26.023704   \n1            80.67      86146.710485         0.000000     8.615089   \n2           110.98      80579.920875         0.000000     8.058437   \n3           110.98      82236.790000         0.000000     8.223679   \n5            76.47      86730.054757     13269.945243  1175.177015   \n...            ...               ...              ...          ...   \n35223        87.16      85976.180000         0.000000     8.597618   \n35225        94.12      89937.750000      8062.250000   481.811550   \n35226        87.16      86734.688447     11265.311553  1162.215619   \n35227        87.16      86148.732516     11851.267484   123.706226   \n35228        87.16      85976.180000     12023.820000    26.582000   \n\n      price_status  \n0              otm  \n1              otm  \n2              otm  \n3              otm  \n5              itm  \n...            ...  \n35223          otm  \n35225          itm  \n35226          itm  \n35227          itm  \n35228          itm  \n\n[31831 rows x 12 columns]",
      "text/html": "<div>\n<style scoped>\n    .dataframe tbody tr th:only-of-type {\n        vertical-align: middle;\n    }\n\n    .dataframe tbody tr th {\n        vertical-align: top;\n    }\n\n    .dataframe thead th {\n        text-align: right;\n    }\n</style>\n<table border=\"1\" class=\"dataframe\">\n  <thead>\n    <tr style=\"text-align: right;\">\n      <th></th>\n      <th>timestamp</th>\n      <th>expiration_date</th>\n      <th>strike</th>\n      <th>option_type</th>\n      <th>price</th>\n      <th>underlying_expiration_date</th>\n      <th>exchange_price</th>\n      <th>exchange_iv</th>\n      <th>underlying_price</th>\n      <th>intrinsic_value</th>\n      <th>time_value</th>\n      <th>price_status</th>\n    </tr>\n  </thead>\n  <tbody>\n    <tr>\n      <th>0</th>\n      <td>2025-03-07 00:00:00+00:00</td>\n      <td>2025-03-10 00:00:00+00:00</td>\n      <td>100000.0</td>\n      <td>c</td>\n      <td>26.023704</td>\n      <td>2025-03-10 00:00:00+00:00</td>\n      <td>19.236722</td>\n      <td>76.47</td>\n      <td>86725.488807</td>\n      <td>0.000000</td>\n      <td>26.023704</td>\n      <td>otm</td>\n    </tr>\n    <tr>\n      <th>1</th>\n      <td>2025-03-08 00:00:00+00:00</td>\n      <td>2025-03-10 00:00:00+00:00</td>\n      <td>100000.0</td>\n      <td>c</td>\n      <td>8.615089</td>\n      <td>2025-03-10 00:00:00+00:00</td>\n      <td>1.406844</td>\n      <td>80.67</td>\n      <td>86146.710485</td>\n      <td>0.000000</td>\n      <td>8.615089</td>\n      <td>otm</td>\n    </tr>\n    <tr>\n      <th>2</th>\n      <td>2025-03-09 00:00:00+00:00</td>\n      <td>2025-03-10 00:00:00+00:00</td>\n      <td>100000.0</td>\n      <td>c</td>\n      <td>8.058437</td>\n      <td>2025-03-10 00:00:00+00:00</td>\n      <td>0.000000</td>\n      <td>110.98</td>\n      <td>80579.920875</td>\n      <td>0.000000</td>\n      <td>8.058437</td>\n      <td>otm</td>\n    </tr>\n    <tr>\n      <th>3</th>\n      <td>2025-03-10 00:00:00+00:00</td>\n      <td>2025-03-10 00:00:00+00:00</td>\n      <td>100000.0</td>\n      <td>c</td>\n      <td>8.223679</td>\n      <td>2025-03-10 00:00:00+00:00</td>\n      <td>0.000000</td>\n      <td>110.98</td>\n      <td>82236.790000</td>\n      <td>0.000000</td>\n      <td>8.223679</td>\n      <td>otm</td>\n    </tr>\n    <tr>\n      <th>5</th>\n      <td>2025-03-07 00:00:00+00:00</td>\n      <td>2025-03-10 00:00:00+00:00</td>\n      <td>100000.0</td>\n      <td>p</td>\n      <td>14445.122258</td>\n      <td>2025-03-10 00:00:00+00:00</td>\n      <td>13285.977891</td>\n      <td>76.47</td>\n      <td>86730.054757</td>\n      <td>13269.945243</td>\n      <td>1175.177015</td>\n      <td>itm</td>\n    </tr>\n    <tr>\n      <th>...</th>\n      <td>...</td>\n      <td>...</td>\n      <td>...</td>\n      <td>...</td>\n      <td>...</td>\n      <td>...</td>\n      <td>...</td>\n      <td>...</td>\n      <td>...</td>\n      <td>...</td>\n      <td>...</td>\n      <td>...</td>\n    </tr>\n    <tr>\n      <th>35223</th>\n      <td>2025-03-09 00:00:00+00:00</td>\n      <td>2025-03-09 00:00:00+00:00</td>\n      <td>98000.0</td>\n      <td>c</td>\n      <td>8.597618</td>\n      <td>2025-03-09 00:00:00+00:00</td>\n      <td>0.000000</td>\n      <td>87.16</td>\n      <td>85976.180000</td>\n      <td>0.000000</td>\n      <td>8.597618</td>\n      <td>otm</td>\n    </tr>\n    <tr>\n      <th>35225</th>\n      <td>2025-03-06 00:00:00+00:00</td>\n      <td>2025-03-09 00:00:00+00:00</td>\n      <td>98000.0</td>\n      <td>p</td>\n      <td>8544.061550</td>\n      <td>2025-03-09 00:00:00+00:00</td>\n      <td>8509.239553</td>\n      <td>94.12</td>\n      <td>89937.750000</td>\n      <td>8062.250000</td>\n      <td>481.811550</td>\n      <td>itm</td>\n    </tr>\n    <tr>\n      <th>35226</th>\n      <td>2025-03-07 00:00:00+00:00</td>\n      <td>2025-03-09 00:00:00+00:00</td>\n      <td>98000.0</td>\n      <td>p</td>\n      <td>12427.527172</td>\n      <td>2025-03-09 00:00:00+00:00</td>\n      <td>11278.250862</td>\n      <td>87.16</td>\n      <td>86734.688447</td>\n      <td>11265.311553</td>\n      <td>1162.215619</td>\n      <td>itm</td>\n    </tr>\n    <tr>\n      <th>35227</th>\n      <td>2025-03-08 00:00:00+00:00</td>\n      <td>2025-03-09 00:00:00+00:00</td>\n      <td>98000.0</td>\n      <td>p</td>\n      <td>11974.973710</td>\n      <td>2025-03-09 00:00:00+00:00</td>\n      <td>11850.689852</td>\n      <td>87.16</td>\n      <td>86148.732516</td>\n      <td>11851.267484</td>\n      <td>123.706226</td>\n      <td>itm</td>\n    </tr>\n    <tr>\n      <th>35228</th>\n      <td>2025-03-09 00:00:00+00:00</td>\n      <td>2025-03-09 00:00:00+00:00</td>\n      <td>98000.0</td>\n      <td>p</td>\n      <td>12050.402000</td>\n      <td>2025-03-09 00:00:00+00:00</td>\n      <td>12023.820359</td>\n      <td>87.16</td>\n      <td>85976.180000</td>\n      <td>12023.820000</td>\n      <td>26.582000</td>\n      <td>itm</td>\n    </tr>\n  </tbody>\n</table>\n<p>31831 rows × 12 columns</p>\n</div>"
     },
     "execution_count": 8,
     "metadata": {},
     "output_type": "execute_result"
    }
   ],
   "source": [
    "df_opt = btc.df_hist\n",
    "df_opt"
   ],
   "metadata": {
    "collapsed": false
   }
  },
  {
   "cell_type": "code",
   "execution_count": 9,
   "outputs": [
    {
     "data": {
      "text/plain": "(Timestamp('2025-03-22 00:00:00+0000', tz='UTC'),\n Timestamp('2025-03-28 00:00:00+0000', tz='UTC'))"
     },
     "execution_count": 9,
     "metadata": {},
     "output_type": "execute_result"
    }
   ],
   "source": [
    "# search for longest timeseries expiration_date to demonstrate time price descreasing\n",
    "settlement_date = df_opt['timestamp'].max()\n",
    "expiration_date = btc.chain.get_settlement_longest_period_expired_date(settlement_date)\n",
    "settlement_date, expiration_date"
   ],
   "metadata": {
    "collapsed": false
   }
  },
  {
   "cell_type": "code",
   "execution_count": 10,
   "id": "6c1b52c4-fa39-4750-be1e-c258ad611962",
   "metadata": {},
   "outputs": [
    {
     "data": {
      "text/plain": "                      timestamp           expiration_date    strike  \\\n25505 2025-03-22 00:00:00+00:00 2025-03-28 00:00:00+00:00  100000.0   \n25545 2025-03-22 00:00:00+00:00 2025-03-28 00:00:00+00:00  100000.0   \n25585 2025-03-22 00:00:00+00:00 2025-03-28 00:00:00+00:00  102000.0   \n25625 2025-03-22 00:00:00+00:00 2025-03-28 00:00:00+00:00  102000.0   \n25627 2025-03-22 00:00:00+00:00 2025-03-28 00:00:00+00:00  103000.0   \n...                         ...                       ...       ...   \n29153 2025-03-22 00:00:00+00:00 2025-03-28 00:00:00+00:00   95000.0   \n29193 2025-03-22 00:00:00+00:00 2025-03-28 00:00:00+00:00   96000.0   \n29233 2025-03-22 00:00:00+00:00 2025-03-28 00:00:00+00:00   96000.0   \n29273 2025-03-22 00:00:00+00:00 2025-03-28 00:00:00+00:00   98000.0   \n29313 2025-03-22 00:00:00+00:00 2025-03-28 00:00:00+00:00   98000.0   \n\n      option_type         price underlying_expiration_date  exchange_price  \\\n25505           c     16.824268  2025-03-28 00:00:00+00:00       21.053048   \n25545           p  16656.025320  2025-03-28 00:00:00+00:00    15839.419094   \n25585           c     16.824268  2025-03-28 00:00:00+00:00       20.484388   \n25625           p  17875.784750  2025-03-28 00:00:00+00:00    17837.644976   \n25627           c     25.236402  2025-03-28 00:00:00+00:00       15.019024   \n...           ...           ...                        ...             ...   \n29153           p  11104.016880  2025-03-28 00:00:00+00:00    10896.269978   \n29193           c     67.297072  2025-03-28 00:00:00+00:00       58.618273   \n29233           p  13585.596410  2025-03-28 00:00:00+00:00    11879.396919   \n29273           c     50.472804  2025-03-28 00:00:00+00:00       33.730975   \n29313           p  11692.866260  2025-03-28 00:00:00+00:00    13853.303321   \n\n       exchange_iv  underlying_price  intrinsic_value   time_value  \\\n25505        56.21          84172.60             0.00    16.824268   \n25545        56.21          84172.14         15827.86   828.165320   \n25585        61.55          84172.14             0.00    16.824268   \n25625        61.55          84172.14         17827.86    47.924750   \n25627        61.95          84172.60             0.00    25.236402   \n...            ...               ...              ...          ...   \n29153        50.36          84172.60         10827.40   276.616880   \n29193        51.73          84172.60             0.00    67.297072   \n29233        51.73          84172.14         11827.86  1757.736410   \n29273        53.77          84172.60             0.00    50.472804   \n29313        53.77          84172.60         13827.40 -2134.533740   \n\n      price_status  \n25505          otm  \n25545          itm  \n25585          otm  \n25625          itm  \n25627          otm  \n...            ...  \n29153          itm  \n29193          otm  \n29233          itm  \n29273          otm  \n29313          itm  \n\n[104 rows x 12 columns]",
      "text/html": "<div>\n<style scoped>\n    .dataframe tbody tr th:only-of-type {\n        vertical-align: middle;\n    }\n\n    .dataframe tbody tr th {\n        vertical-align: top;\n    }\n\n    .dataframe thead th {\n        text-align: right;\n    }\n</style>\n<table border=\"1\" class=\"dataframe\">\n  <thead>\n    <tr style=\"text-align: right;\">\n      <th></th>\n      <th>timestamp</th>\n      <th>expiration_date</th>\n      <th>strike</th>\n      <th>option_type</th>\n      <th>price</th>\n      <th>underlying_expiration_date</th>\n      <th>exchange_price</th>\n      <th>exchange_iv</th>\n      <th>underlying_price</th>\n      <th>intrinsic_value</th>\n      <th>time_value</th>\n      <th>price_status</th>\n    </tr>\n  </thead>\n  <tbody>\n    <tr>\n      <th>25505</th>\n      <td>2025-03-22 00:00:00+00:00</td>\n      <td>2025-03-28 00:00:00+00:00</td>\n      <td>100000.0</td>\n      <td>c</td>\n      <td>16.824268</td>\n      <td>2025-03-28 00:00:00+00:00</td>\n      <td>21.053048</td>\n      <td>56.21</td>\n      <td>84172.60</td>\n      <td>0.00</td>\n      <td>16.824268</td>\n      <td>otm</td>\n    </tr>\n    <tr>\n      <th>25545</th>\n      <td>2025-03-22 00:00:00+00:00</td>\n      <td>2025-03-28 00:00:00+00:00</td>\n      <td>100000.0</td>\n      <td>p</td>\n      <td>16656.025320</td>\n      <td>2025-03-28 00:00:00+00:00</td>\n      <td>15839.419094</td>\n      <td>56.21</td>\n      <td>84172.14</td>\n      <td>15827.86</td>\n      <td>828.165320</td>\n      <td>itm</td>\n    </tr>\n    <tr>\n      <th>25585</th>\n      <td>2025-03-22 00:00:00+00:00</td>\n      <td>2025-03-28 00:00:00+00:00</td>\n      <td>102000.0</td>\n      <td>c</td>\n      <td>16.824268</td>\n      <td>2025-03-28 00:00:00+00:00</td>\n      <td>20.484388</td>\n      <td>61.55</td>\n      <td>84172.14</td>\n      <td>0.00</td>\n      <td>16.824268</td>\n      <td>otm</td>\n    </tr>\n    <tr>\n      <th>25625</th>\n      <td>2025-03-22 00:00:00+00:00</td>\n      <td>2025-03-28 00:00:00+00:00</td>\n      <td>102000.0</td>\n      <td>p</td>\n      <td>17875.784750</td>\n      <td>2025-03-28 00:00:00+00:00</td>\n      <td>17837.644976</td>\n      <td>61.55</td>\n      <td>84172.14</td>\n      <td>17827.86</td>\n      <td>47.924750</td>\n      <td>itm</td>\n    </tr>\n    <tr>\n      <th>25627</th>\n      <td>2025-03-22 00:00:00+00:00</td>\n      <td>2025-03-28 00:00:00+00:00</td>\n      <td>103000.0</td>\n      <td>c</td>\n      <td>25.236402</td>\n      <td>2025-03-28 00:00:00+00:00</td>\n      <td>15.019024</td>\n      <td>61.95</td>\n      <td>84172.60</td>\n      <td>0.00</td>\n      <td>25.236402</td>\n      <td>otm</td>\n    </tr>\n    <tr>\n      <th>...</th>\n      <td>...</td>\n      <td>...</td>\n      <td>...</td>\n      <td>...</td>\n      <td>...</td>\n      <td>...</td>\n      <td>...</td>\n      <td>...</td>\n      <td>...</td>\n      <td>...</td>\n      <td>...</td>\n      <td>...</td>\n    </tr>\n    <tr>\n      <th>29153</th>\n      <td>2025-03-22 00:00:00+00:00</td>\n      <td>2025-03-28 00:00:00+00:00</td>\n      <td>95000.0</td>\n      <td>p</td>\n      <td>11104.016880</td>\n      <td>2025-03-28 00:00:00+00:00</td>\n      <td>10896.269978</td>\n      <td>50.36</td>\n      <td>84172.60</td>\n      <td>10827.40</td>\n      <td>276.616880</td>\n      <td>itm</td>\n    </tr>\n    <tr>\n      <th>29193</th>\n      <td>2025-03-22 00:00:00+00:00</td>\n      <td>2025-03-28 00:00:00+00:00</td>\n      <td>96000.0</td>\n      <td>c</td>\n      <td>67.297072</td>\n      <td>2025-03-28 00:00:00+00:00</td>\n      <td>58.618273</td>\n      <td>51.73</td>\n      <td>84172.60</td>\n      <td>0.00</td>\n      <td>67.297072</td>\n      <td>otm</td>\n    </tr>\n    <tr>\n      <th>29233</th>\n      <td>2025-03-22 00:00:00+00:00</td>\n      <td>2025-03-28 00:00:00+00:00</td>\n      <td>96000.0</td>\n      <td>p</td>\n      <td>13585.596410</td>\n      <td>2025-03-28 00:00:00+00:00</td>\n      <td>11879.396919</td>\n      <td>51.73</td>\n      <td>84172.14</td>\n      <td>11827.86</td>\n      <td>1757.736410</td>\n      <td>itm</td>\n    </tr>\n    <tr>\n      <th>29273</th>\n      <td>2025-03-22 00:00:00+00:00</td>\n      <td>2025-03-28 00:00:00+00:00</td>\n      <td>98000.0</td>\n      <td>c</td>\n      <td>50.472804</td>\n      <td>2025-03-28 00:00:00+00:00</td>\n      <td>33.730975</td>\n      <td>53.77</td>\n      <td>84172.60</td>\n      <td>0.00</td>\n      <td>50.472804</td>\n      <td>otm</td>\n    </tr>\n    <tr>\n      <th>29313</th>\n      <td>2025-03-22 00:00:00+00:00</td>\n      <td>2025-03-28 00:00:00+00:00</td>\n      <td>98000.0</td>\n      <td>p</td>\n      <td>11692.866260</td>\n      <td>2025-03-28 00:00:00+00:00</td>\n      <td>13853.303321</td>\n      <td>53.77</td>\n      <td>84172.60</td>\n      <td>13827.40</td>\n      <td>-2134.533740</td>\n      <td>itm</td>\n    </tr>\n  </tbody>\n</table>\n<p>104 rows × 12 columns</p>\n</div>"
     },
     "execution_count": 10,
     "metadata": {},
     "output_type": "execute_result"
    }
   ],
   "source": [
    "df_opt_chain = btc.chain.select_chain(settlement_date, expiration_date)\n",
    "\n",
    "df_opt_chain"
   ]
  },
  {
   "cell_type": "markdown",
   "id": "5da1c84d-5f0d-43ca-ba5a-63614bfa35d1",
   "metadata": {},
   "source": [
    "Futures types:\n",
    "* Currency\n",
    "* Index\n",
    "* Commodities\n",
    "* Stock\n",
    "* Percent\n",
    "\n",
    "Is crypto new type or currency?\n"
   ]
  },
  {
   "cell_type": "markdown",
   "id": "7b45d294-0297-49cc-8adb-f506de46b0c0",
   "metadata": {},
   "source": [
    "BRN specification https://www.cmegroup.com/markets/energy/crude-oil/brent-crude-oil.html\n",
    "\n",
    "Option chain https://www.barchart.com/futures/quotes/CB*0/options?futuresOptionsView=merged"
   ]
  },
  {
   "cell_type": "code",
   "execution_count": 11,
   "id": "c08e4dd5-a51b-4bc0-ab83-f0b23ec196cc",
   "metadata": {},
   "outputs": [
    {
     "data": {
      "text/plain": "np.float64(84000.0)"
     },
     "execution_count": 11,
     "metadata": {},
     "output_type": "execute_result"
    }
   ],
   "source": [
    "atm_nearest_strikes = btc.chain.get_atm_nearest_strikes()\n",
    "atm_strike = atm_nearest_strikes[0]\n",
    "atm_strike"
   ]
  },
  {
   "cell_type": "code",
   "execution_count": 12,
   "outputs": [
    {
     "data": {
      "text/plain": "                      timestamp           expiration_date   strike  \\\n28569 2025-03-22 00:00:00+00:00 2025-03-28 00:00:00+00:00  84000.0   \n28595 2025-03-22 00:00:00+00:00 2025-03-28 00:00:00+00:00  84000.0   \n\n      option_type       price underlying_expiration_date  exchange_price  \\\n28569           c  1892.73015  2025-03-28 00:00:00+00:00     1877.870115   \n28595           p  1724.48747  2025-03-28 00:00:00+00:00     1705.884036   \n\n       exchange_iv  underlying_price  intrinsic_value  time_value price_status  \n28569        40.99           84172.6            172.6  1720.13015          atm  \n28595        40.99           84172.6              0.0  1724.48747          atm  ",
      "text/html": "<div>\n<style scoped>\n    .dataframe tbody tr th:only-of-type {\n        vertical-align: middle;\n    }\n\n    .dataframe tbody tr th {\n        vertical-align: top;\n    }\n\n    .dataframe thead th {\n        text-align: right;\n    }\n</style>\n<table border=\"1\" class=\"dataframe\">\n  <thead>\n    <tr style=\"text-align: right;\">\n      <th></th>\n      <th>timestamp</th>\n      <th>expiration_date</th>\n      <th>strike</th>\n      <th>option_type</th>\n      <th>price</th>\n      <th>underlying_expiration_date</th>\n      <th>exchange_price</th>\n      <th>exchange_iv</th>\n      <th>underlying_price</th>\n      <th>intrinsic_value</th>\n      <th>time_value</th>\n      <th>price_status</th>\n    </tr>\n  </thead>\n  <tbody>\n    <tr>\n      <th>28569</th>\n      <td>2025-03-22 00:00:00+00:00</td>\n      <td>2025-03-28 00:00:00+00:00</td>\n      <td>84000.0</td>\n      <td>c</td>\n      <td>1892.73015</td>\n      <td>2025-03-28 00:00:00+00:00</td>\n      <td>1877.870115</td>\n      <td>40.99</td>\n      <td>84172.6</td>\n      <td>172.6</td>\n      <td>1720.13015</td>\n      <td>atm</td>\n    </tr>\n    <tr>\n      <th>28595</th>\n      <td>2025-03-22 00:00:00+00:00</td>\n      <td>2025-03-28 00:00:00+00:00</td>\n      <td>84000.0</td>\n      <td>p</td>\n      <td>1724.48747</td>\n      <td>2025-03-28 00:00:00+00:00</td>\n      <td>1705.884036</td>\n      <td>40.99</td>\n      <td>84172.6</td>\n      <td>0.0</td>\n      <td>1724.48747</td>\n      <td>atm</td>\n    </tr>\n  </tbody>\n</table>\n</div>"
     },
     "execution_count": 12,
     "metadata": {},
     "output_type": "execute_result"
    }
   ],
   "source": [
    "atm_strike_df = df_opt_chain[df_opt_chain['strike'] == atm_strike]\n",
    "atm_strike_row = atm_strike_df[atm_strike_df['option_type'] == OptionType.CALL.code].iloc[0]\n",
    "atm_strike_df"
   ],
   "metadata": {
    "collapsed": false
   }
  },
  {
   "cell_type": "code",
   "execution_count": 13,
   "id": "207f4e08-85ee-48c3-ba09-8627edc38b3e",
   "metadata": {},
   "outputs": [
    {
     "data": {
      "text/plain": "    time_value_call  intrinsic_value_call  exchange_iv_call  \\\n24      -872.495580               6172.14             47.20   \n25      -872.495580               6172.14             47.20   \n26       496.134370               4172.60             43.92   \n27       496.134370               4172.60             43.92   \n28       898.288910               2172.14             41.98   \n29       898.288910               2172.14             41.98   \n30      1266.918860               1172.60             41.31   \n31      1266.918860               1172.60             41.31   \n32      1720.130150                172.60             40.99   \n33      1720.130150                172.60             40.99   \n34      1430.062780                  0.00             40.36   \n35      1430.062780                  0.00             40.36   \n36      1051.516750                  0.00             40.44   \n37      1051.516750                  0.00             40.44   \n38       546.788710                  0.00             40.90   \n39       546.788710                  0.00             40.90   \n40       294.424690                  0.00             42.78   \n41       294.424690                  0.00             42.78   \n42       151.418412                  0.00             45.45   \n43       151.418412                  0.00             45.45   \n\n    exchange_price_call   price_call price_status_call   strike  \\\n24          6426.474164  5299.644420               itm  78000.0   \n25          6426.474164  5299.644420               itm  78000.0   \n26          4651.186658  4668.734370               itm  80000.0   \n27          4651.186658  4668.734370               itm  80000.0   \n28          3100.409756  3070.428910               itm  82000.0   \n29          3100.409756  3070.428910               itm  82000.0   \n30          2439.756923  2439.518860               itm  83000.0   \n31          2439.756923  2439.518860               itm  83000.0   \n32          1877.870115  1892.730150               atm  84000.0   \n33          1877.870115  1892.730150               atm  84000.0   \n34          1390.329747  1430.062780               otm  85000.0   \n35          1390.329747  1430.062780               otm  85000.0   \n36          1020.581968  1051.516750               otm  86000.0   \n37          1020.581968  1051.516750               otm  86000.0   \n38           518.172313   546.788710               otm  88000.0   \n39           518.172313   546.788710               otm  88000.0   \n40           271.552939   294.424690               otm  90000.0   \n41           271.552939   294.424690               otm  90000.0   \n42           152.045957   151.418412               otm  92000.0   \n43           152.045957   151.418412               otm  92000.0   \n\n   price_status_put    price_put  exchange_price_put  exchange_iv_put  \\\n24              otm   243.951886          258.105301            47.20   \n25              otm   243.951886          258.105301            47.20   \n26              otm   504.728040          481.612337            43.92   \n27              otm   504.728040          481.612337            43.92   \n28              otm   967.395410          929.629134            41.98   \n29              otm   967.395410          929.629134            41.98   \n30              otm  1219.759430         1268.373994            41.31   \n31              otm  1219.759430         1268.373994            41.31   \n32              atm  1724.487470         1705.884036            40.99   \n33              atm  1724.487470         1705.884036            40.99   \n34              itm  2229.215510         2217.740518            40.36   \n35              itm  2229.215510         2217.740518            40.36   \n36              itm  2860.125560         2847.389589            40.44   \n37              itm  2860.125560         2847.389589            40.44   \n38              itm  4752.855710         4343.773634            40.90   \n39              itm  4752.855710         4343.773634            40.90   \n40              itm  6098.797150         6095.948801            42.78   \n41              itm  6098.797150         6095.948801            42.78   \n42              itm  8075.648640         7975.235520            45.45   \n43              itm  8075.648640         7975.235520            45.45   \n\n    intrinsic_value_put  time_value_put                 timestamp  \\\n24                 0.00      243.951886 2025-03-22 00:00:00+00:00   \n25                 0.00      243.951886 2025-03-22 00:00:00+00:00   \n26                 0.00      504.728040 2025-03-22 00:00:00+00:00   \n27                 0.00      504.728040 2025-03-22 00:00:00+00:00   \n28                 0.00      967.395410 2025-03-22 00:00:00+00:00   \n29                 0.00      967.395410 2025-03-22 00:00:00+00:00   \n30                 0.00     1219.759430 2025-03-22 00:00:00+00:00   \n31                 0.00     1219.759430 2025-03-22 00:00:00+00:00   \n32                 0.00     1724.487470 2025-03-22 00:00:00+00:00   \n33                 0.00     1724.487470 2025-03-22 00:00:00+00:00   \n34               827.40     1401.815510 2025-03-22 00:00:00+00:00   \n35               827.40     1401.815510 2025-03-22 00:00:00+00:00   \n36              1827.40     1032.725560 2025-03-22 00:00:00+00:00   \n37              1827.40     1032.725560 2025-03-22 00:00:00+00:00   \n38              3827.40      925.455710 2025-03-22 00:00:00+00:00   \n39              3827.40      925.455710 2025-03-22 00:00:00+00:00   \n40              5827.86      270.937150 2025-03-22 00:00:00+00:00   \n41              5827.86      270.937150 2025-03-22 00:00:00+00:00   \n42              7827.40      248.248640 2025-03-22 00:00:00+00:00   \n43              7827.40      248.248640 2025-03-22 00:00:00+00:00   \n\n    underlying_price           expiration_date underlying_expiration_date  \n24          84172.60 2025-03-28 00:00:00+00:00  2025-03-28 00:00:00+00:00  \n25          84172.14 2025-03-28 00:00:00+00:00  2025-03-28 00:00:00+00:00  \n26          84172.60 2025-03-28 00:00:00+00:00  2025-03-28 00:00:00+00:00  \n27          84172.14 2025-03-28 00:00:00+00:00  2025-03-28 00:00:00+00:00  \n28          84172.60 2025-03-28 00:00:00+00:00  2025-03-28 00:00:00+00:00  \n29          84172.14 2025-03-28 00:00:00+00:00  2025-03-28 00:00:00+00:00  \n30          84172.60 2025-03-28 00:00:00+00:00  2025-03-28 00:00:00+00:00  \n31          84172.14 2025-03-28 00:00:00+00:00  2025-03-28 00:00:00+00:00  \n32          84172.60 2025-03-28 00:00:00+00:00  2025-03-28 00:00:00+00:00  \n33          84172.14 2025-03-28 00:00:00+00:00  2025-03-28 00:00:00+00:00  \n34          84172.60 2025-03-28 00:00:00+00:00  2025-03-28 00:00:00+00:00  \n35          84172.14 2025-03-28 00:00:00+00:00  2025-03-28 00:00:00+00:00  \n36          84172.60 2025-03-28 00:00:00+00:00  2025-03-28 00:00:00+00:00  \n37          84172.14 2025-03-28 00:00:00+00:00  2025-03-28 00:00:00+00:00  \n38          84172.60 2025-03-28 00:00:00+00:00  2025-03-28 00:00:00+00:00  \n39          84172.14 2025-03-28 00:00:00+00:00  2025-03-28 00:00:00+00:00  \n40          84172.60 2025-03-28 00:00:00+00:00  2025-03-28 00:00:00+00:00  \n41          84172.14 2025-03-28 00:00:00+00:00  2025-03-28 00:00:00+00:00  \n42          84172.60 2025-03-28 00:00:00+00:00  2025-03-28 00:00:00+00:00  \n43          84172.14 2025-03-28 00:00:00+00:00  2025-03-28 00:00:00+00:00  ",
      "text/html": "<div>\n<style scoped>\n    .dataframe tbody tr th:only-of-type {\n        vertical-align: middle;\n    }\n\n    .dataframe tbody tr th {\n        vertical-align: top;\n    }\n\n    .dataframe thead th {\n        text-align: right;\n    }\n</style>\n<table border=\"1\" class=\"dataframe\">\n  <thead>\n    <tr style=\"text-align: right;\">\n      <th></th>\n      <th>time_value_call</th>\n      <th>intrinsic_value_call</th>\n      <th>exchange_iv_call</th>\n      <th>exchange_price_call</th>\n      <th>price_call</th>\n      <th>price_status_call</th>\n      <th>strike</th>\n      <th>price_status_put</th>\n      <th>price_put</th>\n      <th>exchange_price_put</th>\n      <th>exchange_iv_put</th>\n      <th>intrinsic_value_put</th>\n      <th>time_value_put</th>\n      <th>timestamp</th>\n      <th>underlying_price</th>\n      <th>expiration_date</th>\n      <th>underlying_expiration_date</th>\n    </tr>\n  </thead>\n  <tbody>\n    <tr>\n      <th>24</th>\n      <td>-872.495580</td>\n      <td>6172.14</td>\n      <td>47.20</td>\n      <td>6426.474164</td>\n      <td>5299.644420</td>\n      <td>itm</td>\n      <td>78000.0</td>\n      <td>otm</td>\n      <td>243.951886</td>\n      <td>258.105301</td>\n      <td>47.20</td>\n      <td>0.00</td>\n      <td>243.951886</td>\n      <td>2025-03-22 00:00:00+00:00</td>\n      <td>84172.60</td>\n      <td>2025-03-28 00:00:00+00:00</td>\n      <td>2025-03-28 00:00:00+00:00</td>\n    </tr>\n    <tr>\n      <th>25</th>\n      <td>-872.495580</td>\n      <td>6172.14</td>\n      <td>47.20</td>\n      <td>6426.474164</td>\n      <td>5299.644420</td>\n      <td>itm</td>\n      <td>78000.0</td>\n      <td>otm</td>\n      <td>243.951886</td>\n      <td>258.105301</td>\n      <td>47.20</td>\n      <td>0.00</td>\n      <td>243.951886</td>\n      <td>2025-03-22 00:00:00+00:00</td>\n      <td>84172.14</td>\n      <td>2025-03-28 00:00:00+00:00</td>\n      <td>2025-03-28 00:00:00+00:00</td>\n    </tr>\n    <tr>\n      <th>26</th>\n      <td>496.134370</td>\n      <td>4172.60</td>\n      <td>43.92</td>\n      <td>4651.186658</td>\n      <td>4668.734370</td>\n      <td>itm</td>\n      <td>80000.0</td>\n      <td>otm</td>\n      <td>504.728040</td>\n      <td>481.612337</td>\n      <td>43.92</td>\n      <td>0.00</td>\n      <td>504.728040</td>\n      <td>2025-03-22 00:00:00+00:00</td>\n      <td>84172.60</td>\n      <td>2025-03-28 00:00:00+00:00</td>\n      <td>2025-03-28 00:00:00+00:00</td>\n    </tr>\n    <tr>\n      <th>27</th>\n      <td>496.134370</td>\n      <td>4172.60</td>\n      <td>43.92</td>\n      <td>4651.186658</td>\n      <td>4668.734370</td>\n      <td>itm</td>\n      <td>80000.0</td>\n      <td>otm</td>\n      <td>504.728040</td>\n      <td>481.612337</td>\n      <td>43.92</td>\n      <td>0.00</td>\n      <td>504.728040</td>\n      <td>2025-03-22 00:00:00+00:00</td>\n      <td>84172.14</td>\n      <td>2025-03-28 00:00:00+00:00</td>\n      <td>2025-03-28 00:00:00+00:00</td>\n    </tr>\n    <tr>\n      <th>28</th>\n      <td>898.288910</td>\n      <td>2172.14</td>\n      <td>41.98</td>\n      <td>3100.409756</td>\n      <td>3070.428910</td>\n      <td>itm</td>\n      <td>82000.0</td>\n      <td>otm</td>\n      <td>967.395410</td>\n      <td>929.629134</td>\n      <td>41.98</td>\n      <td>0.00</td>\n      <td>967.395410</td>\n      <td>2025-03-22 00:00:00+00:00</td>\n      <td>84172.60</td>\n      <td>2025-03-28 00:00:00+00:00</td>\n      <td>2025-03-28 00:00:00+00:00</td>\n    </tr>\n    <tr>\n      <th>29</th>\n      <td>898.288910</td>\n      <td>2172.14</td>\n      <td>41.98</td>\n      <td>3100.409756</td>\n      <td>3070.428910</td>\n      <td>itm</td>\n      <td>82000.0</td>\n      <td>otm</td>\n      <td>967.395410</td>\n      <td>929.629134</td>\n      <td>41.98</td>\n      <td>0.00</td>\n      <td>967.395410</td>\n      <td>2025-03-22 00:00:00+00:00</td>\n      <td>84172.14</td>\n      <td>2025-03-28 00:00:00+00:00</td>\n      <td>2025-03-28 00:00:00+00:00</td>\n    </tr>\n    <tr>\n      <th>30</th>\n      <td>1266.918860</td>\n      <td>1172.60</td>\n      <td>41.31</td>\n      <td>2439.756923</td>\n      <td>2439.518860</td>\n      <td>itm</td>\n      <td>83000.0</td>\n      <td>otm</td>\n      <td>1219.759430</td>\n      <td>1268.373994</td>\n      <td>41.31</td>\n      <td>0.00</td>\n      <td>1219.759430</td>\n      <td>2025-03-22 00:00:00+00:00</td>\n      <td>84172.60</td>\n      <td>2025-03-28 00:00:00+00:00</td>\n      <td>2025-03-28 00:00:00+00:00</td>\n    </tr>\n    <tr>\n      <th>31</th>\n      <td>1266.918860</td>\n      <td>1172.60</td>\n      <td>41.31</td>\n      <td>2439.756923</td>\n      <td>2439.518860</td>\n      <td>itm</td>\n      <td>83000.0</td>\n      <td>otm</td>\n      <td>1219.759430</td>\n      <td>1268.373994</td>\n      <td>41.31</td>\n      <td>0.00</td>\n      <td>1219.759430</td>\n      <td>2025-03-22 00:00:00+00:00</td>\n      <td>84172.14</td>\n      <td>2025-03-28 00:00:00+00:00</td>\n      <td>2025-03-28 00:00:00+00:00</td>\n    </tr>\n    <tr>\n      <th>32</th>\n      <td>1720.130150</td>\n      <td>172.60</td>\n      <td>40.99</td>\n      <td>1877.870115</td>\n      <td>1892.730150</td>\n      <td>atm</td>\n      <td>84000.0</td>\n      <td>atm</td>\n      <td>1724.487470</td>\n      <td>1705.884036</td>\n      <td>40.99</td>\n      <td>0.00</td>\n      <td>1724.487470</td>\n      <td>2025-03-22 00:00:00+00:00</td>\n      <td>84172.60</td>\n      <td>2025-03-28 00:00:00+00:00</td>\n      <td>2025-03-28 00:00:00+00:00</td>\n    </tr>\n    <tr>\n      <th>33</th>\n      <td>1720.130150</td>\n      <td>172.60</td>\n      <td>40.99</td>\n      <td>1877.870115</td>\n      <td>1892.730150</td>\n      <td>atm</td>\n      <td>84000.0</td>\n      <td>atm</td>\n      <td>1724.487470</td>\n      <td>1705.884036</td>\n      <td>40.99</td>\n      <td>0.00</td>\n      <td>1724.487470</td>\n      <td>2025-03-22 00:00:00+00:00</td>\n      <td>84172.14</td>\n      <td>2025-03-28 00:00:00+00:00</td>\n      <td>2025-03-28 00:00:00+00:00</td>\n    </tr>\n    <tr>\n      <th>34</th>\n      <td>1430.062780</td>\n      <td>0.00</td>\n      <td>40.36</td>\n      <td>1390.329747</td>\n      <td>1430.062780</td>\n      <td>otm</td>\n      <td>85000.0</td>\n      <td>itm</td>\n      <td>2229.215510</td>\n      <td>2217.740518</td>\n      <td>40.36</td>\n      <td>827.40</td>\n      <td>1401.815510</td>\n      <td>2025-03-22 00:00:00+00:00</td>\n      <td>84172.60</td>\n      <td>2025-03-28 00:00:00+00:00</td>\n      <td>2025-03-28 00:00:00+00:00</td>\n    </tr>\n    <tr>\n      <th>35</th>\n      <td>1430.062780</td>\n      <td>0.00</td>\n      <td>40.36</td>\n      <td>1390.329747</td>\n      <td>1430.062780</td>\n      <td>otm</td>\n      <td>85000.0</td>\n      <td>itm</td>\n      <td>2229.215510</td>\n      <td>2217.740518</td>\n      <td>40.36</td>\n      <td>827.40</td>\n      <td>1401.815510</td>\n      <td>2025-03-22 00:00:00+00:00</td>\n      <td>84172.14</td>\n      <td>2025-03-28 00:00:00+00:00</td>\n      <td>2025-03-28 00:00:00+00:00</td>\n    </tr>\n    <tr>\n      <th>36</th>\n      <td>1051.516750</td>\n      <td>0.00</td>\n      <td>40.44</td>\n      <td>1020.581968</td>\n      <td>1051.516750</td>\n      <td>otm</td>\n      <td>86000.0</td>\n      <td>itm</td>\n      <td>2860.125560</td>\n      <td>2847.389589</td>\n      <td>40.44</td>\n      <td>1827.40</td>\n      <td>1032.725560</td>\n      <td>2025-03-22 00:00:00+00:00</td>\n      <td>84172.60</td>\n      <td>2025-03-28 00:00:00+00:00</td>\n      <td>2025-03-28 00:00:00+00:00</td>\n    </tr>\n    <tr>\n      <th>37</th>\n      <td>1051.516750</td>\n      <td>0.00</td>\n      <td>40.44</td>\n      <td>1020.581968</td>\n      <td>1051.516750</td>\n      <td>otm</td>\n      <td>86000.0</td>\n      <td>itm</td>\n      <td>2860.125560</td>\n      <td>2847.389589</td>\n      <td>40.44</td>\n      <td>1827.40</td>\n      <td>1032.725560</td>\n      <td>2025-03-22 00:00:00+00:00</td>\n      <td>84172.14</td>\n      <td>2025-03-28 00:00:00+00:00</td>\n      <td>2025-03-28 00:00:00+00:00</td>\n    </tr>\n    <tr>\n      <th>38</th>\n      <td>546.788710</td>\n      <td>0.00</td>\n      <td>40.90</td>\n      <td>518.172313</td>\n      <td>546.788710</td>\n      <td>otm</td>\n      <td>88000.0</td>\n      <td>itm</td>\n      <td>4752.855710</td>\n      <td>4343.773634</td>\n      <td>40.90</td>\n      <td>3827.40</td>\n      <td>925.455710</td>\n      <td>2025-03-22 00:00:00+00:00</td>\n      <td>84172.60</td>\n      <td>2025-03-28 00:00:00+00:00</td>\n      <td>2025-03-28 00:00:00+00:00</td>\n    </tr>\n    <tr>\n      <th>39</th>\n      <td>546.788710</td>\n      <td>0.00</td>\n      <td>40.90</td>\n      <td>518.172313</td>\n      <td>546.788710</td>\n      <td>otm</td>\n      <td>88000.0</td>\n      <td>itm</td>\n      <td>4752.855710</td>\n      <td>4343.773634</td>\n      <td>40.90</td>\n      <td>3827.40</td>\n      <td>925.455710</td>\n      <td>2025-03-22 00:00:00+00:00</td>\n      <td>84172.14</td>\n      <td>2025-03-28 00:00:00+00:00</td>\n      <td>2025-03-28 00:00:00+00:00</td>\n    </tr>\n    <tr>\n      <th>40</th>\n      <td>294.424690</td>\n      <td>0.00</td>\n      <td>42.78</td>\n      <td>271.552939</td>\n      <td>294.424690</td>\n      <td>otm</td>\n      <td>90000.0</td>\n      <td>itm</td>\n      <td>6098.797150</td>\n      <td>6095.948801</td>\n      <td>42.78</td>\n      <td>5827.86</td>\n      <td>270.937150</td>\n      <td>2025-03-22 00:00:00+00:00</td>\n      <td>84172.60</td>\n      <td>2025-03-28 00:00:00+00:00</td>\n      <td>2025-03-28 00:00:00+00:00</td>\n    </tr>\n    <tr>\n      <th>41</th>\n      <td>294.424690</td>\n      <td>0.00</td>\n      <td>42.78</td>\n      <td>271.552939</td>\n      <td>294.424690</td>\n      <td>otm</td>\n      <td>90000.0</td>\n      <td>itm</td>\n      <td>6098.797150</td>\n      <td>6095.948801</td>\n      <td>42.78</td>\n      <td>5827.86</td>\n      <td>270.937150</td>\n      <td>2025-03-22 00:00:00+00:00</td>\n      <td>84172.14</td>\n      <td>2025-03-28 00:00:00+00:00</td>\n      <td>2025-03-28 00:00:00+00:00</td>\n    </tr>\n    <tr>\n      <th>42</th>\n      <td>151.418412</td>\n      <td>0.00</td>\n      <td>45.45</td>\n      <td>152.045957</td>\n      <td>151.418412</td>\n      <td>otm</td>\n      <td>92000.0</td>\n      <td>itm</td>\n      <td>8075.648640</td>\n      <td>7975.235520</td>\n      <td>45.45</td>\n      <td>7827.40</td>\n      <td>248.248640</td>\n      <td>2025-03-22 00:00:00+00:00</td>\n      <td>84172.60</td>\n      <td>2025-03-28 00:00:00+00:00</td>\n      <td>2025-03-28 00:00:00+00:00</td>\n    </tr>\n    <tr>\n      <th>43</th>\n      <td>151.418412</td>\n      <td>0.00</td>\n      <td>45.45</td>\n      <td>152.045957</td>\n      <td>151.418412</td>\n      <td>otm</td>\n      <td>92000.0</td>\n      <td>itm</td>\n      <td>8075.648640</td>\n      <td>7975.235520</td>\n      <td>45.45</td>\n      <td>7827.40</td>\n      <td>248.248640</td>\n      <td>2025-03-22 00:00:00+00:00</td>\n      <td>84172.14</td>\n      <td>2025-03-28 00:00:00+00:00</td>\n      <td>2025-03-28 00:00:00+00:00</td>\n    </tr>\n  </tbody>\n</table>\n</div>"
     },
     "execution_count": 13,
     "metadata": {},
     "output_type": "execute_result"
    }
   ],
   "source": [
    "df_desk = btc.chain.get_desk(\n",
    "    option_columns=['price', 'exchange_price', 'exchange_iv', 'price_status',\n",
    "                    'intrinsic_value', 'time_value', 'timestamp', 'expiration_date', 'strike'])\n",
    "res_col = ['time_value_call', 'intrinsic_value_call', 'exchange_iv_call', 'exchange_price_call', 'price_call',\n",
    "           'price_status_call',\n",
    "           'strike',\n",
    "           'price_status_put', 'price_put', 'exchange_price_put', 'exchange_iv_put', 'intrinsic_value_put',\n",
    "           'time_value_put',\n",
    "           'timestamp', 'underlying_price', 'expiration_date', 'underlying_expiration_date']\n",
    "df_desk[df_desk['strike'].isin(atm_nearest_strikes[:10])][res_col]"
   ]
  },
  {
   "cell_type": "markdown",
   "id": "29a24774-8941-489a-80b7-1dba8b8c6bbf",
   "metadata": {
    "editable": true,
    "slideshow": {
     "slide_type": ""
    },
    "tags": []
   },
   "source": [
    "The time value of the option decreases by the expiration date\n",
    "\n",
    "ITM options have a low time value (low weight) in the total option price. In fact, the deeper an option is in the money, the lower its time value and the more it resembles a linear underlying asset (i.e., the corresponding futures).\n",
    "\n",
    "OTM options have no intrinsic value (which is understandable – they are unprofitable to execute). The entire value of an out–of-money option is the intrinsic value. It is important to understand that if the market does not overcome the strike of this option, the final expiration option price will be zero.\n",
    "\n",
    "ATM options have the maximum weight of the time value in the option price and the maximum non-linearity. For this reason, they are the most liquid on the market. When the underlying asset moves up or down from current levels, the liquidity of these options will decrease."
   ]
  },
  {
   "cell_type": "code",
   "execution_count": 14,
   "outputs": [
    {
     "data": {
      "text/plain": "(Timestamp('2025-03-22 00:00:00+0000', tz='UTC'),\n Timestamp('2025-03-28 00:00:00+0000', tz='UTC'))"
     },
     "execution_count": 14,
     "metadata": {},
     "output_type": "execute_result"
    }
   ],
   "source": [
    "settlement_date, expiration_date = btc.chain.get_settlement_and_expiration_date()\n",
    "settlement_date, expiration_date"
   ],
   "metadata": {
    "collapsed": false
   }
  },
  {
   "cell_type": "code",
   "execution_count": 15,
   "outputs": [
    {
     "data": {
      "application/vnd.plotly.v1+json": {
       "data": [
        {
         "mode": "lines",
         "name": "ATM",
         "x": [
          "2025-02-11T00:00:00+00:00",
          "2025-02-12T00:00:00+00:00",
          "2025-02-13T00:00:00+00:00",
          "2025-02-14T00:00:00+00:00",
          "2025-02-15T00:00:00+00:00",
          "2025-02-16T00:00:00+00:00",
          "2025-02-17T00:00:00+00:00",
          "2025-02-18T00:00:00+00:00",
          "2025-02-19T00:00:00+00:00",
          "2025-02-20T00:00:00+00:00",
          "2025-02-21T00:00:00+00:00",
          "2025-02-22T00:00:00+00:00",
          "2025-02-23T00:00:00+00:00",
          "2025-02-24T00:00:00+00:00",
          "2025-02-25T00:00:00+00:00",
          "2025-02-26T00:00:00+00:00",
          "2025-02-27T00:00:00+00:00",
          "2025-02-28T00:00:00+00:00",
          "2025-03-01T00:00:00+00:00",
          "2025-03-02T00:00:00+00:00",
          "2025-03-03T00:00:00+00:00",
          "2025-03-04T00:00:00+00:00",
          "2025-03-05T00:00:00+00:00",
          "2025-03-06T00:00:00+00:00",
          "2025-03-07T00:00:00+00:00",
          "2025-03-08T00:00:00+00:00",
          "2025-03-09T00:00:00+00:00",
          "2025-03-10T00:00:00+00:00",
          "2025-03-11T00:00:00+00:00",
          "2025-03-12T00:00:00+00:00",
          "2025-03-13T00:00:00+00:00",
          "2025-03-14T00:00:00+00:00",
          "2025-03-15T00:00:00+00:00",
          "2025-03-16T00:00:00+00:00",
          "2025-03-17T00:00:00+00:00",
          "2025-03-18T00:00:00+00:00",
          "2025-03-19T00:00:00+00:00",
          "2025-03-20T00:00:00+00:00",
          "2025-03-21T00:00:00+00:00",
          "2025-03-22T00:00:00+00:00"
         ],
         "y": [
          6745.478680000005,
          6452.733990000002,
          6521.748075,
          6394.061100000005,
          6373.791844999994,
          6107.02487,
          6344.507329999999,
          5742.286250000004,
          5508.174480000001,
          5506.4408,
          4895.938474999994,
          5166.85452,
          4713.883799999996,
          4983.51488,
          4609.59616,
          4289.3448,
          4079.328196999998,
          4345.5494,
          4296.8417,
          5466.53712,
          4735.851799999993,
          5277.290975,
          4584.4782099999975,
          5262.538145000007,
          3263.9154799999997,
          3772.2372750000072,
          3669.4403500000026,
          3771.9269200000026,
          4142.8865,
          3724.0892999999996,
          3039.585375,
          3271.736775000001,
          2948.896800000002,
          2765.704055,
          2741.614820000001,
          2481.0063,
          2200.6827250000065,
          1905.6878449999995,
          1764.3597499999953,
          1720.130149999994
         ],
         "type": "scatter"
        }
       ],
       "layout": {
        "template": {
         "data": {
          "barpolar": [
           {
            "marker": {
             "line": {
              "color": "rgb(17,17,17)",
              "width": 0.5
             },
             "pattern": {
              "fillmode": "overlay",
              "size": 10,
              "solidity": 0.2
             }
            },
            "type": "barpolar"
           }
          ],
          "bar": [
           {
            "error_x": {
             "color": "#f2f5fa"
            },
            "error_y": {
             "color": "#f2f5fa"
            },
            "marker": {
             "line": {
              "color": "rgb(17,17,17)",
              "width": 0.5
             },
             "pattern": {
              "fillmode": "overlay",
              "size": 10,
              "solidity": 0.2
             }
            },
            "type": "bar"
           }
          ],
          "carpet": [
           {
            "aaxis": {
             "endlinecolor": "#A2B1C6",
             "gridcolor": "#506784",
             "linecolor": "#506784",
             "minorgridcolor": "#506784",
             "startlinecolor": "#A2B1C6"
            },
            "baxis": {
             "endlinecolor": "#A2B1C6",
             "gridcolor": "#506784",
             "linecolor": "#506784",
             "minorgridcolor": "#506784",
             "startlinecolor": "#A2B1C6"
            },
            "type": "carpet"
           }
          ],
          "choropleth": [
           {
            "colorbar": {
             "outlinewidth": 0,
             "ticks": ""
            },
            "type": "choropleth"
           }
          ],
          "contourcarpet": [
           {
            "colorbar": {
             "outlinewidth": 0,
             "ticks": ""
            },
            "type": "contourcarpet"
           }
          ],
          "contour": [
           {
            "colorbar": {
             "outlinewidth": 0,
             "ticks": ""
            },
            "colorscale": [
             [
              0.0,
              "#0d0887"
             ],
             [
              0.1111111111111111,
              "#46039f"
             ],
             [
              0.2222222222222222,
              "#7201a8"
             ],
             [
              0.3333333333333333,
              "#9c179e"
             ],
             [
              0.4444444444444444,
              "#bd3786"
             ],
             [
              0.5555555555555556,
              "#d8576b"
             ],
             [
              0.6666666666666666,
              "#ed7953"
             ],
             [
              0.7777777777777778,
              "#fb9f3a"
             ],
             [
              0.8888888888888888,
              "#fdca26"
             ],
             [
              1.0,
              "#f0f921"
             ]
            ],
            "type": "contour"
           }
          ],
          "heatmap": [
           {
            "colorbar": {
             "outlinewidth": 0,
             "ticks": ""
            },
            "colorscale": [
             [
              0.0,
              "#0d0887"
             ],
             [
              0.1111111111111111,
              "#46039f"
             ],
             [
              0.2222222222222222,
              "#7201a8"
             ],
             [
              0.3333333333333333,
              "#9c179e"
             ],
             [
              0.4444444444444444,
              "#bd3786"
             ],
             [
              0.5555555555555556,
              "#d8576b"
             ],
             [
              0.6666666666666666,
              "#ed7953"
             ],
             [
              0.7777777777777778,
              "#fb9f3a"
             ],
             [
              0.8888888888888888,
              "#fdca26"
             ],
             [
              1.0,
              "#f0f921"
             ]
            ],
            "type": "heatmap"
           }
          ],
          "histogram2dcontour": [
           {
            "colorbar": {
             "outlinewidth": 0,
             "ticks": ""
            },
            "colorscale": [
             [
              0.0,
              "#0d0887"
             ],
             [
              0.1111111111111111,
              "#46039f"
             ],
             [
              0.2222222222222222,
              "#7201a8"
             ],
             [
              0.3333333333333333,
              "#9c179e"
             ],
             [
              0.4444444444444444,
              "#bd3786"
             ],
             [
              0.5555555555555556,
              "#d8576b"
             ],
             [
              0.6666666666666666,
              "#ed7953"
             ],
             [
              0.7777777777777778,
              "#fb9f3a"
             ],
             [
              0.8888888888888888,
              "#fdca26"
             ],
             [
              1.0,
              "#f0f921"
             ]
            ],
            "type": "histogram2dcontour"
           }
          ],
          "histogram2d": [
           {
            "colorbar": {
             "outlinewidth": 0,
             "ticks": ""
            },
            "colorscale": [
             [
              0.0,
              "#0d0887"
             ],
             [
              0.1111111111111111,
              "#46039f"
             ],
             [
              0.2222222222222222,
              "#7201a8"
             ],
             [
              0.3333333333333333,
              "#9c179e"
             ],
             [
              0.4444444444444444,
              "#bd3786"
             ],
             [
              0.5555555555555556,
              "#d8576b"
             ],
             [
              0.6666666666666666,
              "#ed7953"
             ],
             [
              0.7777777777777778,
              "#fb9f3a"
             ],
             [
              0.8888888888888888,
              "#fdca26"
             ],
             [
              1.0,
              "#f0f921"
             ]
            ],
            "type": "histogram2d"
           }
          ],
          "histogram": [
           {
            "marker": {
             "pattern": {
              "fillmode": "overlay",
              "size": 10,
              "solidity": 0.2
             }
            },
            "type": "histogram"
           }
          ],
          "mesh3d": [
           {
            "colorbar": {
             "outlinewidth": 0,
             "ticks": ""
            },
            "type": "mesh3d"
           }
          ],
          "parcoords": [
           {
            "line": {
             "colorbar": {
              "outlinewidth": 0,
              "ticks": ""
             }
            },
            "type": "parcoords"
           }
          ],
          "pie": [
           {
            "automargin": true,
            "type": "pie"
           }
          ],
          "scatter3d": [
           {
            "line": {
             "colorbar": {
              "outlinewidth": 0,
              "ticks": ""
             }
            },
            "marker": {
             "colorbar": {
              "outlinewidth": 0,
              "ticks": ""
             }
            },
            "type": "scatter3d"
           }
          ],
          "scattercarpet": [
           {
            "marker": {
             "colorbar": {
              "outlinewidth": 0,
              "ticks": ""
             }
            },
            "type": "scattercarpet"
           }
          ],
          "scattergeo": [
           {
            "marker": {
             "colorbar": {
              "outlinewidth": 0,
              "ticks": ""
             }
            },
            "type": "scattergeo"
           }
          ],
          "scattergl": [
           {
            "marker": {
             "line": {
              "color": "#283442"
             }
            },
            "type": "scattergl"
           }
          ],
          "scattermapbox": [
           {
            "marker": {
             "colorbar": {
              "outlinewidth": 0,
              "ticks": ""
             }
            },
            "type": "scattermapbox"
           }
          ],
          "scattermap": [
           {
            "marker": {
             "colorbar": {
              "outlinewidth": 0,
              "ticks": ""
             }
            },
            "type": "scattermap"
           }
          ],
          "scatterpolargl": [
           {
            "marker": {
             "colorbar": {
              "outlinewidth": 0,
              "ticks": ""
             }
            },
            "type": "scatterpolargl"
           }
          ],
          "scatterpolar": [
           {
            "marker": {
             "colorbar": {
              "outlinewidth": 0,
              "ticks": ""
             }
            },
            "type": "scatterpolar"
           }
          ],
          "scatter": [
           {
            "marker": {
             "line": {
              "color": "#283442"
             }
            },
            "type": "scatter"
           }
          ],
          "scatterternary": [
           {
            "marker": {
             "colorbar": {
              "outlinewidth": 0,
              "ticks": ""
             }
            },
            "type": "scatterternary"
           }
          ],
          "surface": [
           {
            "colorbar": {
             "outlinewidth": 0,
             "ticks": ""
            },
            "colorscale": [
             [
              0.0,
              "#0d0887"
             ],
             [
              0.1111111111111111,
              "#46039f"
             ],
             [
              0.2222222222222222,
              "#7201a8"
             ],
             [
              0.3333333333333333,
              "#9c179e"
             ],
             [
              0.4444444444444444,
              "#bd3786"
             ],
             [
              0.5555555555555556,
              "#d8576b"
             ],
             [
              0.6666666666666666,
              "#ed7953"
             ],
             [
              0.7777777777777778,
              "#fb9f3a"
             ],
             [
              0.8888888888888888,
              "#fdca26"
             ],
             [
              1.0,
              "#f0f921"
             ]
            ],
            "type": "surface"
           }
          ],
          "table": [
           {
            "cells": {
             "fill": {
              "color": "#506784"
             },
             "line": {
              "color": "rgb(17,17,17)"
             }
            },
            "header": {
             "fill": {
              "color": "#2a3f5f"
             },
             "line": {
              "color": "rgb(17,17,17)"
             }
            },
            "type": "table"
           }
          ]
         },
         "layout": {
          "annotationdefaults": {
           "arrowcolor": "#f2f5fa",
           "arrowhead": 0,
           "arrowwidth": 1
          },
          "autotypenumbers": "strict",
          "coloraxis": {
           "colorbar": {
            "outlinewidth": 0,
            "ticks": ""
           }
          },
          "colorscale": {
           "diverging": [
            [
             0,
             "#8e0152"
            ],
            [
             0.1,
             "#c51b7d"
            ],
            [
             0.2,
             "#de77ae"
            ],
            [
             0.3,
             "#f1b6da"
            ],
            [
             0.4,
             "#fde0ef"
            ],
            [
             0.5,
             "#f7f7f7"
            ],
            [
             0.6,
             "#e6f5d0"
            ],
            [
             0.7,
             "#b8e186"
            ],
            [
             0.8,
             "#7fbc41"
            ],
            [
             0.9,
             "#4d9221"
            ],
            [
             1,
             "#276419"
            ]
           ],
           "sequential": [
            [
             0.0,
             "#0d0887"
            ],
            [
             0.1111111111111111,
             "#46039f"
            ],
            [
             0.2222222222222222,
             "#7201a8"
            ],
            [
             0.3333333333333333,
             "#9c179e"
            ],
            [
             0.4444444444444444,
             "#bd3786"
            ],
            [
             0.5555555555555556,
             "#d8576b"
            ],
            [
             0.6666666666666666,
             "#ed7953"
            ],
            [
             0.7777777777777778,
             "#fb9f3a"
            ],
            [
             0.8888888888888888,
             "#fdca26"
            ],
            [
             1.0,
             "#f0f921"
            ]
           ],
           "sequentialminus": [
            [
             0.0,
             "#0d0887"
            ],
            [
             0.1111111111111111,
             "#46039f"
            ],
            [
             0.2222222222222222,
             "#7201a8"
            ],
            [
             0.3333333333333333,
             "#9c179e"
            ],
            [
             0.4444444444444444,
             "#bd3786"
            ],
            [
             0.5555555555555556,
             "#d8576b"
            ],
            [
             0.6666666666666666,
             "#ed7953"
            ],
            [
             0.7777777777777778,
             "#fb9f3a"
            ],
            [
             0.8888888888888888,
             "#fdca26"
            ],
            [
             1.0,
             "#f0f921"
            ]
           ]
          },
          "colorway": [
           "#636efa",
           "#EF553B",
           "#00cc96",
           "#ab63fa",
           "#FFA15A",
           "#19d3f3",
           "#FF6692",
           "#B6E880",
           "#FF97FF",
           "#FECB52"
          ],
          "font": {
           "color": "#f2f5fa"
          },
          "geo": {
           "bgcolor": "rgb(17,17,17)",
           "lakecolor": "rgb(17,17,17)",
           "landcolor": "rgb(17,17,17)",
           "showlakes": true,
           "showland": true,
           "subunitcolor": "#506784"
          },
          "hoverlabel": {
           "align": "left"
          },
          "hovermode": "closest",
          "mapbox": {
           "style": "dark"
          },
          "paper_bgcolor": "rgb(17,17,17)",
          "plot_bgcolor": "rgb(17,17,17)",
          "polar": {
           "angularaxis": {
            "gridcolor": "#506784",
            "linecolor": "#506784",
            "ticks": ""
           },
           "bgcolor": "rgb(17,17,17)",
           "radialaxis": {
            "gridcolor": "#506784",
            "linecolor": "#506784",
            "ticks": ""
           }
          },
          "scene": {
           "xaxis": {
            "backgroundcolor": "rgb(17,17,17)",
            "gridcolor": "#506784",
            "gridwidth": 2,
            "linecolor": "#506784",
            "showbackground": true,
            "ticks": "",
            "zerolinecolor": "#C8D4E3"
           },
           "yaxis": {
            "backgroundcolor": "rgb(17,17,17)",
            "gridcolor": "#506784",
            "gridwidth": 2,
            "linecolor": "#506784",
            "showbackground": true,
            "ticks": "",
            "zerolinecolor": "#C8D4E3"
           },
           "zaxis": {
            "backgroundcolor": "rgb(17,17,17)",
            "gridcolor": "#506784",
            "gridwidth": 2,
            "linecolor": "#506784",
            "showbackground": true,
            "ticks": "",
            "zerolinecolor": "#C8D4E3"
           }
          },
          "shapedefaults": {
           "line": {
            "color": "#f2f5fa"
           }
          },
          "sliderdefaults": {
           "bgcolor": "#C8D4E3",
           "bordercolor": "rgb(17,17,17)",
           "borderwidth": 1,
           "tickwidth": 0
          },
          "ternary": {
           "aaxis": {
            "gridcolor": "#506784",
            "linecolor": "#506784",
            "ticks": ""
           },
           "baxis": {
            "gridcolor": "#506784",
            "linecolor": "#506784",
            "ticks": ""
           },
           "bgcolor": "rgb(17,17,17)",
           "caxis": {
            "gridcolor": "#506784",
            "linecolor": "#506784",
            "ticks": ""
           }
          },
          "title": {
           "x": 0.05
          },
          "updatemenudefaults": {
           "bgcolor": "#506784",
           "borderwidth": 0
          },
          "xaxis": {
           "automargin": true,
           "gridcolor": "#283442",
           "linecolor": "#506784",
           "ticks": "",
           "title": {
            "standoff": 15
           },
           "zerolinecolor": "#283442",
           "zerolinewidth": 2
          },
          "yaxis": {
           "automargin": true,
           "gridcolor": "#283442",
           "linecolor": "#506784",
           "ticks": "",
           "title": {
            "standoff": 15
           },
           "zerolinecolor": "#283442",
           "zerolinewidth": 2
          }
         }
        },
        "title": {
         "text": "Time Value for 2025-03-28 expiration"
        }
       },
       "config": {
        "showLink": false,
        "linkText": "Export to plot.ly",
        "plotlyServerURL": "https://plot.ly"
       }
      },
      "text/html": "<div>            <script src=\"https://cdnjs.cloudflare.com/ajax/libs/mathjax/2.7.5/MathJax.js?config=TeX-AMS-MML_SVG\"></script><script type=\"text/javascript\">if (window.MathJax && window.MathJax.Hub && window.MathJax.Hub.Config) {window.MathJax.Hub.Config({SVG: {font: \"STIX-Web\"}});}</script>                <script type=\"text/javascript\">window.PlotlyConfig = {MathJaxConfig: 'local'};</script>\n        <script charset=\"utf-8\" src=\"https://cdn.plot.ly/plotly-3.0.1.min.js\"></script>                <div id=\"5f5da921-660d-4d1a-b1dd-f510ad0c62e3\" class=\"plotly-graph-div\" style=\"height:525px; width:100%;\"></div>            <script type=\"text/javascript\">                window.PLOTLYENV=window.PLOTLYENV || {};                                if (document.getElementById(\"5f5da921-660d-4d1a-b1dd-f510ad0c62e3\")) {                    Plotly.newPlot(                        \"5f5da921-660d-4d1a-b1dd-f510ad0c62e3\",                        [{\"mode\":\"lines\",\"name\":\"ATM\",\"x\":[\"2025-02-11T00:00:00+00:00\",\"2025-02-12T00:00:00+00:00\",\"2025-02-13T00:00:00+00:00\",\"2025-02-14T00:00:00+00:00\",\"2025-02-15T00:00:00+00:00\",\"2025-02-16T00:00:00+00:00\",\"2025-02-17T00:00:00+00:00\",\"2025-02-18T00:00:00+00:00\",\"2025-02-19T00:00:00+00:00\",\"2025-02-20T00:00:00+00:00\",\"2025-02-21T00:00:00+00:00\",\"2025-02-22T00:00:00+00:00\",\"2025-02-23T00:00:00+00:00\",\"2025-02-24T00:00:00+00:00\",\"2025-02-25T00:00:00+00:00\",\"2025-02-26T00:00:00+00:00\",\"2025-02-27T00:00:00+00:00\",\"2025-02-28T00:00:00+00:00\",\"2025-03-01T00:00:00+00:00\",\"2025-03-02T00:00:00+00:00\",\"2025-03-03T00:00:00+00:00\",\"2025-03-04T00:00:00+00:00\",\"2025-03-05T00:00:00+00:00\",\"2025-03-06T00:00:00+00:00\",\"2025-03-07T00:00:00+00:00\",\"2025-03-08T00:00:00+00:00\",\"2025-03-09T00:00:00+00:00\",\"2025-03-10T00:00:00+00:00\",\"2025-03-11T00:00:00+00:00\",\"2025-03-12T00:00:00+00:00\",\"2025-03-13T00:00:00+00:00\",\"2025-03-14T00:00:00+00:00\",\"2025-03-15T00:00:00+00:00\",\"2025-03-16T00:00:00+00:00\",\"2025-03-17T00:00:00+00:00\",\"2025-03-18T00:00:00+00:00\",\"2025-03-19T00:00:00+00:00\",\"2025-03-20T00:00:00+00:00\",\"2025-03-21T00:00:00+00:00\",\"2025-03-22T00:00:00+00:00\"],\"y\":[6745.478680000005,6452.733990000002,6521.748075,6394.061100000005,6373.791844999994,6107.02487,6344.507329999999,5742.286250000004,5508.174480000001,5506.4408,4895.938474999994,5166.85452,4713.883799999996,4983.51488,4609.59616,4289.3448,4079.328196999998,4345.5494,4296.8417,5466.53712,4735.851799999993,5277.290975,4584.4782099999975,5262.538145000007,3263.9154799999997,3772.2372750000072,3669.4403500000026,3771.9269200000026,4142.8865,3724.0892999999996,3039.585375,3271.736775000001,2948.896800000002,2765.704055,2741.614820000001,2481.0063,2200.6827250000065,1905.6878449999995,1764.3597499999953,1720.130149999994],\"type\":\"scatter\"}],                        {\"template\":{\"data\":{\"barpolar\":[{\"marker\":{\"line\":{\"color\":\"rgb(17,17,17)\",\"width\":0.5},\"pattern\":{\"fillmode\":\"overlay\",\"size\":10,\"solidity\":0.2}},\"type\":\"barpolar\"}],\"bar\":[{\"error_x\":{\"color\":\"#f2f5fa\"},\"error_y\":{\"color\":\"#f2f5fa\"},\"marker\":{\"line\":{\"color\":\"rgb(17,17,17)\",\"width\":0.5},\"pattern\":{\"fillmode\":\"overlay\",\"size\":10,\"solidity\":0.2}},\"type\":\"bar\"}],\"carpet\":[{\"aaxis\":{\"endlinecolor\":\"#A2B1C6\",\"gridcolor\":\"#506784\",\"linecolor\":\"#506784\",\"minorgridcolor\":\"#506784\",\"startlinecolor\":\"#A2B1C6\"},\"baxis\":{\"endlinecolor\":\"#A2B1C6\",\"gridcolor\":\"#506784\",\"linecolor\":\"#506784\",\"minorgridcolor\":\"#506784\",\"startlinecolor\":\"#A2B1C6\"},\"type\":\"carpet\"}],\"choropleth\":[{\"colorbar\":{\"outlinewidth\":0,\"ticks\":\"\"},\"type\":\"choropleth\"}],\"contourcarpet\":[{\"colorbar\":{\"outlinewidth\":0,\"ticks\":\"\"},\"type\":\"contourcarpet\"}],\"contour\":[{\"colorbar\":{\"outlinewidth\":0,\"ticks\":\"\"},\"colorscale\":[[0.0,\"#0d0887\"],[0.1111111111111111,\"#46039f\"],[0.2222222222222222,\"#7201a8\"],[0.3333333333333333,\"#9c179e\"],[0.4444444444444444,\"#bd3786\"],[0.5555555555555556,\"#d8576b\"],[0.6666666666666666,\"#ed7953\"],[0.7777777777777778,\"#fb9f3a\"],[0.8888888888888888,\"#fdca26\"],[1.0,\"#f0f921\"]],\"type\":\"contour\"}],\"heatmap\":[{\"colorbar\":{\"outlinewidth\":0,\"ticks\":\"\"},\"colorscale\":[[0.0,\"#0d0887\"],[0.1111111111111111,\"#46039f\"],[0.2222222222222222,\"#7201a8\"],[0.3333333333333333,\"#9c179e\"],[0.4444444444444444,\"#bd3786\"],[0.5555555555555556,\"#d8576b\"],[0.6666666666666666,\"#ed7953\"],[0.7777777777777778,\"#fb9f3a\"],[0.8888888888888888,\"#fdca26\"],[1.0,\"#f0f921\"]],\"type\":\"heatmap\"}],\"histogram2dcontour\":[{\"colorbar\":{\"outlinewidth\":0,\"ticks\":\"\"},\"colorscale\":[[0.0,\"#0d0887\"],[0.1111111111111111,\"#46039f\"],[0.2222222222222222,\"#7201a8\"],[0.3333333333333333,\"#9c179e\"],[0.4444444444444444,\"#bd3786\"],[0.5555555555555556,\"#d8576b\"],[0.6666666666666666,\"#ed7953\"],[0.7777777777777778,\"#fb9f3a\"],[0.8888888888888888,\"#fdca26\"],[1.0,\"#f0f921\"]],\"type\":\"histogram2dcontour\"}],\"histogram2d\":[{\"colorbar\":{\"outlinewidth\":0,\"ticks\":\"\"},\"colorscale\":[[0.0,\"#0d0887\"],[0.1111111111111111,\"#46039f\"],[0.2222222222222222,\"#7201a8\"],[0.3333333333333333,\"#9c179e\"],[0.4444444444444444,\"#bd3786\"],[0.5555555555555556,\"#d8576b\"],[0.6666666666666666,\"#ed7953\"],[0.7777777777777778,\"#fb9f3a\"],[0.8888888888888888,\"#fdca26\"],[1.0,\"#f0f921\"]],\"type\":\"histogram2d\"}],\"histogram\":[{\"marker\":{\"pattern\":{\"fillmode\":\"overlay\",\"size\":10,\"solidity\":0.2}},\"type\":\"histogram\"}],\"mesh3d\":[{\"colorbar\":{\"outlinewidth\":0,\"ticks\":\"\"},\"type\":\"mesh3d\"}],\"parcoords\":[{\"line\":{\"colorbar\":{\"outlinewidth\":0,\"ticks\":\"\"}},\"type\":\"parcoords\"}],\"pie\":[{\"automargin\":true,\"type\":\"pie\"}],\"scatter3d\":[{\"line\":{\"colorbar\":{\"outlinewidth\":0,\"ticks\":\"\"}},\"marker\":{\"colorbar\":{\"outlinewidth\":0,\"ticks\":\"\"}},\"type\":\"scatter3d\"}],\"scattercarpet\":[{\"marker\":{\"colorbar\":{\"outlinewidth\":0,\"ticks\":\"\"}},\"type\":\"scattercarpet\"}],\"scattergeo\":[{\"marker\":{\"colorbar\":{\"outlinewidth\":0,\"ticks\":\"\"}},\"type\":\"scattergeo\"}],\"scattergl\":[{\"marker\":{\"line\":{\"color\":\"#283442\"}},\"type\":\"scattergl\"}],\"scattermapbox\":[{\"marker\":{\"colorbar\":{\"outlinewidth\":0,\"ticks\":\"\"}},\"type\":\"scattermapbox\"}],\"scattermap\":[{\"marker\":{\"colorbar\":{\"outlinewidth\":0,\"ticks\":\"\"}},\"type\":\"scattermap\"}],\"scatterpolargl\":[{\"marker\":{\"colorbar\":{\"outlinewidth\":0,\"ticks\":\"\"}},\"type\":\"scatterpolargl\"}],\"scatterpolar\":[{\"marker\":{\"colorbar\":{\"outlinewidth\":0,\"ticks\":\"\"}},\"type\":\"scatterpolar\"}],\"scatter\":[{\"marker\":{\"line\":{\"color\":\"#283442\"}},\"type\":\"scatter\"}],\"scatterternary\":[{\"marker\":{\"colorbar\":{\"outlinewidth\":0,\"ticks\":\"\"}},\"type\":\"scatterternary\"}],\"surface\":[{\"colorbar\":{\"outlinewidth\":0,\"ticks\":\"\"},\"colorscale\":[[0.0,\"#0d0887\"],[0.1111111111111111,\"#46039f\"],[0.2222222222222222,\"#7201a8\"],[0.3333333333333333,\"#9c179e\"],[0.4444444444444444,\"#bd3786\"],[0.5555555555555556,\"#d8576b\"],[0.6666666666666666,\"#ed7953\"],[0.7777777777777778,\"#fb9f3a\"],[0.8888888888888888,\"#fdca26\"],[1.0,\"#f0f921\"]],\"type\":\"surface\"}],\"table\":[{\"cells\":{\"fill\":{\"color\":\"#506784\"},\"line\":{\"color\":\"rgb(17,17,17)\"}},\"header\":{\"fill\":{\"color\":\"#2a3f5f\"},\"line\":{\"color\":\"rgb(17,17,17)\"}},\"type\":\"table\"}]},\"layout\":{\"annotationdefaults\":{\"arrowcolor\":\"#f2f5fa\",\"arrowhead\":0,\"arrowwidth\":1},\"autotypenumbers\":\"strict\",\"coloraxis\":{\"colorbar\":{\"outlinewidth\":0,\"ticks\":\"\"}},\"colorscale\":{\"diverging\":[[0,\"#8e0152\"],[0.1,\"#c51b7d\"],[0.2,\"#de77ae\"],[0.3,\"#f1b6da\"],[0.4,\"#fde0ef\"],[0.5,\"#f7f7f7\"],[0.6,\"#e6f5d0\"],[0.7,\"#b8e186\"],[0.8,\"#7fbc41\"],[0.9,\"#4d9221\"],[1,\"#276419\"]],\"sequential\":[[0.0,\"#0d0887\"],[0.1111111111111111,\"#46039f\"],[0.2222222222222222,\"#7201a8\"],[0.3333333333333333,\"#9c179e\"],[0.4444444444444444,\"#bd3786\"],[0.5555555555555556,\"#d8576b\"],[0.6666666666666666,\"#ed7953\"],[0.7777777777777778,\"#fb9f3a\"],[0.8888888888888888,\"#fdca26\"],[1.0,\"#f0f921\"]],\"sequentialminus\":[[0.0,\"#0d0887\"],[0.1111111111111111,\"#46039f\"],[0.2222222222222222,\"#7201a8\"],[0.3333333333333333,\"#9c179e\"],[0.4444444444444444,\"#bd3786\"],[0.5555555555555556,\"#d8576b\"],[0.6666666666666666,\"#ed7953\"],[0.7777777777777778,\"#fb9f3a\"],[0.8888888888888888,\"#fdca26\"],[1.0,\"#f0f921\"]]},\"colorway\":[\"#636efa\",\"#EF553B\",\"#00cc96\",\"#ab63fa\",\"#FFA15A\",\"#19d3f3\",\"#FF6692\",\"#B6E880\",\"#FF97FF\",\"#FECB52\"],\"font\":{\"color\":\"#f2f5fa\"},\"geo\":{\"bgcolor\":\"rgb(17,17,17)\",\"lakecolor\":\"rgb(17,17,17)\",\"landcolor\":\"rgb(17,17,17)\",\"showlakes\":true,\"showland\":true,\"subunitcolor\":\"#506784\"},\"hoverlabel\":{\"align\":\"left\"},\"hovermode\":\"closest\",\"mapbox\":{\"style\":\"dark\"},\"paper_bgcolor\":\"rgb(17,17,17)\",\"plot_bgcolor\":\"rgb(17,17,17)\",\"polar\":{\"angularaxis\":{\"gridcolor\":\"#506784\",\"linecolor\":\"#506784\",\"ticks\":\"\"},\"bgcolor\":\"rgb(17,17,17)\",\"radialaxis\":{\"gridcolor\":\"#506784\",\"linecolor\":\"#506784\",\"ticks\":\"\"}},\"scene\":{\"xaxis\":{\"backgroundcolor\":\"rgb(17,17,17)\",\"gridcolor\":\"#506784\",\"gridwidth\":2,\"linecolor\":\"#506784\",\"showbackground\":true,\"ticks\":\"\",\"zerolinecolor\":\"#C8D4E3\"},\"yaxis\":{\"backgroundcolor\":\"rgb(17,17,17)\",\"gridcolor\":\"#506784\",\"gridwidth\":2,\"linecolor\":\"#506784\",\"showbackground\":true,\"ticks\":\"\",\"zerolinecolor\":\"#C8D4E3\"},\"zaxis\":{\"backgroundcolor\":\"rgb(17,17,17)\",\"gridcolor\":\"#506784\",\"gridwidth\":2,\"linecolor\":\"#506784\",\"showbackground\":true,\"ticks\":\"\",\"zerolinecolor\":\"#C8D4E3\"}},\"shapedefaults\":{\"line\":{\"color\":\"#f2f5fa\"}},\"sliderdefaults\":{\"bgcolor\":\"#C8D4E3\",\"bordercolor\":\"rgb(17,17,17)\",\"borderwidth\":1,\"tickwidth\":0},\"ternary\":{\"aaxis\":{\"gridcolor\":\"#506784\",\"linecolor\":\"#506784\",\"ticks\":\"\"},\"baxis\":{\"gridcolor\":\"#506784\",\"linecolor\":\"#506784\",\"ticks\":\"\"},\"bgcolor\":\"rgb(17,17,17)\",\"caxis\":{\"gridcolor\":\"#506784\",\"linecolor\":\"#506784\",\"ticks\":\"\"}},\"title\":{\"x\":0.05},\"updatemenudefaults\":{\"bgcolor\":\"#506784\",\"borderwidth\":0},\"xaxis\":{\"automargin\":true,\"gridcolor\":\"#283442\",\"linecolor\":\"#506784\",\"ticks\":\"\",\"title\":{\"standoff\":15},\"zerolinecolor\":\"#283442\",\"zerolinewidth\":2},\"yaxis\":{\"automargin\":true,\"gridcolor\":\"#283442\",\"linecolor\":\"#506784\",\"ticks\":\"\",\"title\":{\"standoff\":15},\"zerolinecolor\":\"#283442\",\"zerolinewidth\":2}}},\"title\":{\"text\":\"Time Value for 2025-03-28 expiration\"}},                        {\"responsive\": true}                    ).then(function(){\n                            \nvar gd = document.getElementById('5f5da921-660d-4d1a-b1dd-f510ad0c62e3');\nvar x = new MutationObserver(function (mutations, observer) {{\n        var display = window.getComputedStyle(gd).display;\n        if (!display || display === 'none') {{\n            console.log([gd, 'removed!']);\n            Plotly.purge(gd);\n            observer.disconnect();\n        }}\n}});\n\n// Listen for the removal of the full notebook cells\nvar notebookContainer = gd.closest('#notebook-container');\nif (notebookContainer) {{\n    x.observe(notebookContainer, {childList: true});\n}}\n\n// Listen for the clearing of the current output cell\nvar outputEl = gd.closest('.output');\nif (outputEl) {{\n    x.observe(outputEl, {childList: true});\n}}\n\n                        })                };            </script>        </div>"
     },
     "metadata": {},
     "output_type": "display_data"
    }
   ],
   "source": [
    "btc.chart.init(title=f'Time Value for {expiration_date.date().isoformat()} expiration')\n",
    "btc.chart.price.time_values(expiration_date=expiration_date, name='ATM')\n",
    "btc.chart.show()"
   ],
   "metadata": {
    "collapsed": false
   }
  },
  {
   "cell_type": "code",
   "execution_count": 16,
   "outputs": [
    {
     "data": {
      "application/vnd.plotly.v1+json": {
       "data": [
        {
         "mode": "lines",
         "name": "strike 86000.0",
         "x": [
          "2025-02-11T00:00:00+00:00",
          "2025-02-12T00:00:00+00:00",
          "2025-02-13T00:00:00+00:00",
          "2025-02-14T00:00:00+00:00",
          "2025-02-15T00:00:00+00:00",
          "2025-02-16T00:00:00+00:00",
          "2025-02-17T00:00:00+00:00",
          "2025-02-18T00:00:00+00:00",
          "2025-02-19T00:00:00+00:00",
          "2025-02-20T00:00:00+00:00",
          "2025-02-21T00:00:00+00:00",
          "2025-02-22T00:00:00+00:00",
          "2025-02-23T00:00:00+00:00",
          "2025-02-24T00:00:00+00:00",
          "2025-02-25T00:00:00+00:00",
          "2025-02-26T00:00:00+00:00",
          "2025-02-26T00:00:00+00:00",
          "2025-02-27T00:00:00+00:00",
          "2025-02-27T00:00:00+00:00",
          "2025-02-28T00:00:00+00:00",
          "2025-02-28T00:00:00+00:00",
          "2025-03-01T00:00:00+00:00",
          "2025-03-02T00:00:00+00:00",
          "2025-03-02T00:00:00+00:00",
          "2025-03-03T00:00:00+00:00",
          "2025-03-04T00:00:00+00:00",
          "2025-03-05T00:00:00+00:00",
          "2025-03-06T00:00:00+00:00",
          "2025-03-07T00:00:00+00:00",
          "2025-03-08T00:00:00+00:00",
          "2025-03-09T00:00:00+00:00",
          "2025-03-10T00:00:00+00:00",
          "2025-03-11T00:00:00+00:00",
          "2025-03-11T00:00:00+00:00",
          "2025-03-12T00:00:00+00:00",
          "2025-03-13T00:00:00+00:00",
          "2025-03-14T00:00:00+00:00",
          "2025-03-15T00:00:00+00:00",
          "2025-03-16T00:00:00+00:00",
          "2025-03-16T00:00:00+00:00",
          "2025-03-17T00:00:00+00:00",
          "2025-03-18T00:00:00+00:00",
          "2025-03-18T00:00:00+00:00",
          "2025-03-19T00:00:00+00:00",
          "2025-03-20T00:00:00+00:00",
          "2025-03-21T00:00:00+00:00",
          "2025-03-22T00:00:00+00:00"
         ],
         "y": [
          5888.81319,
          5285.79108,
          4879.233745,
          5801.828935,
          5221.123315,
          4760.59419,
          4836.80213,
          4636.69797,
          4058.65488,
          4080.6659500000005,
          4229.6474,
          3766.49208,
          3899.1820500000003,
          3200.4224000000004,
          2836.67456,
          2523.144,
          3036.18328,
          2581.550805,
          3207.894279,
          2404.8186,
          3122.0452,
          3011.0129,
          3251.64708,
          4382.65476,
          3618.4344,
          3663.5739000000003,
          3670.175205,
          3552.5308550000004,
          2602.3704,
          2541.451255,
          2820.4529500000003,
          2826.19404,
          2237.1587099999997,
          2775.733955,
          2008.4976,
          1540.05659,
          1763.36055,
          1813.4265299999997,
          1651.1666,
          1238.37495,
          1344.89168,
          1323.2033600000002,
          827.0021,
          1650.8463499999998,
          715.2308850000001,
          529.54713,
          546.7887099999999
         ],
         "type": "scatter"
        },
        {
         "mode": "lines",
         "name": "ATM distance -$5000",
         "x": [
          "2025-02-11T00:00:00+00:00",
          "2025-02-11T00:00:00+00:00",
          "2025-02-12T00:00:00+00:00",
          "2025-02-12T00:00:00+00:00",
          "2025-02-13T00:00:00+00:00",
          "2025-02-13T00:00:00+00:00",
          "2025-02-14T00:00:00+00:00",
          "2025-02-14T00:00:00+00:00",
          "2025-02-15T00:00:00+00:00",
          "2025-02-15T00:00:00+00:00",
          "2025-02-16T00:00:00+00:00",
          "2025-02-16T00:00:00+00:00",
          "2025-02-17T00:00:00+00:00",
          "2025-02-17T00:00:00+00:00",
          "2025-02-18T00:00:00+00:00",
          "2025-02-18T00:00:00+00:00",
          "2025-02-19T00:00:00+00:00",
          "2025-02-19T00:00:00+00:00",
          "2025-02-20T00:00:00+00:00",
          "2025-02-21T00:00:00+00:00",
          "2025-02-21T00:00:00+00:00",
          "2025-02-22T00:00:00+00:00",
          "2025-02-22T00:00:00+00:00",
          "2025-02-23T00:00:00+00:00",
          "2025-02-23T00:00:00+00:00",
          "2025-02-24T00:00:00+00:00",
          "2025-02-25T00:00:00+00:00",
          "2025-02-26T00:00:00+00:00",
          "2025-02-27T00:00:00+00:00",
          "2025-02-28T00:00:00+00:00",
          "2025-03-01T00:00:00+00:00",
          "2025-03-01T00:00:00+00:00",
          "2025-03-02T00:00:00+00:00",
          "2025-03-03T00:00:00+00:00",
          "2025-03-03T00:00:00+00:00",
          "2025-03-04T00:00:00+00:00",
          "2025-03-04T00:00:00+00:00",
          "2025-03-05T00:00:00+00:00",
          "2025-03-06T00:00:00+00:00",
          "2025-03-07T00:00:00+00:00",
          "2025-03-07T00:00:00+00:00",
          "2025-03-08T00:00:00+00:00",
          "2025-03-08T00:00:00+00:00",
          "2025-03-09T00:00:00+00:00",
          "2025-03-10T00:00:00+00:00",
          "2025-03-11T00:00:00+00:00",
          "2025-03-12T00:00:00+00:00",
          "2025-03-12T00:00:00+00:00",
          "2025-03-13T00:00:00+00:00",
          "2025-03-13T00:00:00+00:00",
          "2025-03-14T00:00:00+00:00",
          "2025-03-14T00:00:00+00:00",
          "2025-03-15T00:00:00+00:00",
          "2025-03-15T00:00:00+00:00",
          "2025-03-16T00:00:00+00:00",
          "2025-03-17T00:00:00+00:00",
          "2025-03-17T00:00:00+00:00",
          "2025-03-18T00:00:00+00:00",
          "2025-03-19T00:00:00+00:00",
          "2025-03-19T00:00:00+00:00",
          "2025-03-20T00:00:00+00:00",
          "2025-03-20T00:00:00+00:00",
          "2025-03-21T00:00:00+00:00",
          "2025-03-21T00:00:00+00:00",
          "2025-03-22T00:00:00+00:00",
          "2025-03-22T00:00:00+00:00"
         ],
         "y": [
          5446.843926000003,
          4373.280700000005,
          2704.089450000003,
          3235.814150000004,
          3910.6727749999955,
          4751.250894999996,
          3758.1467850000045,
          4880.559215000005,
          4813.569094999995,
          3691.8889049999943,
          6145.820710000005,
          5011.383290000005,
          4451.62905,
          3457.3407799999914,
          2557.1858400000037,
          4610.3468500000035,
          3705.984199999999,
          4111.512639999999,
          3830.4639999999954,
          3058.826349999994,
          4326.940249999994,
          4010.897280000001,
          2686.934320000001,
          2083.607299999994,
          3024.510199999996,
          4219.736960000004,
          2548.252079999994,
          2549.055599999998,
          1432.3482749999976,
          2149.656799999995,
          1733.8749980000057,
          1867.0427099999997,
          3595.935680000004,
          2009.6733999999924,
          3275.731199999993,
          1032.7962499999967,
          3904.87575,
          2167.194094999997,
          1791.6367999999948,
          1432.6074800000024,
          2772.266159999999,
          3328.9696800000074,
          2348.2888860000057,
          7694.889790000003,
          2008.532900000002,
          1048.3854249999968,
          1625.0048999999972,
          2122.6817,
          1882.507819999998,
          1670.1012399999936,
          1748.8385000000017,
          -922.4679000000015,
          1479.2594000000017,
          -1195.303960000001,
          473.3664600000002,
          969.0916650000008,
          650.196265000006,
          501.1832300000078,
          197.4686250000068,
          782.8789000000006,
          892.8285999999989,
          -854.8669700000055,
          -831.3287000000028,
          370.0778500000051,
          496.1343699999943,
          -872.4955799999998
         ],
         "type": "scatter"
        }
       ],
       "layout": {
        "template": {
         "data": {
          "barpolar": [
           {
            "marker": {
             "line": {
              "color": "rgb(17,17,17)",
              "width": 0.5
             },
             "pattern": {
              "fillmode": "overlay",
              "size": 10,
              "solidity": 0.2
             }
            },
            "type": "barpolar"
           }
          ],
          "bar": [
           {
            "error_x": {
             "color": "#f2f5fa"
            },
            "error_y": {
             "color": "#f2f5fa"
            },
            "marker": {
             "line": {
              "color": "rgb(17,17,17)",
              "width": 0.5
             },
             "pattern": {
              "fillmode": "overlay",
              "size": 10,
              "solidity": 0.2
             }
            },
            "type": "bar"
           }
          ],
          "carpet": [
           {
            "aaxis": {
             "endlinecolor": "#A2B1C6",
             "gridcolor": "#506784",
             "linecolor": "#506784",
             "minorgridcolor": "#506784",
             "startlinecolor": "#A2B1C6"
            },
            "baxis": {
             "endlinecolor": "#A2B1C6",
             "gridcolor": "#506784",
             "linecolor": "#506784",
             "minorgridcolor": "#506784",
             "startlinecolor": "#A2B1C6"
            },
            "type": "carpet"
           }
          ],
          "choropleth": [
           {
            "colorbar": {
             "outlinewidth": 0,
             "ticks": ""
            },
            "type": "choropleth"
           }
          ],
          "contourcarpet": [
           {
            "colorbar": {
             "outlinewidth": 0,
             "ticks": ""
            },
            "type": "contourcarpet"
           }
          ],
          "contour": [
           {
            "colorbar": {
             "outlinewidth": 0,
             "ticks": ""
            },
            "colorscale": [
             [
              0.0,
              "#0d0887"
             ],
             [
              0.1111111111111111,
              "#46039f"
             ],
             [
              0.2222222222222222,
              "#7201a8"
             ],
             [
              0.3333333333333333,
              "#9c179e"
             ],
             [
              0.4444444444444444,
              "#bd3786"
             ],
             [
              0.5555555555555556,
              "#d8576b"
             ],
             [
              0.6666666666666666,
              "#ed7953"
             ],
             [
              0.7777777777777778,
              "#fb9f3a"
             ],
             [
              0.8888888888888888,
              "#fdca26"
             ],
             [
              1.0,
              "#f0f921"
             ]
            ],
            "type": "contour"
           }
          ],
          "heatmap": [
           {
            "colorbar": {
             "outlinewidth": 0,
             "ticks": ""
            },
            "colorscale": [
             [
              0.0,
              "#0d0887"
             ],
             [
              0.1111111111111111,
              "#46039f"
             ],
             [
              0.2222222222222222,
              "#7201a8"
             ],
             [
              0.3333333333333333,
              "#9c179e"
             ],
             [
              0.4444444444444444,
              "#bd3786"
             ],
             [
              0.5555555555555556,
              "#d8576b"
             ],
             [
              0.6666666666666666,
              "#ed7953"
             ],
             [
              0.7777777777777778,
              "#fb9f3a"
             ],
             [
              0.8888888888888888,
              "#fdca26"
             ],
             [
              1.0,
              "#f0f921"
             ]
            ],
            "type": "heatmap"
           }
          ],
          "histogram2dcontour": [
           {
            "colorbar": {
             "outlinewidth": 0,
             "ticks": ""
            },
            "colorscale": [
             [
              0.0,
              "#0d0887"
             ],
             [
              0.1111111111111111,
              "#46039f"
             ],
             [
              0.2222222222222222,
              "#7201a8"
             ],
             [
              0.3333333333333333,
              "#9c179e"
             ],
             [
              0.4444444444444444,
              "#bd3786"
             ],
             [
              0.5555555555555556,
              "#d8576b"
             ],
             [
              0.6666666666666666,
              "#ed7953"
             ],
             [
              0.7777777777777778,
              "#fb9f3a"
             ],
             [
              0.8888888888888888,
              "#fdca26"
             ],
             [
              1.0,
              "#f0f921"
             ]
            ],
            "type": "histogram2dcontour"
           }
          ],
          "histogram2d": [
           {
            "colorbar": {
             "outlinewidth": 0,
             "ticks": ""
            },
            "colorscale": [
             [
              0.0,
              "#0d0887"
             ],
             [
              0.1111111111111111,
              "#46039f"
             ],
             [
              0.2222222222222222,
              "#7201a8"
             ],
             [
              0.3333333333333333,
              "#9c179e"
             ],
             [
              0.4444444444444444,
              "#bd3786"
             ],
             [
              0.5555555555555556,
              "#d8576b"
             ],
             [
              0.6666666666666666,
              "#ed7953"
             ],
             [
              0.7777777777777778,
              "#fb9f3a"
             ],
             [
              0.8888888888888888,
              "#fdca26"
             ],
             [
              1.0,
              "#f0f921"
             ]
            ],
            "type": "histogram2d"
           }
          ],
          "histogram": [
           {
            "marker": {
             "pattern": {
              "fillmode": "overlay",
              "size": 10,
              "solidity": 0.2
             }
            },
            "type": "histogram"
           }
          ],
          "mesh3d": [
           {
            "colorbar": {
             "outlinewidth": 0,
             "ticks": ""
            },
            "type": "mesh3d"
           }
          ],
          "parcoords": [
           {
            "line": {
             "colorbar": {
              "outlinewidth": 0,
              "ticks": ""
             }
            },
            "type": "parcoords"
           }
          ],
          "pie": [
           {
            "automargin": true,
            "type": "pie"
           }
          ],
          "scatter3d": [
           {
            "line": {
             "colorbar": {
              "outlinewidth": 0,
              "ticks": ""
             }
            },
            "marker": {
             "colorbar": {
              "outlinewidth": 0,
              "ticks": ""
             }
            },
            "type": "scatter3d"
           }
          ],
          "scattercarpet": [
           {
            "marker": {
             "colorbar": {
              "outlinewidth": 0,
              "ticks": ""
             }
            },
            "type": "scattercarpet"
           }
          ],
          "scattergeo": [
           {
            "marker": {
             "colorbar": {
              "outlinewidth": 0,
              "ticks": ""
             }
            },
            "type": "scattergeo"
           }
          ],
          "scattergl": [
           {
            "marker": {
             "line": {
              "color": "#283442"
             }
            },
            "type": "scattergl"
           }
          ],
          "scattermapbox": [
           {
            "marker": {
             "colorbar": {
              "outlinewidth": 0,
              "ticks": ""
             }
            },
            "type": "scattermapbox"
           }
          ],
          "scattermap": [
           {
            "marker": {
             "colorbar": {
              "outlinewidth": 0,
              "ticks": ""
             }
            },
            "type": "scattermap"
           }
          ],
          "scatterpolargl": [
           {
            "marker": {
             "colorbar": {
              "outlinewidth": 0,
              "ticks": ""
             }
            },
            "type": "scatterpolargl"
           }
          ],
          "scatterpolar": [
           {
            "marker": {
             "colorbar": {
              "outlinewidth": 0,
              "ticks": ""
             }
            },
            "type": "scatterpolar"
           }
          ],
          "scatter": [
           {
            "marker": {
             "line": {
              "color": "#283442"
             }
            },
            "type": "scatter"
           }
          ],
          "scatterternary": [
           {
            "marker": {
             "colorbar": {
              "outlinewidth": 0,
              "ticks": ""
             }
            },
            "type": "scatterternary"
           }
          ],
          "surface": [
           {
            "colorbar": {
             "outlinewidth": 0,
             "ticks": ""
            },
            "colorscale": [
             [
              0.0,
              "#0d0887"
             ],
             [
              0.1111111111111111,
              "#46039f"
             ],
             [
              0.2222222222222222,
              "#7201a8"
             ],
             [
              0.3333333333333333,
              "#9c179e"
             ],
             [
              0.4444444444444444,
              "#bd3786"
             ],
             [
              0.5555555555555556,
              "#d8576b"
             ],
             [
              0.6666666666666666,
              "#ed7953"
             ],
             [
              0.7777777777777778,
              "#fb9f3a"
             ],
             [
              0.8888888888888888,
              "#fdca26"
             ],
             [
              1.0,
              "#f0f921"
             ]
            ],
            "type": "surface"
           }
          ],
          "table": [
           {
            "cells": {
             "fill": {
              "color": "#506784"
             },
             "line": {
              "color": "rgb(17,17,17)"
             }
            },
            "header": {
             "fill": {
              "color": "#2a3f5f"
             },
             "line": {
              "color": "rgb(17,17,17)"
             }
            },
            "type": "table"
           }
          ]
         },
         "layout": {
          "annotationdefaults": {
           "arrowcolor": "#f2f5fa",
           "arrowhead": 0,
           "arrowwidth": 1
          },
          "autotypenumbers": "strict",
          "coloraxis": {
           "colorbar": {
            "outlinewidth": 0,
            "ticks": ""
           }
          },
          "colorscale": {
           "diverging": [
            [
             0,
             "#8e0152"
            ],
            [
             0.1,
             "#c51b7d"
            ],
            [
             0.2,
             "#de77ae"
            ],
            [
             0.3,
             "#f1b6da"
            ],
            [
             0.4,
             "#fde0ef"
            ],
            [
             0.5,
             "#f7f7f7"
            ],
            [
             0.6,
             "#e6f5d0"
            ],
            [
             0.7,
             "#b8e186"
            ],
            [
             0.8,
             "#7fbc41"
            ],
            [
             0.9,
             "#4d9221"
            ],
            [
             1,
             "#276419"
            ]
           ],
           "sequential": [
            [
             0.0,
             "#0d0887"
            ],
            [
             0.1111111111111111,
             "#46039f"
            ],
            [
             0.2222222222222222,
             "#7201a8"
            ],
            [
             0.3333333333333333,
             "#9c179e"
            ],
            [
             0.4444444444444444,
             "#bd3786"
            ],
            [
             0.5555555555555556,
             "#d8576b"
            ],
            [
             0.6666666666666666,
             "#ed7953"
            ],
            [
             0.7777777777777778,
             "#fb9f3a"
            ],
            [
             0.8888888888888888,
             "#fdca26"
            ],
            [
             1.0,
             "#f0f921"
            ]
           ],
           "sequentialminus": [
            [
             0.0,
             "#0d0887"
            ],
            [
             0.1111111111111111,
             "#46039f"
            ],
            [
             0.2222222222222222,
             "#7201a8"
            ],
            [
             0.3333333333333333,
             "#9c179e"
            ],
            [
             0.4444444444444444,
             "#bd3786"
            ],
            [
             0.5555555555555556,
             "#d8576b"
            ],
            [
             0.6666666666666666,
             "#ed7953"
            ],
            [
             0.7777777777777778,
             "#fb9f3a"
            ],
            [
             0.8888888888888888,
             "#fdca26"
            ],
            [
             1.0,
             "#f0f921"
            ]
           ]
          },
          "colorway": [
           "#636efa",
           "#EF553B",
           "#00cc96",
           "#ab63fa",
           "#FFA15A",
           "#19d3f3",
           "#FF6692",
           "#B6E880",
           "#FF97FF",
           "#FECB52"
          ],
          "font": {
           "color": "#f2f5fa"
          },
          "geo": {
           "bgcolor": "rgb(17,17,17)",
           "lakecolor": "rgb(17,17,17)",
           "landcolor": "rgb(17,17,17)",
           "showlakes": true,
           "showland": true,
           "subunitcolor": "#506784"
          },
          "hoverlabel": {
           "align": "left"
          },
          "hovermode": "closest",
          "mapbox": {
           "style": "dark"
          },
          "paper_bgcolor": "rgb(17,17,17)",
          "plot_bgcolor": "rgb(17,17,17)",
          "polar": {
           "angularaxis": {
            "gridcolor": "#506784",
            "linecolor": "#506784",
            "ticks": ""
           },
           "bgcolor": "rgb(17,17,17)",
           "radialaxis": {
            "gridcolor": "#506784",
            "linecolor": "#506784",
            "ticks": ""
           }
          },
          "scene": {
           "xaxis": {
            "backgroundcolor": "rgb(17,17,17)",
            "gridcolor": "#506784",
            "gridwidth": 2,
            "linecolor": "#506784",
            "showbackground": true,
            "ticks": "",
            "zerolinecolor": "#C8D4E3"
           },
           "yaxis": {
            "backgroundcolor": "rgb(17,17,17)",
            "gridcolor": "#506784",
            "gridwidth": 2,
            "linecolor": "#506784",
            "showbackground": true,
            "ticks": "",
            "zerolinecolor": "#C8D4E3"
           },
           "zaxis": {
            "backgroundcolor": "rgb(17,17,17)",
            "gridcolor": "#506784",
            "gridwidth": 2,
            "linecolor": "#506784",
            "showbackground": true,
            "ticks": "",
            "zerolinecolor": "#C8D4E3"
           }
          },
          "shapedefaults": {
           "line": {
            "color": "#f2f5fa"
           }
          },
          "sliderdefaults": {
           "bgcolor": "#C8D4E3",
           "bordercolor": "rgb(17,17,17)",
           "borderwidth": 1,
           "tickwidth": 0
          },
          "ternary": {
           "aaxis": {
            "gridcolor": "#506784",
            "linecolor": "#506784",
            "ticks": ""
           },
           "baxis": {
            "gridcolor": "#506784",
            "linecolor": "#506784",
            "ticks": ""
           },
           "bgcolor": "rgb(17,17,17)",
           "caxis": {
            "gridcolor": "#506784",
            "linecolor": "#506784",
            "ticks": ""
           }
          },
          "title": {
           "x": 0.05
          },
          "updatemenudefaults": {
           "bgcolor": "#506784",
           "borderwidth": 0
          },
          "xaxis": {
           "automargin": true,
           "gridcolor": "#283442",
           "linecolor": "#506784",
           "ticks": "",
           "title": {
            "standoff": 15
           },
           "zerolinecolor": "#283442",
           "zerolinewidth": 2
          },
          "yaxis": {
           "automargin": true,
           "gridcolor": "#283442",
           "linecolor": "#506784",
           "ticks": "",
           "title": {
            "standoff": 15
           },
           "zerolinecolor": "#283442",
           "zerolinewidth": 2
          }
         }
        },
        "title": {
         "text": "Time Value for 2025-03-28 expiration"
        }
       },
       "config": {
        "showLink": false,
        "linkText": "Export to plot.ly",
        "plotlyServerURL": "https://plot.ly"
       }
      },
      "text/html": "<div>            <script src=\"https://cdnjs.cloudflare.com/ajax/libs/mathjax/2.7.5/MathJax.js?config=TeX-AMS-MML_SVG\"></script><script type=\"text/javascript\">if (window.MathJax && window.MathJax.Hub && window.MathJax.Hub.Config) {window.MathJax.Hub.Config({SVG: {font: \"STIX-Web\"}});}</script>                <script type=\"text/javascript\">window.PlotlyConfig = {MathJaxConfig: 'local'};</script>\n        <script charset=\"utf-8\" src=\"https://cdn.plot.ly/plotly-3.0.1.min.js\"></script>                <div id=\"95c4db70-56a6-42ec-88b3-a9c0ba34bc96\" class=\"plotly-graph-div\" style=\"height:525px; width:100%;\"></div>            <script type=\"text/javascript\">                window.PLOTLYENV=window.PLOTLYENV || {};                                if (document.getElementById(\"95c4db70-56a6-42ec-88b3-a9c0ba34bc96\")) {                    Plotly.newPlot(                        \"95c4db70-56a6-42ec-88b3-a9c0ba34bc96\",                        [{\"mode\":\"lines\",\"name\":\"strike 86000.0\",\"x\":[\"2025-02-11T00:00:00+00:00\",\"2025-02-12T00:00:00+00:00\",\"2025-02-13T00:00:00+00:00\",\"2025-02-14T00:00:00+00:00\",\"2025-02-15T00:00:00+00:00\",\"2025-02-16T00:00:00+00:00\",\"2025-02-17T00:00:00+00:00\",\"2025-02-18T00:00:00+00:00\",\"2025-02-19T00:00:00+00:00\",\"2025-02-20T00:00:00+00:00\",\"2025-02-21T00:00:00+00:00\",\"2025-02-22T00:00:00+00:00\",\"2025-02-23T00:00:00+00:00\",\"2025-02-24T00:00:00+00:00\",\"2025-02-25T00:00:00+00:00\",\"2025-02-26T00:00:00+00:00\",\"2025-02-26T00:00:00+00:00\",\"2025-02-27T00:00:00+00:00\",\"2025-02-27T00:00:00+00:00\",\"2025-02-28T00:00:00+00:00\",\"2025-02-28T00:00:00+00:00\",\"2025-03-01T00:00:00+00:00\",\"2025-03-02T00:00:00+00:00\",\"2025-03-02T00:00:00+00:00\",\"2025-03-03T00:00:00+00:00\",\"2025-03-04T00:00:00+00:00\",\"2025-03-05T00:00:00+00:00\",\"2025-03-06T00:00:00+00:00\",\"2025-03-07T00:00:00+00:00\",\"2025-03-08T00:00:00+00:00\",\"2025-03-09T00:00:00+00:00\",\"2025-03-10T00:00:00+00:00\",\"2025-03-11T00:00:00+00:00\",\"2025-03-11T00:00:00+00:00\",\"2025-03-12T00:00:00+00:00\",\"2025-03-13T00:00:00+00:00\",\"2025-03-14T00:00:00+00:00\",\"2025-03-15T00:00:00+00:00\",\"2025-03-16T00:00:00+00:00\",\"2025-03-16T00:00:00+00:00\",\"2025-03-17T00:00:00+00:00\",\"2025-03-18T00:00:00+00:00\",\"2025-03-18T00:00:00+00:00\",\"2025-03-19T00:00:00+00:00\",\"2025-03-20T00:00:00+00:00\",\"2025-03-21T00:00:00+00:00\",\"2025-03-22T00:00:00+00:00\"],\"y\":[5888.81319,5285.79108,4879.233745,5801.828935,5221.123315,4760.59419,4836.80213,4636.69797,4058.65488,4080.6659500000005,4229.6474,3766.49208,3899.1820500000003,3200.4224000000004,2836.67456,2523.144,3036.18328,2581.550805,3207.894279,2404.8186,3122.0452,3011.0129,3251.64708,4382.65476,3618.4344,3663.5739000000003,3670.175205,3552.5308550000004,2602.3704,2541.451255,2820.4529500000003,2826.19404,2237.1587099999997,2775.733955,2008.4976,1540.05659,1763.36055,1813.4265299999997,1651.1666,1238.37495,1344.89168,1323.2033600000002,827.0021,1650.8463499999998,715.2308850000001,529.54713,546.7887099999999],\"type\":\"scatter\"},{\"mode\":\"lines\",\"name\":\"ATM distance -$5000\",\"x\":[\"2025-02-11T00:00:00+00:00\",\"2025-02-11T00:00:00+00:00\",\"2025-02-12T00:00:00+00:00\",\"2025-02-12T00:00:00+00:00\",\"2025-02-13T00:00:00+00:00\",\"2025-02-13T00:00:00+00:00\",\"2025-02-14T00:00:00+00:00\",\"2025-02-14T00:00:00+00:00\",\"2025-02-15T00:00:00+00:00\",\"2025-02-15T00:00:00+00:00\",\"2025-02-16T00:00:00+00:00\",\"2025-02-16T00:00:00+00:00\",\"2025-02-17T00:00:00+00:00\",\"2025-02-17T00:00:00+00:00\",\"2025-02-18T00:00:00+00:00\",\"2025-02-18T00:00:00+00:00\",\"2025-02-19T00:00:00+00:00\",\"2025-02-19T00:00:00+00:00\",\"2025-02-20T00:00:00+00:00\",\"2025-02-21T00:00:00+00:00\",\"2025-02-21T00:00:00+00:00\",\"2025-02-22T00:00:00+00:00\",\"2025-02-22T00:00:00+00:00\",\"2025-02-23T00:00:00+00:00\",\"2025-02-23T00:00:00+00:00\",\"2025-02-24T00:00:00+00:00\",\"2025-02-25T00:00:00+00:00\",\"2025-02-26T00:00:00+00:00\",\"2025-02-27T00:00:00+00:00\",\"2025-02-28T00:00:00+00:00\",\"2025-03-01T00:00:00+00:00\",\"2025-03-01T00:00:00+00:00\",\"2025-03-02T00:00:00+00:00\",\"2025-03-03T00:00:00+00:00\",\"2025-03-03T00:00:00+00:00\",\"2025-03-04T00:00:00+00:00\",\"2025-03-04T00:00:00+00:00\",\"2025-03-05T00:00:00+00:00\",\"2025-03-06T00:00:00+00:00\",\"2025-03-07T00:00:00+00:00\",\"2025-03-07T00:00:00+00:00\",\"2025-03-08T00:00:00+00:00\",\"2025-03-08T00:00:00+00:00\",\"2025-03-09T00:00:00+00:00\",\"2025-03-10T00:00:00+00:00\",\"2025-03-11T00:00:00+00:00\",\"2025-03-12T00:00:00+00:00\",\"2025-03-12T00:00:00+00:00\",\"2025-03-13T00:00:00+00:00\",\"2025-03-13T00:00:00+00:00\",\"2025-03-14T00:00:00+00:00\",\"2025-03-14T00:00:00+00:00\",\"2025-03-15T00:00:00+00:00\",\"2025-03-15T00:00:00+00:00\",\"2025-03-16T00:00:00+00:00\",\"2025-03-17T00:00:00+00:00\",\"2025-03-17T00:00:00+00:00\",\"2025-03-18T00:00:00+00:00\",\"2025-03-19T00:00:00+00:00\",\"2025-03-19T00:00:00+00:00\",\"2025-03-20T00:00:00+00:00\",\"2025-03-20T00:00:00+00:00\",\"2025-03-21T00:00:00+00:00\",\"2025-03-21T00:00:00+00:00\",\"2025-03-22T00:00:00+00:00\",\"2025-03-22T00:00:00+00:00\"],\"y\":[5446.843926000003,4373.280700000005,2704.089450000003,3235.814150000004,3910.6727749999955,4751.250894999996,3758.1467850000045,4880.559215000005,4813.569094999995,3691.8889049999943,6145.820710000005,5011.383290000005,4451.62905,3457.3407799999914,2557.1858400000037,4610.3468500000035,3705.984199999999,4111.512639999999,3830.4639999999954,3058.826349999994,4326.940249999994,4010.897280000001,2686.934320000001,2083.607299999994,3024.510199999996,4219.736960000004,2548.252079999994,2549.055599999998,1432.3482749999976,2149.656799999995,1733.8749980000057,1867.0427099999997,3595.935680000004,2009.6733999999924,3275.731199999993,1032.7962499999967,3904.87575,2167.194094999997,1791.6367999999948,1432.6074800000024,2772.266159999999,3328.9696800000074,2348.2888860000057,7694.889790000003,2008.532900000002,1048.3854249999968,1625.0048999999972,2122.6817,1882.507819999998,1670.1012399999936,1748.8385000000017,-922.4679000000015,1479.2594000000017,-1195.303960000001,473.3664600000002,969.0916650000008,650.196265000006,501.1832300000078,197.4686250000068,782.8789000000006,892.8285999999989,-854.8669700000055,-831.3287000000028,370.0778500000051,496.1343699999943,-872.4955799999998],\"type\":\"scatter\"}],                        {\"template\":{\"data\":{\"barpolar\":[{\"marker\":{\"line\":{\"color\":\"rgb(17,17,17)\",\"width\":0.5},\"pattern\":{\"fillmode\":\"overlay\",\"size\":10,\"solidity\":0.2}},\"type\":\"barpolar\"}],\"bar\":[{\"error_x\":{\"color\":\"#f2f5fa\"},\"error_y\":{\"color\":\"#f2f5fa\"},\"marker\":{\"line\":{\"color\":\"rgb(17,17,17)\",\"width\":0.5},\"pattern\":{\"fillmode\":\"overlay\",\"size\":10,\"solidity\":0.2}},\"type\":\"bar\"}],\"carpet\":[{\"aaxis\":{\"endlinecolor\":\"#A2B1C6\",\"gridcolor\":\"#506784\",\"linecolor\":\"#506784\",\"minorgridcolor\":\"#506784\",\"startlinecolor\":\"#A2B1C6\"},\"baxis\":{\"endlinecolor\":\"#A2B1C6\",\"gridcolor\":\"#506784\",\"linecolor\":\"#506784\",\"minorgridcolor\":\"#506784\",\"startlinecolor\":\"#A2B1C6\"},\"type\":\"carpet\"}],\"choropleth\":[{\"colorbar\":{\"outlinewidth\":0,\"ticks\":\"\"},\"type\":\"choropleth\"}],\"contourcarpet\":[{\"colorbar\":{\"outlinewidth\":0,\"ticks\":\"\"},\"type\":\"contourcarpet\"}],\"contour\":[{\"colorbar\":{\"outlinewidth\":0,\"ticks\":\"\"},\"colorscale\":[[0.0,\"#0d0887\"],[0.1111111111111111,\"#46039f\"],[0.2222222222222222,\"#7201a8\"],[0.3333333333333333,\"#9c179e\"],[0.4444444444444444,\"#bd3786\"],[0.5555555555555556,\"#d8576b\"],[0.6666666666666666,\"#ed7953\"],[0.7777777777777778,\"#fb9f3a\"],[0.8888888888888888,\"#fdca26\"],[1.0,\"#f0f921\"]],\"type\":\"contour\"}],\"heatmap\":[{\"colorbar\":{\"outlinewidth\":0,\"ticks\":\"\"},\"colorscale\":[[0.0,\"#0d0887\"],[0.1111111111111111,\"#46039f\"],[0.2222222222222222,\"#7201a8\"],[0.3333333333333333,\"#9c179e\"],[0.4444444444444444,\"#bd3786\"],[0.5555555555555556,\"#d8576b\"],[0.6666666666666666,\"#ed7953\"],[0.7777777777777778,\"#fb9f3a\"],[0.8888888888888888,\"#fdca26\"],[1.0,\"#f0f921\"]],\"type\":\"heatmap\"}],\"histogram2dcontour\":[{\"colorbar\":{\"outlinewidth\":0,\"ticks\":\"\"},\"colorscale\":[[0.0,\"#0d0887\"],[0.1111111111111111,\"#46039f\"],[0.2222222222222222,\"#7201a8\"],[0.3333333333333333,\"#9c179e\"],[0.4444444444444444,\"#bd3786\"],[0.5555555555555556,\"#d8576b\"],[0.6666666666666666,\"#ed7953\"],[0.7777777777777778,\"#fb9f3a\"],[0.8888888888888888,\"#fdca26\"],[1.0,\"#f0f921\"]],\"type\":\"histogram2dcontour\"}],\"histogram2d\":[{\"colorbar\":{\"outlinewidth\":0,\"ticks\":\"\"},\"colorscale\":[[0.0,\"#0d0887\"],[0.1111111111111111,\"#46039f\"],[0.2222222222222222,\"#7201a8\"],[0.3333333333333333,\"#9c179e\"],[0.4444444444444444,\"#bd3786\"],[0.5555555555555556,\"#d8576b\"],[0.6666666666666666,\"#ed7953\"],[0.7777777777777778,\"#fb9f3a\"],[0.8888888888888888,\"#fdca26\"],[1.0,\"#f0f921\"]],\"type\":\"histogram2d\"}],\"histogram\":[{\"marker\":{\"pattern\":{\"fillmode\":\"overlay\",\"size\":10,\"solidity\":0.2}},\"type\":\"histogram\"}],\"mesh3d\":[{\"colorbar\":{\"outlinewidth\":0,\"ticks\":\"\"},\"type\":\"mesh3d\"}],\"parcoords\":[{\"line\":{\"colorbar\":{\"outlinewidth\":0,\"ticks\":\"\"}},\"type\":\"parcoords\"}],\"pie\":[{\"automargin\":true,\"type\":\"pie\"}],\"scatter3d\":[{\"line\":{\"colorbar\":{\"outlinewidth\":0,\"ticks\":\"\"}},\"marker\":{\"colorbar\":{\"outlinewidth\":0,\"ticks\":\"\"}},\"type\":\"scatter3d\"}],\"scattercarpet\":[{\"marker\":{\"colorbar\":{\"outlinewidth\":0,\"ticks\":\"\"}},\"type\":\"scattercarpet\"}],\"scattergeo\":[{\"marker\":{\"colorbar\":{\"outlinewidth\":0,\"ticks\":\"\"}},\"type\":\"scattergeo\"}],\"scattergl\":[{\"marker\":{\"line\":{\"color\":\"#283442\"}},\"type\":\"scattergl\"}],\"scattermapbox\":[{\"marker\":{\"colorbar\":{\"outlinewidth\":0,\"ticks\":\"\"}},\"type\":\"scattermapbox\"}],\"scattermap\":[{\"marker\":{\"colorbar\":{\"outlinewidth\":0,\"ticks\":\"\"}},\"type\":\"scattermap\"}],\"scatterpolargl\":[{\"marker\":{\"colorbar\":{\"outlinewidth\":0,\"ticks\":\"\"}},\"type\":\"scatterpolargl\"}],\"scatterpolar\":[{\"marker\":{\"colorbar\":{\"outlinewidth\":0,\"ticks\":\"\"}},\"type\":\"scatterpolar\"}],\"scatter\":[{\"marker\":{\"line\":{\"color\":\"#283442\"}},\"type\":\"scatter\"}],\"scatterternary\":[{\"marker\":{\"colorbar\":{\"outlinewidth\":0,\"ticks\":\"\"}},\"type\":\"scatterternary\"}],\"surface\":[{\"colorbar\":{\"outlinewidth\":0,\"ticks\":\"\"},\"colorscale\":[[0.0,\"#0d0887\"],[0.1111111111111111,\"#46039f\"],[0.2222222222222222,\"#7201a8\"],[0.3333333333333333,\"#9c179e\"],[0.4444444444444444,\"#bd3786\"],[0.5555555555555556,\"#d8576b\"],[0.6666666666666666,\"#ed7953\"],[0.7777777777777778,\"#fb9f3a\"],[0.8888888888888888,\"#fdca26\"],[1.0,\"#f0f921\"]],\"type\":\"surface\"}],\"table\":[{\"cells\":{\"fill\":{\"color\":\"#506784\"},\"line\":{\"color\":\"rgb(17,17,17)\"}},\"header\":{\"fill\":{\"color\":\"#2a3f5f\"},\"line\":{\"color\":\"rgb(17,17,17)\"}},\"type\":\"table\"}]},\"layout\":{\"annotationdefaults\":{\"arrowcolor\":\"#f2f5fa\",\"arrowhead\":0,\"arrowwidth\":1},\"autotypenumbers\":\"strict\",\"coloraxis\":{\"colorbar\":{\"outlinewidth\":0,\"ticks\":\"\"}},\"colorscale\":{\"diverging\":[[0,\"#8e0152\"],[0.1,\"#c51b7d\"],[0.2,\"#de77ae\"],[0.3,\"#f1b6da\"],[0.4,\"#fde0ef\"],[0.5,\"#f7f7f7\"],[0.6,\"#e6f5d0\"],[0.7,\"#b8e186\"],[0.8,\"#7fbc41\"],[0.9,\"#4d9221\"],[1,\"#276419\"]],\"sequential\":[[0.0,\"#0d0887\"],[0.1111111111111111,\"#46039f\"],[0.2222222222222222,\"#7201a8\"],[0.3333333333333333,\"#9c179e\"],[0.4444444444444444,\"#bd3786\"],[0.5555555555555556,\"#d8576b\"],[0.6666666666666666,\"#ed7953\"],[0.7777777777777778,\"#fb9f3a\"],[0.8888888888888888,\"#fdca26\"],[1.0,\"#f0f921\"]],\"sequentialminus\":[[0.0,\"#0d0887\"],[0.1111111111111111,\"#46039f\"],[0.2222222222222222,\"#7201a8\"],[0.3333333333333333,\"#9c179e\"],[0.4444444444444444,\"#bd3786\"],[0.5555555555555556,\"#d8576b\"],[0.6666666666666666,\"#ed7953\"],[0.7777777777777778,\"#fb9f3a\"],[0.8888888888888888,\"#fdca26\"],[1.0,\"#f0f921\"]]},\"colorway\":[\"#636efa\",\"#EF553B\",\"#00cc96\",\"#ab63fa\",\"#FFA15A\",\"#19d3f3\",\"#FF6692\",\"#B6E880\",\"#FF97FF\",\"#FECB52\"],\"font\":{\"color\":\"#f2f5fa\"},\"geo\":{\"bgcolor\":\"rgb(17,17,17)\",\"lakecolor\":\"rgb(17,17,17)\",\"landcolor\":\"rgb(17,17,17)\",\"showlakes\":true,\"showland\":true,\"subunitcolor\":\"#506784\"},\"hoverlabel\":{\"align\":\"left\"},\"hovermode\":\"closest\",\"mapbox\":{\"style\":\"dark\"},\"paper_bgcolor\":\"rgb(17,17,17)\",\"plot_bgcolor\":\"rgb(17,17,17)\",\"polar\":{\"angularaxis\":{\"gridcolor\":\"#506784\",\"linecolor\":\"#506784\",\"ticks\":\"\"},\"bgcolor\":\"rgb(17,17,17)\",\"radialaxis\":{\"gridcolor\":\"#506784\",\"linecolor\":\"#506784\",\"ticks\":\"\"}},\"scene\":{\"xaxis\":{\"backgroundcolor\":\"rgb(17,17,17)\",\"gridcolor\":\"#506784\",\"gridwidth\":2,\"linecolor\":\"#506784\",\"showbackground\":true,\"ticks\":\"\",\"zerolinecolor\":\"#C8D4E3\"},\"yaxis\":{\"backgroundcolor\":\"rgb(17,17,17)\",\"gridcolor\":\"#506784\",\"gridwidth\":2,\"linecolor\":\"#506784\",\"showbackground\":true,\"ticks\":\"\",\"zerolinecolor\":\"#C8D4E3\"},\"zaxis\":{\"backgroundcolor\":\"rgb(17,17,17)\",\"gridcolor\":\"#506784\",\"gridwidth\":2,\"linecolor\":\"#506784\",\"showbackground\":true,\"ticks\":\"\",\"zerolinecolor\":\"#C8D4E3\"}},\"shapedefaults\":{\"line\":{\"color\":\"#f2f5fa\"}},\"sliderdefaults\":{\"bgcolor\":\"#C8D4E3\",\"bordercolor\":\"rgb(17,17,17)\",\"borderwidth\":1,\"tickwidth\":0},\"ternary\":{\"aaxis\":{\"gridcolor\":\"#506784\",\"linecolor\":\"#506784\",\"ticks\":\"\"},\"baxis\":{\"gridcolor\":\"#506784\",\"linecolor\":\"#506784\",\"ticks\":\"\"},\"bgcolor\":\"rgb(17,17,17)\",\"caxis\":{\"gridcolor\":\"#506784\",\"linecolor\":\"#506784\",\"ticks\":\"\"}},\"title\":{\"x\":0.05},\"updatemenudefaults\":{\"bgcolor\":\"#506784\",\"borderwidth\":0},\"xaxis\":{\"automargin\":true,\"gridcolor\":\"#283442\",\"linecolor\":\"#506784\",\"ticks\":\"\",\"title\":{\"standoff\":15},\"zerolinecolor\":\"#283442\",\"zerolinewidth\":2},\"yaxis\":{\"automargin\":true,\"gridcolor\":\"#283442\",\"linecolor\":\"#506784\",\"ticks\":\"\",\"title\":{\"standoff\":15},\"zerolinecolor\":\"#283442\",\"zerolinewidth\":2}}},\"title\":{\"text\":\"Time Value for 2025-03-28 expiration\"}},                        {\"responsive\": true}                    ).then(function(){\n                            \nvar gd = document.getElementById('95c4db70-56a6-42ec-88b3-a9c0ba34bc96');\nvar x = new MutationObserver(function (mutations, observer) {{\n        var display = window.getComputedStyle(gd).display;\n        if (!display || display === 'none') {{\n            console.log([gd, 'removed!']);\n            Plotly.purge(gd);\n            observer.disconnect();\n        }}\n}});\n\n// Listen for the removal of the full notebook cells\nvar notebookContainer = gd.closest('#notebook-container');\nif (notebookContainer) {{\n    x.observe(notebookContainer, {childList: true});\n}}\n\n// Listen for the clearing of the current output cell\nvar outputEl = gd.closest('.output');\nif (outputEl) {{\n    x.observe(outputEl, {childList: true});\n}}\n\n                        })                };            </script>        </div>"
     },
     "metadata": {},
     "output_type": "display_data"
    }
   ],
   "source": [
    "# add values to chart\n",
    "btc.chart.init(title=f'Time Value for {expiration_date.date().isoformat()} expiration')\n",
    "btc.chart.price.time_values_for_strike(expiration_date=expiration_date, strike=atm_nearest_strikes[5],\n",
    "                                       name=f'strike {atm_nearest_strikes[3]}')\n",
    "btc.chart.price.time_values_for_distance(expiration_date=expiration_date, distance=-5000, name='ATM distance -$5000')\n",
    "btc.chart.show()"
   ],
   "metadata": {
    "collapsed": false
   }
  },
  {
   "cell_type": "code",
   "execution_count": 17,
   "outputs": [
    {
     "data": {
      "text/plain": "                   timestamp   strike  time_value\n5  2025-03-19 00:00:00+00:00  91000.0  408.367255\n48 2025-03-21 00:00:00+00:00  88000.0    8.405510\n75 2025-03-22 00:00:00+00:00  88000.0    8.412134",
      "text/html": "<div>\n<style scoped>\n    .dataframe tbody tr th:only-of-type {\n        vertical-align: middle;\n    }\n\n    .dataframe tbody tr th {\n        vertical-align: top;\n    }\n\n    .dataframe thead th {\n        text-align: right;\n    }\n</style>\n<table border=\"1\" class=\"dataframe\">\n  <thead>\n    <tr style=\"text-align: right;\">\n      <th></th>\n      <th>timestamp</th>\n      <th>strike</th>\n      <th>time_value</th>\n    </tr>\n  </thead>\n  <tbody>\n    <tr>\n      <th>5</th>\n      <td>2025-03-19 00:00:00+00:00</td>\n      <td>91000.0</td>\n      <td>408.367255</td>\n    </tr>\n    <tr>\n      <th>48</th>\n      <td>2025-03-21 00:00:00+00:00</td>\n      <td>88000.0</td>\n      <td>8.405510</td>\n    </tr>\n    <tr>\n      <th>75</th>\n      <td>2025-03-22 00:00:00+00:00</td>\n      <td>88000.0</td>\n      <td>8.412134</td>\n    </tr>\n  </tbody>\n</table>\n</div>"
     },
     "execution_count": 17,
     "metadata": {},
     "output_type": "execute_result"
    }
   ],
   "source": [
    "df_time_value_strike = btc.analytic.price.time_value_series_by_strike_to_atm_distance(strike=atm_nearest_strikes[5])\n",
    "df_time_value_strike.iloc[[0, int(len(df_time_value_strike) / 2), -1]]"
   ],
   "metadata": {
    "collapsed": false
   }
  },
  {
   "cell_type": "code",
   "execution_count": 18,
   "outputs": [
    {
     "data": {
      "text/plain": "                   timestamp   strike   time_value\n9  2025-03-19 00:00:00+00:00  87000.0  1477.073050\n26 2025-03-20 00:00:00+00:00  84000.0   699.810957\n62 2025-03-21 00:00:00+00:00  84000.0   327.775439\n80 2025-03-22 00:00:00+00:00  84000.0   155.211023",
      "text/html": "<div>\n<style scoped>\n    .dataframe tbody tr th:only-of-type {\n        vertical-align: middle;\n    }\n\n    .dataframe tbody tr th {\n        vertical-align: top;\n    }\n\n    .dataframe thead th {\n        text-align: right;\n    }\n</style>\n<table border=\"1\" class=\"dataframe\">\n  <thead>\n    <tr style=\"text-align: right;\">\n      <th></th>\n      <th>timestamp</th>\n      <th>strike</th>\n      <th>time_value</th>\n    </tr>\n  </thead>\n  <tbody>\n    <tr>\n      <th>9</th>\n      <td>2025-03-19 00:00:00+00:00</td>\n      <td>87000.0</td>\n      <td>1477.073050</td>\n    </tr>\n    <tr>\n      <th>26</th>\n      <td>2025-03-20 00:00:00+00:00</td>\n      <td>84000.0</td>\n      <td>699.810957</td>\n    </tr>\n    <tr>\n      <th>62</th>\n      <td>2025-03-21 00:00:00+00:00</td>\n      <td>84000.0</td>\n      <td>327.775439</td>\n    </tr>\n    <tr>\n      <th>80</th>\n      <td>2025-03-22 00:00:00+00:00</td>\n      <td>84000.0</td>\n      <td>155.211023</td>\n    </tr>\n  </tbody>\n</table>\n</div>"
     },
     "execution_count": 18,
     "metadata": {},
     "output_type": "execute_result"
    }
   ],
   "source": [
    "df_time_value_atm = btc.analytic.price.time_value_series_by_atm_distance(distance=0)\n",
    "df_time_value_atm"
   ],
   "metadata": {
    "collapsed": false
   }
  },
  {
   "cell_type": "code",
   "execution_count": 19,
   "outputs": [
    {
     "data": {
      "application/vnd.plotly.v1+json": {
       "data": [
        {
         "mode": "lines",
         "name": "Strike cur ATM 84000.0",
         "x": [
          "2025-03-19T00:00:00+00:00",
          "2025-03-20T00:00:00+00:00",
          "2025-03-21T00:00:00+00:00",
          "2025-03-22T00:00:00+00:00"
         ],
         "y": [
          408.3672549999999,
          42.072404999999996,
          8.405510000000001,
          8.412134
         ],
         "type": "scatter"
        },
        {
         "mode": "lines",
         "name": "ATM",
         "x": [
          "2025-03-19T00:00:00+00:00",
          "2025-03-20T00:00:00+00:00",
          "2025-03-21T00:00:00+00:00",
          "2025-03-22T00:00:00+00:00"
         ],
         "y": [
          1477.07305,
          699.8109571428562,
          327.775438505078,
          155.21102259288864
         ],
         "type": "scatter"
        }
       ],
       "layout": {
        "template": {
         "data": {
          "barpolar": [
           {
            "marker": {
             "line": {
              "color": "rgb(17,17,17)",
              "width": 0.5
             },
             "pattern": {
              "fillmode": "overlay",
              "size": 10,
              "solidity": 0.2
             }
            },
            "type": "barpolar"
           }
          ],
          "bar": [
           {
            "error_x": {
             "color": "#f2f5fa"
            },
            "error_y": {
             "color": "#f2f5fa"
            },
            "marker": {
             "line": {
              "color": "rgb(17,17,17)",
              "width": 0.5
             },
             "pattern": {
              "fillmode": "overlay",
              "size": 10,
              "solidity": 0.2
             }
            },
            "type": "bar"
           }
          ],
          "carpet": [
           {
            "aaxis": {
             "endlinecolor": "#A2B1C6",
             "gridcolor": "#506784",
             "linecolor": "#506784",
             "minorgridcolor": "#506784",
             "startlinecolor": "#A2B1C6"
            },
            "baxis": {
             "endlinecolor": "#A2B1C6",
             "gridcolor": "#506784",
             "linecolor": "#506784",
             "minorgridcolor": "#506784",
             "startlinecolor": "#A2B1C6"
            },
            "type": "carpet"
           }
          ],
          "choropleth": [
           {
            "colorbar": {
             "outlinewidth": 0,
             "ticks": ""
            },
            "type": "choropleth"
           }
          ],
          "contourcarpet": [
           {
            "colorbar": {
             "outlinewidth": 0,
             "ticks": ""
            },
            "type": "contourcarpet"
           }
          ],
          "contour": [
           {
            "colorbar": {
             "outlinewidth": 0,
             "ticks": ""
            },
            "colorscale": [
             [
              0.0,
              "#0d0887"
             ],
             [
              0.1111111111111111,
              "#46039f"
             ],
             [
              0.2222222222222222,
              "#7201a8"
             ],
             [
              0.3333333333333333,
              "#9c179e"
             ],
             [
              0.4444444444444444,
              "#bd3786"
             ],
             [
              0.5555555555555556,
              "#d8576b"
             ],
             [
              0.6666666666666666,
              "#ed7953"
             ],
             [
              0.7777777777777778,
              "#fb9f3a"
             ],
             [
              0.8888888888888888,
              "#fdca26"
             ],
             [
              1.0,
              "#f0f921"
             ]
            ],
            "type": "contour"
           }
          ],
          "heatmap": [
           {
            "colorbar": {
             "outlinewidth": 0,
             "ticks": ""
            },
            "colorscale": [
             [
              0.0,
              "#0d0887"
             ],
             [
              0.1111111111111111,
              "#46039f"
             ],
             [
              0.2222222222222222,
              "#7201a8"
             ],
             [
              0.3333333333333333,
              "#9c179e"
             ],
             [
              0.4444444444444444,
              "#bd3786"
             ],
             [
              0.5555555555555556,
              "#d8576b"
             ],
             [
              0.6666666666666666,
              "#ed7953"
             ],
             [
              0.7777777777777778,
              "#fb9f3a"
             ],
             [
              0.8888888888888888,
              "#fdca26"
             ],
             [
              1.0,
              "#f0f921"
             ]
            ],
            "type": "heatmap"
           }
          ],
          "histogram2dcontour": [
           {
            "colorbar": {
             "outlinewidth": 0,
             "ticks": ""
            },
            "colorscale": [
             [
              0.0,
              "#0d0887"
             ],
             [
              0.1111111111111111,
              "#46039f"
             ],
             [
              0.2222222222222222,
              "#7201a8"
             ],
             [
              0.3333333333333333,
              "#9c179e"
             ],
             [
              0.4444444444444444,
              "#bd3786"
             ],
             [
              0.5555555555555556,
              "#d8576b"
             ],
             [
              0.6666666666666666,
              "#ed7953"
             ],
             [
              0.7777777777777778,
              "#fb9f3a"
             ],
             [
              0.8888888888888888,
              "#fdca26"
             ],
             [
              1.0,
              "#f0f921"
             ]
            ],
            "type": "histogram2dcontour"
           }
          ],
          "histogram2d": [
           {
            "colorbar": {
             "outlinewidth": 0,
             "ticks": ""
            },
            "colorscale": [
             [
              0.0,
              "#0d0887"
             ],
             [
              0.1111111111111111,
              "#46039f"
             ],
             [
              0.2222222222222222,
              "#7201a8"
             ],
             [
              0.3333333333333333,
              "#9c179e"
             ],
             [
              0.4444444444444444,
              "#bd3786"
             ],
             [
              0.5555555555555556,
              "#d8576b"
             ],
             [
              0.6666666666666666,
              "#ed7953"
             ],
             [
              0.7777777777777778,
              "#fb9f3a"
             ],
             [
              0.8888888888888888,
              "#fdca26"
             ],
             [
              1.0,
              "#f0f921"
             ]
            ],
            "type": "histogram2d"
           }
          ],
          "histogram": [
           {
            "marker": {
             "pattern": {
              "fillmode": "overlay",
              "size": 10,
              "solidity": 0.2
             }
            },
            "type": "histogram"
           }
          ],
          "mesh3d": [
           {
            "colorbar": {
             "outlinewidth": 0,
             "ticks": ""
            },
            "type": "mesh3d"
           }
          ],
          "parcoords": [
           {
            "line": {
             "colorbar": {
              "outlinewidth": 0,
              "ticks": ""
             }
            },
            "type": "parcoords"
           }
          ],
          "pie": [
           {
            "automargin": true,
            "type": "pie"
           }
          ],
          "scatter3d": [
           {
            "line": {
             "colorbar": {
              "outlinewidth": 0,
              "ticks": ""
             }
            },
            "marker": {
             "colorbar": {
              "outlinewidth": 0,
              "ticks": ""
             }
            },
            "type": "scatter3d"
           }
          ],
          "scattercarpet": [
           {
            "marker": {
             "colorbar": {
              "outlinewidth": 0,
              "ticks": ""
             }
            },
            "type": "scattercarpet"
           }
          ],
          "scattergeo": [
           {
            "marker": {
             "colorbar": {
              "outlinewidth": 0,
              "ticks": ""
             }
            },
            "type": "scattergeo"
           }
          ],
          "scattergl": [
           {
            "marker": {
             "line": {
              "color": "#283442"
             }
            },
            "type": "scattergl"
           }
          ],
          "scattermapbox": [
           {
            "marker": {
             "colorbar": {
              "outlinewidth": 0,
              "ticks": ""
             }
            },
            "type": "scattermapbox"
           }
          ],
          "scattermap": [
           {
            "marker": {
             "colorbar": {
              "outlinewidth": 0,
              "ticks": ""
             }
            },
            "type": "scattermap"
           }
          ],
          "scatterpolargl": [
           {
            "marker": {
             "colorbar": {
              "outlinewidth": 0,
              "ticks": ""
             }
            },
            "type": "scatterpolargl"
           }
          ],
          "scatterpolar": [
           {
            "marker": {
             "colorbar": {
              "outlinewidth": 0,
              "ticks": ""
             }
            },
            "type": "scatterpolar"
           }
          ],
          "scatter": [
           {
            "marker": {
             "line": {
              "color": "#283442"
             }
            },
            "type": "scatter"
           }
          ],
          "scatterternary": [
           {
            "marker": {
             "colorbar": {
              "outlinewidth": 0,
              "ticks": ""
             }
            },
            "type": "scatterternary"
           }
          ],
          "surface": [
           {
            "colorbar": {
             "outlinewidth": 0,
             "ticks": ""
            },
            "colorscale": [
             [
              0.0,
              "#0d0887"
             ],
             [
              0.1111111111111111,
              "#46039f"
             ],
             [
              0.2222222222222222,
              "#7201a8"
             ],
             [
              0.3333333333333333,
              "#9c179e"
             ],
             [
              0.4444444444444444,
              "#bd3786"
             ],
             [
              0.5555555555555556,
              "#d8576b"
             ],
             [
              0.6666666666666666,
              "#ed7953"
             ],
             [
              0.7777777777777778,
              "#fb9f3a"
             ],
             [
              0.8888888888888888,
              "#fdca26"
             ],
             [
              1.0,
              "#f0f921"
             ]
            ],
            "type": "surface"
           }
          ],
          "table": [
           {
            "cells": {
             "fill": {
              "color": "#506784"
             },
             "line": {
              "color": "rgb(17,17,17)"
             }
            },
            "header": {
             "fill": {
              "color": "#2a3f5f"
             },
             "line": {
              "color": "rgb(17,17,17)"
             }
            },
            "type": "table"
           }
          ]
         },
         "layout": {
          "annotationdefaults": {
           "arrowcolor": "#f2f5fa",
           "arrowhead": 0,
           "arrowwidth": 1
          },
          "autotypenumbers": "strict",
          "coloraxis": {
           "colorbar": {
            "outlinewidth": 0,
            "ticks": ""
           }
          },
          "colorscale": {
           "diverging": [
            [
             0,
             "#8e0152"
            ],
            [
             0.1,
             "#c51b7d"
            ],
            [
             0.2,
             "#de77ae"
            ],
            [
             0.3,
             "#f1b6da"
            ],
            [
             0.4,
             "#fde0ef"
            ],
            [
             0.5,
             "#f7f7f7"
            ],
            [
             0.6,
             "#e6f5d0"
            ],
            [
             0.7,
             "#b8e186"
            ],
            [
             0.8,
             "#7fbc41"
            ],
            [
             0.9,
             "#4d9221"
            ],
            [
             1,
             "#276419"
            ]
           ],
           "sequential": [
            [
             0.0,
             "#0d0887"
            ],
            [
             0.1111111111111111,
             "#46039f"
            ],
            [
             0.2222222222222222,
             "#7201a8"
            ],
            [
             0.3333333333333333,
             "#9c179e"
            ],
            [
             0.4444444444444444,
             "#bd3786"
            ],
            [
             0.5555555555555556,
             "#d8576b"
            ],
            [
             0.6666666666666666,
             "#ed7953"
            ],
            [
             0.7777777777777778,
             "#fb9f3a"
            ],
            [
             0.8888888888888888,
             "#fdca26"
            ],
            [
             1.0,
             "#f0f921"
            ]
           ],
           "sequentialminus": [
            [
             0.0,
             "#0d0887"
            ],
            [
             0.1111111111111111,
             "#46039f"
            ],
            [
             0.2222222222222222,
             "#7201a8"
            ],
            [
             0.3333333333333333,
             "#9c179e"
            ],
            [
             0.4444444444444444,
             "#bd3786"
            ],
            [
             0.5555555555555556,
             "#d8576b"
            ],
            [
             0.6666666666666666,
             "#ed7953"
            ],
            [
             0.7777777777777778,
             "#fb9f3a"
            ],
            [
             0.8888888888888888,
             "#fdca26"
            ],
            [
             1.0,
             "#f0f921"
            ]
           ]
          },
          "colorway": [
           "#636efa",
           "#EF553B",
           "#00cc96",
           "#ab63fa",
           "#FFA15A",
           "#19d3f3",
           "#FF6692",
           "#B6E880",
           "#FF97FF",
           "#FECB52"
          ],
          "font": {
           "color": "#f2f5fa"
          },
          "geo": {
           "bgcolor": "rgb(17,17,17)",
           "lakecolor": "rgb(17,17,17)",
           "landcolor": "rgb(17,17,17)",
           "showlakes": true,
           "showland": true,
           "subunitcolor": "#506784"
          },
          "hoverlabel": {
           "align": "left"
          },
          "hovermode": "closest",
          "mapbox": {
           "style": "dark"
          },
          "paper_bgcolor": "rgb(17,17,17)",
          "plot_bgcolor": "rgb(17,17,17)",
          "polar": {
           "angularaxis": {
            "gridcolor": "#506784",
            "linecolor": "#506784",
            "ticks": ""
           },
           "bgcolor": "rgb(17,17,17)",
           "radialaxis": {
            "gridcolor": "#506784",
            "linecolor": "#506784",
            "ticks": ""
           }
          },
          "scene": {
           "xaxis": {
            "backgroundcolor": "rgb(17,17,17)",
            "gridcolor": "#506784",
            "gridwidth": 2,
            "linecolor": "#506784",
            "showbackground": true,
            "ticks": "",
            "zerolinecolor": "#C8D4E3"
           },
           "yaxis": {
            "backgroundcolor": "rgb(17,17,17)",
            "gridcolor": "#506784",
            "gridwidth": 2,
            "linecolor": "#506784",
            "showbackground": true,
            "ticks": "",
            "zerolinecolor": "#C8D4E3"
           },
           "zaxis": {
            "backgroundcolor": "rgb(17,17,17)",
            "gridcolor": "#506784",
            "gridwidth": 2,
            "linecolor": "#506784",
            "showbackground": true,
            "ticks": "",
            "zerolinecolor": "#C8D4E3"
           }
          },
          "shapedefaults": {
           "line": {
            "color": "#f2f5fa"
           }
          },
          "sliderdefaults": {
           "bgcolor": "#C8D4E3",
           "bordercolor": "rgb(17,17,17)",
           "borderwidth": 1,
           "tickwidth": 0
          },
          "ternary": {
           "aaxis": {
            "gridcolor": "#506784",
            "linecolor": "#506784",
            "ticks": ""
           },
           "baxis": {
            "gridcolor": "#506784",
            "linecolor": "#506784",
            "ticks": ""
           },
           "bgcolor": "rgb(17,17,17)",
           "caxis": {
            "gridcolor": "#506784",
            "linecolor": "#506784",
            "ticks": ""
           }
          },
          "title": {
           "x": 0.05
          },
          "updatemenudefaults": {
           "bgcolor": "#506784",
           "borderwidth": 0
          },
          "xaxis": {
           "automargin": true,
           "gridcolor": "#283442",
           "linecolor": "#506784",
           "ticks": "",
           "title": {
            "standoff": 15
           },
           "zerolinecolor": "#283442",
           "zerolinewidth": 2
          },
          "yaxis": {
           "automargin": true,
           "gridcolor": "#283442",
           "linecolor": "#506784",
           "ticks": "",
           "title": {
            "standoff": 15
           },
           "zerolinecolor": "#283442",
           "zerolinewidth": 2
          }
         }
        },
        "title": {
         "text": "Time Value from prepared dataframes for 2025-03-28 expiration"
        }
       },
       "config": {
        "showLink": false,
        "linkText": "Export to plot.ly",
        "plotlyServerURL": "https://plot.ly"
       }
      },
      "text/html": "<div>            <script src=\"https://cdnjs.cloudflare.com/ajax/libs/mathjax/2.7.5/MathJax.js?config=TeX-AMS-MML_SVG\"></script><script type=\"text/javascript\">if (window.MathJax && window.MathJax.Hub && window.MathJax.Hub.Config) {window.MathJax.Hub.Config({SVG: {font: \"STIX-Web\"}});}</script>                <script type=\"text/javascript\">window.PlotlyConfig = {MathJaxConfig: 'local'};</script>\n        <script charset=\"utf-8\" src=\"https://cdn.plot.ly/plotly-3.0.1.min.js\"></script>                <div id=\"fc52f460-2d7f-49f3-8bcd-a896a91ed1c0\" class=\"plotly-graph-div\" style=\"height:525px; width:100%;\"></div>            <script type=\"text/javascript\">                window.PLOTLYENV=window.PLOTLYENV || {};                                if (document.getElementById(\"fc52f460-2d7f-49f3-8bcd-a896a91ed1c0\")) {                    Plotly.newPlot(                        \"fc52f460-2d7f-49f3-8bcd-a896a91ed1c0\",                        [{\"mode\":\"lines\",\"name\":\"Strike cur ATM 84000.0\",\"x\":[\"2025-03-19T00:00:00+00:00\",\"2025-03-20T00:00:00+00:00\",\"2025-03-21T00:00:00+00:00\",\"2025-03-22T00:00:00+00:00\"],\"y\":[408.3672549999999,42.072404999999996,8.405510000000001,8.412134],\"type\":\"scatter\"},{\"mode\":\"lines\",\"name\":\"ATM\",\"x\":[\"2025-03-19T00:00:00+00:00\",\"2025-03-20T00:00:00+00:00\",\"2025-03-21T00:00:00+00:00\",\"2025-03-22T00:00:00+00:00\"],\"y\":[1477.07305,699.8109571428562,327.775438505078,155.21102259288864],\"type\":\"scatter\"}],                        {\"template\":{\"data\":{\"barpolar\":[{\"marker\":{\"line\":{\"color\":\"rgb(17,17,17)\",\"width\":0.5},\"pattern\":{\"fillmode\":\"overlay\",\"size\":10,\"solidity\":0.2}},\"type\":\"barpolar\"}],\"bar\":[{\"error_x\":{\"color\":\"#f2f5fa\"},\"error_y\":{\"color\":\"#f2f5fa\"},\"marker\":{\"line\":{\"color\":\"rgb(17,17,17)\",\"width\":0.5},\"pattern\":{\"fillmode\":\"overlay\",\"size\":10,\"solidity\":0.2}},\"type\":\"bar\"}],\"carpet\":[{\"aaxis\":{\"endlinecolor\":\"#A2B1C6\",\"gridcolor\":\"#506784\",\"linecolor\":\"#506784\",\"minorgridcolor\":\"#506784\",\"startlinecolor\":\"#A2B1C6\"},\"baxis\":{\"endlinecolor\":\"#A2B1C6\",\"gridcolor\":\"#506784\",\"linecolor\":\"#506784\",\"minorgridcolor\":\"#506784\",\"startlinecolor\":\"#A2B1C6\"},\"type\":\"carpet\"}],\"choropleth\":[{\"colorbar\":{\"outlinewidth\":0,\"ticks\":\"\"},\"type\":\"choropleth\"}],\"contourcarpet\":[{\"colorbar\":{\"outlinewidth\":0,\"ticks\":\"\"},\"type\":\"contourcarpet\"}],\"contour\":[{\"colorbar\":{\"outlinewidth\":0,\"ticks\":\"\"},\"colorscale\":[[0.0,\"#0d0887\"],[0.1111111111111111,\"#46039f\"],[0.2222222222222222,\"#7201a8\"],[0.3333333333333333,\"#9c179e\"],[0.4444444444444444,\"#bd3786\"],[0.5555555555555556,\"#d8576b\"],[0.6666666666666666,\"#ed7953\"],[0.7777777777777778,\"#fb9f3a\"],[0.8888888888888888,\"#fdca26\"],[1.0,\"#f0f921\"]],\"type\":\"contour\"}],\"heatmap\":[{\"colorbar\":{\"outlinewidth\":0,\"ticks\":\"\"},\"colorscale\":[[0.0,\"#0d0887\"],[0.1111111111111111,\"#46039f\"],[0.2222222222222222,\"#7201a8\"],[0.3333333333333333,\"#9c179e\"],[0.4444444444444444,\"#bd3786\"],[0.5555555555555556,\"#d8576b\"],[0.6666666666666666,\"#ed7953\"],[0.7777777777777778,\"#fb9f3a\"],[0.8888888888888888,\"#fdca26\"],[1.0,\"#f0f921\"]],\"type\":\"heatmap\"}],\"histogram2dcontour\":[{\"colorbar\":{\"outlinewidth\":0,\"ticks\":\"\"},\"colorscale\":[[0.0,\"#0d0887\"],[0.1111111111111111,\"#46039f\"],[0.2222222222222222,\"#7201a8\"],[0.3333333333333333,\"#9c179e\"],[0.4444444444444444,\"#bd3786\"],[0.5555555555555556,\"#d8576b\"],[0.6666666666666666,\"#ed7953\"],[0.7777777777777778,\"#fb9f3a\"],[0.8888888888888888,\"#fdca26\"],[1.0,\"#f0f921\"]],\"type\":\"histogram2dcontour\"}],\"histogram2d\":[{\"colorbar\":{\"outlinewidth\":0,\"ticks\":\"\"},\"colorscale\":[[0.0,\"#0d0887\"],[0.1111111111111111,\"#46039f\"],[0.2222222222222222,\"#7201a8\"],[0.3333333333333333,\"#9c179e\"],[0.4444444444444444,\"#bd3786\"],[0.5555555555555556,\"#d8576b\"],[0.6666666666666666,\"#ed7953\"],[0.7777777777777778,\"#fb9f3a\"],[0.8888888888888888,\"#fdca26\"],[1.0,\"#f0f921\"]],\"type\":\"histogram2d\"}],\"histogram\":[{\"marker\":{\"pattern\":{\"fillmode\":\"overlay\",\"size\":10,\"solidity\":0.2}},\"type\":\"histogram\"}],\"mesh3d\":[{\"colorbar\":{\"outlinewidth\":0,\"ticks\":\"\"},\"type\":\"mesh3d\"}],\"parcoords\":[{\"line\":{\"colorbar\":{\"outlinewidth\":0,\"ticks\":\"\"}},\"type\":\"parcoords\"}],\"pie\":[{\"automargin\":true,\"type\":\"pie\"}],\"scatter3d\":[{\"line\":{\"colorbar\":{\"outlinewidth\":0,\"ticks\":\"\"}},\"marker\":{\"colorbar\":{\"outlinewidth\":0,\"ticks\":\"\"}},\"type\":\"scatter3d\"}],\"scattercarpet\":[{\"marker\":{\"colorbar\":{\"outlinewidth\":0,\"ticks\":\"\"}},\"type\":\"scattercarpet\"}],\"scattergeo\":[{\"marker\":{\"colorbar\":{\"outlinewidth\":0,\"ticks\":\"\"}},\"type\":\"scattergeo\"}],\"scattergl\":[{\"marker\":{\"line\":{\"color\":\"#283442\"}},\"type\":\"scattergl\"}],\"scattermapbox\":[{\"marker\":{\"colorbar\":{\"outlinewidth\":0,\"ticks\":\"\"}},\"type\":\"scattermapbox\"}],\"scattermap\":[{\"marker\":{\"colorbar\":{\"outlinewidth\":0,\"ticks\":\"\"}},\"type\":\"scattermap\"}],\"scatterpolargl\":[{\"marker\":{\"colorbar\":{\"outlinewidth\":0,\"ticks\":\"\"}},\"type\":\"scatterpolargl\"}],\"scatterpolar\":[{\"marker\":{\"colorbar\":{\"outlinewidth\":0,\"ticks\":\"\"}},\"type\":\"scatterpolar\"}],\"scatter\":[{\"marker\":{\"line\":{\"color\":\"#283442\"}},\"type\":\"scatter\"}],\"scatterternary\":[{\"marker\":{\"colorbar\":{\"outlinewidth\":0,\"ticks\":\"\"}},\"type\":\"scatterternary\"}],\"surface\":[{\"colorbar\":{\"outlinewidth\":0,\"ticks\":\"\"},\"colorscale\":[[0.0,\"#0d0887\"],[0.1111111111111111,\"#46039f\"],[0.2222222222222222,\"#7201a8\"],[0.3333333333333333,\"#9c179e\"],[0.4444444444444444,\"#bd3786\"],[0.5555555555555556,\"#d8576b\"],[0.6666666666666666,\"#ed7953\"],[0.7777777777777778,\"#fb9f3a\"],[0.8888888888888888,\"#fdca26\"],[1.0,\"#f0f921\"]],\"type\":\"surface\"}],\"table\":[{\"cells\":{\"fill\":{\"color\":\"#506784\"},\"line\":{\"color\":\"rgb(17,17,17)\"}},\"header\":{\"fill\":{\"color\":\"#2a3f5f\"},\"line\":{\"color\":\"rgb(17,17,17)\"}},\"type\":\"table\"}]},\"layout\":{\"annotationdefaults\":{\"arrowcolor\":\"#f2f5fa\",\"arrowhead\":0,\"arrowwidth\":1},\"autotypenumbers\":\"strict\",\"coloraxis\":{\"colorbar\":{\"outlinewidth\":0,\"ticks\":\"\"}},\"colorscale\":{\"diverging\":[[0,\"#8e0152\"],[0.1,\"#c51b7d\"],[0.2,\"#de77ae\"],[0.3,\"#f1b6da\"],[0.4,\"#fde0ef\"],[0.5,\"#f7f7f7\"],[0.6,\"#e6f5d0\"],[0.7,\"#b8e186\"],[0.8,\"#7fbc41\"],[0.9,\"#4d9221\"],[1,\"#276419\"]],\"sequential\":[[0.0,\"#0d0887\"],[0.1111111111111111,\"#46039f\"],[0.2222222222222222,\"#7201a8\"],[0.3333333333333333,\"#9c179e\"],[0.4444444444444444,\"#bd3786\"],[0.5555555555555556,\"#d8576b\"],[0.6666666666666666,\"#ed7953\"],[0.7777777777777778,\"#fb9f3a\"],[0.8888888888888888,\"#fdca26\"],[1.0,\"#f0f921\"]],\"sequentialminus\":[[0.0,\"#0d0887\"],[0.1111111111111111,\"#46039f\"],[0.2222222222222222,\"#7201a8\"],[0.3333333333333333,\"#9c179e\"],[0.4444444444444444,\"#bd3786\"],[0.5555555555555556,\"#d8576b\"],[0.6666666666666666,\"#ed7953\"],[0.7777777777777778,\"#fb9f3a\"],[0.8888888888888888,\"#fdca26\"],[1.0,\"#f0f921\"]]},\"colorway\":[\"#636efa\",\"#EF553B\",\"#00cc96\",\"#ab63fa\",\"#FFA15A\",\"#19d3f3\",\"#FF6692\",\"#B6E880\",\"#FF97FF\",\"#FECB52\"],\"font\":{\"color\":\"#f2f5fa\"},\"geo\":{\"bgcolor\":\"rgb(17,17,17)\",\"lakecolor\":\"rgb(17,17,17)\",\"landcolor\":\"rgb(17,17,17)\",\"showlakes\":true,\"showland\":true,\"subunitcolor\":\"#506784\"},\"hoverlabel\":{\"align\":\"left\"},\"hovermode\":\"closest\",\"mapbox\":{\"style\":\"dark\"},\"paper_bgcolor\":\"rgb(17,17,17)\",\"plot_bgcolor\":\"rgb(17,17,17)\",\"polar\":{\"angularaxis\":{\"gridcolor\":\"#506784\",\"linecolor\":\"#506784\",\"ticks\":\"\"},\"bgcolor\":\"rgb(17,17,17)\",\"radialaxis\":{\"gridcolor\":\"#506784\",\"linecolor\":\"#506784\",\"ticks\":\"\"}},\"scene\":{\"xaxis\":{\"backgroundcolor\":\"rgb(17,17,17)\",\"gridcolor\":\"#506784\",\"gridwidth\":2,\"linecolor\":\"#506784\",\"showbackground\":true,\"ticks\":\"\",\"zerolinecolor\":\"#C8D4E3\"},\"yaxis\":{\"backgroundcolor\":\"rgb(17,17,17)\",\"gridcolor\":\"#506784\",\"gridwidth\":2,\"linecolor\":\"#506784\",\"showbackground\":true,\"ticks\":\"\",\"zerolinecolor\":\"#C8D4E3\"},\"zaxis\":{\"backgroundcolor\":\"rgb(17,17,17)\",\"gridcolor\":\"#506784\",\"gridwidth\":2,\"linecolor\":\"#506784\",\"showbackground\":true,\"ticks\":\"\",\"zerolinecolor\":\"#C8D4E3\"}},\"shapedefaults\":{\"line\":{\"color\":\"#f2f5fa\"}},\"sliderdefaults\":{\"bgcolor\":\"#C8D4E3\",\"bordercolor\":\"rgb(17,17,17)\",\"borderwidth\":1,\"tickwidth\":0},\"ternary\":{\"aaxis\":{\"gridcolor\":\"#506784\",\"linecolor\":\"#506784\",\"ticks\":\"\"},\"baxis\":{\"gridcolor\":\"#506784\",\"linecolor\":\"#506784\",\"ticks\":\"\"},\"bgcolor\":\"rgb(17,17,17)\",\"caxis\":{\"gridcolor\":\"#506784\",\"linecolor\":\"#506784\",\"ticks\":\"\"}},\"title\":{\"x\":0.05},\"updatemenudefaults\":{\"bgcolor\":\"#506784\",\"borderwidth\":0},\"xaxis\":{\"automargin\":true,\"gridcolor\":\"#283442\",\"linecolor\":\"#506784\",\"ticks\":\"\",\"title\":{\"standoff\":15},\"zerolinecolor\":\"#283442\",\"zerolinewidth\":2},\"yaxis\":{\"automargin\":true,\"gridcolor\":\"#283442\",\"linecolor\":\"#506784\",\"ticks\":\"\",\"title\":{\"standoff\":15},\"zerolinecolor\":\"#283442\",\"zerolinewidth\":2}}},\"title\":{\"text\":\"Time Value from prepared dataframes for 2025-03-28 expiration\"}},                        {\"responsive\": true}                    ).then(function(){\n                            \nvar gd = document.getElementById('fc52f460-2d7f-49f3-8bcd-a896a91ed1c0');\nvar x = new MutationObserver(function (mutations, observer) {{\n        var display = window.getComputedStyle(gd).display;\n        if (!display || display === 'none') {{\n            console.log([gd, 'removed!']);\n            Plotly.purge(gd);\n            observer.disconnect();\n        }}\n}});\n\n// Listen for the removal of the full notebook cells\nvar notebookContainer = gd.closest('#notebook-container');\nif (notebookContainer) {{\n    x.observe(notebookContainer, {childList: true});\n}}\n\n// Listen for the clearing of the current output cell\nvar outputEl = gd.closest('.output');\nif (outputEl) {{\n    x.observe(outputEl, {childList: true});\n}}\n\n                        })                };            </script>        </div>"
     },
     "metadata": {},
     "output_type": "display_data"
    }
   ],
   "source": [
    "auto_expiration_date = btc.chain.df_chain['expiration_date'].min()\n",
    "btc.chart.init(title=f'Time Value from prepared dataframes for {auto_expiration_date.date().isoformat()} expiration')\n",
    "btc.chart.price.time_values([df_time_value_strike, df_time_value_atm], [f'Strike cur ATM {atm_strike}', 'ATM'],\n",
    "                            expiration_date=expiration_date)\n",
    "btc.chart.show()"
   ],
   "metadata": {
    "collapsed": false
   }
  },
  {
   "cell_type": "markdown",
   "id": "3a293c1b-8c08-42bd-b75f-d5d328ab2652",
   "metadata": {},
   "source": [
    "## Non-linearity of options\n",
    "\n",
    "When buying an option, we have the so–called non-linearity of profit - in a positive scenario (growth of the underlying asset) we earn more, in a negative scenario (a decline in the underlying asset), we lose less with the same amount of futures change."
   ]
  },
  {
   "cell_type": "code",
   "execution_count": 20,
   "id": "9629a5c6-a150-4ecf-8faa-aae8023dba4c",
   "metadata": {},
   "outputs": [
    {
     "data": {
      "text/plain": "(np.float64(75000.0), np.float64(98000.0))"
     },
     "execution_count": 20,
     "metadata": {},
     "output_type": "execute_result"
    }
   ],
   "source": [
    "strikes = btc.chain.get_atm_nearest_strikes()\n",
    "max_strike_risk_2 = list(filter(lambda x: atm_strike < x < atm_strike * 1.05, strikes))[-1]\n",
    "strike_start = sorted(filter(lambda x: x <= min(atm_strike, max_strike_risk_2) * 0.90, strikes))[-1]\n",
    "strike_end = sorted(filter(lambda x: x >= max(atm_strike, max_strike_risk_2) * 1.1, strikes))[0]\n",
    "strike_start, strike_end"
   ]
  },
  {
   "cell_type": "code",
   "execution_count": 21,
   "outputs": [
    {
     "data": {
      "text/plain": "    strike  risk_pnl\n0  20000.0 -64172.60\n1  30000.0 -54172.14",
      "text/html": "<div>\n<style scoped>\n    .dataframe tbody tr th:only-of-type {\n        vertical-align: middle;\n    }\n\n    .dataframe tbody tr th {\n        vertical-align: top;\n    }\n\n    .dataframe thead th {\n        text-align: right;\n    }\n</style>\n<table border=\"1\" class=\"dataframe\">\n  <thead>\n    <tr style=\"text-align: right;\">\n      <th></th>\n      <th>strike</th>\n      <th>risk_pnl</th>\n    </tr>\n  </thead>\n  <tbody>\n    <tr>\n      <th>0</th>\n      <td>20000.0</td>\n      <td>-64172.60</td>\n    </tr>\n    <tr>\n      <th>1</th>\n      <td>30000.0</td>\n      <td>-54172.14</td>\n    </tr>\n  </tbody>\n</table>\n</div>"
     },
     "execution_count": 21,
     "metadata": {},
     "output_type": "execute_result"
    }
   ],
   "source": [
    "fut_legs = [OptionLeg(strike=0, lots=1, type=LegType.FUTURE)]\n",
    "fut_risk_profile, fut_risk_legs_pnl = btc.analytic.risk.chain_payoff(fut_legs)\n",
    "fut_risk_profile.head(2)"
   ],
   "metadata": {
    "collapsed": false
   }
  },
  {
   "cell_type": "code",
   "execution_count": 22,
   "outputs": [],
   "source": [
    "call_legs = [OptionLeg(strike=atm_strike, lots=1, type=LegType.OPTION_CALL)]\n",
    "call_risk_profile, call_risk_legs_pnl = btc.analytic.risk.chain_payoff(call_legs)\n",
    "call_legs_1 = [OptionLeg(strike=max_strike_risk_2, lots=1, type=LegType.OPTION_CALL)]\n",
    "call_risk_profile_1, df_legs_risk_profile = btc.analytic.risk.chain_payoff(call_legs_1)"
   ],
   "metadata": {
    "collapsed": false
   }
  },
  {
   "cell_type": "code",
   "execution_count": 24,
   "id": "0c56e063-ee5a-43e8-9645-b866550e27c3",
   "metadata": {},
   "outputs": [
    {
     "data": {
      "application/vnd.plotly.v1+json": {
       "data": [
        {
         "mode": "lines",
         "name": "fut",
         "x": {
          "dtype": "f8",
          "bdata": "AAAAAACO8kAAAAAAAAvzQAAAAAAAiPNAAAAAAAAF9EAAAAAAgEP0QAAAAAAAgvRAAAAAAIDA9EAAAAAAAP/0QAAAAAAAfPVAAAAAAAD59UAAAAAAAHb2QAAAAACAtPZAAAAAAADz9kAAAAAAgDH3QAAAAAAAcPdA"
         },
         "y": [
          -8172.600000000006,
          -6172.139999999999,
          -4172.600000000006,
          -2172.1399999999994,
          -1172.6000000000058,
          -172.60000000000582,
          827.3999999999942,
          1827.3999999999942,
          3827.8600000000006,
          5827.860000000001,
          7827.399999999994,
          8827.399999999994,
          9827.399999999994,
          10827.399999999994,
          11827.399999999994
         ],
         "type": "scatter"
        },
        {
         "mode": "lines",
         "name": "call atm 84000.0",
         "x": {
          "dtype": "f8",
          "bdata": "AAAAAACO8kAAAAAAAAvzQAAAAAAAiPNAAAAAAAAF9EAAAAAAgEP0QAAAAAAAgvRAAAAAAIDA9EAAAAAAAP/0QAAAAAAAfPVAAAAAAAD59UAAAAAAAHb2QAAAAACAtPZAAAAAAADz9kAAAAAAgDH3QAAAAAAAcPdA"
         },
         "y": [
          -1892.7301499999999,
          -1892.7301499999999,
          -1892.7301499999999,
          -1892.7301499999999,
          -1892.7301499999999,
          -1892.7301499999999,
          -892.7301499999999,
          107.26985000000013,
          2107.26985,
          4107.269850000001,
          6107.269850000001,
          7107.269850000001,
          8107.269850000001,
          9107.26985,
          10107.26985
         ],
         "type": "scatter"
        },
        {
         "mode": "lines",
         "name": "call 88000.0",
         "x": {
          "dtype": "f8",
          "bdata": "AAAAAACO8kAAAAAAAAvzQAAAAAAAiPNAAAAAAAAF9EAAAAAAgEP0QAAAAAAAgvRAAAAAAIDA9EAAAAAAAP/0QAAAAAAAfPVAAAAAAAD59UAAAAAAAHb2QAAAAACAtPZAAAAAAADz9kAAAAAAgDH3QAAAAAAAcPdA"
         },
         "y": {
          "dtype": "f8",
          "bdata": "OUAwR08WgcA5QDBHTxaBwDlAMEdPFoHAOUAwR08WgcA5QDBHTxaBwDlAMEdPFoHAOUAwR08WgcA5QDBHTxaBwDlAMEdPFoHA5N9nXNi0lkDy7zMubPqqQPn3GRc2ZbFA+fcZFzZNtUD59xkXNjW5QPn3GRc2Hb1A"
         },
         "type": "scatter"
        }
       ],
       "layout": {
        "template": {
         "data": {
          "barpolar": [
           {
            "marker": {
             "line": {
              "color": "rgb(17,17,17)",
              "width": 0.5
             },
             "pattern": {
              "fillmode": "overlay",
              "size": 10,
              "solidity": 0.2
             }
            },
            "type": "barpolar"
           }
          ],
          "bar": [
           {
            "error_x": {
             "color": "#f2f5fa"
            },
            "error_y": {
             "color": "#f2f5fa"
            },
            "marker": {
             "line": {
              "color": "rgb(17,17,17)",
              "width": 0.5
             },
             "pattern": {
              "fillmode": "overlay",
              "size": 10,
              "solidity": 0.2
             }
            },
            "type": "bar"
           }
          ],
          "carpet": [
           {
            "aaxis": {
             "endlinecolor": "#A2B1C6",
             "gridcolor": "#506784",
             "linecolor": "#506784",
             "minorgridcolor": "#506784",
             "startlinecolor": "#A2B1C6"
            },
            "baxis": {
             "endlinecolor": "#A2B1C6",
             "gridcolor": "#506784",
             "linecolor": "#506784",
             "minorgridcolor": "#506784",
             "startlinecolor": "#A2B1C6"
            },
            "type": "carpet"
           }
          ],
          "choropleth": [
           {
            "colorbar": {
             "outlinewidth": 0,
             "ticks": ""
            },
            "type": "choropleth"
           }
          ],
          "contourcarpet": [
           {
            "colorbar": {
             "outlinewidth": 0,
             "ticks": ""
            },
            "type": "contourcarpet"
           }
          ],
          "contour": [
           {
            "colorbar": {
             "outlinewidth": 0,
             "ticks": ""
            },
            "colorscale": [
             [
              0.0,
              "#0d0887"
             ],
             [
              0.1111111111111111,
              "#46039f"
             ],
             [
              0.2222222222222222,
              "#7201a8"
             ],
             [
              0.3333333333333333,
              "#9c179e"
             ],
             [
              0.4444444444444444,
              "#bd3786"
             ],
             [
              0.5555555555555556,
              "#d8576b"
             ],
             [
              0.6666666666666666,
              "#ed7953"
             ],
             [
              0.7777777777777778,
              "#fb9f3a"
             ],
             [
              0.8888888888888888,
              "#fdca26"
             ],
             [
              1.0,
              "#f0f921"
             ]
            ],
            "type": "contour"
           }
          ],
          "heatmap": [
           {
            "colorbar": {
             "outlinewidth": 0,
             "ticks": ""
            },
            "colorscale": [
             [
              0.0,
              "#0d0887"
             ],
             [
              0.1111111111111111,
              "#46039f"
             ],
             [
              0.2222222222222222,
              "#7201a8"
             ],
             [
              0.3333333333333333,
              "#9c179e"
             ],
             [
              0.4444444444444444,
              "#bd3786"
             ],
             [
              0.5555555555555556,
              "#d8576b"
             ],
             [
              0.6666666666666666,
              "#ed7953"
             ],
             [
              0.7777777777777778,
              "#fb9f3a"
             ],
             [
              0.8888888888888888,
              "#fdca26"
             ],
             [
              1.0,
              "#f0f921"
             ]
            ],
            "type": "heatmap"
           }
          ],
          "histogram2dcontour": [
           {
            "colorbar": {
             "outlinewidth": 0,
             "ticks": ""
            },
            "colorscale": [
             [
              0.0,
              "#0d0887"
             ],
             [
              0.1111111111111111,
              "#46039f"
             ],
             [
              0.2222222222222222,
              "#7201a8"
             ],
             [
              0.3333333333333333,
              "#9c179e"
             ],
             [
              0.4444444444444444,
              "#bd3786"
             ],
             [
              0.5555555555555556,
              "#d8576b"
             ],
             [
              0.6666666666666666,
              "#ed7953"
             ],
             [
              0.7777777777777778,
              "#fb9f3a"
             ],
             [
              0.8888888888888888,
              "#fdca26"
             ],
             [
              1.0,
              "#f0f921"
             ]
            ],
            "type": "histogram2dcontour"
           }
          ],
          "histogram2d": [
           {
            "colorbar": {
             "outlinewidth": 0,
             "ticks": ""
            },
            "colorscale": [
             [
              0.0,
              "#0d0887"
             ],
             [
              0.1111111111111111,
              "#46039f"
             ],
             [
              0.2222222222222222,
              "#7201a8"
             ],
             [
              0.3333333333333333,
              "#9c179e"
             ],
             [
              0.4444444444444444,
              "#bd3786"
             ],
             [
              0.5555555555555556,
              "#d8576b"
             ],
             [
              0.6666666666666666,
              "#ed7953"
             ],
             [
              0.7777777777777778,
              "#fb9f3a"
             ],
             [
              0.8888888888888888,
              "#fdca26"
             ],
             [
              1.0,
              "#f0f921"
             ]
            ],
            "type": "histogram2d"
           }
          ],
          "histogram": [
           {
            "marker": {
             "pattern": {
              "fillmode": "overlay",
              "size": 10,
              "solidity": 0.2
             }
            },
            "type": "histogram"
           }
          ],
          "mesh3d": [
           {
            "colorbar": {
             "outlinewidth": 0,
             "ticks": ""
            },
            "type": "mesh3d"
           }
          ],
          "parcoords": [
           {
            "line": {
             "colorbar": {
              "outlinewidth": 0,
              "ticks": ""
             }
            },
            "type": "parcoords"
           }
          ],
          "pie": [
           {
            "automargin": true,
            "type": "pie"
           }
          ],
          "scatter3d": [
           {
            "line": {
             "colorbar": {
              "outlinewidth": 0,
              "ticks": ""
             }
            },
            "marker": {
             "colorbar": {
              "outlinewidth": 0,
              "ticks": ""
             }
            },
            "type": "scatter3d"
           }
          ],
          "scattercarpet": [
           {
            "marker": {
             "colorbar": {
              "outlinewidth": 0,
              "ticks": ""
             }
            },
            "type": "scattercarpet"
           }
          ],
          "scattergeo": [
           {
            "marker": {
             "colorbar": {
              "outlinewidth": 0,
              "ticks": ""
             }
            },
            "type": "scattergeo"
           }
          ],
          "scattergl": [
           {
            "marker": {
             "line": {
              "color": "#283442"
             }
            },
            "type": "scattergl"
           }
          ],
          "scattermapbox": [
           {
            "marker": {
             "colorbar": {
              "outlinewidth": 0,
              "ticks": ""
             }
            },
            "type": "scattermapbox"
           }
          ],
          "scattermap": [
           {
            "marker": {
             "colorbar": {
              "outlinewidth": 0,
              "ticks": ""
             }
            },
            "type": "scattermap"
           }
          ],
          "scatterpolargl": [
           {
            "marker": {
             "colorbar": {
              "outlinewidth": 0,
              "ticks": ""
             }
            },
            "type": "scatterpolargl"
           }
          ],
          "scatterpolar": [
           {
            "marker": {
             "colorbar": {
              "outlinewidth": 0,
              "ticks": ""
             }
            },
            "type": "scatterpolar"
           }
          ],
          "scatter": [
           {
            "marker": {
             "line": {
              "color": "#283442"
             }
            },
            "type": "scatter"
           }
          ],
          "scatterternary": [
           {
            "marker": {
             "colorbar": {
              "outlinewidth": 0,
              "ticks": ""
             }
            },
            "type": "scatterternary"
           }
          ],
          "surface": [
           {
            "colorbar": {
             "outlinewidth": 0,
             "ticks": ""
            },
            "colorscale": [
             [
              0.0,
              "#0d0887"
             ],
             [
              0.1111111111111111,
              "#46039f"
             ],
             [
              0.2222222222222222,
              "#7201a8"
             ],
             [
              0.3333333333333333,
              "#9c179e"
             ],
             [
              0.4444444444444444,
              "#bd3786"
             ],
             [
              0.5555555555555556,
              "#d8576b"
             ],
             [
              0.6666666666666666,
              "#ed7953"
             ],
             [
              0.7777777777777778,
              "#fb9f3a"
             ],
             [
              0.8888888888888888,
              "#fdca26"
             ],
             [
              1.0,
              "#f0f921"
             ]
            ],
            "type": "surface"
           }
          ],
          "table": [
           {
            "cells": {
             "fill": {
              "color": "#506784"
             },
             "line": {
              "color": "rgb(17,17,17)"
             }
            },
            "header": {
             "fill": {
              "color": "#2a3f5f"
             },
             "line": {
              "color": "rgb(17,17,17)"
             }
            },
            "type": "table"
           }
          ]
         },
         "layout": {
          "annotationdefaults": {
           "arrowcolor": "#f2f5fa",
           "arrowhead": 0,
           "arrowwidth": 1
          },
          "autotypenumbers": "strict",
          "coloraxis": {
           "colorbar": {
            "outlinewidth": 0,
            "ticks": ""
           }
          },
          "colorscale": {
           "diverging": [
            [
             0,
             "#8e0152"
            ],
            [
             0.1,
             "#c51b7d"
            ],
            [
             0.2,
             "#de77ae"
            ],
            [
             0.3,
             "#f1b6da"
            ],
            [
             0.4,
             "#fde0ef"
            ],
            [
             0.5,
             "#f7f7f7"
            ],
            [
             0.6,
             "#e6f5d0"
            ],
            [
             0.7,
             "#b8e186"
            ],
            [
             0.8,
             "#7fbc41"
            ],
            [
             0.9,
             "#4d9221"
            ],
            [
             1,
             "#276419"
            ]
           ],
           "sequential": [
            [
             0.0,
             "#0d0887"
            ],
            [
             0.1111111111111111,
             "#46039f"
            ],
            [
             0.2222222222222222,
             "#7201a8"
            ],
            [
             0.3333333333333333,
             "#9c179e"
            ],
            [
             0.4444444444444444,
             "#bd3786"
            ],
            [
             0.5555555555555556,
             "#d8576b"
            ],
            [
             0.6666666666666666,
             "#ed7953"
            ],
            [
             0.7777777777777778,
             "#fb9f3a"
            ],
            [
             0.8888888888888888,
             "#fdca26"
            ],
            [
             1.0,
             "#f0f921"
            ]
           ],
           "sequentialminus": [
            [
             0.0,
             "#0d0887"
            ],
            [
             0.1111111111111111,
             "#46039f"
            ],
            [
             0.2222222222222222,
             "#7201a8"
            ],
            [
             0.3333333333333333,
             "#9c179e"
            ],
            [
             0.4444444444444444,
             "#bd3786"
            ],
            [
             0.5555555555555556,
             "#d8576b"
            ],
            [
             0.6666666666666666,
             "#ed7953"
            ],
            [
             0.7777777777777778,
             "#fb9f3a"
            ],
            [
             0.8888888888888888,
             "#fdca26"
            ],
            [
             1.0,
             "#f0f921"
            ]
           ]
          },
          "colorway": [
           "#636efa",
           "#EF553B",
           "#00cc96",
           "#ab63fa",
           "#FFA15A",
           "#19d3f3",
           "#FF6692",
           "#B6E880",
           "#FF97FF",
           "#FECB52"
          ],
          "font": {
           "color": "#f2f5fa"
          },
          "geo": {
           "bgcolor": "rgb(17,17,17)",
           "lakecolor": "rgb(17,17,17)",
           "landcolor": "rgb(17,17,17)",
           "showlakes": true,
           "showland": true,
           "subunitcolor": "#506784"
          },
          "hoverlabel": {
           "align": "left"
          },
          "hovermode": "closest",
          "mapbox": {
           "style": "dark"
          },
          "paper_bgcolor": "rgb(17,17,17)",
          "plot_bgcolor": "rgb(17,17,17)",
          "polar": {
           "angularaxis": {
            "gridcolor": "#506784",
            "linecolor": "#506784",
            "ticks": ""
           },
           "bgcolor": "rgb(17,17,17)",
           "radialaxis": {
            "gridcolor": "#506784",
            "linecolor": "#506784",
            "ticks": ""
           }
          },
          "scene": {
           "xaxis": {
            "backgroundcolor": "rgb(17,17,17)",
            "gridcolor": "#506784",
            "gridwidth": 2,
            "linecolor": "#506784",
            "showbackground": true,
            "ticks": "",
            "zerolinecolor": "#C8D4E3"
           },
           "yaxis": {
            "backgroundcolor": "rgb(17,17,17)",
            "gridcolor": "#506784",
            "gridwidth": 2,
            "linecolor": "#506784",
            "showbackground": true,
            "ticks": "",
            "zerolinecolor": "#C8D4E3"
           },
           "zaxis": {
            "backgroundcolor": "rgb(17,17,17)",
            "gridcolor": "#506784",
            "gridwidth": 2,
            "linecolor": "#506784",
            "showbackground": true,
            "ticks": "",
            "zerolinecolor": "#C8D4E3"
           }
          },
          "shapedefaults": {
           "line": {
            "color": "#f2f5fa"
           }
          },
          "sliderdefaults": {
           "bgcolor": "#C8D4E3",
           "bordercolor": "rgb(17,17,17)",
           "borderwidth": 1,
           "tickwidth": 0
          },
          "ternary": {
           "aaxis": {
            "gridcolor": "#506784",
            "linecolor": "#506784",
            "ticks": ""
           },
           "baxis": {
            "gridcolor": "#506784",
            "linecolor": "#506784",
            "ticks": ""
           },
           "bgcolor": "rgb(17,17,17)",
           "caxis": {
            "gridcolor": "#506784",
            "linecolor": "#506784",
            "ticks": ""
           }
          },
          "title": {
           "x": 0.05
          },
          "updatemenudefaults": {
           "bgcolor": "#506784",
           "borderwidth": 0
          },
          "xaxis": {
           "automargin": true,
           "gridcolor": "#283442",
           "linecolor": "#506784",
           "ticks": "",
           "title": {
            "standoff": 15
           },
           "zerolinecolor": "#283442",
           "zerolinewidth": 2
          },
          "yaxis": {
           "automargin": true,
           "gridcolor": "#283442",
           "linecolor": "#506784",
           "ticks": "",
           "title": {
            "standoff": 15
           },
           "zerolinecolor": "#283442",
           "zerolinewidth": 2
          }
         }
        }
       },
       "config": {
        "showLink": false,
        "linkText": "Export to plot.ly",
        "plotlyServerURL": "https://plot.ly"
       }
      },
      "text/html": "<div>            <script src=\"https://cdnjs.cloudflare.com/ajax/libs/mathjax/2.7.5/MathJax.js?config=TeX-AMS-MML_SVG\"></script><script type=\"text/javascript\">if (window.MathJax && window.MathJax.Hub && window.MathJax.Hub.Config) {window.MathJax.Hub.Config({SVG: {font: \"STIX-Web\"}});}</script>                <script type=\"text/javascript\">window.PlotlyConfig = {MathJaxConfig: 'local'};</script>\n        <script charset=\"utf-8\" src=\"https://cdn.plot.ly/plotly-3.0.1.min.js\"></script>                <div id=\"280be642-59fa-466a-8f01-b715d60d3293\" class=\"plotly-graph-div\" style=\"height:525px; width:100%;\"></div>            <script type=\"text/javascript\">                window.PLOTLYENV=window.PLOTLYENV || {};                                if (document.getElementById(\"280be642-59fa-466a-8f01-b715d60d3293\")) {                    Plotly.newPlot(                        \"280be642-59fa-466a-8f01-b715d60d3293\",                        [{\"mode\":\"lines\",\"name\":\"fut\",\"x\":{\"dtype\":\"f8\",\"bdata\":\"AAAAAACO8kAAAAAAAAvzQAAAAAAAiPNAAAAAAAAF9EAAAAAAgEP0QAAAAAAAgvRAAAAAAIDA9EAAAAAAAP\\u002f0QAAAAAAAfPVAAAAAAAD59UAAAAAAAHb2QAAAAACAtPZAAAAAAADz9kAAAAAAgDH3QAAAAAAAcPdA\"},\"y\":[-8172.600000000006,-6172.139999999999,-4172.600000000006,-2172.1399999999994,-1172.6000000000058,-172.60000000000582,827.3999999999942,1827.3999999999942,3827.8600000000006,5827.860000000001,7827.399999999994,8827.399999999994,9827.399999999994,10827.399999999994,11827.399999999994],\"type\":\"scatter\"},{\"mode\":\"lines\",\"name\":\"call atm 84000.0\",\"x\":{\"dtype\":\"f8\",\"bdata\":\"AAAAAACO8kAAAAAAAAvzQAAAAAAAiPNAAAAAAAAF9EAAAAAAgEP0QAAAAAAAgvRAAAAAAIDA9EAAAAAAAP\\u002f0QAAAAAAAfPVAAAAAAAD59UAAAAAAAHb2QAAAAACAtPZAAAAAAADz9kAAAAAAgDH3QAAAAAAAcPdA\"},\"y\":[-1892.7301499999999,-1892.7301499999999,-1892.7301499999999,-1892.7301499999999,-1892.7301499999999,-1892.7301499999999,-892.7301499999999,107.26985000000013,2107.26985,4107.269850000001,6107.269850000001,7107.269850000001,8107.269850000001,9107.26985,10107.26985],\"type\":\"scatter\"},{\"mode\":\"lines\",\"name\":\"call 88000.0\",\"x\":{\"dtype\":\"f8\",\"bdata\":\"AAAAAACO8kAAAAAAAAvzQAAAAAAAiPNAAAAAAAAF9EAAAAAAgEP0QAAAAAAAgvRAAAAAAIDA9EAAAAAAAP\\u002f0QAAAAAAAfPVAAAAAAAD59UAAAAAAAHb2QAAAAACAtPZAAAAAAADz9kAAAAAAgDH3QAAAAAAAcPdA\"},\"y\":{\"dtype\":\"f8\",\"bdata\":\"OUAwR08WgcA5QDBHTxaBwDlAMEdPFoHAOUAwR08WgcA5QDBHTxaBwDlAMEdPFoHAOUAwR08WgcA5QDBHTxaBwDlAMEdPFoHA5N9nXNi0lkDy7zMubPqqQPn3GRc2ZbFA+fcZFzZNtUD59xkXNjW5QPn3GRc2Hb1A\"},\"type\":\"scatter\"}],                        {\"template\":{\"data\":{\"barpolar\":[{\"marker\":{\"line\":{\"color\":\"rgb(17,17,17)\",\"width\":0.5},\"pattern\":{\"fillmode\":\"overlay\",\"size\":10,\"solidity\":0.2}},\"type\":\"barpolar\"}],\"bar\":[{\"error_x\":{\"color\":\"#f2f5fa\"},\"error_y\":{\"color\":\"#f2f5fa\"},\"marker\":{\"line\":{\"color\":\"rgb(17,17,17)\",\"width\":0.5},\"pattern\":{\"fillmode\":\"overlay\",\"size\":10,\"solidity\":0.2}},\"type\":\"bar\"}],\"carpet\":[{\"aaxis\":{\"endlinecolor\":\"#A2B1C6\",\"gridcolor\":\"#506784\",\"linecolor\":\"#506784\",\"minorgridcolor\":\"#506784\",\"startlinecolor\":\"#A2B1C6\"},\"baxis\":{\"endlinecolor\":\"#A2B1C6\",\"gridcolor\":\"#506784\",\"linecolor\":\"#506784\",\"minorgridcolor\":\"#506784\",\"startlinecolor\":\"#A2B1C6\"},\"type\":\"carpet\"}],\"choropleth\":[{\"colorbar\":{\"outlinewidth\":0,\"ticks\":\"\"},\"type\":\"choropleth\"}],\"contourcarpet\":[{\"colorbar\":{\"outlinewidth\":0,\"ticks\":\"\"},\"type\":\"contourcarpet\"}],\"contour\":[{\"colorbar\":{\"outlinewidth\":0,\"ticks\":\"\"},\"colorscale\":[[0.0,\"#0d0887\"],[0.1111111111111111,\"#46039f\"],[0.2222222222222222,\"#7201a8\"],[0.3333333333333333,\"#9c179e\"],[0.4444444444444444,\"#bd3786\"],[0.5555555555555556,\"#d8576b\"],[0.6666666666666666,\"#ed7953\"],[0.7777777777777778,\"#fb9f3a\"],[0.8888888888888888,\"#fdca26\"],[1.0,\"#f0f921\"]],\"type\":\"contour\"}],\"heatmap\":[{\"colorbar\":{\"outlinewidth\":0,\"ticks\":\"\"},\"colorscale\":[[0.0,\"#0d0887\"],[0.1111111111111111,\"#46039f\"],[0.2222222222222222,\"#7201a8\"],[0.3333333333333333,\"#9c179e\"],[0.4444444444444444,\"#bd3786\"],[0.5555555555555556,\"#d8576b\"],[0.6666666666666666,\"#ed7953\"],[0.7777777777777778,\"#fb9f3a\"],[0.8888888888888888,\"#fdca26\"],[1.0,\"#f0f921\"]],\"type\":\"heatmap\"}],\"histogram2dcontour\":[{\"colorbar\":{\"outlinewidth\":0,\"ticks\":\"\"},\"colorscale\":[[0.0,\"#0d0887\"],[0.1111111111111111,\"#46039f\"],[0.2222222222222222,\"#7201a8\"],[0.3333333333333333,\"#9c179e\"],[0.4444444444444444,\"#bd3786\"],[0.5555555555555556,\"#d8576b\"],[0.6666666666666666,\"#ed7953\"],[0.7777777777777778,\"#fb9f3a\"],[0.8888888888888888,\"#fdca26\"],[1.0,\"#f0f921\"]],\"type\":\"histogram2dcontour\"}],\"histogram2d\":[{\"colorbar\":{\"outlinewidth\":0,\"ticks\":\"\"},\"colorscale\":[[0.0,\"#0d0887\"],[0.1111111111111111,\"#46039f\"],[0.2222222222222222,\"#7201a8\"],[0.3333333333333333,\"#9c179e\"],[0.4444444444444444,\"#bd3786\"],[0.5555555555555556,\"#d8576b\"],[0.6666666666666666,\"#ed7953\"],[0.7777777777777778,\"#fb9f3a\"],[0.8888888888888888,\"#fdca26\"],[1.0,\"#f0f921\"]],\"type\":\"histogram2d\"}],\"histogram\":[{\"marker\":{\"pattern\":{\"fillmode\":\"overlay\",\"size\":10,\"solidity\":0.2}},\"type\":\"histogram\"}],\"mesh3d\":[{\"colorbar\":{\"outlinewidth\":0,\"ticks\":\"\"},\"type\":\"mesh3d\"}],\"parcoords\":[{\"line\":{\"colorbar\":{\"outlinewidth\":0,\"ticks\":\"\"}},\"type\":\"parcoords\"}],\"pie\":[{\"automargin\":true,\"type\":\"pie\"}],\"scatter3d\":[{\"line\":{\"colorbar\":{\"outlinewidth\":0,\"ticks\":\"\"}},\"marker\":{\"colorbar\":{\"outlinewidth\":0,\"ticks\":\"\"}},\"type\":\"scatter3d\"}],\"scattercarpet\":[{\"marker\":{\"colorbar\":{\"outlinewidth\":0,\"ticks\":\"\"}},\"type\":\"scattercarpet\"}],\"scattergeo\":[{\"marker\":{\"colorbar\":{\"outlinewidth\":0,\"ticks\":\"\"}},\"type\":\"scattergeo\"}],\"scattergl\":[{\"marker\":{\"line\":{\"color\":\"#283442\"}},\"type\":\"scattergl\"}],\"scattermapbox\":[{\"marker\":{\"colorbar\":{\"outlinewidth\":0,\"ticks\":\"\"}},\"type\":\"scattermapbox\"}],\"scattermap\":[{\"marker\":{\"colorbar\":{\"outlinewidth\":0,\"ticks\":\"\"}},\"type\":\"scattermap\"}],\"scatterpolargl\":[{\"marker\":{\"colorbar\":{\"outlinewidth\":0,\"ticks\":\"\"}},\"type\":\"scatterpolargl\"}],\"scatterpolar\":[{\"marker\":{\"colorbar\":{\"outlinewidth\":0,\"ticks\":\"\"}},\"type\":\"scatterpolar\"}],\"scatter\":[{\"marker\":{\"line\":{\"color\":\"#283442\"}},\"type\":\"scatter\"}],\"scatterternary\":[{\"marker\":{\"colorbar\":{\"outlinewidth\":0,\"ticks\":\"\"}},\"type\":\"scatterternary\"}],\"surface\":[{\"colorbar\":{\"outlinewidth\":0,\"ticks\":\"\"},\"colorscale\":[[0.0,\"#0d0887\"],[0.1111111111111111,\"#46039f\"],[0.2222222222222222,\"#7201a8\"],[0.3333333333333333,\"#9c179e\"],[0.4444444444444444,\"#bd3786\"],[0.5555555555555556,\"#d8576b\"],[0.6666666666666666,\"#ed7953\"],[0.7777777777777778,\"#fb9f3a\"],[0.8888888888888888,\"#fdca26\"],[1.0,\"#f0f921\"]],\"type\":\"surface\"}],\"table\":[{\"cells\":{\"fill\":{\"color\":\"#506784\"},\"line\":{\"color\":\"rgb(17,17,17)\"}},\"header\":{\"fill\":{\"color\":\"#2a3f5f\"},\"line\":{\"color\":\"rgb(17,17,17)\"}},\"type\":\"table\"}]},\"layout\":{\"annotationdefaults\":{\"arrowcolor\":\"#f2f5fa\",\"arrowhead\":0,\"arrowwidth\":1},\"autotypenumbers\":\"strict\",\"coloraxis\":{\"colorbar\":{\"outlinewidth\":0,\"ticks\":\"\"}},\"colorscale\":{\"diverging\":[[0,\"#8e0152\"],[0.1,\"#c51b7d\"],[0.2,\"#de77ae\"],[0.3,\"#f1b6da\"],[0.4,\"#fde0ef\"],[0.5,\"#f7f7f7\"],[0.6,\"#e6f5d0\"],[0.7,\"#b8e186\"],[0.8,\"#7fbc41\"],[0.9,\"#4d9221\"],[1,\"#276419\"]],\"sequential\":[[0.0,\"#0d0887\"],[0.1111111111111111,\"#46039f\"],[0.2222222222222222,\"#7201a8\"],[0.3333333333333333,\"#9c179e\"],[0.4444444444444444,\"#bd3786\"],[0.5555555555555556,\"#d8576b\"],[0.6666666666666666,\"#ed7953\"],[0.7777777777777778,\"#fb9f3a\"],[0.8888888888888888,\"#fdca26\"],[1.0,\"#f0f921\"]],\"sequentialminus\":[[0.0,\"#0d0887\"],[0.1111111111111111,\"#46039f\"],[0.2222222222222222,\"#7201a8\"],[0.3333333333333333,\"#9c179e\"],[0.4444444444444444,\"#bd3786\"],[0.5555555555555556,\"#d8576b\"],[0.6666666666666666,\"#ed7953\"],[0.7777777777777778,\"#fb9f3a\"],[0.8888888888888888,\"#fdca26\"],[1.0,\"#f0f921\"]]},\"colorway\":[\"#636efa\",\"#EF553B\",\"#00cc96\",\"#ab63fa\",\"#FFA15A\",\"#19d3f3\",\"#FF6692\",\"#B6E880\",\"#FF97FF\",\"#FECB52\"],\"font\":{\"color\":\"#f2f5fa\"},\"geo\":{\"bgcolor\":\"rgb(17,17,17)\",\"lakecolor\":\"rgb(17,17,17)\",\"landcolor\":\"rgb(17,17,17)\",\"showlakes\":true,\"showland\":true,\"subunitcolor\":\"#506784\"},\"hoverlabel\":{\"align\":\"left\"},\"hovermode\":\"closest\",\"mapbox\":{\"style\":\"dark\"},\"paper_bgcolor\":\"rgb(17,17,17)\",\"plot_bgcolor\":\"rgb(17,17,17)\",\"polar\":{\"angularaxis\":{\"gridcolor\":\"#506784\",\"linecolor\":\"#506784\",\"ticks\":\"\"},\"bgcolor\":\"rgb(17,17,17)\",\"radialaxis\":{\"gridcolor\":\"#506784\",\"linecolor\":\"#506784\",\"ticks\":\"\"}},\"scene\":{\"xaxis\":{\"backgroundcolor\":\"rgb(17,17,17)\",\"gridcolor\":\"#506784\",\"gridwidth\":2,\"linecolor\":\"#506784\",\"showbackground\":true,\"ticks\":\"\",\"zerolinecolor\":\"#C8D4E3\"},\"yaxis\":{\"backgroundcolor\":\"rgb(17,17,17)\",\"gridcolor\":\"#506784\",\"gridwidth\":2,\"linecolor\":\"#506784\",\"showbackground\":true,\"ticks\":\"\",\"zerolinecolor\":\"#C8D4E3\"},\"zaxis\":{\"backgroundcolor\":\"rgb(17,17,17)\",\"gridcolor\":\"#506784\",\"gridwidth\":2,\"linecolor\":\"#506784\",\"showbackground\":true,\"ticks\":\"\",\"zerolinecolor\":\"#C8D4E3\"}},\"shapedefaults\":{\"line\":{\"color\":\"#f2f5fa\"}},\"sliderdefaults\":{\"bgcolor\":\"#C8D4E3\",\"bordercolor\":\"rgb(17,17,17)\",\"borderwidth\":1,\"tickwidth\":0},\"ternary\":{\"aaxis\":{\"gridcolor\":\"#506784\",\"linecolor\":\"#506784\",\"ticks\":\"\"},\"baxis\":{\"gridcolor\":\"#506784\",\"linecolor\":\"#506784\",\"ticks\":\"\"},\"bgcolor\":\"rgb(17,17,17)\",\"caxis\":{\"gridcolor\":\"#506784\",\"linecolor\":\"#506784\",\"ticks\":\"\"}},\"title\":{\"x\":0.05},\"updatemenudefaults\":{\"bgcolor\":\"#506784\",\"borderwidth\":0},\"xaxis\":{\"automargin\":true,\"gridcolor\":\"#283442\",\"linecolor\":\"#506784\",\"ticks\":\"\",\"title\":{\"standoff\":15},\"zerolinecolor\":\"#283442\",\"zerolinewidth\":2},\"yaxis\":{\"automargin\":true,\"gridcolor\":\"#283442\",\"linecolor\":\"#506784\",\"ticks\":\"\",\"title\":{\"standoff\":15},\"zerolinecolor\":\"#283442\",\"zerolinewidth\":2}}}},                        {\"responsive\": true}                    ).then(function(){\n                            \nvar gd = document.getElementById('280be642-59fa-466a-8f01-b715d60d3293');\nvar x = new MutationObserver(function (mutations, observer) {{\n        var display = window.getComputedStyle(gd).display;\n        if (!display || display === 'none') {{\n            console.log([gd, 'removed!']);\n            Plotly.purge(gd);\n            observer.disconnect();\n        }}\n}});\n\n// Listen for the removal of the full notebook cells\nvar notebookContainer = gd.closest('#notebook-container');\nif (notebookContainer) {{\n    x.observe(notebookContainer, {childList: true});\n}}\n\n// Listen for the clearing of the current output cell\nvar outputEl = gd.closest('.output');\nif (outputEl) {{\n    x.observe(outputEl, {childList: true});\n}}\n\n                        })                };            </script>        </div>"
     },
     "metadata": {},
     "output_type": "display_data"
    }
   ],
   "source": [
    "fut_view = fut_risk_profile[\n",
    "    (fut_risk_profile['strike'] > strike_start) & (fut_risk_profile['strike'] < strike_end)]\n",
    "call_view_1 = call_risk_profile[\n",
    "    (call_risk_profile['strike'] > strike_start) & (call_risk_profile['strike'] < strike_end)]\n",
    "call_view_2 = call_risk_profile_1[\n",
    "    (call_risk_profile_1['strike'] > strike_start) & (call_risk_profile_1['strike'] < strike_end)]\n",
    "data = [\n",
    "    go.Scatter(x=fut_view['strike'], y=fut_view['risk_pnl'].to_list(), mode='lines', name='fut'),\n",
    "\n",
    "    go.Scatter(x=call_view_1['strike'], y=call_view_1['risk_pnl'].to_list(), mode='lines',\n",
    "               name=f'call atm {call_legs[0].strike}'),\n",
    "    go.Scatter(x=call_view_2['strike'], y=call_view_2['risk_pnl'], mode='lines',\n",
    "               name=f'call {call_legs_1[0].strike}'),\n",
    "    # go.Scatter(x=call_view_2['strike'], y=call_view_2['risk_pnl_premium'], mode='lines',\n",
    "    #            name=f'call premium {call_legs_1[0].strike}')\n",
    "]  # markers, lines\n",
    "iplot(data)"
   ]
  },
  {
   "cell_type": "code",
   "execution_count": 26,
   "outputs": [
    {
     "data": {
      "text/plain": "      strike     risk_pnl\n0    20000.0  62275.51253\n1    30000.0  52275.51253\n2    40000.0  42275.51253\n3    45000.0  37275.51253\n4    50000.0  32275.51253\n..       ...          ...\n47  180000.0  -1724.48747\n48  200000.0  -1724.48747\n49  220000.0  -1724.48747\n50  250000.0  -1724.48747\n51  300000.0  -1724.48747\n\n[52 rows x 2 columns]",
      "text/html": "<div>\n<style scoped>\n    .dataframe tbody tr th:only-of-type {\n        vertical-align: middle;\n    }\n\n    .dataframe tbody tr th {\n        vertical-align: top;\n    }\n\n    .dataframe thead th {\n        text-align: right;\n    }\n</style>\n<table border=\"1\" class=\"dataframe\">\n  <thead>\n    <tr style=\"text-align: right;\">\n      <th></th>\n      <th>strike</th>\n      <th>risk_pnl</th>\n    </tr>\n  </thead>\n  <tbody>\n    <tr>\n      <th>0</th>\n      <td>20000.0</td>\n      <td>62275.51253</td>\n    </tr>\n    <tr>\n      <th>1</th>\n      <td>30000.0</td>\n      <td>52275.51253</td>\n    </tr>\n    <tr>\n      <th>2</th>\n      <td>40000.0</td>\n      <td>42275.51253</td>\n    </tr>\n    <tr>\n      <th>3</th>\n      <td>45000.0</td>\n      <td>37275.51253</td>\n    </tr>\n    <tr>\n      <th>4</th>\n      <td>50000.0</td>\n      <td>32275.51253</td>\n    </tr>\n    <tr>\n      <th>...</th>\n      <td>...</td>\n      <td>...</td>\n    </tr>\n    <tr>\n      <th>47</th>\n      <td>180000.0</td>\n      <td>-1724.48747</td>\n    </tr>\n    <tr>\n      <th>48</th>\n      <td>200000.0</td>\n      <td>-1724.48747</td>\n    </tr>\n    <tr>\n      <th>49</th>\n      <td>220000.0</td>\n      <td>-1724.48747</td>\n    </tr>\n    <tr>\n      <th>50</th>\n      <td>250000.0</td>\n      <td>-1724.48747</td>\n    </tr>\n    <tr>\n      <th>51</th>\n      <td>300000.0</td>\n      <td>-1724.48747</td>\n    </tr>\n  </tbody>\n</table>\n<p>52 rows × 2 columns</p>\n</div>"
     },
     "execution_count": 26,
     "metadata": {},
     "output_type": "execute_result"
    }
   ],
   "source": [
    "short_long_legs = [OptionLeg(strike=atm_strike, lots=1, type=LegType.OPTION_PUT)]\n",
    "put_atm_risk_profile, put_atm_risk_legs_pnl = btc.analytic.risk.chain_payoff(short_long_legs)\n",
    "put_atm_risk_profile"
   ],
   "metadata": {
    "collapsed": false
   }
  },
  {
   "cell_type": "markdown",
   "source": [
    "Non-linearity of profit. We make more profit at the turning point than at futures по премии."
   ],
   "metadata": {
    "collapsed": false
   }
  },
  {
   "cell_type": "code",
   "execution_count": 28,
   "outputs": [
    {
     "data": {
      "application/vnd.plotly.v1+json": {
       "data": [
        {
         "mode": "lines",
         "name": "fut",
         "x": {
          "dtype": "f8",
          "bdata": "AAAAAACO8kAAAAAAAAvzQAAAAAAAiPNAAAAAAAAF9EAAAAAAgEP0QAAAAAAAgvRAAAAAAIDA9EAAAAAAAP/0QAAAAAAAfPVAAAAAAAD59UAAAAAAAHb2QAAAAACAtPZAAAAAAADz9kAAAAAAgDH3QAAAAAAAcPdA"
         },
         "y": [
          -8172.600000000006,
          -6172.139999999999,
          -4172.600000000006,
          -2172.1399999999994,
          -1172.6000000000058,
          -172.60000000000582,
          827.3999999999942,
          1827.3999999999942,
          3827.8600000000006,
          5827.860000000001,
          7827.399999999994,
          8827.399999999994,
          9827.399999999994,
          10827.399999999994,
          11827.399999999994
         ],
         "type": "scatter"
        },
        {
         "mode": "lines",
         "name": "call atm 84000.0",
         "x": {
          "dtype": "f8",
          "bdata": "AAAAAACO8kAAAAAAAAvzQAAAAAAAiPNAAAAAAAAF9EAAAAAAgEP0QAAAAAAAgvRAAAAAAIDA9EAAAAAAAP/0QAAAAAAAfPVAAAAAAAD59UAAAAAAAHb2QAAAAACAtPZAAAAAAADz9kAAAAAAgDH3QAAAAAAAcPdA"
         },
         "y": [
          6275.51253,
          4275.51253,
          2275.51253,
          275.51252999999997,
          -724.48747,
          -1724.48747,
          -1724.48747,
          -1724.48747,
          -1724.48747,
          -1724.48747,
          -1724.48747,
          -1724.48747,
          -1724.48747,
          -1724.48747,
          -1724.48747
         ],
         "type": "scatter"
        }
       ],
       "layout": {
        "template": {
         "data": {
          "barpolar": [
           {
            "marker": {
             "line": {
              "color": "rgb(17,17,17)",
              "width": 0.5
             },
             "pattern": {
              "fillmode": "overlay",
              "size": 10,
              "solidity": 0.2
             }
            },
            "type": "barpolar"
           }
          ],
          "bar": [
           {
            "error_x": {
             "color": "#f2f5fa"
            },
            "error_y": {
             "color": "#f2f5fa"
            },
            "marker": {
             "line": {
              "color": "rgb(17,17,17)",
              "width": 0.5
             },
             "pattern": {
              "fillmode": "overlay",
              "size": 10,
              "solidity": 0.2
             }
            },
            "type": "bar"
           }
          ],
          "carpet": [
           {
            "aaxis": {
             "endlinecolor": "#A2B1C6",
             "gridcolor": "#506784",
             "linecolor": "#506784",
             "minorgridcolor": "#506784",
             "startlinecolor": "#A2B1C6"
            },
            "baxis": {
             "endlinecolor": "#A2B1C6",
             "gridcolor": "#506784",
             "linecolor": "#506784",
             "minorgridcolor": "#506784",
             "startlinecolor": "#A2B1C6"
            },
            "type": "carpet"
           }
          ],
          "choropleth": [
           {
            "colorbar": {
             "outlinewidth": 0,
             "ticks": ""
            },
            "type": "choropleth"
           }
          ],
          "contourcarpet": [
           {
            "colorbar": {
             "outlinewidth": 0,
             "ticks": ""
            },
            "type": "contourcarpet"
           }
          ],
          "contour": [
           {
            "colorbar": {
             "outlinewidth": 0,
             "ticks": ""
            },
            "colorscale": [
             [
              0.0,
              "#0d0887"
             ],
             [
              0.1111111111111111,
              "#46039f"
             ],
             [
              0.2222222222222222,
              "#7201a8"
             ],
             [
              0.3333333333333333,
              "#9c179e"
             ],
             [
              0.4444444444444444,
              "#bd3786"
             ],
             [
              0.5555555555555556,
              "#d8576b"
             ],
             [
              0.6666666666666666,
              "#ed7953"
             ],
             [
              0.7777777777777778,
              "#fb9f3a"
             ],
             [
              0.8888888888888888,
              "#fdca26"
             ],
             [
              1.0,
              "#f0f921"
             ]
            ],
            "type": "contour"
           }
          ],
          "heatmap": [
           {
            "colorbar": {
             "outlinewidth": 0,
             "ticks": ""
            },
            "colorscale": [
             [
              0.0,
              "#0d0887"
             ],
             [
              0.1111111111111111,
              "#46039f"
             ],
             [
              0.2222222222222222,
              "#7201a8"
             ],
             [
              0.3333333333333333,
              "#9c179e"
             ],
             [
              0.4444444444444444,
              "#bd3786"
             ],
             [
              0.5555555555555556,
              "#d8576b"
             ],
             [
              0.6666666666666666,
              "#ed7953"
             ],
             [
              0.7777777777777778,
              "#fb9f3a"
             ],
             [
              0.8888888888888888,
              "#fdca26"
             ],
             [
              1.0,
              "#f0f921"
             ]
            ],
            "type": "heatmap"
           }
          ],
          "histogram2dcontour": [
           {
            "colorbar": {
             "outlinewidth": 0,
             "ticks": ""
            },
            "colorscale": [
             [
              0.0,
              "#0d0887"
             ],
             [
              0.1111111111111111,
              "#46039f"
             ],
             [
              0.2222222222222222,
              "#7201a8"
             ],
             [
              0.3333333333333333,
              "#9c179e"
             ],
             [
              0.4444444444444444,
              "#bd3786"
             ],
             [
              0.5555555555555556,
              "#d8576b"
             ],
             [
              0.6666666666666666,
              "#ed7953"
             ],
             [
              0.7777777777777778,
              "#fb9f3a"
             ],
             [
              0.8888888888888888,
              "#fdca26"
             ],
             [
              1.0,
              "#f0f921"
             ]
            ],
            "type": "histogram2dcontour"
           }
          ],
          "histogram2d": [
           {
            "colorbar": {
             "outlinewidth": 0,
             "ticks": ""
            },
            "colorscale": [
             [
              0.0,
              "#0d0887"
             ],
             [
              0.1111111111111111,
              "#46039f"
             ],
             [
              0.2222222222222222,
              "#7201a8"
             ],
             [
              0.3333333333333333,
              "#9c179e"
             ],
             [
              0.4444444444444444,
              "#bd3786"
             ],
             [
              0.5555555555555556,
              "#d8576b"
             ],
             [
              0.6666666666666666,
              "#ed7953"
             ],
             [
              0.7777777777777778,
              "#fb9f3a"
             ],
             [
              0.8888888888888888,
              "#fdca26"
             ],
             [
              1.0,
              "#f0f921"
             ]
            ],
            "type": "histogram2d"
           }
          ],
          "histogram": [
           {
            "marker": {
             "pattern": {
              "fillmode": "overlay",
              "size": 10,
              "solidity": 0.2
             }
            },
            "type": "histogram"
           }
          ],
          "mesh3d": [
           {
            "colorbar": {
             "outlinewidth": 0,
             "ticks": ""
            },
            "type": "mesh3d"
           }
          ],
          "parcoords": [
           {
            "line": {
             "colorbar": {
              "outlinewidth": 0,
              "ticks": ""
             }
            },
            "type": "parcoords"
           }
          ],
          "pie": [
           {
            "automargin": true,
            "type": "pie"
           }
          ],
          "scatter3d": [
           {
            "line": {
             "colorbar": {
              "outlinewidth": 0,
              "ticks": ""
             }
            },
            "marker": {
             "colorbar": {
              "outlinewidth": 0,
              "ticks": ""
             }
            },
            "type": "scatter3d"
           }
          ],
          "scattercarpet": [
           {
            "marker": {
             "colorbar": {
              "outlinewidth": 0,
              "ticks": ""
             }
            },
            "type": "scattercarpet"
           }
          ],
          "scattergeo": [
           {
            "marker": {
             "colorbar": {
              "outlinewidth": 0,
              "ticks": ""
             }
            },
            "type": "scattergeo"
           }
          ],
          "scattergl": [
           {
            "marker": {
             "line": {
              "color": "#283442"
             }
            },
            "type": "scattergl"
           }
          ],
          "scattermapbox": [
           {
            "marker": {
             "colorbar": {
              "outlinewidth": 0,
              "ticks": ""
             }
            },
            "type": "scattermapbox"
           }
          ],
          "scattermap": [
           {
            "marker": {
             "colorbar": {
              "outlinewidth": 0,
              "ticks": ""
             }
            },
            "type": "scattermap"
           }
          ],
          "scatterpolargl": [
           {
            "marker": {
             "colorbar": {
              "outlinewidth": 0,
              "ticks": ""
             }
            },
            "type": "scatterpolargl"
           }
          ],
          "scatterpolar": [
           {
            "marker": {
             "colorbar": {
              "outlinewidth": 0,
              "ticks": ""
             }
            },
            "type": "scatterpolar"
           }
          ],
          "scatter": [
           {
            "marker": {
             "line": {
              "color": "#283442"
             }
            },
            "type": "scatter"
           }
          ],
          "scatterternary": [
           {
            "marker": {
             "colorbar": {
              "outlinewidth": 0,
              "ticks": ""
             }
            },
            "type": "scatterternary"
           }
          ],
          "surface": [
           {
            "colorbar": {
             "outlinewidth": 0,
             "ticks": ""
            },
            "colorscale": [
             [
              0.0,
              "#0d0887"
             ],
             [
              0.1111111111111111,
              "#46039f"
             ],
             [
              0.2222222222222222,
              "#7201a8"
             ],
             [
              0.3333333333333333,
              "#9c179e"
             ],
             [
              0.4444444444444444,
              "#bd3786"
             ],
             [
              0.5555555555555556,
              "#d8576b"
             ],
             [
              0.6666666666666666,
              "#ed7953"
             ],
             [
              0.7777777777777778,
              "#fb9f3a"
             ],
             [
              0.8888888888888888,
              "#fdca26"
             ],
             [
              1.0,
              "#f0f921"
             ]
            ],
            "type": "surface"
           }
          ],
          "table": [
           {
            "cells": {
             "fill": {
              "color": "#506784"
             },
             "line": {
              "color": "rgb(17,17,17)"
             }
            },
            "header": {
             "fill": {
              "color": "#2a3f5f"
             },
             "line": {
              "color": "rgb(17,17,17)"
             }
            },
            "type": "table"
           }
          ]
         },
         "layout": {
          "annotationdefaults": {
           "arrowcolor": "#f2f5fa",
           "arrowhead": 0,
           "arrowwidth": 1
          },
          "autotypenumbers": "strict",
          "coloraxis": {
           "colorbar": {
            "outlinewidth": 0,
            "ticks": ""
           }
          },
          "colorscale": {
           "diverging": [
            [
             0,
             "#8e0152"
            ],
            [
             0.1,
             "#c51b7d"
            ],
            [
             0.2,
             "#de77ae"
            ],
            [
             0.3,
             "#f1b6da"
            ],
            [
             0.4,
             "#fde0ef"
            ],
            [
             0.5,
             "#f7f7f7"
            ],
            [
             0.6,
             "#e6f5d0"
            ],
            [
             0.7,
             "#b8e186"
            ],
            [
             0.8,
             "#7fbc41"
            ],
            [
             0.9,
             "#4d9221"
            ],
            [
             1,
             "#276419"
            ]
           ],
           "sequential": [
            [
             0.0,
             "#0d0887"
            ],
            [
             0.1111111111111111,
             "#46039f"
            ],
            [
             0.2222222222222222,
             "#7201a8"
            ],
            [
             0.3333333333333333,
             "#9c179e"
            ],
            [
             0.4444444444444444,
             "#bd3786"
            ],
            [
             0.5555555555555556,
             "#d8576b"
            ],
            [
             0.6666666666666666,
             "#ed7953"
            ],
            [
             0.7777777777777778,
             "#fb9f3a"
            ],
            [
             0.8888888888888888,
             "#fdca26"
            ],
            [
             1.0,
             "#f0f921"
            ]
           ],
           "sequentialminus": [
            [
             0.0,
             "#0d0887"
            ],
            [
             0.1111111111111111,
             "#46039f"
            ],
            [
             0.2222222222222222,
             "#7201a8"
            ],
            [
             0.3333333333333333,
             "#9c179e"
            ],
            [
             0.4444444444444444,
             "#bd3786"
            ],
            [
             0.5555555555555556,
             "#d8576b"
            ],
            [
             0.6666666666666666,
             "#ed7953"
            ],
            [
             0.7777777777777778,
             "#fb9f3a"
            ],
            [
             0.8888888888888888,
             "#fdca26"
            ],
            [
             1.0,
             "#f0f921"
            ]
           ]
          },
          "colorway": [
           "#636efa",
           "#EF553B",
           "#00cc96",
           "#ab63fa",
           "#FFA15A",
           "#19d3f3",
           "#FF6692",
           "#B6E880",
           "#FF97FF",
           "#FECB52"
          ],
          "font": {
           "color": "#f2f5fa"
          },
          "geo": {
           "bgcolor": "rgb(17,17,17)",
           "lakecolor": "rgb(17,17,17)",
           "landcolor": "rgb(17,17,17)",
           "showlakes": true,
           "showland": true,
           "subunitcolor": "#506784"
          },
          "hoverlabel": {
           "align": "left"
          },
          "hovermode": "closest",
          "mapbox": {
           "style": "dark"
          },
          "paper_bgcolor": "rgb(17,17,17)",
          "plot_bgcolor": "rgb(17,17,17)",
          "polar": {
           "angularaxis": {
            "gridcolor": "#506784",
            "linecolor": "#506784",
            "ticks": ""
           },
           "bgcolor": "rgb(17,17,17)",
           "radialaxis": {
            "gridcolor": "#506784",
            "linecolor": "#506784",
            "ticks": ""
           }
          },
          "scene": {
           "xaxis": {
            "backgroundcolor": "rgb(17,17,17)",
            "gridcolor": "#506784",
            "gridwidth": 2,
            "linecolor": "#506784",
            "showbackground": true,
            "ticks": "",
            "zerolinecolor": "#C8D4E3"
           },
           "yaxis": {
            "backgroundcolor": "rgb(17,17,17)",
            "gridcolor": "#506784",
            "gridwidth": 2,
            "linecolor": "#506784",
            "showbackground": true,
            "ticks": "",
            "zerolinecolor": "#C8D4E3"
           },
           "zaxis": {
            "backgroundcolor": "rgb(17,17,17)",
            "gridcolor": "#506784",
            "gridwidth": 2,
            "linecolor": "#506784",
            "showbackground": true,
            "ticks": "",
            "zerolinecolor": "#C8D4E3"
           }
          },
          "shapedefaults": {
           "line": {
            "color": "#f2f5fa"
           }
          },
          "sliderdefaults": {
           "bgcolor": "#C8D4E3",
           "bordercolor": "rgb(17,17,17)",
           "borderwidth": 1,
           "tickwidth": 0
          },
          "ternary": {
           "aaxis": {
            "gridcolor": "#506784",
            "linecolor": "#506784",
            "ticks": ""
           },
           "baxis": {
            "gridcolor": "#506784",
            "linecolor": "#506784",
            "ticks": ""
           },
           "bgcolor": "rgb(17,17,17)",
           "caxis": {
            "gridcolor": "#506784",
            "linecolor": "#506784",
            "ticks": ""
           }
          },
          "title": {
           "x": 0.05
          },
          "updatemenudefaults": {
           "bgcolor": "#506784",
           "borderwidth": 0
          },
          "xaxis": {
           "automargin": true,
           "gridcolor": "#283442",
           "linecolor": "#506784",
           "ticks": "",
           "title": {
            "standoff": 15
           },
           "zerolinecolor": "#283442",
           "zerolinewidth": 2
          },
          "yaxis": {
           "automargin": true,
           "gridcolor": "#283442",
           "linecolor": "#506784",
           "ticks": "",
           "title": {
            "standoff": 15
           },
           "zerolinecolor": "#283442",
           "zerolinewidth": 2
          }
         }
        }
       },
       "config": {
        "showLink": false,
        "linkText": "Export to plot.ly",
        "plotlyServerURL": "https://plot.ly"
       }
      },
      "text/html": "<div>            <script src=\"https://cdnjs.cloudflare.com/ajax/libs/mathjax/2.7.5/MathJax.js?config=TeX-AMS-MML_SVG\"></script><script type=\"text/javascript\">if (window.MathJax && window.MathJax.Hub && window.MathJax.Hub.Config) {window.MathJax.Hub.Config({SVG: {font: \"STIX-Web\"}});}</script>                <script type=\"text/javascript\">window.PlotlyConfig = {MathJaxConfig: 'local'};</script>\n        <script charset=\"utf-8\" src=\"https://cdn.plot.ly/plotly-3.0.1.min.js\"></script>                <div id=\"653e4e44-0b71-43a6-bf51-da4057ef4b2c\" class=\"plotly-graph-div\" style=\"height:525px; width:100%;\"></div>            <script type=\"text/javascript\">                window.PLOTLYENV=window.PLOTLYENV || {};                                if (document.getElementById(\"653e4e44-0b71-43a6-bf51-da4057ef4b2c\")) {                    Plotly.newPlot(                        \"653e4e44-0b71-43a6-bf51-da4057ef4b2c\",                        [{\"mode\":\"lines\",\"name\":\"fut\",\"x\":{\"dtype\":\"f8\",\"bdata\":\"AAAAAACO8kAAAAAAAAvzQAAAAAAAiPNAAAAAAAAF9EAAAAAAgEP0QAAAAAAAgvRAAAAAAIDA9EAAAAAAAP\\u002f0QAAAAAAAfPVAAAAAAAD59UAAAAAAAHb2QAAAAACAtPZAAAAAAADz9kAAAAAAgDH3QAAAAAAAcPdA\"},\"y\":[-8172.600000000006,-6172.139999999999,-4172.600000000006,-2172.1399999999994,-1172.6000000000058,-172.60000000000582,827.3999999999942,1827.3999999999942,3827.8600000000006,5827.860000000001,7827.399999999994,8827.399999999994,9827.399999999994,10827.399999999994,11827.399999999994],\"type\":\"scatter\"},{\"mode\":\"lines\",\"name\":\"call atm 84000.0\",\"x\":{\"dtype\":\"f8\",\"bdata\":\"AAAAAACO8kAAAAAAAAvzQAAAAAAAiPNAAAAAAAAF9EAAAAAAgEP0QAAAAAAAgvRAAAAAAIDA9EAAAAAAAP\\u002f0QAAAAAAAfPVAAAAAAAD59UAAAAAAAHb2QAAAAACAtPZAAAAAAADz9kAAAAAAgDH3QAAAAAAAcPdA\"},\"y\":[6275.51253,4275.51253,2275.51253,275.51252999999997,-724.48747,-1724.48747,-1724.48747,-1724.48747,-1724.48747,-1724.48747,-1724.48747,-1724.48747,-1724.48747,-1724.48747,-1724.48747],\"type\":\"scatter\"}],                        {\"template\":{\"data\":{\"barpolar\":[{\"marker\":{\"line\":{\"color\":\"rgb(17,17,17)\",\"width\":0.5},\"pattern\":{\"fillmode\":\"overlay\",\"size\":10,\"solidity\":0.2}},\"type\":\"barpolar\"}],\"bar\":[{\"error_x\":{\"color\":\"#f2f5fa\"},\"error_y\":{\"color\":\"#f2f5fa\"},\"marker\":{\"line\":{\"color\":\"rgb(17,17,17)\",\"width\":0.5},\"pattern\":{\"fillmode\":\"overlay\",\"size\":10,\"solidity\":0.2}},\"type\":\"bar\"}],\"carpet\":[{\"aaxis\":{\"endlinecolor\":\"#A2B1C6\",\"gridcolor\":\"#506784\",\"linecolor\":\"#506784\",\"minorgridcolor\":\"#506784\",\"startlinecolor\":\"#A2B1C6\"},\"baxis\":{\"endlinecolor\":\"#A2B1C6\",\"gridcolor\":\"#506784\",\"linecolor\":\"#506784\",\"minorgridcolor\":\"#506784\",\"startlinecolor\":\"#A2B1C6\"},\"type\":\"carpet\"}],\"choropleth\":[{\"colorbar\":{\"outlinewidth\":0,\"ticks\":\"\"},\"type\":\"choropleth\"}],\"contourcarpet\":[{\"colorbar\":{\"outlinewidth\":0,\"ticks\":\"\"},\"type\":\"contourcarpet\"}],\"contour\":[{\"colorbar\":{\"outlinewidth\":0,\"ticks\":\"\"},\"colorscale\":[[0.0,\"#0d0887\"],[0.1111111111111111,\"#46039f\"],[0.2222222222222222,\"#7201a8\"],[0.3333333333333333,\"#9c179e\"],[0.4444444444444444,\"#bd3786\"],[0.5555555555555556,\"#d8576b\"],[0.6666666666666666,\"#ed7953\"],[0.7777777777777778,\"#fb9f3a\"],[0.8888888888888888,\"#fdca26\"],[1.0,\"#f0f921\"]],\"type\":\"contour\"}],\"heatmap\":[{\"colorbar\":{\"outlinewidth\":0,\"ticks\":\"\"},\"colorscale\":[[0.0,\"#0d0887\"],[0.1111111111111111,\"#46039f\"],[0.2222222222222222,\"#7201a8\"],[0.3333333333333333,\"#9c179e\"],[0.4444444444444444,\"#bd3786\"],[0.5555555555555556,\"#d8576b\"],[0.6666666666666666,\"#ed7953\"],[0.7777777777777778,\"#fb9f3a\"],[0.8888888888888888,\"#fdca26\"],[1.0,\"#f0f921\"]],\"type\":\"heatmap\"}],\"histogram2dcontour\":[{\"colorbar\":{\"outlinewidth\":0,\"ticks\":\"\"},\"colorscale\":[[0.0,\"#0d0887\"],[0.1111111111111111,\"#46039f\"],[0.2222222222222222,\"#7201a8\"],[0.3333333333333333,\"#9c179e\"],[0.4444444444444444,\"#bd3786\"],[0.5555555555555556,\"#d8576b\"],[0.6666666666666666,\"#ed7953\"],[0.7777777777777778,\"#fb9f3a\"],[0.8888888888888888,\"#fdca26\"],[1.0,\"#f0f921\"]],\"type\":\"histogram2dcontour\"}],\"histogram2d\":[{\"colorbar\":{\"outlinewidth\":0,\"ticks\":\"\"},\"colorscale\":[[0.0,\"#0d0887\"],[0.1111111111111111,\"#46039f\"],[0.2222222222222222,\"#7201a8\"],[0.3333333333333333,\"#9c179e\"],[0.4444444444444444,\"#bd3786\"],[0.5555555555555556,\"#d8576b\"],[0.6666666666666666,\"#ed7953\"],[0.7777777777777778,\"#fb9f3a\"],[0.8888888888888888,\"#fdca26\"],[1.0,\"#f0f921\"]],\"type\":\"histogram2d\"}],\"histogram\":[{\"marker\":{\"pattern\":{\"fillmode\":\"overlay\",\"size\":10,\"solidity\":0.2}},\"type\":\"histogram\"}],\"mesh3d\":[{\"colorbar\":{\"outlinewidth\":0,\"ticks\":\"\"},\"type\":\"mesh3d\"}],\"parcoords\":[{\"line\":{\"colorbar\":{\"outlinewidth\":0,\"ticks\":\"\"}},\"type\":\"parcoords\"}],\"pie\":[{\"automargin\":true,\"type\":\"pie\"}],\"scatter3d\":[{\"line\":{\"colorbar\":{\"outlinewidth\":0,\"ticks\":\"\"}},\"marker\":{\"colorbar\":{\"outlinewidth\":0,\"ticks\":\"\"}},\"type\":\"scatter3d\"}],\"scattercarpet\":[{\"marker\":{\"colorbar\":{\"outlinewidth\":0,\"ticks\":\"\"}},\"type\":\"scattercarpet\"}],\"scattergeo\":[{\"marker\":{\"colorbar\":{\"outlinewidth\":0,\"ticks\":\"\"}},\"type\":\"scattergeo\"}],\"scattergl\":[{\"marker\":{\"line\":{\"color\":\"#283442\"}},\"type\":\"scattergl\"}],\"scattermapbox\":[{\"marker\":{\"colorbar\":{\"outlinewidth\":0,\"ticks\":\"\"}},\"type\":\"scattermapbox\"}],\"scattermap\":[{\"marker\":{\"colorbar\":{\"outlinewidth\":0,\"ticks\":\"\"}},\"type\":\"scattermap\"}],\"scatterpolargl\":[{\"marker\":{\"colorbar\":{\"outlinewidth\":0,\"ticks\":\"\"}},\"type\":\"scatterpolargl\"}],\"scatterpolar\":[{\"marker\":{\"colorbar\":{\"outlinewidth\":0,\"ticks\":\"\"}},\"type\":\"scatterpolar\"}],\"scatter\":[{\"marker\":{\"line\":{\"color\":\"#283442\"}},\"type\":\"scatter\"}],\"scatterternary\":[{\"marker\":{\"colorbar\":{\"outlinewidth\":0,\"ticks\":\"\"}},\"type\":\"scatterternary\"}],\"surface\":[{\"colorbar\":{\"outlinewidth\":0,\"ticks\":\"\"},\"colorscale\":[[0.0,\"#0d0887\"],[0.1111111111111111,\"#46039f\"],[0.2222222222222222,\"#7201a8\"],[0.3333333333333333,\"#9c179e\"],[0.4444444444444444,\"#bd3786\"],[0.5555555555555556,\"#d8576b\"],[0.6666666666666666,\"#ed7953\"],[0.7777777777777778,\"#fb9f3a\"],[0.8888888888888888,\"#fdca26\"],[1.0,\"#f0f921\"]],\"type\":\"surface\"}],\"table\":[{\"cells\":{\"fill\":{\"color\":\"#506784\"},\"line\":{\"color\":\"rgb(17,17,17)\"}},\"header\":{\"fill\":{\"color\":\"#2a3f5f\"},\"line\":{\"color\":\"rgb(17,17,17)\"}},\"type\":\"table\"}]},\"layout\":{\"annotationdefaults\":{\"arrowcolor\":\"#f2f5fa\",\"arrowhead\":0,\"arrowwidth\":1},\"autotypenumbers\":\"strict\",\"coloraxis\":{\"colorbar\":{\"outlinewidth\":0,\"ticks\":\"\"}},\"colorscale\":{\"diverging\":[[0,\"#8e0152\"],[0.1,\"#c51b7d\"],[0.2,\"#de77ae\"],[0.3,\"#f1b6da\"],[0.4,\"#fde0ef\"],[0.5,\"#f7f7f7\"],[0.6,\"#e6f5d0\"],[0.7,\"#b8e186\"],[0.8,\"#7fbc41\"],[0.9,\"#4d9221\"],[1,\"#276419\"]],\"sequential\":[[0.0,\"#0d0887\"],[0.1111111111111111,\"#46039f\"],[0.2222222222222222,\"#7201a8\"],[0.3333333333333333,\"#9c179e\"],[0.4444444444444444,\"#bd3786\"],[0.5555555555555556,\"#d8576b\"],[0.6666666666666666,\"#ed7953\"],[0.7777777777777778,\"#fb9f3a\"],[0.8888888888888888,\"#fdca26\"],[1.0,\"#f0f921\"]],\"sequentialminus\":[[0.0,\"#0d0887\"],[0.1111111111111111,\"#46039f\"],[0.2222222222222222,\"#7201a8\"],[0.3333333333333333,\"#9c179e\"],[0.4444444444444444,\"#bd3786\"],[0.5555555555555556,\"#d8576b\"],[0.6666666666666666,\"#ed7953\"],[0.7777777777777778,\"#fb9f3a\"],[0.8888888888888888,\"#fdca26\"],[1.0,\"#f0f921\"]]},\"colorway\":[\"#636efa\",\"#EF553B\",\"#00cc96\",\"#ab63fa\",\"#FFA15A\",\"#19d3f3\",\"#FF6692\",\"#B6E880\",\"#FF97FF\",\"#FECB52\"],\"font\":{\"color\":\"#f2f5fa\"},\"geo\":{\"bgcolor\":\"rgb(17,17,17)\",\"lakecolor\":\"rgb(17,17,17)\",\"landcolor\":\"rgb(17,17,17)\",\"showlakes\":true,\"showland\":true,\"subunitcolor\":\"#506784\"},\"hoverlabel\":{\"align\":\"left\"},\"hovermode\":\"closest\",\"mapbox\":{\"style\":\"dark\"},\"paper_bgcolor\":\"rgb(17,17,17)\",\"plot_bgcolor\":\"rgb(17,17,17)\",\"polar\":{\"angularaxis\":{\"gridcolor\":\"#506784\",\"linecolor\":\"#506784\",\"ticks\":\"\"},\"bgcolor\":\"rgb(17,17,17)\",\"radialaxis\":{\"gridcolor\":\"#506784\",\"linecolor\":\"#506784\",\"ticks\":\"\"}},\"scene\":{\"xaxis\":{\"backgroundcolor\":\"rgb(17,17,17)\",\"gridcolor\":\"#506784\",\"gridwidth\":2,\"linecolor\":\"#506784\",\"showbackground\":true,\"ticks\":\"\",\"zerolinecolor\":\"#C8D4E3\"},\"yaxis\":{\"backgroundcolor\":\"rgb(17,17,17)\",\"gridcolor\":\"#506784\",\"gridwidth\":2,\"linecolor\":\"#506784\",\"showbackground\":true,\"ticks\":\"\",\"zerolinecolor\":\"#C8D4E3\"},\"zaxis\":{\"backgroundcolor\":\"rgb(17,17,17)\",\"gridcolor\":\"#506784\",\"gridwidth\":2,\"linecolor\":\"#506784\",\"showbackground\":true,\"ticks\":\"\",\"zerolinecolor\":\"#C8D4E3\"}},\"shapedefaults\":{\"line\":{\"color\":\"#f2f5fa\"}},\"sliderdefaults\":{\"bgcolor\":\"#C8D4E3\",\"bordercolor\":\"rgb(17,17,17)\",\"borderwidth\":1,\"tickwidth\":0},\"ternary\":{\"aaxis\":{\"gridcolor\":\"#506784\",\"linecolor\":\"#506784\",\"ticks\":\"\"},\"baxis\":{\"gridcolor\":\"#506784\",\"linecolor\":\"#506784\",\"ticks\":\"\"},\"bgcolor\":\"rgb(17,17,17)\",\"caxis\":{\"gridcolor\":\"#506784\",\"linecolor\":\"#506784\",\"ticks\":\"\"}},\"title\":{\"x\":0.05},\"updatemenudefaults\":{\"bgcolor\":\"#506784\",\"borderwidth\":0},\"xaxis\":{\"automargin\":true,\"gridcolor\":\"#283442\",\"linecolor\":\"#506784\",\"ticks\":\"\",\"title\":{\"standoff\":15},\"zerolinecolor\":\"#283442\",\"zerolinewidth\":2},\"yaxis\":{\"automargin\":true,\"gridcolor\":\"#283442\",\"linecolor\":\"#506784\",\"ticks\":\"\",\"title\":{\"standoff\":15},\"zerolinecolor\":\"#283442\",\"zerolinewidth\":2}}}},                        {\"responsive\": true}                    ).then(function(){\n                            \nvar gd = document.getElementById('653e4e44-0b71-43a6-bf51-da4057ef4b2c');\nvar x = new MutationObserver(function (mutations, observer) {{\n        var display = window.getComputedStyle(gd).display;\n        if (!display || display === 'none') {{\n            console.log([gd, 'removed!']);\n            Plotly.purge(gd);\n            observer.disconnect();\n        }}\n}});\n\n// Listen for the removal of the full notebook cells\nvar notebookContainer = gd.closest('#notebook-container');\nif (notebookContainer) {{\n    x.observe(notebookContainer, {childList: true});\n}}\n\n// Listen for the clearing of the current output cell\nvar outputEl = gd.closest('.output');\nif (outputEl) {{\n    x.observe(outputEl, {childList: true});\n}}\n\n                        })                };            </script>        </div>"
     },
     "metadata": {},
     "output_type": "display_data"
    }
   ],
   "source": [
    "fut_view = fut_risk_profile[\n",
    "    (fut_risk_profile['strike'] > strike_start) & (fut_risk_profile['strike'] < strike_end)]\n",
    "put_view_1 = put_atm_risk_profile[\n",
    "    (put_atm_risk_profile['strike'] > strike_start) & (put_atm_risk_profile['strike'] < strike_end)]\n",
    "data = [\n",
    "    go.Scatter(x=fut_view['strike'], y=fut_view['risk_pnl'].to_list(), mode='lines', name='fut'),\n",
    "\n",
    "    go.Scatter(x=put_view_1['strike'], y=put_view_1['risk_pnl'].to_list(), mode='lines',\n",
    "               name=f'call atm {short_long_legs[0].strike}'),\n",
    "    # go.Scatter(x=put_view_1['strike'], y=put_view_1['risk_pnl_premium'], mode='lines',\n",
    "    #            name=f'call atm premium {short_long_legs[0].strike}'),\n",
    "]  # markers, lines\n",
    "iplot(data)\n",
    "# TODO move to chart above calc"
   ],
   "metadata": {
    "collapsed": false
   }
  },
  {
   "cell_type": "markdown",
   "source": [
    "**THE RISKS OF BUYING OPTIONS**\n",
    "\n",
    "Risks of Long Call:\n",
    "- Decreasing the price of the underlying asset (UA). The position earns on the growth of the underlying asset\n",
    "- The expiration date is approaching. The fewer days before the expiration of an option, the cheaper its cost while maintaining the same underlying asset price and volatility values.\n",
    "- Reducing market volatility. With increasing volatility in the market, the probability of moving position in the money increases and, accordingly, options become more expensive (with other parameters constant). With a decrease in volatility, option premiums are getting cheaper. Thus, it is not profitable for option buyers to reduce volatility.\n",
    "\n",
    "Risks of Long Put:\n",
    "- Increasing the price of the underlying asset. The position earns on the decreasing the underlying asset price\n",
    "- The expiration date is approaching.\n",
    "- Reducing market volatility.\n",
    "\n",
    "The asymmetric dynamics of the stock market. Usually, market growth occurs more smoothly and relatively slowly, and the decline is usually very sharp. Due to the fact that the decline is usually faster than the growth, the purchase of a Put option can be more effective than the purchase of a Call.\n",
    "\n",
    "For both strategies, reducing market volatility works against the position, as the Call and Put premiums in the market become cheaper in this case.\n",
    "When the stock market declines, volatility tends to increase (which is understandable, the decline occurs more quickly), and when it increases, it usually decreases.\n",
    "\n",
    "By buying a Call option, we earn money on the growth of the UA, on the decrease in volatility that usually accompanies the growth of the instrument, which works against our position.\n",
    "\n",
    "By buying a Put option, we have the opposite picture. We make money from a declining market, and the resulting general increase in market volatility helps us make even more profit.\n",
    "\n",
    "**Thus, buying a Put option is a more effective strategy than buying a Call option, both because of the faster decline in the market and due to the impact of market volatility on our position.**\n",
    "\n",
    "When buying a longer-term option, we have less risk, but this position will be less profitable if the market moves in our direction.\n",
    "\n",
    "When buying a shorter-term option, we have a greater negative time impact on the position, but in the case of a trend towards us, the option will rise in price faster."
   ],
   "metadata": {
    "collapsed": false
   }
  },
  {
   "cell_type": "markdown",
   "source": [
    "## Profit ratio\n",
    "TODO to chart"
   ],
   "metadata": {
    "collapsed": false
   }
  },
  {
   "cell_type": "code",
   "execution_count": 26,
   "outputs": [
    {
     "data": {
      "text/plain": "{'fut': np.float64(87729.7),\n 'target': 110000,\n 'atm': np.float64(88000.0),\n 'itm': np.float64(65000.0),\n 'otm': np.float64(100000.0)}"
     },
     "execution_count": 26,
     "metadata": {},
     "output_type": "execute_result"
    }
   ],
   "source": [
    "df_chain_call = df_opt_chain[df_opt_chain['option_type'] == 'c'].sort_values('strike').reset_index(drop=True)\n",
    "current_fut_price = df_chain_call.iloc[0]['underlying_price']\n",
    "target_price = 110_000\n",
    "call_atm = df_chain_call[df_chain_call['price_status'] == 'atm'].iloc[0]\n",
    "call_itm = df_chain_call[df_chain_call['strike'] < call_atm['strike'] - (target_price - call_atm['strike'])].iloc[-1]\n",
    "call_otm = df_chain_call[df_chain_call['strike'] > (target_price - call_atm['strike'])/2 + call_atm['strike']].iloc[0]\n",
    "\n",
    "{'fut': current_fut_price,  'target': target_price, 'atm': call_atm['strike'], 'itm': call_itm['strike'], 'otm': call_otm['strike']}"
   ],
   "metadata": {
    "collapsed": false
   }
  },
  {
   "cell_type": "code",
   "execution_count": 27,
   "outputs": [
    {
     "data": {
      "text/plain": "             Metric    future   ITM 65000.0   ATM 88000.0 OTM 100000.0\n0             Price   87729.7  20681.709785   4853.424495   1399.18544\n1  Expiration price  110000.0       45000.0       22000.0      10000.0\n2            Profit   22270.3  24318.290215  17146.575505   8600.81456\n3      Profit ratio  0.253851      1.175836      3.532882     6.147015",
      "text/html": "<div>\n<style scoped>\n    .dataframe tbody tr th:only-of-type {\n        vertical-align: middle;\n    }\n\n    .dataframe tbody tr th {\n        vertical-align: top;\n    }\n\n    .dataframe thead th {\n        text-align: right;\n    }\n</style>\n<table border=\"1\" class=\"dataframe\">\n  <thead>\n    <tr style=\"text-align: right;\">\n      <th></th>\n      <th>Metric</th>\n      <th>future</th>\n      <th>ITM 65000.0</th>\n      <th>ATM 88000.0</th>\n      <th>OTM 100000.0</th>\n    </tr>\n  </thead>\n  <tbody>\n    <tr>\n      <th>0</th>\n      <td>Price</td>\n      <td>87729.7</td>\n      <td>20681.709785</td>\n      <td>4853.424495</td>\n      <td>1399.18544</td>\n    </tr>\n    <tr>\n      <th>1</th>\n      <td>Expiration price</td>\n      <td>110000.0</td>\n      <td>45000.0</td>\n      <td>22000.0</td>\n      <td>10000.0</td>\n    </tr>\n    <tr>\n      <th>2</th>\n      <td>Profit</td>\n      <td>22270.3</td>\n      <td>24318.290215</td>\n      <td>17146.575505</td>\n      <td>8600.81456</td>\n    </tr>\n    <tr>\n      <th>3</th>\n      <td>Profit ratio</td>\n      <td>0.253851</td>\n      <td>1.175836</td>\n      <td>3.532882</td>\n      <td>6.147015</td>\n    </tr>\n  </tbody>\n</table>\n</div>"
     },
     "execution_count": 27,
     "metadata": {},
     "output_type": "execute_result"
    }
   ],
   "source": [
    "df_profit = pd.DataFrame.from_dict({\n",
    "    'future':                       {'Price': current_fut_price, 'Expiration price': target_price},\n",
    "    f'ITM {call_itm[\"strike\"]}':    {'Price': call_itm['price'], 'Expiration price': target_price - call_itm['strike']},\n",
    "    f'ATM {call_atm[\"strike\"]}':    {'Price': call_atm['price'], 'Expiration price': target_price - call_atm['strike']},\n",
    "    f'OTM {call_otm[\"strike\"]}':    {'Price': call_otm['price'], 'Expiration price': target_price - call_otm['strike']}\n",
    "})\n",
    "\n",
    "df_profit.index.name = 'Metric'\n",
    "df_profit.reset_index(drop=False, inplace=True)\n",
    "columns = [col for col in df_profit.columns if col != 'Metric']\n",
    "profit_diff = df_profit[columns].reset_index(drop=True).diff().dropna()\n",
    "\n",
    "profit_diff['Metric'] = 'Profit'\n",
    "\n",
    "df_profit = pd.concat([df_profit, profit_diff], ignore_index=True)\n",
    "profit_ratio = df_profit[columns].iloc[2]/df_profit[columns].iloc[0]\n",
    "profit_ratio['Metric'] = 'Profit ratio'\n",
    "df_profit = pd.concat([df_profit, profit_ratio.to_frame().T], ignore_index=True)\n",
    "df_profit"
   ],
   "metadata": {
    "collapsed": false
   }
  },
  {
   "cell_type": "markdown",
   "source": [
    "**Recommendation**:\n",
    "\n",
    "If there are waiting underlying asser grow, it has sense to buy call option with strike in the middle of awaiting price\n",
    "\n",
    "If time has a negative effect on our position, it means that we should be in the position for a minimum of time!\n",
    "\n",
    "He stays in the position of purchased options for as little time as possible. We entered at the beginning of the movement:\n",
    "\n",
    "1. either you made a profit quickly and exited the position (or you rebuilt it in the hope of making even more profit with less risk)\n",
    "\n",
    "2. either they made a mistake with the direction of movement and exited the position with a loss (or they rebuilt it in the hope of recapturing the loss due to the new option scheme)\n",
    "\n",
    "The main mistake most beginners make is holding positions based on buying Call or Put options for a long time.\n",
    "\n",
    "Set a time frame for holding a position in advance and follow it clearly.\n",
    "\n",
    "**When should you use naked option buying in your trading?** Only if there are strong trends up or down in the shortest possible time."
   ],
   "metadata": {
    "collapsed": false
   }
  },
  {
   "cell_type": "markdown",
   "source": [
    "## Selling options\n",
    "\n",
    "Covered– we have sold an option and have a long position in the underlying asset in case of a Call sale or a short position in the underlying asset in case of a Put sale. The position in the underlying asset covers your risks on the option sold.\n",
    "\n",
    "From a mathematical point of view, the probability of making a profit when selling options is higher than when buying options.\n",
    "\n",
    "When selling an option, we make a profit in the amount of a premium, not only when:\n",
    "- the underlying asset (UA) price changes in our direction (in this case, with a decrease in futures);\n",
    "- while maintaining the UA price at the current level (sideways market movement);\n",
    "- when selling an OTM option when futures move against our position (sale strike + premium earned).\n",
    "\n",
    "We only lose money when there is a strong trend against us.\n"
   ],
   "metadata": {
    "collapsed": false
   }
  },
  {
   "cell_type": "code",
   "execution_count": 28,
   "outputs": [],
   "source": [
    "short_long_legs = [OptionLeg(strike=atm_strike, lots=-1, type=LegType.OPTION_CALL)]\n",
    "short_long_risk_profile, short_long_risk_legs_pnl = btc.analytic.risk.chain_risk_profile(short_long_legs)\n",
    "short_long_legs_otm = [OptionLeg(strike=max_strike_risk_2, lots=-1, type=LegType.OPTION_CALL)]\n",
    "short_long_risk_profile_otm, short_long_risk_legs_pnl_otm = btc.analytic.risk.chain_risk_profile(short_long_legs_otm)\n"
   ],
   "metadata": {
    "collapsed": false
   }
  },
  {
   "cell_type": "code",
   "execution_count": 29,
   "outputs": [
    {
     "data": {
      "application/vnd.plotly.v1+json": {
       "data": [
        {
         "mode": "lines",
         "name": "fut",
         "x": [
          80000.0,
          82000.0,
          84000.0,
          85000.0,
          86000.0,
          88000.0,
          90000.0,
          92000.0,
          94000.0,
          95000.0,
          96000.0,
          98000.0,
          100000.0
         ],
         "y": [
          -7729.699999999997,
          -5727.740000000005,
          -3729.699999999997,
          -2729.699999999997,
          -1729.699999999997,
          270.3000000000029,
          2270.300000000003,
          4270.300000000003,
          6270.300000000003,
          7270.300000000003,
          8270.300000000003,
          10270.300000000003,
          12270.300000000003
         ],
         "type": "scatter"
        },
        {
         "mode": "lines",
         "name": "short call atm 88000.0",
         "x": [
          80000.0,
          82000.0,
          84000.0,
          85000.0,
          86000.0,
          88000.0,
          90000.0,
          92000.0,
          94000.0,
          95000.0,
          96000.0,
          98000.0,
          100000.0
         ],
         "y": [
          4853.424495,
          4853.424495,
          4853.424495,
          4853.424495,
          4853.424495,
          4853.424495,
          2853.424495,
          853.4244950000002,
          -1146.5755049999998,
          -2146.575505,
          -3146.575505,
          -5146.575505,
          -7146.575505
         ],
         "type": "scatter"
        },
        {
         "mode": "lines",
         "name": "call 92000.0",
         "x": [
          80000.0,
          82000.0,
          84000.0,
          85000.0,
          86000.0,
          88000.0,
          90000.0,
          92000.0,
          94000.0,
          95000.0,
          96000.0,
          98000.0,
          100000.0
         ],
         "y": [
          3366.789965,
          3366.789965,
          3366.789965,
          3366.789965,
          3366.789965,
          3366.789965,
          3366.789965,
          3366.789965,
          1366.789965,
          366.78996499999994,
          -633.2100350000001,
          -2633.210035,
          -4633.210035
         ],
         "type": "scatter"
        }
       ],
       "layout": {
        "template": {
         "data": {
          "barpolar": [
           {
            "marker": {
             "line": {
              "color": "rgb(17,17,17)",
              "width": 0.5
             },
             "pattern": {
              "fillmode": "overlay",
              "size": 10,
              "solidity": 0.2
             }
            },
            "type": "barpolar"
           }
          ],
          "bar": [
           {
            "error_x": {
             "color": "#f2f5fa"
            },
            "error_y": {
             "color": "#f2f5fa"
            },
            "marker": {
             "line": {
              "color": "rgb(17,17,17)",
              "width": 0.5
             },
             "pattern": {
              "fillmode": "overlay",
              "size": 10,
              "solidity": 0.2
             }
            },
            "type": "bar"
           }
          ],
          "carpet": [
           {
            "aaxis": {
             "endlinecolor": "#A2B1C6",
             "gridcolor": "#506784",
             "linecolor": "#506784",
             "minorgridcolor": "#506784",
             "startlinecolor": "#A2B1C6"
            },
            "baxis": {
             "endlinecolor": "#A2B1C6",
             "gridcolor": "#506784",
             "linecolor": "#506784",
             "minorgridcolor": "#506784",
             "startlinecolor": "#A2B1C6"
            },
            "type": "carpet"
           }
          ],
          "choropleth": [
           {
            "colorbar": {
             "outlinewidth": 0,
             "ticks": ""
            },
            "type": "choropleth"
           }
          ],
          "contourcarpet": [
           {
            "colorbar": {
             "outlinewidth": 0,
             "ticks": ""
            },
            "type": "contourcarpet"
           }
          ],
          "contour": [
           {
            "colorbar": {
             "outlinewidth": 0,
             "ticks": ""
            },
            "colorscale": [
             [
              0.0,
              "#0d0887"
             ],
             [
              0.1111111111111111,
              "#46039f"
             ],
             [
              0.2222222222222222,
              "#7201a8"
             ],
             [
              0.3333333333333333,
              "#9c179e"
             ],
             [
              0.4444444444444444,
              "#bd3786"
             ],
             [
              0.5555555555555556,
              "#d8576b"
             ],
             [
              0.6666666666666666,
              "#ed7953"
             ],
             [
              0.7777777777777778,
              "#fb9f3a"
             ],
             [
              0.8888888888888888,
              "#fdca26"
             ],
             [
              1.0,
              "#f0f921"
             ]
            ],
            "type": "contour"
           }
          ],
          "heatmapgl": [
           {
            "colorbar": {
             "outlinewidth": 0,
             "ticks": ""
            },
            "colorscale": [
             [
              0.0,
              "#0d0887"
             ],
             [
              0.1111111111111111,
              "#46039f"
             ],
             [
              0.2222222222222222,
              "#7201a8"
             ],
             [
              0.3333333333333333,
              "#9c179e"
             ],
             [
              0.4444444444444444,
              "#bd3786"
             ],
             [
              0.5555555555555556,
              "#d8576b"
             ],
             [
              0.6666666666666666,
              "#ed7953"
             ],
             [
              0.7777777777777778,
              "#fb9f3a"
             ],
             [
              0.8888888888888888,
              "#fdca26"
             ],
             [
              1.0,
              "#f0f921"
             ]
            ],
            "type": "heatmapgl"
           }
          ],
          "heatmap": [
           {
            "colorbar": {
             "outlinewidth": 0,
             "ticks": ""
            },
            "colorscale": [
             [
              0.0,
              "#0d0887"
             ],
             [
              0.1111111111111111,
              "#46039f"
             ],
             [
              0.2222222222222222,
              "#7201a8"
             ],
             [
              0.3333333333333333,
              "#9c179e"
             ],
             [
              0.4444444444444444,
              "#bd3786"
             ],
             [
              0.5555555555555556,
              "#d8576b"
             ],
             [
              0.6666666666666666,
              "#ed7953"
             ],
             [
              0.7777777777777778,
              "#fb9f3a"
             ],
             [
              0.8888888888888888,
              "#fdca26"
             ],
             [
              1.0,
              "#f0f921"
             ]
            ],
            "type": "heatmap"
           }
          ],
          "histogram2dcontour": [
           {
            "colorbar": {
             "outlinewidth": 0,
             "ticks": ""
            },
            "colorscale": [
             [
              0.0,
              "#0d0887"
             ],
             [
              0.1111111111111111,
              "#46039f"
             ],
             [
              0.2222222222222222,
              "#7201a8"
             ],
             [
              0.3333333333333333,
              "#9c179e"
             ],
             [
              0.4444444444444444,
              "#bd3786"
             ],
             [
              0.5555555555555556,
              "#d8576b"
             ],
             [
              0.6666666666666666,
              "#ed7953"
             ],
             [
              0.7777777777777778,
              "#fb9f3a"
             ],
             [
              0.8888888888888888,
              "#fdca26"
             ],
             [
              1.0,
              "#f0f921"
             ]
            ],
            "type": "histogram2dcontour"
           }
          ],
          "histogram2d": [
           {
            "colorbar": {
             "outlinewidth": 0,
             "ticks": ""
            },
            "colorscale": [
             [
              0.0,
              "#0d0887"
             ],
             [
              0.1111111111111111,
              "#46039f"
             ],
             [
              0.2222222222222222,
              "#7201a8"
             ],
             [
              0.3333333333333333,
              "#9c179e"
             ],
             [
              0.4444444444444444,
              "#bd3786"
             ],
             [
              0.5555555555555556,
              "#d8576b"
             ],
             [
              0.6666666666666666,
              "#ed7953"
             ],
             [
              0.7777777777777778,
              "#fb9f3a"
             ],
             [
              0.8888888888888888,
              "#fdca26"
             ],
             [
              1.0,
              "#f0f921"
             ]
            ],
            "type": "histogram2d"
           }
          ],
          "histogram": [
           {
            "marker": {
             "pattern": {
              "fillmode": "overlay",
              "size": 10,
              "solidity": 0.2
             }
            },
            "type": "histogram"
           }
          ],
          "mesh3d": [
           {
            "colorbar": {
             "outlinewidth": 0,
             "ticks": ""
            },
            "type": "mesh3d"
           }
          ],
          "parcoords": [
           {
            "line": {
             "colorbar": {
              "outlinewidth": 0,
              "ticks": ""
             }
            },
            "type": "parcoords"
           }
          ],
          "pie": [
           {
            "automargin": true,
            "type": "pie"
           }
          ],
          "scatter3d": [
           {
            "line": {
             "colorbar": {
              "outlinewidth": 0,
              "ticks": ""
             }
            },
            "marker": {
             "colorbar": {
              "outlinewidth": 0,
              "ticks": ""
             }
            },
            "type": "scatter3d"
           }
          ],
          "scattercarpet": [
           {
            "marker": {
             "colorbar": {
              "outlinewidth": 0,
              "ticks": ""
             }
            },
            "type": "scattercarpet"
           }
          ],
          "scattergeo": [
           {
            "marker": {
             "colorbar": {
              "outlinewidth": 0,
              "ticks": ""
             }
            },
            "type": "scattergeo"
           }
          ],
          "scattergl": [
           {
            "marker": {
             "line": {
              "color": "#283442"
             }
            },
            "type": "scattergl"
           }
          ],
          "scattermapbox": [
           {
            "marker": {
             "colorbar": {
              "outlinewidth": 0,
              "ticks": ""
             }
            },
            "type": "scattermapbox"
           }
          ],
          "scatterpolargl": [
           {
            "marker": {
             "colorbar": {
              "outlinewidth": 0,
              "ticks": ""
             }
            },
            "type": "scatterpolargl"
           }
          ],
          "scatterpolar": [
           {
            "marker": {
             "colorbar": {
              "outlinewidth": 0,
              "ticks": ""
             }
            },
            "type": "scatterpolar"
           }
          ],
          "scatter": [
           {
            "marker": {
             "line": {
              "color": "#283442"
             }
            },
            "type": "scatter"
           }
          ],
          "scatterternary": [
           {
            "marker": {
             "colorbar": {
              "outlinewidth": 0,
              "ticks": ""
             }
            },
            "type": "scatterternary"
           }
          ],
          "surface": [
           {
            "colorbar": {
             "outlinewidth": 0,
             "ticks": ""
            },
            "colorscale": [
             [
              0.0,
              "#0d0887"
             ],
             [
              0.1111111111111111,
              "#46039f"
             ],
             [
              0.2222222222222222,
              "#7201a8"
             ],
             [
              0.3333333333333333,
              "#9c179e"
             ],
             [
              0.4444444444444444,
              "#bd3786"
             ],
             [
              0.5555555555555556,
              "#d8576b"
             ],
             [
              0.6666666666666666,
              "#ed7953"
             ],
             [
              0.7777777777777778,
              "#fb9f3a"
             ],
             [
              0.8888888888888888,
              "#fdca26"
             ],
             [
              1.0,
              "#f0f921"
             ]
            ],
            "type": "surface"
           }
          ],
          "table": [
           {
            "cells": {
             "fill": {
              "color": "#506784"
             },
             "line": {
              "color": "rgb(17,17,17)"
             }
            },
            "header": {
             "fill": {
              "color": "#2a3f5f"
             },
             "line": {
              "color": "rgb(17,17,17)"
             }
            },
            "type": "table"
           }
          ]
         },
         "layout": {
          "annotationdefaults": {
           "arrowcolor": "#f2f5fa",
           "arrowhead": 0,
           "arrowwidth": 1
          },
          "autotypenumbers": "strict",
          "coloraxis": {
           "colorbar": {
            "outlinewidth": 0,
            "ticks": ""
           }
          },
          "colorscale": {
           "diverging": [
            [
             0,
             "#8e0152"
            ],
            [
             0.1,
             "#c51b7d"
            ],
            [
             0.2,
             "#de77ae"
            ],
            [
             0.3,
             "#f1b6da"
            ],
            [
             0.4,
             "#fde0ef"
            ],
            [
             0.5,
             "#f7f7f7"
            ],
            [
             0.6,
             "#e6f5d0"
            ],
            [
             0.7,
             "#b8e186"
            ],
            [
             0.8,
             "#7fbc41"
            ],
            [
             0.9,
             "#4d9221"
            ],
            [
             1,
             "#276419"
            ]
           ],
           "sequential": [
            [
             0.0,
             "#0d0887"
            ],
            [
             0.1111111111111111,
             "#46039f"
            ],
            [
             0.2222222222222222,
             "#7201a8"
            ],
            [
             0.3333333333333333,
             "#9c179e"
            ],
            [
             0.4444444444444444,
             "#bd3786"
            ],
            [
             0.5555555555555556,
             "#d8576b"
            ],
            [
             0.6666666666666666,
             "#ed7953"
            ],
            [
             0.7777777777777778,
             "#fb9f3a"
            ],
            [
             0.8888888888888888,
             "#fdca26"
            ],
            [
             1.0,
             "#f0f921"
            ]
           ],
           "sequentialminus": [
            [
             0.0,
             "#0d0887"
            ],
            [
             0.1111111111111111,
             "#46039f"
            ],
            [
             0.2222222222222222,
             "#7201a8"
            ],
            [
             0.3333333333333333,
             "#9c179e"
            ],
            [
             0.4444444444444444,
             "#bd3786"
            ],
            [
             0.5555555555555556,
             "#d8576b"
            ],
            [
             0.6666666666666666,
             "#ed7953"
            ],
            [
             0.7777777777777778,
             "#fb9f3a"
            ],
            [
             0.8888888888888888,
             "#fdca26"
            ],
            [
             1.0,
             "#f0f921"
            ]
           ]
          },
          "colorway": [
           "#636efa",
           "#EF553B",
           "#00cc96",
           "#ab63fa",
           "#FFA15A",
           "#19d3f3",
           "#FF6692",
           "#B6E880",
           "#FF97FF",
           "#FECB52"
          ],
          "font": {
           "color": "#f2f5fa"
          },
          "geo": {
           "bgcolor": "rgb(17,17,17)",
           "lakecolor": "rgb(17,17,17)",
           "landcolor": "rgb(17,17,17)",
           "showlakes": true,
           "showland": true,
           "subunitcolor": "#506784"
          },
          "hoverlabel": {
           "align": "left"
          },
          "hovermode": "closest",
          "mapbox": {
           "style": "dark"
          },
          "paper_bgcolor": "rgb(17,17,17)",
          "plot_bgcolor": "rgb(17,17,17)",
          "polar": {
           "angularaxis": {
            "gridcolor": "#506784",
            "linecolor": "#506784",
            "ticks": ""
           },
           "bgcolor": "rgb(17,17,17)",
           "radialaxis": {
            "gridcolor": "#506784",
            "linecolor": "#506784",
            "ticks": ""
           }
          },
          "scene": {
           "xaxis": {
            "backgroundcolor": "rgb(17,17,17)",
            "gridcolor": "#506784",
            "gridwidth": 2,
            "linecolor": "#506784",
            "showbackground": true,
            "ticks": "",
            "zerolinecolor": "#C8D4E3"
           },
           "yaxis": {
            "backgroundcolor": "rgb(17,17,17)",
            "gridcolor": "#506784",
            "gridwidth": 2,
            "linecolor": "#506784",
            "showbackground": true,
            "ticks": "",
            "zerolinecolor": "#C8D4E3"
           },
           "zaxis": {
            "backgroundcolor": "rgb(17,17,17)",
            "gridcolor": "#506784",
            "gridwidth": 2,
            "linecolor": "#506784",
            "showbackground": true,
            "ticks": "",
            "zerolinecolor": "#C8D4E3"
           }
          },
          "shapedefaults": {
           "line": {
            "color": "#f2f5fa"
           }
          },
          "sliderdefaults": {
           "bgcolor": "#C8D4E3",
           "bordercolor": "rgb(17,17,17)",
           "borderwidth": 1,
           "tickwidth": 0
          },
          "ternary": {
           "aaxis": {
            "gridcolor": "#506784",
            "linecolor": "#506784",
            "ticks": ""
           },
           "baxis": {
            "gridcolor": "#506784",
            "linecolor": "#506784",
            "ticks": ""
           },
           "bgcolor": "rgb(17,17,17)",
           "caxis": {
            "gridcolor": "#506784",
            "linecolor": "#506784",
            "ticks": ""
           }
          },
          "title": {
           "x": 0.05
          },
          "updatemenudefaults": {
           "bgcolor": "#506784",
           "borderwidth": 0
          },
          "xaxis": {
           "automargin": true,
           "gridcolor": "#283442",
           "linecolor": "#506784",
           "ticks": "",
           "title": {
            "standoff": 15
           },
           "zerolinecolor": "#283442",
           "zerolinewidth": 2
          },
          "yaxis": {
           "automargin": true,
           "gridcolor": "#283442",
           "linecolor": "#506784",
           "ticks": "",
           "title": {
            "standoff": 15
           },
           "zerolinecolor": "#283442",
           "zerolinewidth": 2
          }
         }
        }
       },
       "config": {
        "showLink": false,
        "linkText": "Export to plot.ly",
        "plotlyServerURL": "https://plot.ly"
       }
      },
      "text/html": "<div>                            <div id=\"f22ce343-2b6c-4fca-a816-b9daffcac120\" class=\"plotly-graph-div\" style=\"height:525px; width:100%;\"></div>            <script type=\"text/javascript\">                require([\"plotly\"], function(Plotly) {                    window.PLOTLYENV=window.PLOTLYENV || {};                                    if (document.getElementById(\"f22ce343-2b6c-4fca-a816-b9daffcac120\")) {                    Plotly.newPlot(                        \"f22ce343-2b6c-4fca-a816-b9daffcac120\",                        [{\"mode\":\"lines\",\"name\":\"fut\",\"x\":[80000.0,82000.0,84000.0,85000.0,86000.0,88000.0,90000.0,92000.0,94000.0,95000.0,96000.0,98000.0,100000.0],\"y\":[-7729.699999999997,-5727.740000000005,-3729.699999999997,-2729.699999999997,-1729.699999999997,270.3000000000029,2270.300000000003,4270.300000000003,6270.300000000003,7270.300000000003,8270.300000000003,10270.300000000003,12270.300000000003],\"type\":\"scatter\"},{\"mode\":\"lines\",\"name\":\"short call atm 88000.0\",\"x\":[80000.0,82000.0,84000.0,85000.0,86000.0,88000.0,90000.0,92000.0,94000.0,95000.0,96000.0,98000.0,100000.0],\"y\":[4853.424495,4853.424495,4853.424495,4853.424495,4853.424495,4853.424495,2853.424495,853.4244950000002,-1146.5755049999998,-2146.575505,-3146.575505,-5146.575505,-7146.575505],\"type\":\"scatter\"},{\"mode\":\"lines\",\"name\":\"call 92000.0\",\"x\":[80000.0,82000.0,84000.0,85000.0,86000.0,88000.0,90000.0,92000.0,94000.0,95000.0,96000.0,98000.0,100000.0],\"y\":[3366.789965,3366.789965,3366.789965,3366.789965,3366.789965,3366.789965,3366.789965,3366.789965,1366.789965,366.78996499999994,-633.2100350000001,-2633.210035,-4633.210035],\"type\":\"scatter\"}],                        {\"template\":{\"data\":{\"barpolar\":[{\"marker\":{\"line\":{\"color\":\"rgb(17,17,17)\",\"width\":0.5},\"pattern\":{\"fillmode\":\"overlay\",\"size\":10,\"solidity\":0.2}},\"type\":\"barpolar\"}],\"bar\":[{\"error_x\":{\"color\":\"#f2f5fa\"},\"error_y\":{\"color\":\"#f2f5fa\"},\"marker\":{\"line\":{\"color\":\"rgb(17,17,17)\",\"width\":0.5},\"pattern\":{\"fillmode\":\"overlay\",\"size\":10,\"solidity\":0.2}},\"type\":\"bar\"}],\"carpet\":[{\"aaxis\":{\"endlinecolor\":\"#A2B1C6\",\"gridcolor\":\"#506784\",\"linecolor\":\"#506784\",\"minorgridcolor\":\"#506784\",\"startlinecolor\":\"#A2B1C6\"},\"baxis\":{\"endlinecolor\":\"#A2B1C6\",\"gridcolor\":\"#506784\",\"linecolor\":\"#506784\",\"minorgridcolor\":\"#506784\",\"startlinecolor\":\"#A2B1C6\"},\"type\":\"carpet\"}],\"choropleth\":[{\"colorbar\":{\"outlinewidth\":0,\"ticks\":\"\"},\"type\":\"choropleth\"}],\"contourcarpet\":[{\"colorbar\":{\"outlinewidth\":0,\"ticks\":\"\"},\"type\":\"contourcarpet\"}],\"contour\":[{\"colorbar\":{\"outlinewidth\":0,\"ticks\":\"\"},\"colorscale\":[[0.0,\"#0d0887\"],[0.1111111111111111,\"#46039f\"],[0.2222222222222222,\"#7201a8\"],[0.3333333333333333,\"#9c179e\"],[0.4444444444444444,\"#bd3786\"],[0.5555555555555556,\"#d8576b\"],[0.6666666666666666,\"#ed7953\"],[0.7777777777777778,\"#fb9f3a\"],[0.8888888888888888,\"#fdca26\"],[1.0,\"#f0f921\"]],\"type\":\"contour\"}],\"heatmapgl\":[{\"colorbar\":{\"outlinewidth\":0,\"ticks\":\"\"},\"colorscale\":[[0.0,\"#0d0887\"],[0.1111111111111111,\"#46039f\"],[0.2222222222222222,\"#7201a8\"],[0.3333333333333333,\"#9c179e\"],[0.4444444444444444,\"#bd3786\"],[0.5555555555555556,\"#d8576b\"],[0.6666666666666666,\"#ed7953\"],[0.7777777777777778,\"#fb9f3a\"],[0.8888888888888888,\"#fdca26\"],[1.0,\"#f0f921\"]],\"type\":\"heatmapgl\"}],\"heatmap\":[{\"colorbar\":{\"outlinewidth\":0,\"ticks\":\"\"},\"colorscale\":[[0.0,\"#0d0887\"],[0.1111111111111111,\"#46039f\"],[0.2222222222222222,\"#7201a8\"],[0.3333333333333333,\"#9c179e\"],[0.4444444444444444,\"#bd3786\"],[0.5555555555555556,\"#d8576b\"],[0.6666666666666666,\"#ed7953\"],[0.7777777777777778,\"#fb9f3a\"],[0.8888888888888888,\"#fdca26\"],[1.0,\"#f0f921\"]],\"type\":\"heatmap\"}],\"histogram2dcontour\":[{\"colorbar\":{\"outlinewidth\":0,\"ticks\":\"\"},\"colorscale\":[[0.0,\"#0d0887\"],[0.1111111111111111,\"#46039f\"],[0.2222222222222222,\"#7201a8\"],[0.3333333333333333,\"#9c179e\"],[0.4444444444444444,\"#bd3786\"],[0.5555555555555556,\"#d8576b\"],[0.6666666666666666,\"#ed7953\"],[0.7777777777777778,\"#fb9f3a\"],[0.8888888888888888,\"#fdca26\"],[1.0,\"#f0f921\"]],\"type\":\"histogram2dcontour\"}],\"histogram2d\":[{\"colorbar\":{\"outlinewidth\":0,\"ticks\":\"\"},\"colorscale\":[[0.0,\"#0d0887\"],[0.1111111111111111,\"#46039f\"],[0.2222222222222222,\"#7201a8\"],[0.3333333333333333,\"#9c179e\"],[0.4444444444444444,\"#bd3786\"],[0.5555555555555556,\"#d8576b\"],[0.6666666666666666,\"#ed7953\"],[0.7777777777777778,\"#fb9f3a\"],[0.8888888888888888,\"#fdca26\"],[1.0,\"#f0f921\"]],\"type\":\"histogram2d\"}],\"histogram\":[{\"marker\":{\"pattern\":{\"fillmode\":\"overlay\",\"size\":10,\"solidity\":0.2}},\"type\":\"histogram\"}],\"mesh3d\":[{\"colorbar\":{\"outlinewidth\":0,\"ticks\":\"\"},\"type\":\"mesh3d\"}],\"parcoords\":[{\"line\":{\"colorbar\":{\"outlinewidth\":0,\"ticks\":\"\"}},\"type\":\"parcoords\"}],\"pie\":[{\"automargin\":true,\"type\":\"pie\"}],\"scatter3d\":[{\"line\":{\"colorbar\":{\"outlinewidth\":0,\"ticks\":\"\"}},\"marker\":{\"colorbar\":{\"outlinewidth\":0,\"ticks\":\"\"}},\"type\":\"scatter3d\"}],\"scattercarpet\":[{\"marker\":{\"colorbar\":{\"outlinewidth\":0,\"ticks\":\"\"}},\"type\":\"scattercarpet\"}],\"scattergeo\":[{\"marker\":{\"colorbar\":{\"outlinewidth\":0,\"ticks\":\"\"}},\"type\":\"scattergeo\"}],\"scattergl\":[{\"marker\":{\"line\":{\"color\":\"#283442\"}},\"type\":\"scattergl\"}],\"scattermapbox\":[{\"marker\":{\"colorbar\":{\"outlinewidth\":0,\"ticks\":\"\"}},\"type\":\"scattermapbox\"}],\"scatterpolargl\":[{\"marker\":{\"colorbar\":{\"outlinewidth\":0,\"ticks\":\"\"}},\"type\":\"scatterpolargl\"}],\"scatterpolar\":[{\"marker\":{\"colorbar\":{\"outlinewidth\":0,\"ticks\":\"\"}},\"type\":\"scatterpolar\"}],\"scatter\":[{\"marker\":{\"line\":{\"color\":\"#283442\"}},\"type\":\"scatter\"}],\"scatterternary\":[{\"marker\":{\"colorbar\":{\"outlinewidth\":0,\"ticks\":\"\"}},\"type\":\"scatterternary\"}],\"surface\":[{\"colorbar\":{\"outlinewidth\":0,\"ticks\":\"\"},\"colorscale\":[[0.0,\"#0d0887\"],[0.1111111111111111,\"#46039f\"],[0.2222222222222222,\"#7201a8\"],[0.3333333333333333,\"#9c179e\"],[0.4444444444444444,\"#bd3786\"],[0.5555555555555556,\"#d8576b\"],[0.6666666666666666,\"#ed7953\"],[0.7777777777777778,\"#fb9f3a\"],[0.8888888888888888,\"#fdca26\"],[1.0,\"#f0f921\"]],\"type\":\"surface\"}],\"table\":[{\"cells\":{\"fill\":{\"color\":\"#506784\"},\"line\":{\"color\":\"rgb(17,17,17)\"}},\"header\":{\"fill\":{\"color\":\"#2a3f5f\"},\"line\":{\"color\":\"rgb(17,17,17)\"}},\"type\":\"table\"}]},\"layout\":{\"annotationdefaults\":{\"arrowcolor\":\"#f2f5fa\",\"arrowhead\":0,\"arrowwidth\":1},\"autotypenumbers\":\"strict\",\"coloraxis\":{\"colorbar\":{\"outlinewidth\":0,\"ticks\":\"\"}},\"colorscale\":{\"diverging\":[[0,\"#8e0152\"],[0.1,\"#c51b7d\"],[0.2,\"#de77ae\"],[0.3,\"#f1b6da\"],[0.4,\"#fde0ef\"],[0.5,\"#f7f7f7\"],[0.6,\"#e6f5d0\"],[0.7,\"#b8e186\"],[0.8,\"#7fbc41\"],[0.9,\"#4d9221\"],[1,\"#276419\"]],\"sequential\":[[0.0,\"#0d0887\"],[0.1111111111111111,\"#46039f\"],[0.2222222222222222,\"#7201a8\"],[0.3333333333333333,\"#9c179e\"],[0.4444444444444444,\"#bd3786\"],[0.5555555555555556,\"#d8576b\"],[0.6666666666666666,\"#ed7953\"],[0.7777777777777778,\"#fb9f3a\"],[0.8888888888888888,\"#fdca26\"],[1.0,\"#f0f921\"]],\"sequentialminus\":[[0.0,\"#0d0887\"],[0.1111111111111111,\"#46039f\"],[0.2222222222222222,\"#7201a8\"],[0.3333333333333333,\"#9c179e\"],[0.4444444444444444,\"#bd3786\"],[0.5555555555555556,\"#d8576b\"],[0.6666666666666666,\"#ed7953\"],[0.7777777777777778,\"#fb9f3a\"],[0.8888888888888888,\"#fdca26\"],[1.0,\"#f0f921\"]]},\"colorway\":[\"#636efa\",\"#EF553B\",\"#00cc96\",\"#ab63fa\",\"#FFA15A\",\"#19d3f3\",\"#FF6692\",\"#B6E880\",\"#FF97FF\",\"#FECB52\"],\"font\":{\"color\":\"#f2f5fa\"},\"geo\":{\"bgcolor\":\"rgb(17,17,17)\",\"lakecolor\":\"rgb(17,17,17)\",\"landcolor\":\"rgb(17,17,17)\",\"showlakes\":true,\"showland\":true,\"subunitcolor\":\"#506784\"},\"hoverlabel\":{\"align\":\"left\"},\"hovermode\":\"closest\",\"mapbox\":{\"style\":\"dark\"},\"paper_bgcolor\":\"rgb(17,17,17)\",\"plot_bgcolor\":\"rgb(17,17,17)\",\"polar\":{\"angularaxis\":{\"gridcolor\":\"#506784\",\"linecolor\":\"#506784\",\"ticks\":\"\"},\"bgcolor\":\"rgb(17,17,17)\",\"radialaxis\":{\"gridcolor\":\"#506784\",\"linecolor\":\"#506784\",\"ticks\":\"\"}},\"scene\":{\"xaxis\":{\"backgroundcolor\":\"rgb(17,17,17)\",\"gridcolor\":\"#506784\",\"gridwidth\":2,\"linecolor\":\"#506784\",\"showbackground\":true,\"ticks\":\"\",\"zerolinecolor\":\"#C8D4E3\"},\"yaxis\":{\"backgroundcolor\":\"rgb(17,17,17)\",\"gridcolor\":\"#506784\",\"gridwidth\":2,\"linecolor\":\"#506784\",\"showbackground\":true,\"ticks\":\"\",\"zerolinecolor\":\"#C8D4E3\"},\"zaxis\":{\"backgroundcolor\":\"rgb(17,17,17)\",\"gridcolor\":\"#506784\",\"gridwidth\":2,\"linecolor\":\"#506784\",\"showbackground\":true,\"ticks\":\"\",\"zerolinecolor\":\"#C8D4E3\"}},\"shapedefaults\":{\"line\":{\"color\":\"#f2f5fa\"}},\"sliderdefaults\":{\"bgcolor\":\"#C8D4E3\",\"bordercolor\":\"rgb(17,17,17)\",\"borderwidth\":1,\"tickwidth\":0},\"ternary\":{\"aaxis\":{\"gridcolor\":\"#506784\",\"linecolor\":\"#506784\",\"ticks\":\"\"},\"baxis\":{\"gridcolor\":\"#506784\",\"linecolor\":\"#506784\",\"ticks\":\"\"},\"bgcolor\":\"rgb(17,17,17)\",\"caxis\":{\"gridcolor\":\"#506784\",\"linecolor\":\"#506784\",\"ticks\":\"\"}},\"title\":{\"x\":0.05},\"updatemenudefaults\":{\"bgcolor\":\"#506784\",\"borderwidth\":0},\"xaxis\":{\"automargin\":true,\"gridcolor\":\"#283442\",\"linecolor\":\"#506784\",\"ticks\":\"\",\"title\":{\"standoff\":15},\"zerolinecolor\":\"#283442\",\"zerolinewidth\":2},\"yaxis\":{\"automargin\":true,\"gridcolor\":\"#283442\",\"linecolor\":\"#506784\",\"ticks\":\"\",\"title\":{\"standoff\":15},\"zerolinecolor\":\"#283442\",\"zerolinewidth\":2}}}},                        {\"responsive\": true}                    ).then(function(){\n                            \nvar gd = document.getElementById('f22ce343-2b6c-4fca-a816-b9daffcac120');\nvar x = new MutationObserver(function (mutations, observer) {{\n        var display = window.getComputedStyle(gd).display;\n        if (!display || display === 'none') {{\n            console.log([gd, 'removed!']);\n            Plotly.purge(gd);\n            observer.disconnect();\n        }}\n}});\n\n// Listen for the removal of the full notebook cells\nvar notebookContainer = gd.closest('#notebook-container');\nif (notebookContainer) {{\n    x.observe(notebookContainer, {childList: true});\n}}\n\n// Listen for the clearing of the current output cell\nvar outputEl = gd.closest('.output');\nif (outputEl) {{\n    x.observe(outputEl, {childList: true});\n}}\n\n                        })                };                });            </script>        </div>"
     },
     "metadata": {},
     "output_type": "display_data"
    }
   ],
   "source": [
    "short_call_view_1 = short_long_risk_profile[\n",
    "    (short_long_risk_profile['strike'] > strike_start) & (short_long_risk_profile['strike'] < strike_end)]\n",
    "short_call_view_otm = short_long_risk_profile_otm[\n",
    "    (short_long_risk_profile_otm['strike'] > strike_start) & (short_long_risk_profile_otm['strike'] < strike_end)]\n",
    "data = [\n",
    "    go.Scatter(x=fut_view['strike'], y=fut_view['risk_pnl'].to_list(), mode='lines', name='fut'),\n",
    "\n",
    "    go.Scatter(x=short_call_view_1['strike'], y=short_call_view_1['risk_pnl'].to_list(), mode='lines',\n",
    "               name=f'short call atm {short_long_legs[0].strike}'),\n",
    "    go.Scatter(x=short_call_view_otm['strike'], y=short_call_view_otm['risk_pnl'], mode='lines',\n",
    "               name=f'call {short_long_legs_otm[0].strike}'),\n",
    "]\n",
    "iplot(data)"
   ],
   "metadata": {
    "collapsed": false
   }
  },
  {
   "cell_type": "markdown",
   "source": [
    "Selling uncovered options involves three main risks:\n",
    "\n",
    "1. BA's move against our position (price risk)\n",
    "\n",
    "2. Increased volatility in the market\n",
    "\n",
    "3. Possible increase in the guarantee provision for the position\n",
    "\n",
    "Note that, unlike buying options, time works for us, not against us.\n"
   ],
   "metadata": {
    "collapsed": false
   }
  },
  {
   "cell_type": "markdown",
   "source": [
    "### Non-linearity of loss\n",
    "\n",
    "When selling an option, losses increase more than profits with the same price change.\n",
    "\n",
    "It is quite possible to get a loss when selling options not only because of the strong movement of the BA against our position, but also as a result of increased market volatility due to the increased margin requirement\n",
    "\n"
   ],
   "metadata": {
    "collapsed": false
   }
  },
  {
   "cell_type": "code",
   "execution_count": 30,
   "outputs": [
    {
     "data": {
      "application/vnd.plotly.v1+json": {
       "data": [
        {
         "mode": "lines",
         "name": "fut",
         "x": [
          80000.0,
          82000.0,
          84000.0,
          85000.0,
          86000.0,
          88000.0,
          90000.0,
          92000.0,
          94000.0,
          95000.0,
          96000.0,
          98000.0,
          100000.0
         ],
         "y": [
          -7729.699999999997,
          -5727.740000000005,
          -3729.699999999997,
          -2729.699999999997,
          -1729.699999999997,
          270.3000000000029,
          2270.300000000003,
          4270.300000000003,
          6270.300000000003,
          7270.300000000003,
          8270.300000000003,
          10270.300000000003,
          12270.300000000003
         ],
         "type": "scatter"
        },
        {
         "mode": "lines",
         "name": "short call atm 88000.0",
         "x": [
          80000.0,
          82000.0,
          84000.0,
          85000.0,
          86000.0,
          88000.0,
          90000.0,
          92000.0,
          94000.0,
          95000.0,
          96000.0,
          98000.0,
          100000.0
         ],
         "y": [
          4853.424495,
          4853.424495,
          4853.424495,
          4853.424495,
          4853.424495,
          4853.424495,
          2853.424495,
          853.4244950000002,
          -1146.5755049999998,
          -2146.575505,
          -3146.575505,
          -5146.575505,
          -7146.575505
         ],
         "type": "scatter"
        },
        {
         "mode": "lines",
         "name": "short call atm premium 88000.0",
         "x": [
          80000.0,
          82000.0,
          84000.0,
          85000.0,
          86000.0,
          88000.0,
          90000.0,
          92000.0,
          94000.0,
          95000.0,
          96000.0,
          98000.0,
          100000.0
         ],
         "y": [
          4108.515495000001,
          4294.7427450000005,
          1507.7009349999998,
          1469.6409250000006,
          1038.0600100000001,
          0.0,
          -1431.5809149999977,
          -2513.3654700000034,
          -3944.946385000002,
          -4463.976389999995,
          -4853.424495,
          -4853.424495,
          -4853.424495
         ],
         "type": "scatter"
        }
       ],
       "layout": {
        "template": {
         "data": {
          "barpolar": [
           {
            "marker": {
             "line": {
              "color": "rgb(17,17,17)",
              "width": 0.5
             },
             "pattern": {
              "fillmode": "overlay",
              "size": 10,
              "solidity": 0.2
             }
            },
            "type": "barpolar"
           }
          ],
          "bar": [
           {
            "error_x": {
             "color": "#f2f5fa"
            },
            "error_y": {
             "color": "#f2f5fa"
            },
            "marker": {
             "line": {
              "color": "rgb(17,17,17)",
              "width": 0.5
             },
             "pattern": {
              "fillmode": "overlay",
              "size": 10,
              "solidity": 0.2
             }
            },
            "type": "bar"
           }
          ],
          "carpet": [
           {
            "aaxis": {
             "endlinecolor": "#A2B1C6",
             "gridcolor": "#506784",
             "linecolor": "#506784",
             "minorgridcolor": "#506784",
             "startlinecolor": "#A2B1C6"
            },
            "baxis": {
             "endlinecolor": "#A2B1C6",
             "gridcolor": "#506784",
             "linecolor": "#506784",
             "minorgridcolor": "#506784",
             "startlinecolor": "#A2B1C6"
            },
            "type": "carpet"
           }
          ],
          "choropleth": [
           {
            "colorbar": {
             "outlinewidth": 0,
             "ticks": ""
            },
            "type": "choropleth"
           }
          ],
          "contourcarpet": [
           {
            "colorbar": {
             "outlinewidth": 0,
             "ticks": ""
            },
            "type": "contourcarpet"
           }
          ],
          "contour": [
           {
            "colorbar": {
             "outlinewidth": 0,
             "ticks": ""
            },
            "colorscale": [
             [
              0.0,
              "#0d0887"
             ],
             [
              0.1111111111111111,
              "#46039f"
             ],
             [
              0.2222222222222222,
              "#7201a8"
             ],
             [
              0.3333333333333333,
              "#9c179e"
             ],
             [
              0.4444444444444444,
              "#bd3786"
             ],
             [
              0.5555555555555556,
              "#d8576b"
             ],
             [
              0.6666666666666666,
              "#ed7953"
             ],
             [
              0.7777777777777778,
              "#fb9f3a"
             ],
             [
              0.8888888888888888,
              "#fdca26"
             ],
             [
              1.0,
              "#f0f921"
             ]
            ],
            "type": "contour"
           }
          ],
          "heatmapgl": [
           {
            "colorbar": {
             "outlinewidth": 0,
             "ticks": ""
            },
            "colorscale": [
             [
              0.0,
              "#0d0887"
             ],
             [
              0.1111111111111111,
              "#46039f"
             ],
             [
              0.2222222222222222,
              "#7201a8"
             ],
             [
              0.3333333333333333,
              "#9c179e"
             ],
             [
              0.4444444444444444,
              "#bd3786"
             ],
             [
              0.5555555555555556,
              "#d8576b"
             ],
             [
              0.6666666666666666,
              "#ed7953"
             ],
             [
              0.7777777777777778,
              "#fb9f3a"
             ],
             [
              0.8888888888888888,
              "#fdca26"
             ],
             [
              1.0,
              "#f0f921"
             ]
            ],
            "type": "heatmapgl"
           }
          ],
          "heatmap": [
           {
            "colorbar": {
             "outlinewidth": 0,
             "ticks": ""
            },
            "colorscale": [
             [
              0.0,
              "#0d0887"
             ],
             [
              0.1111111111111111,
              "#46039f"
             ],
             [
              0.2222222222222222,
              "#7201a8"
             ],
             [
              0.3333333333333333,
              "#9c179e"
             ],
             [
              0.4444444444444444,
              "#bd3786"
             ],
             [
              0.5555555555555556,
              "#d8576b"
             ],
             [
              0.6666666666666666,
              "#ed7953"
             ],
             [
              0.7777777777777778,
              "#fb9f3a"
             ],
             [
              0.8888888888888888,
              "#fdca26"
             ],
             [
              1.0,
              "#f0f921"
             ]
            ],
            "type": "heatmap"
           }
          ],
          "histogram2dcontour": [
           {
            "colorbar": {
             "outlinewidth": 0,
             "ticks": ""
            },
            "colorscale": [
             [
              0.0,
              "#0d0887"
             ],
             [
              0.1111111111111111,
              "#46039f"
             ],
             [
              0.2222222222222222,
              "#7201a8"
             ],
             [
              0.3333333333333333,
              "#9c179e"
             ],
             [
              0.4444444444444444,
              "#bd3786"
             ],
             [
              0.5555555555555556,
              "#d8576b"
             ],
             [
              0.6666666666666666,
              "#ed7953"
             ],
             [
              0.7777777777777778,
              "#fb9f3a"
             ],
             [
              0.8888888888888888,
              "#fdca26"
             ],
             [
              1.0,
              "#f0f921"
             ]
            ],
            "type": "histogram2dcontour"
           }
          ],
          "histogram2d": [
           {
            "colorbar": {
             "outlinewidth": 0,
             "ticks": ""
            },
            "colorscale": [
             [
              0.0,
              "#0d0887"
             ],
             [
              0.1111111111111111,
              "#46039f"
             ],
             [
              0.2222222222222222,
              "#7201a8"
             ],
             [
              0.3333333333333333,
              "#9c179e"
             ],
             [
              0.4444444444444444,
              "#bd3786"
             ],
             [
              0.5555555555555556,
              "#d8576b"
             ],
             [
              0.6666666666666666,
              "#ed7953"
             ],
             [
              0.7777777777777778,
              "#fb9f3a"
             ],
             [
              0.8888888888888888,
              "#fdca26"
             ],
             [
              1.0,
              "#f0f921"
             ]
            ],
            "type": "histogram2d"
           }
          ],
          "histogram": [
           {
            "marker": {
             "pattern": {
              "fillmode": "overlay",
              "size": 10,
              "solidity": 0.2
             }
            },
            "type": "histogram"
           }
          ],
          "mesh3d": [
           {
            "colorbar": {
             "outlinewidth": 0,
             "ticks": ""
            },
            "type": "mesh3d"
           }
          ],
          "parcoords": [
           {
            "line": {
             "colorbar": {
              "outlinewidth": 0,
              "ticks": ""
             }
            },
            "type": "parcoords"
           }
          ],
          "pie": [
           {
            "automargin": true,
            "type": "pie"
           }
          ],
          "scatter3d": [
           {
            "line": {
             "colorbar": {
              "outlinewidth": 0,
              "ticks": ""
             }
            },
            "marker": {
             "colorbar": {
              "outlinewidth": 0,
              "ticks": ""
             }
            },
            "type": "scatter3d"
           }
          ],
          "scattercarpet": [
           {
            "marker": {
             "colorbar": {
              "outlinewidth": 0,
              "ticks": ""
             }
            },
            "type": "scattercarpet"
           }
          ],
          "scattergeo": [
           {
            "marker": {
             "colorbar": {
              "outlinewidth": 0,
              "ticks": ""
             }
            },
            "type": "scattergeo"
           }
          ],
          "scattergl": [
           {
            "marker": {
             "line": {
              "color": "#283442"
             }
            },
            "type": "scattergl"
           }
          ],
          "scattermapbox": [
           {
            "marker": {
             "colorbar": {
              "outlinewidth": 0,
              "ticks": ""
             }
            },
            "type": "scattermapbox"
           }
          ],
          "scatterpolargl": [
           {
            "marker": {
             "colorbar": {
              "outlinewidth": 0,
              "ticks": ""
             }
            },
            "type": "scatterpolargl"
           }
          ],
          "scatterpolar": [
           {
            "marker": {
             "colorbar": {
              "outlinewidth": 0,
              "ticks": ""
             }
            },
            "type": "scatterpolar"
           }
          ],
          "scatter": [
           {
            "marker": {
             "line": {
              "color": "#283442"
             }
            },
            "type": "scatter"
           }
          ],
          "scatterternary": [
           {
            "marker": {
             "colorbar": {
              "outlinewidth": 0,
              "ticks": ""
             }
            },
            "type": "scatterternary"
           }
          ],
          "surface": [
           {
            "colorbar": {
             "outlinewidth": 0,
             "ticks": ""
            },
            "colorscale": [
             [
              0.0,
              "#0d0887"
             ],
             [
              0.1111111111111111,
              "#46039f"
             ],
             [
              0.2222222222222222,
              "#7201a8"
             ],
             [
              0.3333333333333333,
              "#9c179e"
             ],
             [
              0.4444444444444444,
              "#bd3786"
             ],
             [
              0.5555555555555556,
              "#d8576b"
             ],
             [
              0.6666666666666666,
              "#ed7953"
             ],
             [
              0.7777777777777778,
              "#fb9f3a"
             ],
             [
              0.8888888888888888,
              "#fdca26"
             ],
             [
              1.0,
              "#f0f921"
             ]
            ],
            "type": "surface"
           }
          ],
          "table": [
           {
            "cells": {
             "fill": {
              "color": "#506784"
             },
             "line": {
              "color": "rgb(17,17,17)"
             }
            },
            "header": {
             "fill": {
              "color": "#2a3f5f"
             },
             "line": {
              "color": "rgb(17,17,17)"
             }
            },
            "type": "table"
           }
          ]
         },
         "layout": {
          "annotationdefaults": {
           "arrowcolor": "#f2f5fa",
           "arrowhead": 0,
           "arrowwidth": 1
          },
          "autotypenumbers": "strict",
          "coloraxis": {
           "colorbar": {
            "outlinewidth": 0,
            "ticks": ""
           }
          },
          "colorscale": {
           "diverging": [
            [
             0,
             "#8e0152"
            ],
            [
             0.1,
             "#c51b7d"
            ],
            [
             0.2,
             "#de77ae"
            ],
            [
             0.3,
             "#f1b6da"
            ],
            [
             0.4,
             "#fde0ef"
            ],
            [
             0.5,
             "#f7f7f7"
            ],
            [
             0.6,
             "#e6f5d0"
            ],
            [
             0.7,
             "#b8e186"
            ],
            [
             0.8,
             "#7fbc41"
            ],
            [
             0.9,
             "#4d9221"
            ],
            [
             1,
             "#276419"
            ]
           ],
           "sequential": [
            [
             0.0,
             "#0d0887"
            ],
            [
             0.1111111111111111,
             "#46039f"
            ],
            [
             0.2222222222222222,
             "#7201a8"
            ],
            [
             0.3333333333333333,
             "#9c179e"
            ],
            [
             0.4444444444444444,
             "#bd3786"
            ],
            [
             0.5555555555555556,
             "#d8576b"
            ],
            [
             0.6666666666666666,
             "#ed7953"
            ],
            [
             0.7777777777777778,
             "#fb9f3a"
            ],
            [
             0.8888888888888888,
             "#fdca26"
            ],
            [
             1.0,
             "#f0f921"
            ]
           ],
           "sequentialminus": [
            [
             0.0,
             "#0d0887"
            ],
            [
             0.1111111111111111,
             "#46039f"
            ],
            [
             0.2222222222222222,
             "#7201a8"
            ],
            [
             0.3333333333333333,
             "#9c179e"
            ],
            [
             0.4444444444444444,
             "#bd3786"
            ],
            [
             0.5555555555555556,
             "#d8576b"
            ],
            [
             0.6666666666666666,
             "#ed7953"
            ],
            [
             0.7777777777777778,
             "#fb9f3a"
            ],
            [
             0.8888888888888888,
             "#fdca26"
            ],
            [
             1.0,
             "#f0f921"
            ]
           ]
          },
          "colorway": [
           "#636efa",
           "#EF553B",
           "#00cc96",
           "#ab63fa",
           "#FFA15A",
           "#19d3f3",
           "#FF6692",
           "#B6E880",
           "#FF97FF",
           "#FECB52"
          ],
          "font": {
           "color": "#f2f5fa"
          },
          "geo": {
           "bgcolor": "rgb(17,17,17)",
           "lakecolor": "rgb(17,17,17)",
           "landcolor": "rgb(17,17,17)",
           "showlakes": true,
           "showland": true,
           "subunitcolor": "#506784"
          },
          "hoverlabel": {
           "align": "left"
          },
          "hovermode": "closest",
          "mapbox": {
           "style": "dark"
          },
          "paper_bgcolor": "rgb(17,17,17)",
          "plot_bgcolor": "rgb(17,17,17)",
          "polar": {
           "angularaxis": {
            "gridcolor": "#506784",
            "linecolor": "#506784",
            "ticks": ""
           },
           "bgcolor": "rgb(17,17,17)",
           "radialaxis": {
            "gridcolor": "#506784",
            "linecolor": "#506784",
            "ticks": ""
           }
          },
          "scene": {
           "xaxis": {
            "backgroundcolor": "rgb(17,17,17)",
            "gridcolor": "#506784",
            "gridwidth": 2,
            "linecolor": "#506784",
            "showbackground": true,
            "ticks": "",
            "zerolinecolor": "#C8D4E3"
           },
           "yaxis": {
            "backgroundcolor": "rgb(17,17,17)",
            "gridcolor": "#506784",
            "gridwidth": 2,
            "linecolor": "#506784",
            "showbackground": true,
            "ticks": "",
            "zerolinecolor": "#C8D4E3"
           },
           "zaxis": {
            "backgroundcolor": "rgb(17,17,17)",
            "gridcolor": "#506784",
            "gridwidth": 2,
            "linecolor": "#506784",
            "showbackground": true,
            "ticks": "",
            "zerolinecolor": "#C8D4E3"
           }
          },
          "shapedefaults": {
           "line": {
            "color": "#f2f5fa"
           }
          },
          "sliderdefaults": {
           "bgcolor": "#C8D4E3",
           "bordercolor": "rgb(17,17,17)",
           "borderwidth": 1,
           "tickwidth": 0
          },
          "ternary": {
           "aaxis": {
            "gridcolor": "#506784",
            "linecolor": "#506784",
            "ticks": ""
           },
           "baxis": {
            "gridcolor": "#506784",
            "linecolor": "#506784",
            "ticks": ""
           },
           "bgcolor": "rgb(17,17,17)",
           "caxis": {
            "gridcolor": "#506784",
            "linecolor": "#506784",
            "ticks": ""
           }
          },
          "title": {
           "x": 0.05
          },
          "updatemenudefaults": {
           "bgcolor": "#506784",
           "borderwidth": 0
          },
          "xaxis": {
           "automargin": true,
           "gridcolor": "#283442",
           "linecolor": "#506784",
           "ticks": "",
           "title": {
            "standoff": 15
           },
           "zerolinecolor": "#283442",
           "zerolinewidth": 2
          },
          "yaxis": {
           "automargin": true,
           "gridcolor": "#283442",
           "linecolor": "#506784",
           "ticks": "",
           "title": {
            "standoff": 15
           },
           "zerolinecolor": "#283442",
           "zerolinewidth": 2
          }
         }
        }
       },
       "config": {
        "showLink": false,
        "linkText": "Export to plot.ly",
        "plotlyServerURL": "https://plot.ly"
       }
      },
      "text/html": "<div>                            <div id=\"1bb808e9-1492-425c-a73f-89bf6f2b3c63\" class=\"plotly-graph-div\" style=\"height:525px; width:100%;\"></div>            <script type=\"text/javascript\">                require([\"plotly\"], function(Plotly) {                    window.PLOTLYENV=window.PLOTLYENV || {};                                    if (document.getElementById(\"1bb808e9-1492-425c-a73f-89bf6f2b3c63\")) {                    Plotly.newPlot(                        \"1bb808e9-1492-425c-a73f-89bf6f2b3c63\",                        [{\"mode\":\"lines\",\"name\":\"fut\",\"x\":[80000.0,82000.0,84000.0,85000.0,86000.0,88000.0,90000.0,92000.0,94000.0,95000.0,96000.0,98000.0,100000.0],\"y\":[-7729.699999999997,-5727.740000000005,-3729.699999999997,-2729.699999999997,-1729.699999999997,270.3000000000029,2270.300000000003,4270.300000000003,6270.300000000003,7270.300000000003,8270.300000000003,10270.300000000003,12270.300000000003],\"type\":\"scatter\"},{\"mode\":\"lines\",\"name\":\"short call atm 88000.0\",\"x\":[80000.0,82000.0,84000.0,85000.0,86000.0,88000.0,90000.0,92000.0,94000.0,95000.0,96000.0,98000.0,100000.0],\"y\":[4853.424495,4853.424495,4853.424495,4853.424495,4853.424495,4853.424495,2853.424495,853.4244950000002,-1146.5755049999998,-2146.575505,-3146.575505,-5146.575505,-7146.575505],\"type\":\"scatter\"},{\"mode\":\"lines\",\"name\":\"short call atm premium 88000.0\",\"x\":[80000.0,82000.0,84000.0,85000.0,86000.0,88000.0,90000.0,92000.0,94000.0,95000.0,96000.0,98000.0,100000.0],\"y\":[4108.515495000001,4294.7427450000005,1507.7009349999998,1469.6409250000006,1038.0600100000001,0.0,-1431.5809149999977,-2513.3654700000034,-3944.946385000002,-4463.976389999995,-4853.424495,-4853.424495,-4853.424495],\"type\":\"scatter\"}],                        {\"template\":{\"data\":{\"barpolar\":[{\"marker\":{\"line\":{\"color\":\"rgb(17,17,17)\",\"width\":0.5},\"pattern\":{\"fillmode\":\"overlay\",\"size\":10,\"solidity\":0.2}},\"type\":\"barpolar\"}],\"bar\":[{\"error_x\":{\"color\":\"#f2f5fa\"},\"error_y\":{\"color\":\"#f2f5fa\"},\"marker\":{\"line\":{\"color\":\"rgb(17,17,17)\",\"width\":0.5},\"pattern\":{\"fillmode\":\"overlay\",\"size\":10,\"solidity\":0.2}},\"type\":\"bar\"}],\"carpet\":[{\"aaxis\":{\"endlinecolor\":\"#A2B1C6\",\"gridcolor\":\"#506784\",\"linecolor\":\"#506784\",\"minorgridcolor\":\"#506784\",\"startlinecolor\":\"#A2B1C6\"},\"baxis\":{\"endlinecolor\":\"#A2B1C6\",\"gridcolor\":\"#506784\",\"linecolor\":\"#506784\",\"minorgridcolor\":\"#506784\",\"startlinecolor\":\"#A2B1C6\"},\"type\":\"carpet\"}],\"choropleth\":[{\"colorbar\":{\"outlinewidth\":0,\"ticks\":\"\"},\"type\":\"choropleth\"}],\"contourcarpet\":[{\"colorbar\":{\"outlinewidth\":0,\"ticks\":\"\"},\"type\":\"contourcarpet\"}],\"contour\":[{\"colorbar\":{\"outlinewidth\":0,\"ticks\":\"\"},\"colorscale\":[[0.0,\"#0d0887\"],[0.1111111111111111,\"#46039f\"],[0.2222222222222222,\"#7201a8\"],[0.3333333333333333,\"#9c179e\"],[0.4444444444444444,\"#bd3786\"],[0.5555555555555556,\"#d8576b\"],[0.6666666666666666,\"#ed7953\"],[0.7777777777777778,\"#fb9f3a\"],[0.8888888888888888,\"#fdca26\"],[1.0,\"#f0f921\"]],\"type\":\"contour\"}],\"heatmapgl\":[{\"colorbar\":{\"outlinewidth\":0,\"ticks\":\"\"},\"colorscale\":[[0.0,\"#0d0887\"],[0.1111111111111111,\"#46039f\"],[0.2222222222222222,\"#7201a8\"],[0.3333333333333333,\"#9c179e\"],[0.4444444444444444,\"#bd3786\"],[0.5555555555555556,\"#d8576b\"],[0.6666666666666666,\"#ed7953\"],[0.7777777777777778,\"#fb9f3a\"],[0.8888888888888888,\"#fdca26\"],[1.0,\"#f0f921\"]],\"type\":\"heatmapgl\"}],\"heatmap\":[{\"colorbar\":{\"outlinewidth\":0,\"ticks\":\"\"},\"colorscale\":[[0.0,\"#0d0887\"],[0.1111111111111111,\"#46039f\"],[0.2222222222222222,\"#7201a8\"],[0.3333333333333333,\"#9c179e\"],[0.4444444444444444,\"#bd3786\"],[0.5555555555555556,\"#d8576b\"],[0.6666666666666666,\"#ed7953\"],[0.7777777777777778,\"#fb9f3a\"],[0.8888888888888888,\"#fdca26\"],[1.0,\"#f0f921\"]],\"type\":\"heatmap\"}],\"histogram2dcontour\":[{\"colorbar\":{\"outlinewidth\":0,\"ticks\":\"\"},\"colorscale\":[[0.0,\"#0d0887\"],[0.1111111111111111,\"#46039f\"],[0.2222222222222222,\"#7201a8\"],[0.3333333333333333,\"#9c179e\"],[0.4444444444444444,\"#bd3786\"],[0.5555555555555556,\"#d8576b\"],[0.6666666666666666,\"#ed7953\"],[0.7777777777777778,\"#fb9f3a\"],[0.8888888888888888,\"#fdca26\"],[1.0,\"#f0f921\"]],\"type\":\"histogram2dcontour\"}],\"histogram2d\":[{\"colorbar\":{\"outlinewidth\":0,\"ticks\":\"\"},\"colorscale\":[[0.0,\"#0d0887\"],[0.1111111111111111,\"#46039f\"],[0.2222222222222222,\"#7201a8\"],[0.3333333333333333,\"#9c179e\"],[0.4444444444444444,\"#bd3786\"],[0.5555555555555556,\"#d8576b\"],[0.6666666666666666,\"#ed7953\"],[0.7777777777777778,\"#fb9f3a\"],[0.8888888888888888,\"#fdca26\"],[1.0,\"#f0f921\"]],\"type\":\"histogram2d\"}],\"histogram\":[{\"marker\":{\"pattern\":{\"fillmode\":\"overlay\",\"size\":10,\"solidity\":0.2}},\"type\":\"histogram\"}],\"mesh3d\":[{\"colorbar\":{\"outlinewidth\":0,\"ticks\":\"\"},\"type\":\"mesh3d\"}],\"parcoords\":[{\"line\":{\"colorbar\":{\"outlinewidth\":0,\"ticks\":\"\"}},\"type\":\"parcoords\"}],\"pie\":[{\"automargin\":true,\"type\":\"pie\"}],\"scatter3d\":[{\"line\":{\"colorbar\":{\"outlinewidth\":0,\"ticks\":\"\"}},\"marker\":{\"colorbar\":{\"outlinewidth\":0,\"ticks\":\"\"}},\"type\":\"scatter3d\"}],\"scattercarpet\":[{\"marker\":{\"colorbar\":{\"outlinewidth\":0,\"ticks\":\"\"}},\"type\":\"scattercarpet\"}],\"scattergeo\":[{\"marker\":{\"colorbar\":{\"outlinewidth\":0,\"ticks\":\"\"}},\"type\":\"scattergeo\"}],\"scattergl\":[{\"marker\":{\"line\":{\"color\":\"#283442\"}},\"type\":\"scattergl\"}],\"scattermapbox\":[{\"marker\":{\"colorbar\":{\"outlinewidth\":0,\"ticks\":\"\"}},\"type\":\"scattermapbox\"}],\"scatterpolargl\":[{\"marker\":{\"colorbar\":{\"outlinewidth\":0,\"ticks\":\"\"}},\"type\":\"scatterpolargl\"}],\"scatterpolar\":[{\"marker\":{\"colorbar\":{\"outlinewidth\":0,\"ticks\":\"\"}},\"type\":\"scatterpolar\"}],\"scatter\":[{\"marker\":{\"line\":{\"color\":\"#283442\"}},\"type\":\"scatter\"}],\"scatterternary\":[{\"marker\":{\"colorbar\":{\"outlinewidth\":0,\"ticks\":\"\"}},\"type\":\"scatterternary\"}],\"surface\":[{\"colorbar\":{\"outlinewidth\":0,\"ticks\":\"\"},\"colorscale\":[[0.0,\"#0d0887\"],[0.1111111111111111,\"#46039f\"],[0.2222222222222222,\"#7201a8\"],[0.3333333333333333,\"#9c179e\"],[0.4444444444444444,\"#bd3786\"],[0.5555555555555556,\"#d8576b\"],[0.6666666666666666,\"#ed7953\"],[0.7777777777777778,\"#fb9f3a\"],[0.8888888888888888,\"#fdca26\"],[1.0,\"#f0f921\"]],\"type\":\"surface\"}],\"table\":[{\"cells\":{\"fill\":{\"color\":\"#506784\"},\"line\":{\"color\":\"rgb(17,17,17)\"}},\"header\":{\"fill\":{\"color\":\"#2a3f5f\"},\"line\":{\"color\":\"rgb(17,17,17)\"}},\"type\":\"table\"}]},\"layout\":{\"annotationdefaults\":{\"arrowcolor\":\"#f2f5fa\",\"arrowhead\":0,\"arrowwidth\":1},\"autotypenumbers\":\"strict\",\"coloraxis\":{\"colorbar\":{\"outlinewidth\":0,\"ticks\":\"\"}},\"colorscale\":{\"diverging\":[[0,\"#8e0152\"],[0.1,\"#c51b7d\"],[0.2,\"#de77ae\"],[0.3,\"#f1b6da\"],[0.4,\"#fde0ef\"],[0.5,\"#f7f7f7\"],[0.6,\"#e6f5d0\"],[0.7,\"#b8e186\"],[0.8,\"#7fbc41\"],[0.9,\"#4d9221\"],[1,\"#276419\"]],\"sequential\":[[0.0,\"#0d0887\"],[0.1111111111111111,\"#46039f\"],[0.2222222222222222,\"#7201a8\"],[0.3333333333333333,\"#9c179e\"],[0.4444444444444444,\"#bd3786\"],[0.5555555555555556,\"#d8576b\"],[0.6666666666666666,\"#ed7953\"],[0.7777777777777778,\"#fb9f3a\"],[0.8888888888888888,\"#fdca26\"],[1.0,\"#f0f921\"]],\"sequentialminus\":[[0.0,\"#0d0887\"],[0.1111111111111111,\"#46039f\"],[0.2222222222222222,\"#7201a8\"],[0.3333333333333333,\"#9c179e\"],[0.4444444444444444,\"#bd3786\"],[0.5555555555555556,\"#d8576b\"],[0.6666666666666666,\"#ed7953\"],[0.7777777777777778,\"#fb9f3a\"],[0.8888888888888888,\"#fdca26\"],[1.0,\"#f0f921\"]]},\"colorway\":[\"#636efa\",\"#EF553B\",\"#00cc96\",\"#ab63fa\",\"#FFA15A\",\"#19d3f3\",\"#FF6692\",\"#B6E880\",\"#FF97FF\",\"#FECB52\"],\"font\":{\"color\":\"#f2f5fa\"},\"geo\":{\"bgcolor\":\"rgb(17,17,17)\",\"lakecolor\":\"rgb(17,17,17)\",\"landcolor\":\"rgb(17,17,17)\",\"showlakes\":true,\"showland\":true,\"subunitcolor\":\"#506784\"},\"hoverlabel\":{\"align\":\"left\"},\"hovermode\":\"closest\",\"mapbox\":{\"style\":\"dark\"},\"paper_bgcolor\":\"rgb(17,17,17)\",\"plot_bgcolor\":\"rgb(17,17,17)\",\"polar\":{\"angularaxis\":{\"gridcolor\":\"#506784\",\"linecolor\":\"#506784\",\"ticks\":\"\"},\"bgcolor\":\"rgb(17,17,17)\",\"radialaxis\":{\"gridcolor\":\"#506784\",\"linecolor\":\"#506784\",\"ticks\":\"\"}},\"scene\":{\"xaxis\":{\"backgroundcolor\":\"rgb(17,17,17)\",\"gridcolor\":\"#506784\",\"gridwidth\":2,\"linecolor\":\"#506784\",\"showbackground\":true,\"ticks\":\"\",\"zerolinecolor\":\"#C8D4E3\"},\"yaxis\":{\"backgroundcolor\":\"rgb(17,17,17)\",\"gridcolor\":\"#506784\",\"gridwidth\":2,\"linecolor\":\"#506784\",\"showbackground\":true,\"ticks\":\"\",\"zerolinecolor\":\"#C8D4E3\"},\"zaxis\":{\"backgroundcolor\":\"rgb(17,17,17)\",\"gridcolor\":\"#506784\",\"gridwidth\":2,\"linecolor\":\"#506784\",\"showbackground\":true,\"ticks\":\"\",\"zerolinecolor\":\"#C8D4E3\"}},\"shapedefaults\":{\"line\":{\"color\":\"#f2f5fa\"}},\"sliderdefaults\":{\"bgcolor\":\"#C8D4E3\",\"bordercolor\":\"rgb(17,17,17)\",\"borderwidth\":1,\"tickwidth\":0},\"ternary\":{\"aaxis\":{\"gridcolor\":\"#506784\",\"linecolor\":\"#506784\",\"ticks\":\"\"},\"baxis\":{\"gridcolor\":\"#506784\",\"linecolor\":\"#506784\",\"ticks\":\"\"},\"bgcolor\":\"rgb(17,17,17)\",\"caxis\":{\"gridcolor\":\"#506784\",\"linecolor\":\"#506784\",\"ticks\":\"\"}},\"title\":{\"x\":0.05},\"updatemenudefaults\":{\"bgcolor\":\"#506784\",\"borderwidth\":0},\"xaxis\":{\"automargin\":true,\"gridcolor\":\"#283442\",\"linecolor\":\"#506784\",\"ticks\":\"\",\"title\":{\"standoff\":15},\"zerolinecolor\":\"#283442\",\"zerolinewidth\":2},\"yaxis\":{\"automargin\":true,\"gridcolor\":\"#283442\",\"linecolor\":\"#506784\",\"ticks\":\"\",\"title\":{\"standoff\":15},\"zerolinecolor\":\"#283442\",\"zerolinewidth\":2}}}},                        {\"responsive\": true}                    ).then(function(){\n                            \nvar gd = document.getElementById('1bb808e9-1492-425c-a73f-89bf6f2b3c63');\nvar x = new MutationObserver(function (mutations, observer) {{\n        var display = window.getComputedStyle(gd).display;\n        if (!display || display === 'none') {{\n            console.log([gd, 'removed!']);\n            Plotly.purge(gd);\n            observer.disconnect();\n        }}\n}});\n\n// Listen for the removal of the full notebook cells\nvar notebookContainer = gd.closest('#notebook-container');\nif (notebookContainer) {{\n    x.observe(notebookContainer, {childList: true});\n}}\n\n// Listen for the clearing of the current output cell\nvar outputEl = gd.closest('.output');\nif (outputEl) {{\n    x.observe(outputEl, {childList: true});\n}}\n\n                        })                };                });            </script>        </div>"
     },
     "metadata": {},
     "output_type": "display_data"
    }
   ],
   "source": [
    "data = [\n",
    "    go.Scatter(x=fut_view['strike'], y=fut_view['risk_pnl'].to_list(), mode='lines', name='fut'),\n",
    "\n",
    "    go.Scatter(x=short_call_view_1['strike'], y=short_call_view_1['risk_pnl'].to_list(), mode='lines',\n",
    "               name=f'short call atm {short_long_legs[0].strike}'),\n",
    "    go.Scatter(x=short_call_view_1['strike'], y=short_call_view_1['risk_pnl_premium'], mode='lines',\n",
    "               name=f'short call atm premium {short_long_legs[0].strike}'),\n",
    "]\n",
    "iplot(data)\n",
    "# TODO wrong premium caclulations, сделать сразу график профиля"
   ],
   "metadata": {
    "collapsed": false
   }
  },
  {
   "cell_type": "code",
   "execution_count": 31,
   "outputs": [
    {
     "data": {
      "application/vnd.plotly.v1+json": {
       "data": [
        {
         "mode": "lines",
         "name": "short call atm 88000.0",
         "x": [
          20000.0,
          30000.0,
          40000.0,
          45000.0,
          50000.0,
          55000.0,
          60000.0,
          65000.0,
          70000.0,
          75000.0,
          76000.0,
          78000.0,
          80000.0,
          82000.0,
          84000.0,
          85000.0,
          86000.0,
          88000.0,
          90000.0,
          92000.0,
          94000.0,
          95000.0,
          96000.0,
          98000.0,
          100000.0,
          102000.0,
          104000.0,
          105000.0,
          106000.0,
          108000.0,
          110000.0,
          112000.0,
          114000.0,
          115000.0,
          120000.0,
          125000.0,
          130000.0,
          135000.0,
          140000.0,
          145000.0,
          150000.0,
          160000.0,
          170000.0,
          175000.0,
          180000.0,
          200000.0,
          220000.0,
          250000.0,
          300000.0
         ],
         "y": [
          4853.424495,
          4853.424495,
          4853.424495,
          4853.424495,
          4853.424495,
          4853.424495,
          4853.424495,
          4853.424495,
          4853.424495,
          4853.424495,
          4853.424495,
          4853.424495,
          4853.424495,
          4853.424495,
          4853.424495,
          4853.424495,
          4853.424495,
          4853.424495,
          2853.424495,
          853.4244950000002,
          -1146.5755049999998,
          -2146.575505,
          -3146.575505,
          -5146.575505,
          -7146.575505,
          -9146.575505,
          -11146.575505,
          -12146.575505,
          -13146.575505,
          -15146.575505,
          -17146.575505,
          -19146.575505,
          -21146.575505,
          -22146.575505,
          -27146.575505,
          -32146.575505,
          -37146.575505,
          -42146.575505,
          -47146.575505,
          -52146.575505,
          -57146.575505,
          -67146.575505,
          -77146.575505,
          -82146.575505,
          -87146.575505,
          -107146.575505,
          -127146.575505,
          -157146.575505,
          -207146.575505
         ],
         "type": "scatter"
        },
        {
         "mode": "lines",
         "name": "short call atm premium 88000.0",
         "x": [
          20000.0,
          30000.0,
          40000.0,
          45000.0,
          50000.0,
          55000.0,
          60000.0,
          65000.0,
          70000.0,
          75000.0,
          76000.0,
          78000.0,
          80000.0,
          82000.0,
          84000.0,
          85000.0,
          86000.0,
          88000.0,
          90000.0,
          92000.0,
          94000.0,
          95000.0,
          96000.0,
          98000.0,
          100000.0,
          102000.0,
          104000.0,
          105000.0,
          106000.0,
          108000.0,
          110000.0,
          112000.0,
          114000.0,
          115000.0,
          120000.0,
          125000.0,
          130000.0,
          135000.0,
          140000.0,
          145000.0,
          150000.0,
          160000.0,
          170000.0,
          175000.0,
          180000.0,
          200000.0,
          220000.0,
          250000.0,
          300000.0
         ],
         "y": [
          4118.439755,
          6536.210534999999,
          6855.2031549999965,
          5440.615845000001,
          1839.8012850000023,
          -973.9714650000014,
          5516.838961000002,
          7171.714710000001,
          4008.1456000000007,
          538.504675000001,
          -942.4653199999984,
          4009.7373350000007,
          4108.515495000001,
          4294.7427450000005,
          1507.7009349999998,
          1469.6409250000006,
          1038.0600100000001,
          0.0,
          -1431.5809149999977,
          -2513.3654700000034,
          -3944.946385000002,
          -4463.976389999995,
          -4853.424495,
          -4853.424495,
          -4853.424495,
          -4853.424495,
          -4853.424495,
          -4853.424495,
          -4853.424495,
          -4853.424495,
          -4853.424495,
          -4853.424495,
          -4853.424495,
          -4853.424495,
          -4853.424495,
          -4853.424495,
          -4853.424495,
          -4853.424495,
          -4853.424495,
          -4853.424495,
          -4853.424495,
          -4853.424495,
          -4853.424495,
          -4853.424495,
          -4853.424495,
          -4853.424495,
          -4853.424495,
          -4853.424495,
          -4853.424495
         ],
         "type": "scatter"
        }
       ],
       "layout": {
        "template": {
         "data": {
          "barpolar": [
           {
            "marker": {
             "line": {
              "color": "rgb(17,17,17)",
              "width": 0.5
             },
             "pattern": {
              "fillmode": "overlay",
              "size": 10,
              "solidity": 0.2
             }
            },
            "type": "barpolar"
           }
          ],
          "bar": [
           {
            "error_x": {
             "color": "#f2f5fa"
            },
            "error_y": {
             "color": "#f2f5fa"
            },
            "marker": {
             "line": {
              "color": "rgb(17,17,17)",
              "width": 0.5
             },
             "pattern": {
              "fillmode": "overlay",
              "size": 10,
              "solidity": 0.2
             }
            },
            "type": "bar"
           }
          ],
          "carpet": [
           {
            "aaxis": {
             "endlinecolor": "#A2B1C6",
             "gridcolor": "#506784",
             "linecolor": "#506784",
             "minorgridcolor": "#506784",
             "startlinecolor": "#A2B1C6"
            },
            "baxis": {
             "endlinecolor": "#A2B1C6",
             "gridcolor": "#506784",
             "linecolor": "#506784",
             "minorgridcolor": "#506784",
             "startlinecolor": "#A2B1C6"
            },
            "type": "carpet"
           }
          ],
          "choropleth": [
           {
            "colorbar": {
             "outlinewidth": 0,
             "ticks": ""
            },
            "type": "choropleth"
           }
          ],
          "contourcarpet": [
           {
            "colorbar": {
             "outlinewidth": 0,
             "ticks": ""
            },
            "type": "contourcarpet"
           }
          ],
          "contour": [
           {
            "colorbar": {
             "outlinewidth": 0,
             "ticks": ""
            },
            "colorscale": [
             [
              0.0,
              "#0d0887"
             ],
             [
              0.1111111111111111,
              "#46039f"
             ],
             [
              0.2222222222222222,
              "#7201a8"
             ],
             [
              0.3333333333333333,
              "#9c179e"
             ],
             [
              0.4444444444444444,
              "#bd3786"
             ],
             [
              0.5555555555555556,
              "#d8576b"
             ],
             [
              0.6666666666666666,
              "#ed7953"
             ],
             [
              0.7777777777777778,
              "#fb9f3a"
             ],
             [
              0.8888888888888888,
              "#fdca26"
             ],
             [
              1.0,
              "#f0f921"
             ]
            ],
            "type": "contour"
           }
          ],
          "heatmapgl": [
           {
            "colorbar": {
             "outlinewidth": 0,
             "ticks": ""
            },
            "colorscale": [
             [
              0.0,
              "#0d0887"
             ],
             [
              0.1111111111111111,
              "#46039f"
             ],
             [
              0.2222222222222222,
              "#7201a8"
             ],
             [
              0.3333333333333333,
              "#9c179e"
             ],
             [
              0.4444444444444444,
              "#bd3786"
             ],
             [
              0.5555555555555556,
              "#d8576b"
             ],
             [
              0.6666666666666666,
              "#ed7953"
             ],
             [
              0.7777777777777778,
              "#fb9f3a"
             ],
             [
              0.8888888888888888,
              "#fdca26"
             ],
             [
              1.0,
              "#f0f921"
             ]
            ],
            "type": "heatmapgl"
           }
          ],
          "heatmap": [
           {
            "colorbar": {
             "outlinewidth": 0,
             "ticks": ""
            },
            "colorscale": [
             [
              0.0,
              "#0d0887"
             ],
             [
              0.1111111111111111,
              "#46039f"
             ],
             [
              0.2222222222222222,
              "#7201a8"
             ],
             [
              0.3333333333333333,
              "#9c179e"
             ],
             [
              0.4444444444444444,
              "#bd3786"
             ],
             [
              0.5555555555555556,
              "#d8576b"
             ],
             [
              0.6666666666666666,
              "#ed7953"
             ],
             [
              0.7777777777777778,
              "#fb9f3a"
             ],
             [
              0.8888888888888888,
              "#fdca26"
             ],
             [
              1.0,
              "#f0f921"
             ]
            ],
            "type": "heatmap"
           }
          ],
          "histogram2dcontour": [
           {
            "colorbar": {
             "outlinewidth": 0,
             "ticks": ""
            },
            "colorscale": [
             [
              0.0,
              "#0d0887"
             ],
             [
              0.1111111111111111,
              "#46039f"
             ],
             [
              0.2222222222222222,
              "#7201a8"
             ],
             [
              0.3333333333333333,
              "#9c179e"
             ],
             [
              0.4444444444444444,
              "#bd3786"
             ],
             [
              0.5555555555555556,
              "#d8576b"
             ],
             [
              0.6666666666666666,
              "#ed7953"
             ],
             [
              0.7777777777777778,
              "#fb9f3a"
             ],
             [
              0.8888888888888888,
              "#fdca26"
             ],
             [
              1.0,
              "#f0f921"
             ]
            ],
            "type": "histogram2dcontour"
           }
          ],
          "histogram2d": [
           {
            "colorbar": {
             "outlinewidth": 0,
             "ticks": ""
            },
            "colorscale": [
             [
              0.0,
              "#0d0887"
             ],
             [
              0.1111111111111111,
              "#46039f"
             ],
             [
              0.2222222222222222,
              "#7201a8"
             ],
             [
              0.3333333333333333,
              "#9c179e"
             ],
             [
              0.4444444444444444,
              "#bd3786"
             ],
             [
              0.5555555555555556,
              "#d8576b"
             ],
             [
              0.6666666666666666,
              "#ed7953"
             ],
             [
              0.7777777777777778,
              "#fb9f3a"
             ],
             [
              0.8888888888888888,
              "#fdca26"
             ],
             [
              1.0,
              "#f0f921"
             ]
            ],
            "type": "histogram2d"
           }
          ],
          "histogram": [
           {
            "marker": {
             "pattern": {
              "fillmode": "overlay",
              "size": 10,
              "solidity": 0.2
             }
            },
            "type": "histogram"
           }
          ],
          "mesh3d": [
           {
            "colorbar": {
             "outlinewidth": 0,
             "ticks": ""
            },
            "type": "mesh3d"
           }
          ],
          "parcoords": [
           {
            "line": {
             "colorbar": {
              "outlinewidth": 0,
              "ticks": ""
             }
            },
            "type": "parcoords"
           }
          ],
          "pie": [
           {
            "automargin": true,
            "type": "pie"
           }
          ],
          "scatter3d": [
           {
            "line": {
             "colorbar": {
              "outlinewidth": 0,
              "ticks": ""
             }
            },
            "marker": {
             "colorbar": {
              "outlinewidth": 0,
              "ticks": ""
             }
            },
            "type": "scatter3d"
           }
          ],
          "scattercarpet": [
           {
            "marker": {
             "colorbar": {
              "outlinewidth": 0,
              "ticks": ""
             }
            },
            "type": "scattercarpet"
           }
          ],
          "scattergeo": [
           {
            "marker": {
             "colorbar": {
              "outlinewidth": 0,
              "ticks": ""
             }
            },
            "type": "scattergeo"
           }
          ],
          "scattergl": [
           {
            "marker": {
             "line": {
              "color": "#283442"
             }
            },
            "type": "scattergl"
           }
          ],
          "scattermapbox": [
           {
            "marker": {
             "colorbar": {
              "outlinewidth": 0,
              "ticks": ""
             }
            },
            "type": "scattermapbox"
           }
          ],
          "scatterpolargl": [
           {
            "marker": {
             "colorbar": {
              "outlinewidth": 0,
              "ticks": ""
             }
            },
            "type": "scatterpolargl"
           }
          ],
          "scatterpolar": [
           {
            "marker": {
             "colorbar": {
              "outlinewidth": 0,
              "ticks": ""
             }
            },
            "type": "scatterpolar"
           }
          ],
          "scatter": [
           {
            "marker": {
             "line": {
              "color": "#283442"
             }
            },
            "type": "scatter"
           }
          ],
          "scatterternary": [
           {
            "marker": {
             "colorbar": {
              "outlinewidth": 0,
              "ticks": ""
             }
            },
            "type": "scatterternary"
           }
          ],
          "surface": [
           {
            "colorbar": {
             "outlinewidth": 0,
             "ticks": ""
            },
            "colorscale": [
             [
              0.0,
              "#0d0887"
             ],
             [
              0.1111111111111111,
              "#46039f"
             ],
             [
              0.2222222222222222,
              "#7201a8"
             ],
             [
              0.3333333333333333,
              "#9c179e"
             ],
             [
              0.4444444444444444,
              "#bd3786"
             ],
             [
              0.5555555555555556,
              "#d8576b"
             ],
             [
              0.6666666666666666,
              "#ed7953"
             ],
             [
              0.7777777777777778,
              "#fb9f3a"
             ],
             [
              0.8888888888888888,
              "#fdca26"
             ],
             [
              1.0,
              "#f0f921"
             ]
            ],
            "type": "surface"
           }
          ],
          "table": [
           {
            "cells": {
             "fill": {
              "color": "#506784"
             },
             "line": {
              "color": "rgb(17,17,17)"
             }
            },
            "header": {
             "fill": {
              "color": "#2a3f5f"
             },
             "line": {
              "color": "rgb(17,17,17)"
             }
            },
            "type": "table"
           }
          ]
         },
         "layout": {
          "annotationdefaults": {
           "arrowcolor": "#f2f5fa",
           "arrowhead": 0,
           "arrowwidth": 1
          },
          "autotypenumbers": "strict",
          "coloraxis": {
           "colorbar": {
            "outlinewidth": 0,
            "ticks": ""
           }
          },
          "colorscale": {
           "diverging": [
            [
             0,
             "#8e0152"
            ],
            [
             0.1,
             "#c51b7d"
            ],
            [
             0.2,
             "#de77ae"
            ],
            [
             0.3,
             "#f1b6da"
            ],
            [
             0.4,
             "#fde0ef"
            ],
            [
             0.5,
             "#f7f7f7"
            ],
            [
             0.6,
             "#e6f5d0"
            ],
            [
             0.7,
             "#b8e186"
            ],
            [
             0.8,
             "#7fbc41"
            ],
            [
             0.9,
             "#4d9221"
            ],
            [
             1,
             "#276419"
            ]
           ],
           "sequential": [
            [
             0.0,
             "#0d0887"
            ],
            [
             0.1111111111111111,
             "#46039f"
            ],
            [
             0.2222222222222222,
             "#7201a8"
            ],
            [
             0.3333333333333333,
             "#9c179e"
            ],
            [
             0.4444444444444444,
             "#bd3786"
            ],
            [
             0.5555555555555556,
             "#d8576b"
            ],
            [
             0.6666666666666666,
             "#ed7953"
            ],
            [
             0.7777777777777778,
             "#fb9f3a"
            ],
            [
             0.8888888888888888,
             "#fdca26"
            ],
            [
             1.0,
             "#f0f921"
            ]
           ],
           "sequentialminus": [
            [
             0.0,
             "#0d0887"
            ],
            [
             0.1111111111111111,
             "#46039f"
            ],
            [
             0.2222222222222222,
             "#7201a8"
            ],
            [
             0.3333333333333333,
             "#9c179e"
            ],
            [
             0.4444444444444444,
             "#bd3786"
            ],
            [
             0.5555555555555556,
             "#d8576b"
            ],
            [
             0.6666666666666666,
             "#ed7953"
            ],
            [
             0.7777777777777778,
             "#fb9f3a"
            ],
            [
             0.8888888888888888,
             "#fdca26"
            ],
            [
             1.0,
             "#f0f921"
            ]
           ]
          },
          "colorway": [
           "#636efa",
           "#EF553B",
           "#00cc96",
           "#ab63fa",
           "#FFA15A",
           "#19d3f3",
           "#FF6692",
           "#B6E880",
           "#FF97FF",
           "#FECB52"
          ],
          "font": {
           "color": "#f2f5fa"
          },
          "geo": {
           "bgcolor": "rgb(17,17,17)",
           "lakecolor": "rgb(17,17,17)",
           "landcolor": "rgb(17,17,17)",
           "showlakes": true,
           "showland": true,
           "subunitcolor": "#506784"
          },
          "hoverlabel": {
           "align": "left"
          },
          "hovermode": "closest",
          "mapbox": {
           "style": "dark"
          },
          "paper_bgcolor": "rgb(17,17,17)",
          "plot_bgcolor": "rgb(17,17,17)",
          "polar": {
           "angularaxis": {
            "gridcolor": "#506784",
            "linecolor": "#506784",
            "ticks": ""
           },
           "bgcolor": "rgb(17,17,17)",
           "radialaxis": {
            "gridcolor": "#506784",
            "linecolor": "#506784",
            "ticks": ""
           }
          },
          "scene": {
           "xaxis": {
            "backgroundcolor": "rgb(17,17,17)",
            "gridcolor": "#506784",
            "gridwidth": 2,
            "linecolor": "#506784",
            "showbackground": true,
            "ticks": "",
            "zerolinecolor": "#C8D4E3"
           },
           "yaxis": {
            "backgroundcolor": "rgb(17,17,17)",
            "gridcolor": "#506784",
            "gridwidth": 2,
            "linecolor": "#506784",
            "showbackground": true,
            "ticks": "",
            "zerolinecolor": "#C8D4E3"
           },
           "zaxis": {
            "backgroundcolor": "rgb(17,17,17)",
            "gridcolor": "#506784",
            "gridwidth": 2,
            "linecolor": "#506784",
            "showbackground": true,
            "ticks": "",
            "zerolinecolor": "#C8D4E3"
           }
          },
          "shapedefaults": {
           "line": {
            "color": "#f2f5fa"
           }
          },
          "sliderdefaults": {
           "bgcolor": "#C8D4E3",
           "bordercolor": "rgb(17,17,17)",
           "borderwidth": 1,
           "tickwidth": 0
          },
          "ternary": {
           "aaxis": {
            "gridcolor": "#506784",
            "linecolor": "#506784",
            "ticks": ""
           },
           "baxis": {
            "gridcolor": "#506784",
            "linecolor": "#506784",
            "ticks": ""
           },
           "bgcolor": "rgb(17,17,17)",
           "caxis": {
            "gridcolor": "#506784",
            "linecolor": "#506784",
            "ticks": ""
           }
          },
          "title": {
           "x": 0.05
          },
          "updatemenudefaults": {
           "bgcolor": "#506784",
           "borderwidth": 0
          },
          "xaxis": {
           "automargin": true,
           "gridcolor": "#283442",
           "linecolor": "#506784",
           "ticks": "",
           "title": {
            "standoff": 15
           },
           "zerolinecolor": "#283442",
           "zerolinewidth": 2
          },
          "yaxis": {
           "automargin": true,
           "gridcolor": "#283442",
           "linecolor": "#506784",
           "ticks": "",
           "title": {
            "standoff": 15
           },
           "zerolinecolor": "#283442",
           "zerolinewidth": 2
          }
         }
        }
       },
       "config": {
        "showLink": false,
        "linkText": "Export to plot.ly",
        "plotlyServerURL": "https://plot.ly"
       }
      },
      "text/html": "<div>                            <div id=\"f95d427e-4400-4a20-98a5-73c96792de6e\" class=\"plotly-graph-div\" style=\"height:525px; width:100%;\"></div>            <script type=\"text/javascript\">                require([\"plotly\"], function(Plotly) {                    window.PLOTLYENV=window.PLOTLYENV || {};                                    if (document.getElementById(\"f95d427e-4400-4a20-98a5-73c96792de6e\")) {                    Plotly.newPlot(                        \"f95d427e-4400-4a20-98a5-73c96792de6e\",                        [{\"mode\":\"lines\",\"name\":\"short call atm 88000.0\",\"x\":[20000.0,30000.0,40000.0,45000.0,50000.0,55000.0,60000.0,65000.0,70000.0,75000.0,76000.0,78000.0,80000.0,82000.0,84000.0,85000.0,86000.0,88000.0,90000.0,92000.0,94000.0,95000.0,96000.0,98000.0,100000.0,102000.0,104000.0,105000.0,106000.0,108000.0,110000.0,112000.0,114000.0,115000.0,120000.0,125000.0,130000.0,135000.0,140000.0,145000.0,150000.0,160000.0,170000.0,175000.0,180000.0,200000.0,220000.0,250000.0,300000.0],\"y\":[4853.424495,4853.424495,4853.424495,4853.424495,4853.424495,4853.424495,4853.424495,4853.424495,4853.424495,4853.424495,4853.424495,4853.424495,4853.424495,4853.424495,4853.424495,4853.424495,4853.424495,4853.424495,2853.424495,853.4244950000002,-1146.5755049999998,-2146.575505,-3146.575505,-5146.575505,-7146.575505,-9146.575505,-11146.575505,-12146.575505,-13146.575505,-15146.575505,-17146.575505,-19146.575505,-21146.575505,-22146.575505,-27146.575505,-32146.575505,-37146.575505,-42146.575505,-47146.575505,-52146.575505,-57146.575505,-67146.575505,-77146.575505,-82146.575505,-87146.575505,-107146.575505,-127146.575505,-157146.575505,-207146.575505],\"type\":\"scatter\"},{\"mode\":\"lines\",\"name\":\"short call atm premium 88000.0\",\"x\":[20000.0,30000.0,40000.0,45000.0,50000.0,55000.0,60000.0,65000.0,70000.0,75000.0,76000.0,78000.0,80000.0,82000.0,84000.0,85000.0,86000.0,88000.0,90000.0,92000.0,94000.0,95000.0,96000.0,98000.0,100000.0,102000.0,104000.0,105000.0,106000.0,108000.0,110000.0,112000.0,114000.0,115000.0,120000.0,125000.0,130000.0,135000.0,140000.0,145000.0,150000.0,160000.0,170000.0,175000.0,180000.0,200000.0,220000.0,250000.0,300000.0],\"y\":[4118.439755,6536.210534999999,6855.2031549999965,5440.615845000001,1839.8012850000023,-973.9714650000014,5516.838961000002,7171.714710000001,4008.1456000000007,538.504675000001,-942.4653199999984,4009.7373350000007,4108.515495000001,4294.7427450000005,1507.7009349999998,1469.6409250000006,1038.0600100000001,0.0,-1431.5809149999977,-2513.3654700000034,-3944.946385000002,-4463.976389999995,-4853.424495,-4853.424495,-4853.424495,-4853.424495,-4853.424495,-4853.424495,-4853.424495,-4853.424495,-4853.424495,-4853.424495,-4853.424495,-4853.424495,-4853.424495,-4853.424495,-4853.424495,-4853.424495,-4853.424495,-4853.424495,-4853.424495,-4853.424495,-4853.424495,-4853.424495,-4853.424495,-4853.424495,-4853.424495,-4853.424495,-4853.424495],\"type\":\"scatter\"}],                        {\"template\":{\"data\":{\"barpolar\":[{\"marker\":{\"line\":{\"color\":\"rgb(17,17,17)\",\"width\":0.5},\"pattern\":{\"fillmode\":\"overlay\",\"size\":10,\"solidity\":0.2}},\"type\":\"barpolar\"}],\"bar\":[{\"error_x\":{\"color\":\"#f2f5fa\"},\"error_y\":{\"color\":\"#f2f5fa\"},\"marker\":{\"line\":{\"color\":\"rgb(17,17,17)\",\"width\":0.5},\"pattern\":{\"fillmode\":\"overlay\",\"size\":10,\"solidity\":0.2}},\"type\":\"bar\"}],\"carpet\":[{\"aaxis\":{\"endlinecolor\":\"#A2B1C6\",\"gridcolor\":\"#506784\",\"linecolor\":\"#506784\",\"minorgridcolor\":\"#506784\",\"startlinecolor\":\"#A2B1C6\"},\"baxis\":{\"endlinecolor\":\"#A2B1C6\",\"gridcolor\":\"#506784\",\"linecolor\":\"#506784\",\"minorgridcolor\":\"#506784\",\"startlinecolor\":\"#A2B1C6\"},\"type\":\"carpet\"}],\"choropleth\":[{\"colorbar\":{\"outlinewidth\":0,\"ticks\":\"\"},\"type\":\"choropleth\"}],\"contourcarpet\":[{\"colorbar\":{\"outlinewidth\":0,\"ticks\":\"\"},\"type\":\"contourcarpet\"}],\"contour\":[{\"colorbar\":{\"outlinewidth\":0,\"ticks\":\"\"},\"colorscale\":[[0.0,\"#0d0887\"],[0.1111111111111111,\"#46039f\"],[0.2222222222222222,\"#7201a8\"],[0.3333333333333333,\"#9c179e\"],[0.4444444444444444,\"#bd3786\"],[0.5555555555555556,\"#d8576b\"],[0.6666666666666666,\"#ed7953\"],[0.7777777777777778,\"#fb9f3a\"],[0.8888888888888888,\"#fdca26\"],[1.0,\"#f0f921\"]],\"type\":\"contour\"}],\"heatmapgl\":[{\"colorbar\":{\"outlinewidth\":0,\"ticks\":\"\"},\"colorscale\":[[0.0,\"#0d0887\"],[0.1111111111111111,\"#46039f\"],[0.2222222222222222,\"#7201a8\"],[0.3333333333333333,\"#9c179e\"],[0.4444444444444444,\"#bd3786\"],[0.5555555555555556,\"#d8576b\"],[0.6666666666666666,\"#ed7953\"],[0.7777777777777778,\"#fb9f3a\"],[0.8888888888888888,\"#fdca26\"],[1.0,\"#f0f921\"]],\"type\":\"heatmapgl\"}],\"heatmap\":[{\"colorbar\":{\"outlinewidth\":0,\"ticks\":\"\"},\"colorscale\":[[0.0,\"#0d0887\"],[0.1111111111111111,\"#46039f\"],[0.2222222222222222,\"#7201a8\"],[0.3333333333333333,\"#9c179e\"],[0.4444444444444444,\"#bd3786\"],[0.5555555555555556,\"#d8576b\"],[0.6666666666666666,\"#ed7953\"],[0.7777777777777778,\"#fb9f3a\"],[0.8888888888888888,\"#fdca26\"],[1.0,\"#f0f921\"]],\"type\":\"heatmap\"}],\"histogram2dcontour\":[{\"colorbar\":{\"outlinewidth\":0,\"ticks\":\"\"},\"colorscale\":[[0.0,\"#0d0887\"],[0.1111111111111111,\"#46039f\"],[0.2222222222222222,\"#7201a8\"],[0.3333333333333333,\"#9c179e\"],[0.4444444444444444,\"#bd3786\"],[0.5555555555555556,\"#d8576b\"],[0.6666666666666666,\"#ed7953\"],[0.7777777777777778,\"#fb9f3a\"],[0.8888888888888888,\"#fdca26\"],[1.0,\"#f0f921\"]],\"type\":\"histogram2dcontour\"}],\"histogram2d\":[{\"colorbar\":{\"outlinewidth\":0,\"ticks\":\"\"},\"colorscale\":[[0.0,\"#0d0887\"],[0.1111111111111111,\"#46039f\"],[0.2222222222222222,\"#7201a8\"],[0.3333333333333333,\"#9c179e\"],[0.4444444444444444,\"#bd3786\"],[0.5555555555555556,\"#d8576b\"],[0.6666666666666666,\"#ed7953\"],[0.7777777777777778,\"#fb9f3a\"],[0.8888888888888888,\"#fdca26\"],[1.0,\"#f0f921\"]],\"type\":\"histogram2d\"}],\"histogram\":[{\"marker\":{\"pattern\":{\"fillmode\":\"overlay\",\"size\":10,\"solidity\":0.2}},\"type\":\"histogram\"}],\"mesh3d\":[{\"colorbar\":{\"outlinewidth\":0,\"ticks\":\"\"},\"type\":\"mesh3d\"}],\"parcoords\":[{\"line\":{\"colorbar\":{\"outlinewidth\":0,\"ticks\":\"\"}},\"type\":\"parcoords\"}],\"pie\":[{\"automargin\":true,\"type\":\"pie\"}],\"scatter3d\":[{\"line\":{\"colorbar\":{\"outlinewidth\":0,\"ticks\":\"\"}},\"marker\":{\"colorbar\":{\"outlinewidth\":0,\"ticks\":\"\"}},\"type\":\"scatter3d\"}],\"scattercarpet\":[{\"marker\":{\"colorbar\":{\"outlinewidth\":0,\"ticks\":\"\"}},\"type\":\"scattercarpet\"}],\"scattergeo\":[{\"marker\":{\"colorbar\":{\"outlinewidth\":0,\"ticks\":\"\"}},\"type\":\"scattergeo\"}],\"scattergl\":[{\"marker\":{\"line\":{\"color\":\"#283442\"}},\"type\":\"scattergl\"}],\"scattermapbox\":[{\"marker\":{\"colorbar\":{\"outlinewidth\":0,\"ticks\":\"\"}},\"type\":\"scattermapbox\"}],\"scatterpolargl\":[{\"marker\":{\"colorbar\":{\"outlinewidth\":0,\"ticks\":\"\"}},\"type\":\"scatterpolargl\"}],\"scatterpolar\":[{\"marker\":{\"colorbar\":{\"outlinewidth\":0,\"ticks\":\"\"}},\"type\":\"scatterpolar\"}],\"scatter\":[{\"marker\":{\"line\":{\"color\":\"#283442\"}},\"type\":\"scatter\"}],\"scatterternary\":[{\"marker\":{\"colorbar\":{\"outlinewidth\":0,\"ticks\":\"\"}},\"type\":\"scatterternary\"}],\"surface\":[{\"colorbar\":{\"outlinewidth\":0,\"ticks\":\"\"},\"colorscale\":[[0.0,\"#0d0887\"],[0.1111111111111111,\"#46039f\"],[0.2222222222222222,\"#7201a8\"],[0.3333333333333333,\"#9c179e\"],[0.4444444444444444,\"#bd3786\"],[0.5555555555555556,\"#d8576b\"],[0.6666666666666666,\"#ed7953\"],[0.7777777777777778,\"#fb9f3a\"],[0.8888888888888888,\"#fdca26\"],[1.0,\"#f0f921\"]],\"type\":\"surface\"}],\"table\":[{\"cells\":{\"fill\":{\"color\":\"#506784\"},\"line\":{\"color\":\"rgb(17,17,17)\"}},\"header\":{\"fill\":{\"color\":\"#2a3f5f\"},\"line\":{\"color\":\"rgb(17,17,17)\"}},\"type\":\"table\"}]},\"layout\":{\"annotationdefaults\":{\"arrowcolor\":\"#f2f5fa\",\"arrowhead\":0,\"arrowwidth\":1},\"autotypenumbers\":\"strict\",\"coloraxis\":{\"colorbar\":{\"outlinewidth\":0,\"ticks\":\"\"}},\"colorscale\":{\"diverging\":[[0,\"#8e0152\"],[0.1,\"#c51b7d\"],[0.2,\"#de77ae\"],[0.3,\"#f1b6da\"],[0.4,\"#fde0ef\"],[0.5,\"#f7f7f7\"],[0.6,\"#e6f5d0\"],[0.7,\"#b8e186\"],[0.8,\"#7fbc41\"],[0.9,\"#4d9221\"],[1,\"#276419\"]],\"sequential\":[[0.0,\"#0d0887\"],[0.1111111111111111,\"#46039f\"],[0.2222222222222222,\"#7201a8\"],[0.3333333333333333,\"#9c179e\"],[0.4444444444444444,\"#bd3786\"],[0.5555555555555556,\"#d8576b\"],[0.6666666666666666,\"#ed7953\"],[0.7777777777777778,\"#fb9f3a\"],[0.8888888888888888,\"#fdca26\"],[1.0,\"#f0f921\"]],\"sequentialminus\":[[0.0,\"#0d0887\"],[0.1111111111111111,\"#46039f\"],[0.2222222222222222,\"#7201a8\"],[0.3333333333333333,\"#9c179e\"],[0.4444444444444444,\"#bd3786\"],[0.5555555555555556,\"#d8576b\"],[0.6666666666666666,\"#ed7953\"],[0.7777777777777778,\"#fb9f3a\"],[0.8888888888888888,\"#fdca26\"],[1.0,\"#f0f921\"]]},\"colorway\":[\"#636efa\",\"#EF553B\",\"#00cc96\",\"#ab63fa\",\"#FFA15A\",\"#19d3f3\",\"#FF6692\",\"#B6E880\",\"#FF97FF\",\"#FECB52\"],\"font\":{\"color\":\"#f2f5fa\"},\"geo\":{\"bgcolor\":\"rgb(17,17,17)\",\"lakecolor\":\"rgb(17,17,17)\",\"landcolor\":\"rgb(17,17,17)\",\"showlakes\":true,\"showland\":true,\"subunitcolor\":\"#506784\"},\"hoverlabel\":{\"align\":\"left\"},\"hovermode\":\"closest\",\"mapbox\":{\"style\":\"dark\"},\"paper_bgcolor\":\"rgb(17,17,17)\",\"plot_bgcolor\":\"rgb(17,17,17)\",\"polar\":{\"angularaxis\":{\"gridcolor\":\"#506784\",\"linecolor\":\"#506784\",\"ticks\":\"\"},\"bgcolor\":\"rgb(17,17,17)\",\"radialaxis\":{\"gridcolor\":\"#506784\",\"linecolor\":\"#506784\",\"ticks\":\"\"}},\"scene\":{\"xaxis\":{\"backgroundcolor\":\"rgb(17,17,17)\",\"gridcolor\":\"#506784\",\"gridwidth\":2,\"linecolor\":\"#506784\",\"showbackground\":true,\"ticks\":\"\",\"zerolinecolor\":\"#C8D4E3\"},\"yaxis\":{\"backgroundcolor\":\"rgb(17,17,17)\",\"gridcolor\":\"#506784\",\"gridwidth\":2,\"linecolor\":\"#506784\",\"showbackground\":true,\"ticks\":\"\",\"zerolinecolor\":\"#C8D4E3\"},\"zaxis\":{\"backgroundcolor\":\"rgb(17,17,17)\",\"gridcolor\":\"#506784\",\"gridwidth\":2,\"linecolor\":\"#506784\",\"showbackground\":true,\"ticks\":\"\",\"zerolinecolor\":\"#C8D4E3\"}},\"shapedefaults\":{\"line\":{\"color\":\"#f2f5fa\"}},\"sliderdefaults\":{\"bgcolor\":\"#C8D4E3\",\"bordercolor\":\"rgb(17,17,17)\",\"borderwidth\":1,\"tickwidth\":0},\"ternary\":{\"aaxis\":{\"gridcolor\":\"#506784\",\"linecolor\":\"#506784\",\"ticks\":\"\"},\"baxis\":{\"gridcolor\":\"#506784\",\"linecolor\":\"#506784\",\"ticks\":\"\"},\"bgcolor\":\"rgb(17,17,17)\",\"caxis\":{\"gridcolor\":\"#506784\",\"linecolor\":\"#506784\",\"ticks\":\"\"}},\"title\":{\"x\":0.05},\"updatemenudefaults\":{\"bgcolor\":\"#506784\",\"borderwidth\":0},\"xaxis\":{\"automargin\":true,\"gridcolor\":\"#283442\",\"linecolor\":\"#506784\",\"ticks\":\"\",\"title\":{\"standoff\":15},\"zerolinecolor\":\"#283442\",\"zerolinewidth\":2},\"yaxis\":{\"automargin\":true,\"gridcolor\":\"#283442\",\"linecolor\":\"#506784\",\"ticks\":\"\",\"title\":{\"standoff\":15},\"zerolinecolor\":\"#283442\",\"zerolinewidth\":2}}}},                        {\"responsive\": true}                    ).then(function(){\n                            \nvar gd = document.getElementById('f95d427e-4400-4a20-98a5-73c96792de6e');\nvar x = new MutationObserver(function (mutations, observer) {{\n        var display = window.getComputedStyle(gd).display;\n        if (!display || display === 'none') {{\n            console.log([gd, 'removed!']);\n            Plotly.purge(gd);\n            observer.disconnect();\n        }}\n}});\n\n// Listen for the removal of the full notebook cells\nvar notebookContainer = gd.closest('#notebook-container');\nif (notebookContainer) {{\n    x.observe(notebookContainer, {childList: true});\n}}\n\n// Listen for the clearing of the current output cell\nvar outputEl = gd.closest('.output');\nif (outputEl) {{\n    x.observe(outputEl, {childList: true});\n}}\n\n                        })                };                });            </script>        </div>"
     },
     "metadata": {},
     "output_type": "display_data"
    }
   ],
   "source": [
    "data = [\n",
    "    go.Scatter(x=short_long_risk_profile['strike'], y=short_long_risk_profile['risk_pnl'].to_list(), mode='lines',\n",
    "               name=f'short call atm {short_long_legs[0].strike}'),\n",
    "    go.Scatter(x=short_long_risk_profile['strike'], y=short_long_risk_profile['risk_pnl_premium'], mode='lines',\n",
    "               name=f'short call atm premium {short_long_legs[0].strike}'),\n",
    "]\n",
    "iplot(data)"
   ],
   "metadata": {
    "collapsed": false
   }
  },
  {
   "cell_type": "markdown",
   "source": [
    "*Resume selling options:*\n",
    "\n",
    "It is not profitable for us to move the BA against our position and increase market volatility in the market (which may lead, among other things, to a serious increase in warranty requirements for our options).\n",
    "\n",
    "Time always works in favor of our position.\n",
    "\n",
    "The risks of selling a Call option (Short Call):\n",
    "* an increase in the futures price (the position earns a decrease as well as while maintaining the price at the current level)\n",
    "* an increase in market volatility. As volatility increases, option premiums in the market become more expensive (while maintaining the same value of the underlying asset and the reserve before expiration)\n",
    "* an increase in margin requirement. The margin requirement may increase both due to the movement of the price of the underlying asset and under the influence of market volatility.\n",
    "\n",
    "Risks of selling a Put option (Short Put):\n",
    "* lower futures prices (the position earns on growth, as well as while maintaining the price at the current level)\n",
    "* increased volatility in the market. With an increase in premium volatility, options on the market become more expensive (while maintaining the same value of the underlying asset and terminating before expiration)\n",
    "* an increase in the margin requirement. The margin requirement may increase both due to the movement of the price of the underlying asset and under the influence of market volatility.\n",
    "\n",
    "\n",
    "By selling the Put option, we lose money on a decrease in the BA, and the resulting general increase in market volatility in most cases gives us an even greater loss on the position.\n",
    "\n",
    "By selling a Call option, we lose money on the growth of the BA, on the reduction of volatility, which usually (I emphasize, not always) accompanies the growth of the instrument works for us and improves our financial result for the position.\n"
   ],
   "metadata": {
    "collapsed": false
   }
  }
 ],
 "metadata": {
  "kernelspec": {
   "display_name": "Python 3 (ipykernel)",
   "language": "python",
   "name": "python3"
  },
  "language_info": {
   "codemirror_mode": {
    "name": "ipython",
    "version": 3
   },
   "file_extension": ".py",
   "mimetype": "text/x-python",
   "name": "python",
   "nbconvert_exporter": "python",
   "pygments_lexer": "ipython3",
   "version": "3.13.0"
  }
 },
 "nbformat": 4,
 "nbformat_minor": 5
}
