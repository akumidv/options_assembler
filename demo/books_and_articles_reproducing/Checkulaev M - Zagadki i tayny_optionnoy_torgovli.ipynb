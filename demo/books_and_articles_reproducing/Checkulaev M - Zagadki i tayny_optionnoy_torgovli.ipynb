{
 "cells": [
  {
   "cell_type": "markdown",
   "source": [
    "\n",
    "Chekulaev M. Riddles and secrets of option trading. 2001\n",
    "Чекулаев М. Загадки и тайны опционной торговли. 2001\n"
   ],
   "metadata": {
    "collapsed": false
   }
  },
  {
   "cell_type": "markdown",
   "source": [
    "## Intro\n",
    "Any purchase is an option that consists of the intrinsic value (the liquidation value of the asset) and the time value (the difference between the value of the asset and its liquidation value. The time cost is exactly the part that we overpay.\n"
   ],
   "metadata": {
    "collapsed": false
   }
  },
  {
   "cell_type": "code",
   "execution_count": 1,
   "outputs": [],
   "source": [
    "import pandas as pd\n"
   ],
   "metadata": {
    "collapsed": false
   }
  },
  {
   "cell_type": "code",
   "execution_count": 50,
   "outputs": [],
   "source": [
    "df = pd.read_parquet('../../data/MOEX/SI/option/1h/2025.parquet')\n",
    "#df = pd.read_parquet('../../data/MOEX/IMOEX/option/30m/2025.parquet')\n"
   ],
   "metadata": {
    "collapsed": false
   }
  },
  {
   "cell_type": "code",
   "execution_count": 36,
   "outputs": [
    {
     "data": {
      "text/plain": "                      timestamp    strike           expiration_date  \\\n0     2025-05-14 23:00:00+00:00  100000.0 2026-03-19 00:00:00+00:00   \n1     2025-05-15 00:00:00+00:00  100000.0 2026-03-19 00:00:00+00:00   \n2     2025-05-15 01:00:00+00:00       NaN                       NaT   \n3     2025-05-15 02:00:00+00:00       NaN                       NaT   \n4     2025-05-15 03:00:00+00:00       NaN                       NaT   \n...                         ...       ...                       ...   \n74607 2025-05-17 01:00:00+00:00   99500.0 2025-12-18 00:00:00+00:00   \n74608 2025-05-17 02:00:00+00:00   99500.0 2025-12-18 00:00:00+00:00   \n74609 2025-05-17 03:00:00+00:00   99500.0 2025-12-18 00:00:00+00:00   \n74610 2025-05-17 04:00:00+00:00   99500.0 2025-12-18 00:00:00+00:00   \n74611 2025-05-17 05:00:00+00:00   99500.0 2025-12-18 00:00:00+00:00   \n\n      option_type  price  ask  bid underlying_expiration_date  exchange_price  \\\n0               c    0.0  0.0  0.0  2026-03-19 00:00:00+00:00     5676.164793   \n1               c    0.0  0.0  0.0  2026-03-19 00:00:00+00:00     5676.164793   \n2            None    NaN  NaN  NaN                        NaT             NaN   \n3            None    NaN  NaN  NaN                        NaT             NaN   \n4            None    NaN  NaN  NaN                        NaT             NaN   \n...           ...    ...  ...  ...                        ...             ...   \n74607           p    0.0  0.0  0.0  2025-12-18 00:00:00+00:00    11924.858038   \n74608           p    0.0  0.0  0.0  2025-12-18 00:00:00+00:00    11924.858038   \n74609           p    0.0  0.0  0.0  2025-12-18 00:00:00+00:00    11924.925326   \n74610           p    0.0  0.0  0.0  2025-12-18 00:00:00+00:00    11924.940854   \n74611           p    0.0  0.0  0.0  2025-12-18 00:00:00+00:00    11924.956382   \n\n       exchange_iv  ...      theta         rho        series_code  \\\n0            21.64  ... -12.178851  311.764486   SI-3.26M190326XA   \n1            21.64  ... -12.178851  311.764486   SI-3.26M190326XA   \n2              NaN  ...        NaN         NaN               None   \n3              NaN  ...        NaN         NaN               None   \n4              NaN  ...        NaN         NaN               None   \n...            ...  ...        ...         ...                ...   \n74607        23.87  ... -14.368667 -419.680601  SI-12.25M181225XA   \n74608        23.87  ... -14.368667 -419.680601  SI-12.25M181225XA   \n74609        23.87  ... -14.368851 -419.679793  SI-12.25M181225XA   \n74610        23.87  ... -14.368891 -419.679617  SI-12.25M181225XA   \n74611        23.87  ... -14.368935 -419.679422  SI-12.25M181225XA   \n\n        asset_code  asset_type  underlying_asset_code  underlying_asset_type  \\\n0      SI100000BC6           o                   SIH6                      f   \n1      SI100000BC6           o                   SIH6                      f   \n2             None        None                   None                   None   \n3             None        None                   None                   None   \n4             None        None                   None                   None   \n...            ...         ...                    ...                    ...   \n74607   SI99500BX5           o                   SIZ5                      f   \n74608   SI99500BX5           o                   SIZ5                      f   \n74609   SI99500BX5           o                   SIZ5                      f   \n74610   SI99500BX5           o                   SIZ5                      f   \n74611   SI99500BX5           o                   SIZ5                      f   \n\n       base_asset_code  option_style  currency  \n0                   SI             a       rub  \n1                   SI             a       rub  \n2                 None          None      None  \n3                 None          None      None  \n4                 None          None      None  \n...                ...           ...       ...  \n74607               SI             a       rub  \n74608               SI             a       rub  \n74609               SI             a       rub  \n74610               SI             a       rub  \n74611               SI             a       rub  \n\n[74612 rows x 30 columns]",
      "text/html": "<div>\n<style scoped>\n    .dataframe tbody tr th:only-of-type {\n        vertical-align: middle;\n    }\n\n    .dataframe tbody tr th {\n        vertical-align: top;\n    }\n\n    .dataframe thead th {\n        text-align: right;\n    }\n</style>\n<table border=\"1\" class=\"dataframe\">\n  <thead>\n    <tr style=\"text-align: right;\">\n      <th></th>\n      <th>timestamp</th>\n      <th>strike</th>\n      <th>expiration_date</th>\n      <th>option_type</th>\n      <th>price</th>\n      <th>ask</th>\n      <th>bid</th>\n      <th>underlying_expiration_date</th>\n      <th>exchange_price</th>\n      <th>exchange_iv</th>\n      <th>...</th>\n      <th>theta</th>\n      <th>rho</th>\n      <th>series_code</th>\n      <th>asset_code</th>\n      <th>asset_type</th>\n      <th>underlying_asset_code</th>\n      <th>underlying_asset_type</th>\n      <th>base_asset_code</th>\n      <th>option_style</th>\n      <th>currency</th>\n    </tr>\n  </thead>\n  <tbody>\n    <tr>\n      <th>0</th>\n      <td>2025-05-14 23:00:00+00:00</td>\n      <td>100000.0</td>\n      <td>2026-03-19 00:00:00+00:00</td>\n      <td>c</td>\n      <td>0.0</td>\n      <td>0.0</td>\n      <td>0.0</td>\n      <td>2026-03-19 00:00:00+00:00</td>\n      <td>5676.164793</td>\n      <td>21.64</td>\n      <td>...</td>\n      <td>-12.178851</td>\n      <td>311.764486</td>\n      <td>SI-3.26M190326XA</td>\n      <td>SI100000BC6</td>\n      <td>o</td>\n      <td>SIH6</td>\n      <td>f</td>\n      <td>SI</td>\n      <td>a</td>\n      <td>rub</td>\n    </tr>\n    <tr>\n      <th>1</th>\n      <td>2025-05-15 00:00:00+00:00</td>\n      <td>100000.0</td>\n      <td>2026-03-19 00:00:00+00:00</td>\n      <td>c</td>\n      <td>0.0</td>\n      <td>0.0</td>\n      <td>0.0</td>\n      <td>2026-03-19 00:00:00+00:00</td>\n      <td>5676.164793</td>\n      <td>21.64</td>\n      <td>...</td>\n      <td>-12.178851</td>\n      <td>311.764486</td>\n      <td>SI-3.26M190326XA</td>\n      <td>SI100000BC6</td>\n      <td>o</td>\n      <td>SIH6</td>\n      <td>f</td>\n      <td>SI</td>\n      <td>a</td>\n      <td>rub</td>\n    </tr>\n    <tr>\n      <th>2</th>\n      <td>2025-05-15 01:00:00+00:00</td>\n      <td>NaN</td>\n      <td>NaT</td>\n      <td>None</td>\n      <td>NaN</td>\n      <td>NaN</td>\n      <td>NaN</td>\n      <td>NaT</td>\n      <td>NaN</td>\n      <td>NaN</td>\n      <td>...</td>\n      <td>NaN</td>\n      <td>NaN</td>\n      <td>None</td>\n      <td>None</td>\n      <td>None</td>\n      <td>None</td>\n      <td>None</td>\n      <td>None</td>\n      <td>None</td>\n      <td>None</td>\n    </tr>\n    <tr>\n      <th>3</th>\n      <td>2025-05-15 02:00:00+00:00</td>\n      <td>NaN</td>\n      <td>NaT</td>\n      <td>None</td>\n      <td>NaN</td>\n      <td>NaN</td>\n      <td>NaN</td>\n      <td>NaT</td>\n      <td>NaN</td>\n      <td>NaN</td>\n      <td>...</td>\n      <td>NaN</td>\n      <td>NaN</td>\n      <td>None</td>\n      <td>None</td>\n      <td>None</td>\n      <td>None</td>\n      <td>None</td>\n      <td>None</td>\n      <td>None</td>\n      <td>None</td>\n    </tr>\n    <tr>\n      <th>4</th>\n      <td>2025-05-15 03:00:00+00:00</td>\n      <td>NaN</td>\n      <td>NaT</td>\n      <td>None</td>\n      <td>NaN</td>\n      <td>NaN</td>\n      <td>NaN</td>\n      <td>NaT</td>\n      <td>NaN</td>\n      <td>NaN</td>\n      <td>...</td>\n      <td>NaN</td>\n      <td>NaN</td>\n      <td>None</td>\n      <td>None</td>\n      <td>None</td>\n      <td>None</td>\n      <td>None</td>\n      <td>None</td>\n      <td>None</td>\n      <td>None</td>\n    </tr>\n    <tr>\n      <th>...</th>\n      <td>...</td>\n      <td>...</td>\n      <td>...</td>\n      <td>...</td>\n      <td>...</td>\n      <td>...</td>\n      <td>...</td>\n      <td>...</td>\n      <td>...</td>\n      <td>...</td>\n      <td>...</td>\n      <td>...</td>\n      <td>...</td>\n      <td>...</td>\n      <td>...</td>\n      <td>...</td>\n      <td>...</td>\n      <td>...</td>\n      <td>...</td>\n      <td>...</td>\n      <td>...</td>\n    </tr>\n    <tr>\n      <th>74607</th>\n      <td>2025-05-17 01:00:00+00:00</td>\n      <td>99500.0</td>\n      <td>2025-12-18 00:00:00+00:00</td>\n      <td>p</td>\n      <td>0.0</td>\n      <td>0.0</td>\n      <td>0.0</td>\n      <td>2025-12-18 00:00:00+00:00</td>\n      <td>11924.858038</td>\n      <td>23.87</td>\n      <td>...</td>\n      <td>-14.368667</td>\n      <td>-419.680601</td>\n      <td>SI-12.25M181225XA</td>\n      <td>SI99500BX5</td>\n      <td>o</td>\n      <td>SIZ5</td>\n      <td>f</td>\n      <td>SI</td>\n      <td>a</td>\n      <td>rub</td>\n    </tr>\n    <tr>\n      <th>74608</th>\n      <td>2025-05-17 02:00:00+00:00</td>\n      <td>99500.0</td>\n      <td>2025-12-18 00:00:00+00:00</td>\n      <td>p</td>\n      <td>0.0</td>\n      <td>0.0</td>\n      <td>0.0</td>\n      <td>2025-12-18 00:00:00+00:00</td>\n      <td>11924.858038</td>\n      <td>23.87</td>\n      <td>...</td>\n      <td>-14.368667</td>\n      <td>-419.680601</td>\n      <td>SI-12.25M181225XA</td>\n      <td>SI99500BX5</td>\n      <td>o</td>\n      <td>SIZ5</td>\n      <td>f</td>\n      <td>SI</td>\n      <td>a</td>\n      <td>rub</td>\n    </tr>\n    <tr>\n      <th>74609</th>\n      <td>2025-05-17 03:00:00+00:00</td>\n      <td>99500.0</td>\n      <td>2025-12-18 00:00:00+00:00</td>\n      <td>p</td>\n      <td>0.0</td>\n      <td>0.0</td>\n      <td>0.0</td>\n      <td>2025-12-18 00:00:00+00:00</td>\n      <td>11924.925326</td>\n      <td>23.87</td>\n      <td>...</td>\n      <td>-14.368851</td>\n      <td>-419.679793</td>\n      <td>SI-12.25M181225XA</td>\n      <td>SI99500BX5</td>\n      <td>o</td>\n      <td>SIZ5</td>\n      <td>f</td>\n      <td>SI</td>\n      <td>a</td>\n      <td>rub</td>\n    </tr>\n    <tr>\n      <th>74610</th>\n      <td>2025-05-17 04:00:00+00:00</td>\n      <td>99500.0</td>\n      <td>2025-12-18 00:00:00+00:00</td>\n      <td>p</td>\n      <td>0.0</td>\n      <td>0.0</td>\n      <td>0.0</td>\n      <td>2025-12-18 00:00:00+00:00</td>\n      <td>11924.940854</td>\n      <td>23.87</td>\n      <td>...</td>\n      <td>-14.368891</td>\n      <td>-419.679617</td>\n      <td>SI-12.25M181225XA</td>\n      <td>SI99500BX5</td>\n      <td>o</td>\n      <td>SIZ5</td>\n      <td>f</td>\n      <td>SI</td>\n      <td>a</td>\n      <td>rub</td>\n    </tr>\n    <tr>\n      <th>74611</th>\n      <td>2025-05-17 05:00:00+00:00</td>\n      <td>99500.0</td>\n      <td>2025-12-18 00:00:00+00:00</td>\n      <td>p</td>\n      <td>0.0</td>\n      <td>0.0</td>\n      <td>0.0</td>\n      <td>2025-12-18 00:00:00+00:00</td>\n      <td>11924.956382</td>\n      <td>23.87</td>\n      <td>...</td>\n      <td>-14.368935</td>\n      <td>-419.679422</td>\n      <td>SI-12.25M181225XA</td>\n      <td>SI99500BX5</td>\n      <td>o</td>\n      <td>SIZ5</td>\n      <td>f</td>\n      <td>SI</td>\n      <td>a</td>\n      <td>rub</td>\n    </tr>\n  </tbody>\n</table>\n<p>74612 rows × 30 columns</p>\n</div>"
     },
     "execution_count": 36,
     "metadata": {},
     "output_type": "execute_result"
    }
   ],
   "source": [
    "df\n"
   ],
   "metadata": {
    "collapsed": false
   }
  },
  {
   "cell_type": "code",
   "execution_count": 37,
   "outputs": [
    {
     "data": {
      "text/plain": "strike\n65000.0     66\n65500.0     92\n66000.0     92\n66500.0     92\n67000.0     92\n            ..\n123000.0    74\n123500.0    74\n124500.0    74\n130000.0    74\n132000.0    74\nName: timestamp, Length: 113, dtype: int64"
     },
     "execution_count": 37,
     "metadata": {},
     "output_type": "execute_result"
    }
   ],
   "source": [
    "df.groupby('strike')['timestamp'].count()\n"
   ],
   "metadata": {
    "collapsed": false
   }
  },
  {
   "cell_type": "code",
   "execution_count": 46,
   "outputs": [
    {
     "data": {
      "text/plain": "np.float64(82500.0)"
     },
     "execution_count": 46,
     "metadata": {},
     "output_type": "execute_result"
    }
   ],
   "source": [
    "max_rec_strike = df.groupby('strike')['timestamp'].count().idxmax()\n",
    "max_rec_strike"
   ],
   "metadata": {
    "collapsed": false
   }
  },
  {
   "cell_type": "code",
   "execution_count": 52,
   "outputs": [
    {
     "data": {
      "text/plain": "Timestamp('2025-05-22 00:00:00+0000', tz='UTC')"
     },
     "execution_count": 52,
     "metadata": {},
     "output_type": "execute_result"
    }
   ],
   "source": [
    "exp_date = df[df['strike'] == max_rec_strike].groupby('expiration_date')['timestamp'].count().idxmax()\n",
    "exp_date"
   ],
   "metadata": {
    "collapsed": false
   }
  },
  {
   "cell_type": "code",
   "execution_count": 53,
   "outputs": [
    {
     "data": {
      "text/plain": "                      timestamp    last      ask    bid  exchange_price  \\\n39944 2025-05-14 23:00:00+00:00  1305.0  29910.0  950.0     1284.981363   \n39945 2025-05-15 00:00:00+00:00  1305.0  29910.0  950.0     1284.981363   \n39950 2025-05-15 05:00:00+00:00  1305.0  29910.0  950.0     1285.622423   \n39951 2025-05-15 06:00:00+00:00  1305.0   1607.0  972.0     1135.509590   \n39952 2025-05-15 07:00:00+00:00  1000.0   1172.0  951.0     1052.113131   \n39953 2025-05-15 08:00:00+00:00   950.0   1505.0  929.0      924.979417   \n39954 2025-05-15 09:00:00+00:00   930.0   1010.0  920.0      887.113678   \n39955 2025-05-15 10:00:00+00:00   900.0   1010.0  891.0      861.929026   \n39956 2025-05-15 11:00:00+00:00   882.0   1010.0  880.0      850.447435   \n39969 2025-05-16 00:00:00+00:00   727.0    745.0  600.0      690.204808   \n39970 2025-05-16 01:00:00+00:00   727.0    745.0  600.0      690.204808   \n39971 2025-05-16 02:00:00+00:00   727.0    745.0  600.0      690.204808   \n39972 2025-05-16 03:00:00+00:00   727.0    745.0  600.0      690.178692   \n39975 2025-05-16 06:00:00+00:00   680.0    690.0  665.0      640.817712   \n39976 2025-05-16 07:00:00+00:00   790.0    782.0  773.0      756.091437   \n39977 2025-05-16 08:00:00+00:00   884.0    911.0  869.0      798.430234   \n39978 2025-05-16 09:00:00+00:00   815.0    800.0  796.0      797.246170   \n39979 2025-05-16 10:00:00+00:00   846.0    894.0  859.0      946.577801   \n39980 2025-05-16 11:00:00+00:00   950.0    941.0  907.0      865.033247   \n39981 2025-05-16 12:00:00+00:00   900.0    907.0  881.0      880.521854   \n39982 2025-05-16 13:00:00+00:00  1030.0   1052.0  959.0      872.344858   \n39983 2025-05-16 14:00:00+00:00   804.0    854.0  809.0      885.299970   \n39984 2025-05-16 15:00:00+00:00   950.0    990.0  768.0      921.004026   \n39985 2025-05-16 16:00:00+00:00     0.0   1074.0  803.0      897.646618   \n39986 2025-05-16 17:00:00+00:00   900.0    904.0  871.0      882.648368   \n39987 2025-05-16 18:00:00+00:00   843.0    843.0  828.0      817.995450   \n39988 2025-05-16 19:00:00+00:00   841.0    846.0  802.0      813.503063   \n39989 2025-05-16 20:00:00+00:00   783.0    800.0  774.0      799.928631   \n39990 2025-05-16 21:00:00+00:00   775.0    855.0  680.0      684.619154   \n39991 2025-05-16 22:00:00+00:00   775.0    855.0  680.0      684.635913   \n39992 2025-05-16 23:00:00+00:00   775.0    855.0  680.0      684.643531   \n39993 2025-05-17 00:00:00+00:00   775.0    855.0  680.0      684.643531   \n39994 2025-05-17 01:00:00+00:00   775.0    855.0  680.0      684.643531   \n39995 2025-05-17 02:00:00+00:00   775.0    855.0  680.0      684.643531   \n39996 2025-05-17 03:00:00+00:00   775.0    855.0  680.0      684.715519   \n39997 2025-05-17 04:00:00+00:00   775.0    855.0  680.0      684.732278   \n39998 2025-05-17 05:00:00+00:00   775.0    855.0  680.0      684.749419   \n\n       underlying_price  \n39944           83067.0  \n39945           83067.0  \n39950           83067.0  \n39951           82848.0  \n39952           82748.0  \n39953           82511.0  \n39954           82469.0  \n39955           82441.0  \n39956           82401.0  \n39969           82410.0  \n39970           82410.0  \n39971           82410.0  \n39972           82410.0  \n39975           82294.0  \n39976           82482.0  \n39977           82702.0  \n39978           82705.0  \n39979           82973.0  \n39980           82850.0  \n39981           82869.0  \n39982           82884.0  \n39983           82969.0  \n39984           82987.0  \n39985           82985.0  \n39986           82970.0  \n39987           82881.0  \n39988           82816.0  \n39989           82819.0  \n39990           82725.0  \n39991           82725.0  \n39992           82725.0  \n39993           82725.0  \n39994           82725.0  \n39995           82725.0  \n39996           82725.0  \n39997           82725.0  \n39998           82725.0  ",
      "text/html": "<div>\n<style scoped>\n    .dataframe tbody tr th:only-of-type {\n        vertical-align: middle;\n    }\n\n    .dataframe tbody tr th {\n        vertical-align: top;\n    }\n\n    .dataframe thead th {\n        text-align: right;\n    }\n</style>\n<table border=\"1\" class=\"dataframe\">\n  <thead>\n    <tr style=\"text-align: right;\">\n      <th></th>\n      <th>timestamp</th>\n      <th>last</th>\n      <th>ask</th>\n      <th>bid</th>\n      <th>exchange_price</th>\n      <th>underlying_price</th>\n    </tr>\n  </thead>\n  <tbody>\n    <tr>\n      <th>39944</th>\n      <td>2025-05-14 23:00:00+00:00</td>\n      <td>1305.0</td>\n      <td>29910.0</td>\n      <td>950.0</td>\n      <td>1284.981363</td>\n      <td>83067.0</td>\n    </tr>\n    <tr>\n      <th>39945</th>\n      <td>2025-05-15 00:00:00+00:00</td>\n      <td>1305.0</td>\n      <td>29910.0</td>\n      <td>950.0</td>\n      <td>1284.981363</td>\n      <td>83067.0</td>\n    </tr>\n    <tr>\n      <th>39950</th>\n      <td>2025-05-15 05:00:00+00:00</td>\n      <td>1305.0</td>\n      <td>29910.0</td>\n      <td>950.0</td>\n      <td>1285.622423</td>\n      <td>83067.0</td>\n    </tr>\n    <tr>\n      <th>39951</th>\n      <td>2025-05-15 06:00:00+00:00</td>\n      <td>1305.0</td>\n      <td>1607.0</td>\n      <td>972.0</td>\n      <td>1135.509590</td>\n      <td>82848.0</td>\n    </tr>\n    <tr>\n      <th>39952</th>\n      <td>2025-05-15 07:00:00+00:00</td>\n      <td>1000.0</td>\n      <td>1172.0</td>\n      <td>951.0</td>\n      <td>1052.113131</td>\n      <td>82748.0</td>\n    </tr>\n    <tr>\n      <th>39953</th>\n      <td>2025-05-15 08:00:00+00:00</td>\n      <td>950.0</td>\n      <td>1505.0</td>\n      <td>929.0</td>\n      <td>924.979417</td>\n      <td>82511.0</td>\n    </tr>\n    <tr>\n      <th>39954</th>\n      <td>2025-05-15 09:00:00+00:00</td>\n      <td>930.0</td>\n      <td>1010.0</td>\n      <td>920.0</td>\n      <td>887.113678</td>\n      <td>82469.0</td>\n    </tr>\n    <tr>\n      <th>39955</th>\n      <td>2025-05-15 10:00:00+00:00</td>\n      <td>900.0</td>\n      <td>1010.0</td>\n      <td>891.0</td>\n      <td>861.929026</td>\n      <td>82441.0</td>\n    </tr>\n    <tr>\n      <th>39956</th>\n      <td>2025-05-15 11:00:00+00:00</td>\n      <td>882.0</td>\n      <td>1010.0</td>\n      <td>880.0</td>\n      <td>850.447435</td>\n      <td>82401.0</td>\n    </tr>\n    <tr>\n      <th>39969</th>\n      <td>2025-05-16 00:00:00+00:00</td>\n      <td>727.0</td>\n      <td>745.0</td>\n      <td>600.0</td>\n      <td>690.204808</td>\n      <td>82410.0</td>\n    </tr>\n    <tr>\n      <th>39970</th>\n      <td>2025-05-16 01:00:00+00:00</td>\n      <td>727.0</td>\n      <td>745.0</td>\n      <td>600.0</td>\n      <td>690.204808</td>\n      <td>82410.0</td>\n    </tr>\n    <tr>\n      <th>39971</th>\n      <td>2025-05-16 02:00:00+00:00</td>\n      <td>727.0</td>\n      <td>745.0</td>\n      <td>600.0</td>\n      <td>690.204808</td>\n      <td>82410.0</td>\n    </tr>\n    <tr>\n      <th>39972</th>\n      <td>2025-05-16 03:00:00+00:00</td>\n      <td>727.0</td>\n      <td>745.0</td>\n      <td>600.0</td>\n      <td>690.178692</td>\n      <td>82410.0</td>\n    </tr>\n    <tr>\n      <th>39975</th>\n      <td>2025-05-16 06:00:00+00:00</td>\n      <td>680.0</td>\n      <td>690.0</td>\n      <td>665.0</td>\n      <td>640.817712</td>\n      <td>82294.0</td>\n    </tr>\n    <tr>\n      <th>39976</th>\n      <td>2025-05-16 07:00:00+00:00</td>\n      <td>790.0</td>\n      <td>782.0</td>\n      <td>773.0</td>\n      <td>756.091437</td>\n      <td>82482.0</td>\n    </tr>\n    <tr>\n      <th>39977</th>\n      <td>2025-05-16 08:00:00+00:00</td>\n      <td>884.0</td>\n      <td>911.0</td>\n      <td>869.0</td>\n      <td>798.430234</td>\n      <td>82702.0</td>\n    </tr>\n    <tr>\n      <th>39978</th>\n      <td>2025-05-16 09:00:00+00:00</td>\n      <td>815.0</td>\n      <td>800.0</td>\n      <td>796.0</td>\n      <td>797.246170</td>\n      <td>82705.0</td>\n    </tr>\n    <tr>\n      <th>39979</th>\n      <td>2025-05-16 10:00:00+00:00</td>\n      <td>846.0</td>\n      <td>894.0</td>\n      <td>859.0</td>\n      <td>946.577801</td>\n      <td>82973.0</td>\n    </tr>\n    <tr>\n      <th>39980</th>\n      <td>2025-05-16 11:00:00+00:00</td>\n      <td>950.0</td>\n      <td>941.0</td>\n      <td>907.0</td>\n      <td>865.033247</td>\n      <td>82850.0</td>\n    </tr>\n    <tr>\n      <th>39981</th>\n      <td>2025-05-16 12:00:00+00:00</td>\n      <td>900.0</td>\n      <td>907.0</td>\n      <td>881.0</td>\n      <td>880.521854</td>\n      <td>82869.0</td>\n    </tr>\n    <tr>\n      <th>39982</th>\n      <td>2025-05-16 13:00:00+00:00</td>\n      <td>1030.0</td>\n      <td>1052.0</td>\n      <td>959.0</td>\n      <td>872.344858</td>\n      <td>82884.0</td>\n    </tr>\n    <tr>\n      <th>39983</th>\n      <td>2025-05-16 14:00:00+00:00</td>\n      <td>804.0</td>\n      <td>854.0</td>\n      <td>809.0</td>\n      <td>885.299970</td>\n      <td>82969.0</td>\n    </tr>\n    <tr>\n      <th>39984</th>\n      <td>2025-05-16 15:00:00+00:00</td>\n      <td>950.0</td>\n      <td>990.0</td>\n      <td>768.0</td>\n      <td>921.004026</td>\n      <td>82987.0</td>\n    </tr>\n    <tr>\n      <th>39985</th>\n      <td>2025-05-16 16:00:00+00:00</td>\n      <td>0.0</td>\n      <td>1074.0</td>\n      <td>803.0</td>\n      <td>897.646618</td>\n      <td>82985.0</td>\n    </tr>\n    <tr>\n      <th>39986</th>\n      <td>2025-05-16 17:00:00+00:00</td>\n      <td>900.0</td>\n      <td>904.0</td>\n      <td>871.0</td>\n      <td>882.648368</td>\n      <td>82970.0</td>\n    </tr>\n    <tr>\n      <th>39987</th>\n      <td>2025-05-16 18:00:00+00:00</td>\n      <td>843.0</td>\n      <td>843.0</td>\n      <td>828.0</td>\n      <td>817.995450</td>\n      <td>82881.0</td>\n    </tr>\n    <tr>\n      <th>39988</th>\n      <td>2025-05-16 19:00:00+00:00</td>\n      <td>841.0</td>\n      <td>846.0</td>\n      <td>802.0</td>\n      <td>813.503063</td>\n      <td>82816.0</td>\n    </tr>\n    <tr>\n      <th>39989</th>\n      <td>2025-05-16 20:00:00+00:00</td>\n      <td>783.0</td>\n      <td>800.0</td>\n      <td>774.0</td>\n      <td>799.928631</td>\n      <td>82819.0</td>\n    </tr>\n    <tr>\n      <th>39990</th>\n      <td>2025-05-16 21:00:00+00:00</td>\n      <td>775.0</td>\n      <td>855.0</td>\n      <td>680.0</td>\n      <td>684.619154</td>\n      <td>82725.0</td>\n    </tr>\n    <tr>\n      <th>39991</th>\n      <td>2025-05-16 22:00:00+00:00</td>\n      <td>775.0</td>\n      <td>855.0</td>\n      <td>680.0</td>\n      <td>684.635913</td>\n      <td>82725.0</td>\n    </tr>\n    <tr>\n      <th>39992</th>\n      <td>2025-05-16 23:00:00+00:00</td>\n      <td>775.0</td>\n      <td>855.0</td>\n      <td>680.0</td>\n      <td>684.643531</td>\n      <td>82725.0</td>\n    </tr>\n    <tr>\n      <th>39993</th>\n      <td>2025-05-17 00:00:00+00:00</td>\n      <td>775.0</td>\n      <td>855.0</td>\n      <td>680.0</td>\n      <td>684.643531</td>\n      <td>82725.0</td>\n    </tr>\n    <tr>\n      <th>39994</th>\n      <td>2025-05-17 01:00:00+00:00</td>\n      <td>775.0</td>\n      <td>855.0</td>\n      <td>680.0</td>\n      <td>684.643531</td>\n      <td>82725.0</td>\n    </tr>\n    <tr>\n      <th>39995</th>\n      <td>2025-05-17 02:00:00+00:00</td>\n      <td>775.0</td>\n      <td>855.0</td>\n      <td>680.0</td>\n      <td>684.643531</td>\n      <td>82725.0</td>\n    </tr>\n    <tr>\n      <th>39996</th>\n      <td>2025-05-17 03:00:00+00:00</td>\n      <td>775.0</td>\n      <td>855.0</td>\n      <td>680.0</td>\n      <td>684.715519</td>\n      <td>82725.0</td>\n    </tr>\n    <tr>\n      <th>39997</th>\n      <td>2025-05-17 04:00:00+00:00</td>\n      <td>775.0</td>\n      <td>855.0</td>\n      <td>680.0</td>\n      <td>684.732278</td>\n      <td>82725.0</td>\n    </tr>\n    <tr>\n      <th>39998</th>\n      <td>2025-05-17 05:00:00+00:00</td>\n      <td>775.0</td>\n      <td>855.0</td>\n      <td>680.0</td>\n      <td>684.749419</td>\n      <td>82725.0</td>\n    </tr>\n  </tbody>\n</table>\n</div>"
     },
     "execution_count": 53,
     "metadata": {},
     "output_type": "execute_result"
    }
   ],
   "source": [
    "df[(df['option_type'] == 'c')&(df['strike'] == max_rec_strike)&(df['expiration_date']==exp_date)][['timestamp', 'last', 'ask', 'bid', 'exchange_price', 'underlying_price']].sort_values(by='timestamp')\n"
   ],
   "metadata": {
    "collapsed": false
   }
  },
  {
   "cell_type": "code",
   "execution_count": null,
   "outputs": [],
   "source": [
    "#MOEX\n",
    "# 6 - (9:00 msk)\n",
    "# SI: 16.05: 6 - 21\n"
   ],
   "metadata": {
    "collapsed": false
   }
  }
 ],
 "metadata": {
  "kernelspec": {
   "display_name": "Python 3",
   "language": "python",
   "name": "python3"
  },
  "language_info": {
   "codemirror_mode": {
    "name": "ipython",
    "version": 2
   },
   "file_extension": ".py",
   "mimetype": "text/x-python",
   "name": "python",
   "nbconvert_exporter": "python",
   "pygments_lexer": "ipython2",
   "version": "2.7.6"
  }
 },
 "nbformat": 4,
 "nbformat_minor": 0
}
