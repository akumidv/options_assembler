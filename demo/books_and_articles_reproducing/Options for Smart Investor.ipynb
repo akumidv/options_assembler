{
 "cells": [
  {
   "cell_type": "markdown",
   "id": "b15e828b-7014-4ca9-a5dc-92e65983e05d",
   "metadata": {},
   "source": [
    "### From articles \"Options for smart investor\"\n",
    "\n",
    "https://dzen.ru/id/5f6b2336d03ed90da6bf9d00\n"
   ]
  },
  {
   "cell_type": "code",
   "execution_count": 1,
   "outputs": [],
   "source": [
    "# Prepare data and option_lib to use in Google Collab\n",
    "!bash -c '\\\n",
    "OPT_LIB_PATH=\"/content/option_lib\"; \\\n",
    "if [[ ! (-z \"${COLAB_JUPYTER_IP}\" || -d \"${OPT_LIB_PATH}\" ) ]]; then \\\n",
    "  git clone https://github.com/akumidv/option_lib.git \"${OPT_LIB_PATH}\"; \\\n",
    "  DATA_PATH=\"/content/data\"; \\\n",
    "  mkdir -p \"${DATA_PATH}/DERIBIT/BTC-USD/EOD/futures\"; \\\n",
    "  mkdir -p \"${DATA_PATH}/DERIBIT/BTC-USD/EOD/options\"; \\\n",
    "  gdown --fuzzy \"https://drive.google.com/file/d/1n2T4jBHeanGLtBLlLWgYIHzK9hYsGT97/view?usp=sharing\"  -O \"/content/data/DERIBIT/BTC-USD/EOD/futures/2025.parquet\" ;\\\n",
    "  gdown --fuzzy \"https://drive.google.com/file/d/10Eo_4oNSlx0rbe2efn5OXToONAi5nPhV/view?usp=sharing\"  -O \"/content/data/DERIBIT/BTC-USD/EOD/options/2025.parquet\"  ;\\\n",
    "  export VENV_PATH=\"${OPT_LIB_PATH}/.venv\";\\\n",
    "  pip install poetry ;\\\n",
    "  cd ${OPT_LIB_PATH} ;\\\n",
    "  POETRY_VIRTUALENVS_IN_PROJECT=true poetry install --no-interaction;\\\n",
    "fi'\n",
    "import sys, os\n",
    "\n",
    "if os.path.isdir('/content/option_lib') and '/content/option_lib/src' not in sys.path:\n",
    "    sys.path.extend(\n",
    "        ['/content/option_lib/src', '/content/option_lib/.venv/'])  # Not work yet - poetry install somewhere else\n",
    "    os.environ['DATA_PATH'] = '/content/data'\n"
   ],
   "metadata": {
    "collapsed": false
   }
  },
  {
   "cell_type": "code",
   "execution_count": 2,
   "id": "d69cb3a3-0b44-4ad9-b63d-59f32cacf86a",
   "metadata": {},
   "outputs": [
    {
     "data": {
      "text/html": "        <script type=\"text/javascript\">\n        window.PlotlyConfig = {MathJaxConfig: 'local'};\n        if (window.MathJax && window.MathJax.Hub && window.MathJax.Hub.Config) {window.MathJax.Hub.Config({SVG: {font: \"STIX-Web\"}});}\n        if (typeof require !== 'undefined') {\n        require.undef(\"plotly\");\n        requirejs.config({\n            paths: {\n                'plotly': ['https://cdn.plot.ly/plotly-2.35.2.min']\n            }\n        });\n        require(['plotly'], function(Plotly) {\n            window._Plotly = Plotly;\n        });\n        }\n        </script>\n        "
     },
     "metadata": {},
     "output_type": "display_data"
    }
   ],
   "source": [
    "import datetime\n",
    "import pandas as pd\n",
    "from chart_studio import plotly\n",
    "from plotly import graph_objs as go\n",
    "from plotly.offline import iplot, init_notebook_mode\n",
    "#import plotly.express as px\n",
    "\n",
    "from options_assembler.provider import PandasLocalFileProvider, RequestParameters\n",
    "from options_assembler.entities import OptionType, OptionPriceStatus\n",
    "from option_lib import Option\n",
    "from options_assembler.entities import LegType, OptionLeg\n",
    "\n",
    "init_notebook_mode(connected=True)\n",
    "\n",
    "pd.set_option(\"display.max_rows\", 20, \"display.max_columns\", 30)"
   ]
  },
  {
   "cell_type": "code",
   "execution_count": 3,
   "outputs": [],
   "source": [
    "deribit_provider = PandasLocalFileProvider('DERIBIT', os.environ.get('DATA_PATH', '../../data'))\n",
    "cur_dt = datetime.date.today()\n",
    "provider_params = RequestParameters(period_to=cur_dt.year)\n",
    "btc = Option(deribit_provider, 'BTC', provider_params,\n",
    "             option_columns=['timestamp', 'expiration_date', 'strike', 'option_type', 'price',\n",
    "                             'underlying_expiration_date', 'exchange_price', 'exchange_iv',\n",
    "                             'underlying_price'])  #, 'iv', 'delta', 'gamma', 'vega', 'theta', 'quick_delta', 'contract_size'])\n"
   ],
   "metadata": {
    "collapsed": false
   }
  },
  {
   "cell_type": "code",
   "execution_count": 4,
   "id": "9e861fa5-47b3-417d-8ec2-52a2b42ea203",
   "metadata": {},
   "outputs": [
    {
     "data": {
      "text/plain": "                      timestamp           expiration_date    strike  \\\n96    2025-02-11 00:00:00+00:00 2025-02-12 00:00:00+00:00  100000.0   \n97    2025-02-12 00:00:00+00:00 2025-02-12 00:00:00+00:00  100000.0   \n99    2025-02-11 00:00:00+00:00 2025-02-12 00:00:00+00:00  100000.0   \n100   2025-02-12 00:00:00+00:00 2025-02-12 00:00:00+00:00  100000.0   \n102   2025-02-11 00:00:00+00:00 2025-02-12 00:00:00+00:00  101000.0   \n...                         ...                       ...       ...   \n20327 2025-03-01 00:00:00+00:00 2025-03-07 00:00:00+00:00   99000.0   \n20328 2025-03-02 00:00:00+00:00 2025-03-07 00:00:00+00:00   99000.0   \n20329 2025-03-03 00:00:00+00:00 2025-03-07 00:00:00+00:00   99000.0   \n20330 2025-03-04 00:00:00+00:00 2025-03-07 00:00:00+00:00   99000.0   \n20331 2025-03-05 00:00:00+00:00 2025-03-07 00:00:00+00:00   99000.0   \n\n      option_type         price underlying_expiration_date  exchange_price  \\\n96              c      9.575306  2025-02-12 00:00:00+00:00        5.254928   \n97              c      9.604906  2025-02-12 00:00:00+00:00        0.000000   \n99              p   2058.690790  2025-02-12 00:00:00+00:00     4247.351996   \n100             p   2065.054790  2025-02-12 00:00:00+00:00     3951.033792   \n102             c      9.575306  2025-02-12 00:00:00+00:00        1.639292   \n...           ...           ...                        ...             ...   \n20327           p  16001.382840  2025-03-07 00:00:00+00:00    13034.281692   \n20328           p  17530.619040  2025-03-07 00:00:00+00:00     5738.444561   \n20329           p  16024.495200  2025-03-07 00:00:00+00:00    12843.515734   \n20330           p  16049.942800  2025-03-07 00:00:00+00:00    11856.635304   \n20331           p  16090.632560  2025-03-07 00:00:00+00:00    11630.714978   \n\n       exchange_iv  underlying_price  \n96           60.36       95757.81054  \n97           62.78       96049.03000  \n99           60.36       95757.81054  \n100          62.78       96049.03000  \n102          63.79       95757.81054  \n...            ...               ...  \n20327        60.45       86034.74000  \n20328        66.05       94290.06000  \n20329        79.54       86241.75000  \n20330        80.06       87200.24000  \n20331        82.24       87437.70000  \n\n[18433 rows x 9 columns]",
      "text/html": "<div>\n<style scoped>\n    .dataframe tbody tr th:only-of-type {\n        vertical-align: middle;\n    }\n\n    .dataframe tbody tr th {\n        vertical-align: top;\n    }\n\n    .dataframe thead th {\n        text-align: right;\n    }\n</style>\n<table border=\"1\" class=\"dataframe\">\n  <thead>\n    <tr style=\"text-align: right;\">\n      <th></th>\n      <th>timestamp</th>\n      <th>expiration_date</th>\n      <th>strike</th>\n      <th>option_type</th>\n      <th>price</th>\n      <th>underlying_expiration_date</th>\n      <th>exchange_price</th>\n      <th>exchange_iv</th>\n      <th>underlying_price</th>\n    </tr>\n  </thead>\n  <tbody>\n    <tr>\n      <th>96</th>\n      <td>2025-02-11 00:00:00+00:00</td>\n      <td>2025-02-12 00:00:00+00:00</td>\n      <td>100000.0</td>\n      <td>c</td>\n      <td>9.575306</td>\n      <td>2025-02-12 00:00:00+00:00</td>\n      <td>5.254928</td>\n      <td>60.36</td>\n      <td>95757.81054</td>\n    </tr>\n    <tr>\n      <th>97</th>\n      <td>2025-02-12 00:00:00+00:00</td>\n      <td>2025-02-12 00:00:00+00:00</td>\n      <td>100000.0</td>\n      <td>c</td>\n      <td>9.604906</td>\n      <td>2025-02-12 00:00:00+00:00</td>\n      <td>0.000000</td>\n      <td>62.78</td>\n      <td>96049.03000</td>\n    </tr>\n    <tr>\n      <th>99</th>\n      <td>2025-02-11 00:00:00+00:00</td>\n      <td>2025-02-12 00:00:00+00:00</td>\n      <td>100000.0</td>\n      <td>p</td>\n      <td>2058.690790</td>\n      <td>2025-02-12 00:00:00+00:00</td>\n      <td>4247.351996</td>\n      <td>60.36</td>\n      <td>95757.81054</td>\n    </tr>\n    <tr>\n      <th>100</th>\n      <td>2025-02-12 00:00:00+00:00</td>\n      <td>2025-02-12 00:00:00+00:00</td>\n      <td>100000.0</td>\n      <td>p</td>\n      <td>2065.054790</td>\n      <td>2025-02-12 00:00:00+00:00</td>\n      <td>3951.033792</td>\n      <td>62.78</td>\n      <td>96049.03000</td>\n    </tr>\n    <tr>\n      <th>102</th>\n      <td>2025-02-11 00:00:00+00:00</td>\n      <td>2025-02-12 00:00:00+00:00</td>\n      <td>101000.0</td>\n      <td>c</td>\n      <td>9.575306</td>\n      <td>2025-02-12 00:00:00+00:00</td>\n      <td>1.639292</td>\n      <td>63.79</td>\n      <td>95757.81054</td>\n    </tr>\n    <tr>\n      <th>...</th>\n      <td>...</td>\n      <td>...</td>\n      <td>...</td>\n      <td>...</td>\n      <td>...</td>\n      <td>...</td>\n      <td>...</td>\n      <td>...</td>\n      <td>...</td>\n    </tr>\n    <tr>\n      <th>20327</th>\n      <td>2025-03-01 00:00:00+00:00</td>\n      <td>2025-03-07 00:00:00+00:00</td>\n      <td>99000.0</td>\n      <td>p</td>\n      <td>16001.382840</td>\n      <td>2025-03-07 00:00:00+00:00</td>\n      <td>13034.281692</td>\n      <td>60.45</td>\n      <td>86034.74000</td>\n    </tr>\n    <tr>\n      <th>20328</th>\n      <td>2025-03-02 00:00:00+00:00</td>\n      <td>2025-03-07 00:00:00+00:00</td>\n      <td>99000.0</td>\n      <td>p</td>\n      <td>17530.619040</td>\n      <td>2025-03-07 00:00:00+00:00</td>\n      <td>5738.444561</td>\n      <td>66.05</td>\n      <td>94290.06000</td>\n    </tr>\n    <tr>\n      <th>20329</th>\n      <td>2025-03-03 00:00:00+00:00</td>\n      <td>2025-03-07 00:00:00+00:00</td>\n      <td>99000.0</td>\n      <td>p</td>\n      <td>16024.495200</td>\n      <td>2025-03-07 00:00:00+00:00</td>\n      <td>12843.515734</td>\n      <td>79.54</td>\n      <td>86241.75000</td>\n    </tr>\n    <tr>\n      <th>20330</th>\n      <td>2025-03-04 00:00:00+00:00</td>\n      <td>2025-03-07 00:00:00+00:00</td>\n      <td>99000.0</td>\n      <td>p</td>\n      <td>16049.942800</td>\n      <td>2025-03-07 00:00:00+00:00</td>\n      <td>11856.635304</td>\n      <td>80.06</td>\n      <td>87200.24000</td>\n    </tr>\n    <tr>\n      <th>20331</th>\n      <td>2025-03-05 00:00:00+00:00</td>\n      <td>2025-03-07 00:00:00+00:00</td>\n      <td>99000.0</td>\n      <td>p</td>\n      <td>16090.632560</td>\n      <td>2025-03-07 00:00:00+00:00</td>\n      <td>11630.714978</td>\n      <td>82.24</td>\n      <td>87437.70000</td>\n    </tr>\n  </tbody>\n</table>\n<p>18433 rows × 9 columns</p>\n</div>"
     },
     "execution_count": 4,
     "metadata": {},
     "output_type": "execute_result"
    }
   ],
   "source": [
    "btc.df_hist"
   ]
  },
  {
   "cell_type": "code",
   "execution_count": 5,
   "outputs": [
    {
     "data": {
      "text/plain": "                  timestamp           expiration_date    price\n0 2025-02-11 00:00:00+00:00 2025-02-14 00:00:00+00:00  95800.0\n1 2025-02-12 00:00:00+00:00 2025-02-14 00:00:00+00:00  97942.5",
      "text/html": "<div>\n<style scoped>\n    .dataframe tbody tr th:only-of-type {\n        vertical-align: middle;\n    }\n\n    .dataframe tbody tr th {\n        vertical-align: top;\n    }\n\n    .dataframe thead th {\n        text-align: right;\n    }\n</style>\n<table border=\"1\" class=\"dataframe\">\n  <thead>\n    <tr style=\"text-align: right;\">\n      <th></th>\n      <th>timestamp</th>\n      <th>expiration_date</th>\n      <th>price</th>\n    </tr>\n  </thead>\n  <tbody>\n    <tr>\n      <th>0</th>\n      <td>2025-02-11 00:00:00+00:00</td>\n      <td>2025-02-14 00:00:00+00:00</td>\n      <td>95800.0</td>\n    </tr>\n    <tr>\n      <th>1</th>\n      <td>2025-02-12 00:00:00+00:00</td>\n      <td>2025-02-14 00:00:00+00:00</td>\n      <td>97942.5</td>\n    </tr>\n  </tbody>\n</table>\n</div>"
     },
     "execution_count": 5,
     "metadata": {},
     "output_type": "execute_result"
    }
   ],
   "source": [
    "df_fut = btc.df_fut\n",
    "df_fut.head(2)"
   ],
   "metadata": {
    "collapsed": false
   }
  },
  {
   "cell_type": "code",
   "execution_count": 6,
   "outputs": [
    {
     "data": {
      "text/plain": "                   timestamp           expiration_date    strike option_type  \\\n96 2025-02-11 00:00:00+00:00 2025-02-12 00:00:00+00:00  100000.0           c   \n97 2025-02-12 00:00:00+00:00 2025-02-12 00:00:00+00:00  100000.0           c   \n\n       price underlying_expiration_date  exchange_price  exchange_iv  \\\n96  9.575306  2025-02-12 00:00:00+00:00        5.254928        60.36   \n97  9.604906  2025-02-12 00:00:00+00:00        0.000000        62.78   \n\n    underlying_price  intrinsic_value  time_value  \n96       95757.81054              0.0    9.575306  \n97       96049.03000              0.0    9.604906  ",
      "text/html": "<div>\n<style scoped>\n    .dataframe tbody tr th:only-of-type {\n        vertical-align: middle;\n    }\n\n    .dataframe tbody tr th {\n        vertical-align: top;\n    }\n\n    .dataframe thead th {\n        text-align: right;\n    }\n</style>\n<table border=\"1\" class=\"dataframe\">\n  <thead>\n    <tr style=\"text-align: right;\">\n      <th></th>\n      <th>timestamp</th>\n      <th>expiration_date</th>\n      <th>strike</th>\n      <th>option_type</th>\n      <th>price</th>\n      <th>underlying_expiration_date</th>\n      <th>exchange_price</th>\n      <th>exchange_iv</th>\n      <th>underlying_price</th>\n      <th>intrinsic_value</th>\n      <th>time_value</th>\n    </tr>\n  </thead>\n  <tbody>\n    <tr>\n      <th>96</th>\n      <td>2025-02-11 00:00:00+00:00</td>\n      <td>2025-02-12 00:00:00+00:00</td>\n      <td>100000.0</td>\n      <td>c</td>\n      <td>9.575306</td>\n      <td>2025-02-12 00:00:00+00:00</td>\n      <td>5.254928</td>\n      <td>60.36</td>\n      <td>95757.81054</td>\n      <td>0.0</td>\n      <td>9.575306</td>\n    </tr>\n    <tr>\n      <th>97</th>\n      <td>2025-02-12 00:00:00+00:00</td>\n      <td>2025-02-12 00:00:00+00:00</td>\n      <td>100000.0</td>\n      <td>c</td>\n      <td>9.604906</td>\n      <td>2025-02-12 00:00:00+00:00</td>\n      <td>0.000000</td>\n      <td>62.78</td>\n      <td>96049.03000</td>\n      <td>0.0</td>\n      <td>9.604906</td>\n    </tr>\n  </tbody>\n</table>\n</div>"
     },
     "execution_count": 6,
     "metadata": {},
     "output_type": "execute_result"
    }
   ],
   "source": [
    "btc.enrichment.add_column('underlying_price').add_column('time_value')\n",
    "btc.df_hist.head(2)"
   ],
   "metadata": {
    "collapsed": false
   }
  },
  {
   "cell_type": "code",
   "execution_count": 7,
   "id": "1351f71b-062f-4419-81cb-5e451b78ba6d",
   "metadata": {
    "editable": true,
    "slideshow": {
     "slide_type": ""
    },
    "tags": []
   },
   "outputs": [
    {
     "data": {
      "text/plain": "                    timestamp           expiration_date   strike option_type  \\\n208 2025-02-11 00:00:00+00:00 2025-02-12 00:00:00+00:00  96000.0           c   \n209 2025-02-12 00:00:00+00:00 2025-02-12 00:00:00+00:00  96000.0           c   \n\n          price underlying_expiration_date  exchange_price  exchange_iv  \\\n208  526.641830  2025-02-12 00:00:00+00:00      338.273538        38.81   \n209   57.629436  2025-02-12 00:00:00+00:00       50.398863        27.13   \n\n     underlying_price  intrinsic_value  time_value price_status  \n208       95757.81054             0.00  526.641830          atm  \n209       96049.03000            49.03    8.599436          atm  ",
      "text/html": "<div>\n<style scoped>\n    .dataframe tbody tr th:only-of-type {\n        vertical-align: middle;\n    }\n\n    .dataframe tbody tr th {\n        vertical-align: top;\n    }\n\n    .dataframe thead th {\n        text-align: right;\n    }\n</style>\n<table border=\"1\" class=\"dataframe\">\n  <thead>\n    <tr style=\"text-align: right;\">\n      <th></th>\n      <th>timestamp</th>\n      <th>expiration_date</th>\n      <th>strike</th>\n      <th>option_type</th>\n      <th>price</th>\n      <th>underlying_expiration_date</th>\n      <th>exchange_price</th>\n      <th>exchange_iv</th>\n      <th>underlying_price</th>\n      <th>intrinsic_value</th>\n      <th>time_value</th>\n      <th>price_status</th>\n    </tr>\n  </thead>\n  <tbody>\n    <tr>\n      <th>208</th>\n      <td>2025-02-11 00:00:00+00:00</td>\n      <td>2025-02-12 00:00:00+00:00</td>\n      <td>96000.0</td>\n      <td>c</td>\n      <td>526.641830</td>\n      <td>2025-02-12 00:00:00+00:00</td>\n      <td>338.273538</td>\n      <td>38.81</td>\n      <td>95757.81054</td>\n      <td>0.00</td>\n      <td>526.641830</td>\n      <td>atm</td>\n    </tr>\n    <tr>\n      <th>209</th>\n      <td>2025-02-12 00:00:00+00:00</td>\n      <td>2025-02-12 00:00:00+00:00</td>\n      <td>96000.0</td>\n      <td>c</td>\n      <td>57.629436</td>\n      <td>2025-02-12 00:00:00+00:00</td>\n      <td>50.398863</td>\n      <td>27.13</td>\n      <td>96049.03000</td>\n      <td>49.03</td>\n      <td>8.599436</td>\n      <td>atm</td>\n    </tr>\n  </tbody>\n</table>\n</div>"
     },
     "execution_count": 7,
     "metadata": {},
     "output_type": "execute_result"
    }
   ],
   "source": [
    "btc.enrichment.add_column('price_status')\n",
    "btc.df_hist[btc.df_hist['price_status'] == OptionPriceStatus.ATM.code].head(2)"
   ]
  },
  {
   "cell_type": "code",
   "execution_count": 8,
   "outputs": [
    {
     "data": {
      "text/plain": "                      timestamp           expiration_date    strike  \\\n96    2025-02-11 00:00:00+00:00 2025-02-12 00:00:00+00:00  100000.0   \n97    2025-02-12 00:00:00+00:00 2025-02-12 00:00:00+00:00  100000.0   \n99    2025-02-11 00:00:00+00:00 2025-02-12 00:00:00+00:00  100000.0   \n100   2025-02-12 00:00:00+00:00 2025-02-12 00:00:00+00:00  100000.0   \n102   2025-02-11 00:00:00+00:00 2025-02-12 00:00:00+00:00  101000.0   \n...                         ...                       ...       ...   \n20327 2025-03-01 00:00:00+00:00 2025-03-07 00:00:00+00:00   99000.0   \n20328 2025-03-02 00:00:00+00:00 2025-03-07 00:00:00+00:00   99000.0   \n20329 2025-03-03 00:00:00+00:00 2025-03-07 00:00:00+00:00   99000.0   \n20330 2025-03-04 00:00:00+00:00 2025-03-07 00:00:00+00:00   99000.0   \n20331 2025-03-05 00:00:00+00:00 2025-03-07 00:00:00+00:00   99000.0   \n\n      option_type         price underlying_expiration_date  exchange_price  \\\n96              c      9.575306  2025-02-12 00:00:00+00:00        5.254928   \n97              c      9.604906  2025-02-12 00:00:00+00:00        0.000000   \n99              p   2058.690790  2025-02-12 00:00:00+00:00     4247.351996   \n100             p   2065.054790  2025-02-12 00:00:00+00:00     3951.033792   \n102             c      9.575306  2025-02-12 00:00:00+00:00        1.639292   \n...           ...           ...                        ...             ...   \n20327           p  16001.382840  2025-03-07 00:00:00+00:00    13034.281692   \n20328           p  17530.619040  2025-03-07 00:00:00+00:00     5738.444561   \n20329           p  16024.495200  2025-03-07 00:00:00+00:00    12843.515734   \n20330           p  16049.942800  2025-03-07 00:00:00+00:00    11856.635304   \n20331           p  16090.632560  2025-03-07 00:00:00+00:00    11630.714978   \n\n       exchange_iv  underlying_price  intrinsic_value    time_value  \\\n96           60.36       95757.81054          0.00000      9.575306   \n97           62.78       96049.03000          0.00000      9.604906   \n99           60.36       95757.81054       4242.18946  -2183.498670   \n100          62.78       96049.03000       3950.97000  -1885.915210   \n102          63.79       95757.81054          0.00000      9.575306   \n...            ...               ...              ...           ...   \n20327        60.45       86034.74000      12965.26000   3036.122840   \n20328        66.05       94290.06000       4709.94000  12820.679040   \n20329        79.54       86241.75000      12758.25000   3266.245200   \n20330        80.06       87200.24000      11799.76000   4250.182800   \n20331        82.24       87437.70000      11562.30000   4528.332560   \n\n      price_status  \n96             otm  \n97             otm  \n99             itm  \n100            itm  \n102            otm  \n...            ...  \n20327          itm  \n20328          itm  \n20329          itm  \n20330          itm  \n20331          itm  \n\n[18433 rows x 12 columns]",
      "text/html": "<div>\n<style scoped>\n    .dataframe tbody tr th:only-of-type {\n        vertical-align: middle;\n    }\n\n    .dataframe tbody tr th {\n        vertical-align: top;\n    }\n\n    .dataframe thead th {\n        text-align: right;\n    }\n</style>\n<table border=\"1\" class=\"dataframe\">\n  <thead>\n    <tr style=\"text-align: right;\">\n      <th></th>\n      <th>timestamp</th>\n      <th>expiration_date</th>\n      <th>strike</th>\n      <th>option_type</th>\n      <th>price</th>\n      <th>underlying_expiration_date</th>\n      <th>exchange_price</th>\n      <th>exchange_iv</th>\n      <th>underlying_price</th>\n      <th>intrinsic_value</th>\n      <th>time_value</th>\n      <th>price_status</th>\n    </tr>\n  </thead>\n  <tbody>\n    <tr>\n      <th>96</th>\n      <td>2025-02-11 00:00:00+00:00</td>\n      <td>2025-02-12 00:00:00+00:00</td>\n      <td>100000.0</td>\n      <td>c</td>\n      <td>9.575306</td>\n      <td>2025-02-12 00:00:00+00:00</td>\n      <td>5.254928</td>\n      <td>60.36</td>\n      <td>95757.81054</td>\n      <td>0.00000</td>\n      <td>9.575306</td>\n      <td>otm</td>\n    </tr>\n    <tr>\n      <th>97</th>\n      <td>2025-02-12 00:00:00+00:00</td>\n      <td>2025-02-12 00:00:00+00:00</td>\n      <td>100000.0</td>\n      <td>c</td>\n      <td>9.604906</td>\n      <td>2025-02-12 00:00:00+00:00</td>\n      <td>0.000000</td>\n      <td>62.78</td>\n      <td>96049.03000</td>\n      <td>0.00000</td>\n      <td>9.604906</td>\n      <td>otm</td>\n    </tr>\n    <tr>\n      <th>99</th>\n      <td>2025-02-11 00:00:00+00:00</td>\n      <td>2025-02-12 00:00:00+00:00</td>\n      <td>100000.0</td>\n      <td>p</td>\n      <td>2058.690790</td>\n      <td>2025-02-12 00:00:00+00:00</td>\n      <td>4247.351996</td>\n      <td>60.36</td>\n      <td>95757.81054</td>\n      <td>4242.18946</td>\n      <td>-2183.498670</td>\n      <td>itm</td>\n    </tr>\n    <tr>\n      <th>100</th>\n      <td>2025-02-12 00:00:00+00:00</td>\n      <td>2025-02-12 00:00:00+00:00</td>\n      <td>100000.0</td>\n      <td>p</td>\n      <td>2065.054790</td>\n      <td>2025-02-12 00:00:00+00:00</td>\n      <td>3951.033792</td>\n      <td>62.78</td>\n      <td>96049.03000</td>\n      <td>3950.97000</td>\n      <td>-1885.915210</td>\n      <td>itm</td>\n    </tr>\n    <tr>\n      <th>102</th>\n      <td>2025-02-11 00:00:00+00:00</td>\n      <td>2025-02-12 00:00:00+00:00</td>\n      <td>101000.0</td>\n      <td>c</td>\n      <td>9.575306</td>\n      <td>2025-02-12 00:00:00+00:00</td>\n      <td>1.639292</td>\n      <td>63.79</td>\n      <td>95757.81054</td>\n      <td>0.00000</td>\n      <td>9.575306</td>\n      <td>otm</td>\n    </tr>\n    <tr>\n      <th>...</th>\n      <td>...</td>\n      <td>...</td>\n      <td>...</td>\n      <td>...</td>\n      <td>...</td>\n      <td>...</td>\n      <td>...</td>\n      <td>...</td>\n      <td>...</td>\n      <td>...</td>\n      <td>...</td>\n      <td>...</td>\n    </tr>\n    <tr>\n      <th>20327</th>\n      <td>2025-03-01 00:00:00+00:00</td>\n      <td>2025-03-07 00:00:00+00:00</td>\n      <td>99000.0</td>\n      <td>p</td>\n      <td>16001.382840</td>\n      <td>2025-03-07 00:00:00+00:00</td>\n      <td>13034.281692</td>\n      <td>60.45</td>\n      <td>86034.74000</td>\n      <td>12965.26000</td>\n      <td>3036.122840</td>\n      <td>itm</td>\n    </tr>\n    <tr>\n      <th>20328</th>\n      <td>2025-03-02 00:00:00+00:00</td>\n      <td>2025-03-07 00:00:00+00:00</td>\n      <td>99000.0</td>\n      <td>p</td>\n      <td>17530.619040</td>\n      <td>2025-03-07 00:00:00+00:00</td>\n      <td>5738.444561</td>\n      <td>66.05</td>\n      <td>94290.06000</td>\n      <td>4709.94000</td>\n      <td>12820.679040</td>\n      <td>itm</td>\n    </tr>\n    <tr>\n      <th>20329</th>\n      <td>2025-03-03 00:00:00+00:00</td>\n      <td>2025-03-07 00:00:00+00:00</td>\n      <td>99000.0</td>\n      <td>p</td>\n      <td>16024.495200</td>\n      <td>2025-03-07 00:00:00+00:00</td>\n      <td>12843.515734</td>\n      <td>79.54</td>\n      <td>86241.75000</td>\n      <td>12758.25000</td>\n      <td>3266.245200</td>\n      <td>itm</td>\n    </tr>\n    <tr>\n      <th>20330</th>\n      <td>2025-03-04 00:00:00+00:00</td>\n      <td>2025-03-07 00:00:00+00:00</td>\n      <td>99000.0</td>\n      <td>p</td>\n      <td>16049.942800</td>\n      <td>2025-03-07 00:00:00+00:00</td>\n      <td>11856.635304</td>\n      <td>80.06</td>\n      <td>87200.24000</td>\n      <td>11799.76000</td>\n      <td>4250.182800</td>\n      <td>itm</td>\n    </tr>\n    <tr>\n      <th>20331</th>\n      <td>2025-03-05 00:00:00+00:00</td>\n      <td>2025-03-07 00:00:00+00:00</td>\n      <td>99000.0</td>\n      <td>p</td>\n      <td>16090.632560</td>\n      <td>2025-03-07 00:00:00+00:00</td>\n      <td>11630.714978</td>\n      <td>82.24</td>\n      <td>87437.70000</td>\n      <td>11562.30000</td>\n      <td>4528.332560</td>\n      <td>itm</td>\n    </tr>\n  </tbody>\n</table>\n<p>18433 rows × 12 columns</p>\n</div>"
     },
     "execution_count": 8,
     "metadata": {},
     "output_type": "execute_result"
    }
   ],
   "source": [
    "df_opt = btc.df_hist\n",
    "df_opt"
   ],
   "metadata": {
    "collapsed": false
   }
  },
  {
   "cell_type": "code",
   "execution_count": 9,
   "outputs": [
    {
     "data": {
      "text/plain": "(Timestamp('2025-03-05 00:00:00+0000', tz='UTC'),\n Timestamp('2025-03-28 00:00:00+0000', tz='UTC'))"
     },
     "execution_count": 9,
     "metadata": {},
     "output_type": "execute_result"
    }
   ],
   "source": [
    "# search for longest timeseries expiration_date to demonstrate time price descreasing\n",
    "settlement_date = df_opt['timestamp'].max()\n",
    "expiration_date = btc.chain.get_settlement_longest_period_expired_date(settlement_date)\n",
    "settlement_date, expiration_date"
   ],
   "metadata": {
    "collapsed": false
   }
  },
  {
   "cell_type": "code",
   "execution_count": 10,
   "id": "6c1b52c4-fa39-4750-be1e-c258ad611962",
   "metadata": {},
   "outputs": [
    {
     "data": {
      "text/plain": "                      timestamp           expiration_date    strike  \\\n15166 2025-03-05 00:00:00+00:00 2025-03-28 00:00:00+00:00  100000.0   \n15189 2025-03-05 00:00:00+00:00 2025-03-28 00:00:00+00:00  100000.0   \n15212 2025-03-05 00:00:00+00:00 2025-03-28 00:00:00+00:00  102000.0   \n15235 2025-03-05 00:00:00+00:00 2025-03-28 00:00:00+00:00  102000.0   \n15258 2025-03-05 00:00:00+00:00 2025-03-28 00:00:00+00:00  104000.0   \n...                         ...                       ...       ...   \n17153 2025-03-05 00:00:00+00:00 2025-03-28 00:00:00+00:00   95000.0   \n17176 2025-03-05 00:00:00+00:00 2025-03-28 00:00:00+00:00   96000.0   \n17199 2025-03-05 00:00:00+00:00 2025-03-28 00:00:00+00:00   96000.0   \n17222 2025-03-05 00:00:00+00:00 2025-03-28 00:00:00+00:00   98000.0   \n17245 2025-03-05 00:00:00+00:00 2025-03-28 00:00:00+00:00   98000.0   \n\n      option_type         price underlying_expiration_date  exchange_price  \\\n15166           c   1399.185440  2025-03-28 00:00:00+00:00     1514.758157   \n15189           p  13816.956220  2025-03-28 00:00:00+00:00    13747.719277   \n15212           c   1093.113625  2025-03-28 00:00:00+00:00     1226.921227   \n15235           p  16352.979830  2025-03-28 00:00:00+00:00    15453.523964   \n15258           c   1005.664535  2025-03-28 00:00:00+00:00      994.150988   \n...           ...           ...                        ...             ...   \n17153           p  12942.465320  2025-03-28 00:00:00+00:00     9837.268814   \n17176           c   2361.125430  2025-03-28 00:00:00+00:00     2328.250694   \n17199           p  14735.171665  2025-03-28 00:00:00+00:00    10573.930329   \n17222           c   1748.981800  2025-03-28 00:00:00+00:00     1879.098176   \n17245           p  15959.458925  2025-03-28 00:00:00+00:00    12118.418553   \n\n       exchange_iv  underlying_price  intrinsic_value   time_value  \\\n15166        60.03          87729.70             0.00  1399.185440   \n15189        60.03          87727.74         12272.26  1544.696220   \n15212        60.49          87729.70             0.00  1093.113625   \n15235        60.49          87727.74         14272.26  2080.719830   \n15258        61.00          87727.74             0.00  1005.664535   \n...            ...               ...              ...          ...   \n17153        59.67          87729.70          7270.30  5672.165320   \n17176        59.68          87729.70             0.00  2361.125430   \n17199        59.68          87727.74          8272.26  6462.911665   \n17222        59.79          87729.70             0.00  1748.981800   \n17245        59.79          87729.70         10270.30  5689.158925   \n\n      price_status  \n15166          otm  \n15189          itm  \n15212          otm  \n15235          itm  \n15258          otm  \n...            ...  \n17153          itm  \n17176          otm  \n17199          itm  \n17222          otm  \n17245          itm  \n\n[97 rows x 12 columns]",
      "text/html": "<div>\n<style scoped>\n    .dataframe tbody tr th:only-of-type {\n        vertical-align: middle;\n    }\n\n    .dataframe tbody tr th {\n        vertical-align: top;\n    }\n\n    .dataframe thead th {\n        text-align: right;\n    }\n</style>\n<table border=\"1\" class=\"dataframe\">\n  <thead>\n    <tr style=\"text-align: right;\">\n      <th></th>\n      <th>timestamp</th>\n      <th>expiration_date</th>\n      <th>strike</th>\n      <th>option_type</th>\n      <th>price</th>\n      <th>underlying_expiration_date</th>\n      <th>exchange_price</th>\n      <th>exchange_iv</th>\n      <th>underlying_price</th>\n      <th>intrinsic_value</th>\n      <th>time_value</th>\n      <th>price_status</th>\n    </tr>\n  </thead>\n  <tbody>\n    <tr>\n      <th>15166</th>\n      <td>2025-03-05 00:00:00+00:00</td>\n      <td>2025-03-28 00:00:00+00:00</td>\n      <td>100000.0</td>\n      <td>c</td>\n      <td>1399.185440</td>\n      <td>2025-03-28 00:00:00+00:00</td>\n      <td>1514.758157</td>\n      <td>60.03</td>\n      <td>87729.70</td>\n      <td>0.00</td>\n      <td>1399.185440</td>\n      <td>otm</td>\n    </tr>\n    <tr>\n      <th>15189</th>\n      <td>2025-03-05 00:00:00+00:00</td>\n      <td>2025-03-28 00:00:00+00:00</td>\n      <td>100000.0</td>\n      <td>p</td>\n      <td>13816.956220</td>\n      <td>2025-03-28 00:00:00+00:00</td>\n      <td>13747.719277</td>\n      <td>60.03</td>\n      <td>87727.74</td>\n      <td>12272.26</td>\n      <td>1544.696220</td>\n      <td>itm</td>\n    </tr>\n    <tr>\n      <th>15212</th>\n      <td>2025-03-05 00:00:00+00:00</td>\n      <td>2025-03-28 00:00:00+00:00</td>\n      <td>102000.0</td>\n      <td>c</td>\n      <td>1093.113625</td>\n      <td>2025-03-28 00:00:00+00:00</td>\n      <td>1226.921227</td>\n      <td>60.49</td>\n      <td>87729.70</td>\n      <td>0.00</td>\n      <td>1093.113625</td>\n      <td>otm</td>\n    </tr>\n    <tr>\n      <th>15235</th>\n      <td>2025-03-05 00:00:00+00:00</td>\n      <td>2025-03-28 00:00:00+00:00</td>\n      <td>102000.0</td>\n      <td>p</td>\n      <td>16352.979830</td>\n      <td>2025-03-28 00:00:00+00:00</td>\n      <td>15453.523964</td>\n      <td>60.49</td>\n      <td>87727.74</td>\n      <td>14272.26</td>\n      <td>2080.719830</td>\n      <td>itm</td>\n    </tr>\n    <tr>\n      <th>15258</th>\n      <td>2025-03-05 00:00:00+00:00</td>\n      <td>2025-03-28 00:00:00+00:00</td>\n      <td>104000.0</td>\n      <td>c</td>\n      <td>1005.664535</td>\n      <td>2025-03-28 00:00:00+00:00</td>\n      <td>994.150988</td>\n      <td>61.00</td>\n      <td>87727.74</td>\n      <td>0.00</td>\n      <td>1005.664535</td>\n      <td>otm</td>\n    </tr>\n    <tr>\n      <th>...</th>\n      <td>...</td>\n      <td>...</td>\n      <td>...</td>\n      <td>...</td>\n      <td>...</td>\n      <td>...</td>\n      <td>...</td>\n      <td>...</td>\n      <td>...</td>\n      <td>...</td>\n      <td>...</td>\n      <td>...</td>\n    </tr>\n    <tr>\n      <th>17153</th>\n      <td>2025-03-05 00:00:00+00:00</td>\n      <td>2025-03-28 00:00:00+00:00</td>\n      <td>95000.0</td>\n      <td>p</td>\n      <td>12942.465320</td>\n      <td>2025-03-28 00:00:00+00:00</td>\n      <td>9837.268814</td>\n      <td>59.67</td>\n      <td>87729.70</td>\n      <td>7270.30</td>\n      <td>5672.165320</td>\n      <td>itm</td>\n    </tr>\n    <tr>\n      <th>17176</th>\n      <td>2025-03-05 00:00:00+00:00</td>\n      <td>2025-03-28 00:00:00+00:00</td>\n      <td>96000.0</td>\n      <td>c</td>\n      <td>2361.125430</td>\n      <td>2025-03-28 00:00:00+00:00</td>\n      <td>2328.250694</td>\n      <td>59.68</td>\n      <td>87729.70</td>\n      <td>0.00</td>\n      <td>2361.125430</td>\n      <td>otm</td>\n    </tr>\n    <tr>\n      <th>17199</th>\n      <td>2025-03-05 00:00:00+00:00</td>\n      <td>2025-03-28 00:00:00+00:00</td>\n      <td>96000.0</td>\n      <td>p</td>\n      <td>14735.171665</td>\n      <td>2025-03-28 00:00:00+00:00</td>\n      <td>10573.930329</td>\n      <td>59.68</td>\n      <td>87727.74</td>\n      <td>8272.26</td>\n      <td>6462.911665</td>\n      <td>itm</td>\n    </tr>\n    <tr>\n      <th>17222</th>\n      <td>2025-03-05 00:00:00+00:00</td>\n      <td>2025-03-28 00:00:00+00:00</td>\n      <td>98000.0</td>\n      <td>c</td>\n      <td>1748.981800</td>\n      <td>2025-03-28 00:00:00+00:00</td>\n      <td>1879.098176</td>\n      <td>59.79</td>\n      <td>87729.70</td>\n      <td>0.00</td>\n      <td>1748.981800</td>\n      <td>otm</td>\n    </tr>\n    <tr>\n      <th>17245</th>\n      <td>2025-03-05 00:00:00+00:00</td>\n      <td>2025-03-28 00:00:00+00:00</td>\n      <td>98000.0</td>\n      <td>p</td>\n      <td>15959.458925</td>\n      <td>2025-03-28 00:00:00+00:00</td>\n      <td>12118.418553</td>\n      <td>59.79</td>\n      <td>87729.70</td>\n      <td>10270.30</td>\n      <td>5689.158925</td>\n      <td>itm</td>\n    </tr>\n  </tbody>\n</table>\n<p>97 rows × 12 columns</p>\n</div>"
     },
     "execution_count": 10,
     "metadata": {},
     "output_type": "execute_result"
    }
   ],
   "source": [
    "df_opt_chain = btc.chain.select_chain(settlement_date, expiration_date)\n",
    "\n",
    "df_opt_chain"
   ]
  },
  {
   "cell_type": "markdown",
   "id": "5da1c84d-5f0d-43ca-ba5a-63614bfa35d1",
   "metadata": {},
   "source": [
    "Futures types:\n",
    "* Currency\n",
    "* Index\n",
    "* Commodities\n",
    "* Stock\n",
    "* Percent\n",
    "\n",
    "Is crypto new type or currency?\n"
   ]
  },
  {
   "cell_type": "markdown",
   "id": "7b45d294-0297-49cc-8adb-f506de46b0c0",
   "metadata": {},
   "source": [
    "BRN specification https://www.cmegroup.com/markets/energy/crude-oil/brent-crude-oil.html\n",
    "\n",
    "Option chain https://www.barchart.com/futures/quotes/CB*0/options?futuresOptionsView=merged"
   ]
  },
  {
   "cell_type": "code",
   "execution_count": 11,
   "id": "c08e4dd5-a51b-4bc0-ab83-f0b23ec196cc",
   "metadata": {},
   "outputs": [
    {
     "data": {
      "text/plain": "np.float64(88000.0)"
     },
     "execution_count": 11,
     "metadata": {},
     "output_type": "execute_result"
    }
   ],
   "source": [
    "atm_nearest_strikes = btc.chain.get_atm_nearest_strikes()\n",
    "atm_strike = atm_nearest_strikes[0]\n",
    "atm_strike"
   ]
  },
  {
   "cell_type": "code",
   "execution_count": 12,
   "outputs": [
    {
     "data": {
      "text/plain": "                      timestamp           expiration_date   strike  \\\n16946 2025-03-05 00:00:00+00:00 2025-03-28 00:00:00+00:00  88000.0   \n16969 2025-03-05 00:00:00+00:00 2025-03-28 00:00:00+00:00  88000.0   \n\n      option_type        price underlying_expiration_date  exchange_price  \\\n16946           c  4853.424495  2025-03-28 00:00:00+00:00     5166.625160   \n16969           p  5509.292670  2025-03-28 00:00:00+00:00     5437.740076   \n\n       exchange_iv  underlying_price  intrinsic_value   time_value  \\\n16946        60.16           87729.7              0.0  4853.424495   \n16969        60.16           87729.7            270.3  5238.992670   \n\n      price_status  \n16946          atm  \n16969          atm  ",
      "text/html": "<div>\n<style scoped>\n    .dataframe tbody tr th:only-of-type {\n        vertical-align: middle;\n    }\n\n    .dataframe tbody tr th {\n        vertical-align: top;\n    }\n\n    .dataframe thead th {\n        text-align: right;\n    }\n</style>\n<table border=\"1\" class=\"dataframe\">\n  <thead>\n    <tr style=\"text-align: right;\">\n      <th></th>\n      <th>timestamp</th>\n      <th>expiration_date</th>\n      <th>strike</th>\n      <th>option_type</th>\n      <th>price</th>\n      <th>underlying_expiration_date</th>\n      <th>exchange_price</th>\n      <th>exchange_iv</th>\n      <th>underlying_price</th>\n      <th>intrinsic_value</th>\n      <th>time_value</th>\n      <th>price_status</th>\n    </tr>\n  </thead>\n  <tbody>\n    <tr>\n      <th>16946</th>\n      <td>2025-03-05 00:00:00+00:00</td>\n      <td>2025-03-28 00:00:00+00:00</td>\n      <td>88000.0</td>\n      <td>c</td>\n      <td>4853.424495</td>\n      <td>2025-03-28 00:00:00+00:00</td>\n      <td>5166.625160</td>\n      <td>60.16</td>\n      <td>87729.7</td>\n      <td>0.0</td>\n      <td>4853.424495</td>\n      <td>atm</td>\n    </tr>\n    <tr>\n      <th>16969</th>\n      <td>2025-03-05 00:00:00+00:00</td>\n      <td>2025-03-28 00:00:00+00:00</td>\n      <td>88000.0</td>\n      <td>p</td>\n      <td>5509.292670</td>\n      <td>2025-03-28 00:00:00+00:00</td>\n      <td>5437.740076</td>\n      <td>60.16</td>\n      <td>87729.7</td>\n      <td>270.3</td>\n      <td>5238.992670</td>\n      <td>atm</td>\n    </tr>\n  </tbody>\n</table>\n</div>"
     },
     "execution_count": 12,
     "metadata": {},
     "output_type": "execute_result"
    }
   ],
   "source": [
    "atm_strike_df = df_opt_chain[df_opt_chain['strike'] == atm_strike]\n",
    "atm_strike_row = atm_strike_df[atm_strike_df['option_type'] == OptionType.CALL.code].iloc[0]\n",
    "atm_strike_df"
   ],
   "metadata": {
    "collapsed": false
   }
  },
  {
   "cell_type": "code",
   "execution_count": 13,
   "id": "207f4e08-85ee-48c3-ba09-8627edc38b3e",
   "metadata": {},
   "outputs": [
    {
     "data": {
      "text/plain": "    time_value_call  intrinsic_value_call  exchange_iv_call  \\\n24      1015.209000               7729.70             63.19   \n25      1015.209000               7729.70             63.19   \n26       830.941750               5727.74             62.14   \n27       830.941750               5727.74             62.14   \n28      3616.023560               3729.70             61.26   \n29      3616.023560               3729.70             61.26   \n30      3654.083570               2729.70             60.89   \n31      3654.083570               2729.70             60.89   \n32      4085.664485               1729.70             60.57   \n33      4085.664485               1729.70             60.57   \n34      4853.424495                  0.00             60.16   \n35      4853.424495                  0.00             60.16   \n36      4285.005410                  0.00             59.87   \n37      4285.005410                  0.00             59.87   \n38      3366.789965                  0.00             59.63   \n39      3366.789965                  0.00             59.63   \n40      2798.370880                  0.00             59.66   \n41      2798.370880                  0.00             59.66   \n42      2317.400885                  0.00             59.67   \n43      2317.400885                  0.00             59.67   \n\n    exchange_price_call   price_call price_status_call   strike  \\\n24         10027.593013  8744.909000               itm  80000.0   \n25         10027.593013  8744.909000               itm  80000.0   \n26          8624.878128  6558.681750               itm  82000.0   \n27          8624.878128  6558.681750               itm  82000.0   \n28          7339.788390  7345.723560               itm  84000.0   \n29          7339.788390  7345.723560               itm  84000.0   \n30          6744.774288  6383.783570               itm  85000.0   \n31          6744.774288  6383.783570               itm  85000.0   \n32          6182.376947  5815.364485               itm  86000.0   \n33          6182.376947  5815.364485               itm  86000.0   \n34          5166.625160  4853.424495               atm  88000.0   \n35          5166.625160  4853.424495               atm  88000.0   \n36          4279.660522  4285.005410               otm  90000.0   \n37          4279.660522  4285.005410               otm  90000.0   \n38          3510.654212  3366.789965               otm  92000.0   \n39          3510.654212  3366.789965               otm  92000.0   \n40          2870.957123  2798.370880               otm  94000.0   \n41          2870.957123  2798.370880               otm  94000.0   \n42          2588.319915  2317.400885               otm  95000.0   \n43          2588.319915  2317.400885               otm  95000.0   \n\n   price_status_put     price_put  exchange_price_put  exchange_iv_put  \\\n24              otm   2361.125430         2324.144084            63.19   \n25              otm   2361.125430         2324.144084            63.19   \n26              otm   3148.167240         2915.194119            62.14   \n27              otm   3148.167240         2915.194119            62.14   \n28              otm   3891.484505         3623.621821            61.26   \n29              otm   3891.484505         3623.621821            61.26   \n30              otm   4110.107230         4025.427653            60.89   \n31              otm   4110.107230         4025.427653            60.89   \n32              otm   4765.975405         4459.851121            60.57   \n33              otm   4765.975405         4459.851121            60.57   \n34              atm   5509.292670         5437.740076            60.16   \n35              atm   5509.292670         5437.740076            60.16   \n36              itm   7083.376290         6544.417054            59.87   \n37              itm   7083.376290         6544.417054            59.87   \n38              itm   7520.621740         7769.051487            59.63   \n39              itm   7520.621740         7769.051487            59.63   \n40              itm   8176.489915         9122.995141            59.66   \n41              itm   8176.489915         9122.995141            59.66   \n42              itm  12942.465320         9837.268814            59.67   \n43              itm  12942.465320         9837.268814            59.67   \n\n    intrinsic_value_put  time_value_put                 timestamp  \\\n24                 0.00     2361.125430 2025-03-05 00:00:00+00:00   \n25                 0.00     2361.125430 2025-03-05 00:00:00+00:00   \n26                 0.00     3148.167240 2025-03-05 00:00:00+00:00   \n27                 0.00     3148.167240 2025-03-05 00:00:00+00:00   \n28                 0.00     3891.484505 2025-03-05 00:00:00+00:00   \n29                 0.00     3891.484505 2025-03-05 00:00:00+00:00   \n30                 0.00     4110.107230 2025-03-05 00:00:00+00:00   \n31                 0.00     4110.107230 2025-03-05 00:00:00+00:00   \n32                 0.00     4765.975405 2025-03-05 00:00:00+00:00   \n33                 0.00     4765.975405 2025-03-05 00:00:00+00:00   \n34               270.30     5238.992670 2025-03-05 00:00:00+00:00   \n35               270.30     5238.992670 2025-03-05 00:00:00+00:00   \n36              2272.26     4811.116290 2025-03-05 00:00:00+00:00   \n37              2272.26     4811.116290 2025-03-05 00:00:00+00:00   \n38              4270.30     3250.321740 2025-03-05 00:00:00+00:00   \n39              4270.30     3250.321740 2025-03-05 00:00:00+00:00   \n40              6270.30     1906.189915 2025-03-05 00:00:00+00:00   \n41              6270.30     1906.189915 2025-03-05 00:00:00+00:00   \n42              7270.30     5672.165320 2025-03-05 00:00:00+00:00   \n43              7270.30     5672.165320 2025-03-05 00:00:00+00:00   \n\n    underlying_price           expiration_date underlying_expiration_date  \n24          87729.70 2025-03-28 00:00:00+00:00  2025-03-28 00:00:00+00:00  \n25          87727.74 2025-03-28 00:00:00+00:00  2025-03-28 00:00:00+00:00  \n26          87729.70 2025-03-28 00:00:00+00:00  2025-03-28 00:00:00+00:00  \n27          87727.74 2025-03-28 00:00:00+00:00  2025-03-28 00:00:00+00:00  \n28          87729.70 2025-03-28 00:00:00+00:00  2025-03-28 00:00:00+00:00  \n29          87727.74 2025-03-28 00:00:00+00:00  2025-03-28 00:00:00+00:00  \n30          87729.70 2025-03-28 00:00:00+00:00  2025-03-28 00:00:00+00:00  \n31          87727.74 2025-03-28 00:00:00+00:00  2025-03-28 00:00:00+00:00  \n32          87729.70 2025-03-28 00:00:00+00:00  2025-03-28 00:00:00+00:00  \n33          87727.74 2025-03-28 00:00:00+00:00  2025-03-28 00:00:00+00:00  \n34          87729.70 2025-03-28 00:00:00+00:00  2025-03-28 00:00:00+00:00  \n35          87727.74 2025-03-28 00:00:00+00:00  2025-03-28 00:00:00+00:00  \n36          87729.70 2025-03-28 00:00:00+00:00  2025-03-28 00:00:00+00:00  \n37          87727.74 2025-03-28 00:00:00+00:00  2025-03-28 00:00:00+00:00  \n38          87729.70 2025-03-28 00:00:00+00:00  2025-03-28 00:00:00+00:00  \n39          87727.74 2025-03-28 00:00:00+00:00  2025-03-28 00:00:00+00:00  \n40          87729.70 2025-03-28 00:00:00+00:00  2025-03-28 00:00:00+00:00  \n41          87727.74 2025-03-28 00:00:00+00:00  2025-03-28 00:00:00+00:00  \n42          87729.70 2025-03-28 00:00:00+00:00  2025-03-28 00:00:00+00:00  \n43          87727.74 2025-03-28 00:00:00+00:00  2025-03-28 00:00:00+00:00  ",
      "text/html": "<div>\n<style scoped>\n    .dataframe tbody tr th:only-of-type {\n        vertical-align: middle;\n    }\n\n    .dataframe tbody tr th {\n        vertical-align: top;\n    }\n\n    .dataframe thead th {\n        text-align: right;\n    }\n</style>\n<table border=\"1\" class=\"dataframe\">\n  <thead>\n    <tr style=\"text-align: right;\">\n      <th></th>\n      <th>time_value_call</th>\n      <th>intrinsic_value_call</th>\n      <th>exchange_iv_call</th>\n      <th>exchange_price_call</th>\n      <th>price_call</th>\n      <th>price_status_call</th>\n      <th>strike</th>\n      <th>price_status_put</th>\n      <th>price_put</th>\n      <th>exchange_price_put</th>\n      <th>exchange_iv_put</th>\n      <th>intrinsic_value_put</th>\n      <th>time_value_put</th>\n      <th>timestamp</th>\n      <th>underlying_price</th>\n      <th>expiration_date</th>\n      <th>underlying_expiration_date</th>\n    </tr>\n  </thead>\n  <tbody>\n    <tr>\n      <th>24</th>\n      <td>1015.209000</td>\n      <td>7729.70</td>\n      <td>63.19</td>\n      <td>10027.593013</td>\n      <td>8744.909000</td>\n      <td>itm</td>\n      <td>80000.0</td>\n      <td>otm</td>\n      <td>2361.125430</td>\n      <td>2324.144084</td>\n      <td>63.19</td>\n      <td>0.00</td>\n      <td>2361.125430</td>\n      <td>2025-03-05 00:00:00+00:00</td>\n      <td>87729.70</td>\n      <td>2025-03-28 00:00:00+00:00</td>\n      <td>2025-03-28 00:00:00+00:00</td>\n    </tr>\n    <tr>\n      <th>25</th>\n      <td>1015.209000</td>\n      <td>7729.70</td>\n      <td>63.19</td>\n      <td>10027.593013</td>\n      <td>8744.909000</td>\n      <td>itm</td>\n      <td>80000.0</td>\n      <td>otm</td>\n      <td>2361.125430</td>\n      <td>2324.144084</td>\n      <td>63.19</td>\n      <td>0.00</td>\n      <td>2361.125430</td>\n      <td>2025-03-05 00:00:00+00:00</td>\n      <td>87727.74</td>\n      <td>2025-03-28 00:00:00+00:00</td>\n      <td>2025-03-28 00:00:00+00:00</td>\n    </tr>\n    <tr>\n      <th>26</th>\n      <td>830.941750</td>\n      <td>5727.74</td>\n      <td>62.14</td>\n      <td>8624.878128</td>\n      <td>6558.681750</td>\n      <td>itm</td>\n      <td>82000.0</td>\n      <td>otm</td>\n      <td>3148.167240</td>\n      <td>2915.194119</td>\n      <td>62.14</td>\n      <td>0.00</td>\n      <td>3148.167240</td>\n      <td>2025-03-05 00:00:00+00:00</td>\n      <td>87729.70</td>\n      <td>2025-03-28 00:00:00+00:00</td>\n      <td>2025-03-28 00:00:00+00:00</td>\n    </tr>\n    <tr>\n      <th>27</th>\n      <td>830.941750</td>\n      <td>5727.74</td>\n      <td>62.14</td>\n      <td>8624.878128</td>\n      <td>6558.681750</td>\n      <td>itm</td>\n      <td>82000.0</td>\n      <td>otm</td>\n      <td>3148.167240</td>\n      <td>2915.194119</td>\n      <td>62.14</td>\n      <td>0.00</td>\n      <td>3148.167240</td>\n      <td>2025-03-05 00:00:00+00:00</td>\n      <td>87727.74</td>\n      <td>2025-03-28 00:00:00+00:00</td>\n      <td>2025-03-28 00:00:00+00:00</td>\n    </tr>\n    <tr>\n      <th>28</th>\n      <td>3616.023560</td>\n      <td>3729.70</td>\n      <td>61.26</td>\n      <td>7339.788390</td>\n      <td>7345.723560</td>\n      <td>itm</td>\n      <td>84000.0</td>\n      <td>otm</td>\n      <td>3891.484505</td>\n      <td>3623.621821</td>\n      <td>61.26</td>\n      <td>0.00</td>\n      <td>3891.484505</td>\n      <td>2025-03-05 00:00:00+00:00</td>\n      <td>87729.70</td>\n      <td>2025-03-28 00:00:00+00:00</td>\n      <td>2025-03-28 00:00:00+00:00</td>\n    </tr>\n    <tr>\n      <th>29</th>\n      <td>3616.023560</td>\n      <td>3729.70</td>\n      <td>61.26</td>\n      <td>7339.788390</td>\n      <td>7345.723560</td>\n      <td>itm</td>\n      <td>84000.0</td>\n      <td>otm</td>\n      <td>3891.484505</td>\n      <td>3623.621821</td>\n      <td>61.26</td>\n      <td>0.00</td>\n      <td>3891.484505</td>\n      <td>2025-03-05 00:00:00+00:00</td>\n      <td>87727.74</td>\n      <td>2025-03-28 00:00:00+00:00</td>\n      <td>2025-03-28 00:00:00+00:00</td>\n    </tr>\n    <tr>\n      <th>30</th>\n      <td>3654.083570</td>\n      <td>2729.70</td>\n      <td>60.89</td>\n      <td>6744.774288</td>\n      <td>6383.783570</td>\n      <td>itm</td>\n      <td>85000.0</td>\n      <td>otm</td>\n      <td>4110.107230</td>\n      <td>4025.427653</td>\n      <td>60.89</td>\n      <td>0.00</td>\n      <td>4110.107230</td>\n      <td>2025-03-05 00:00:00+00:00</td>\n      <td>87729.70</td>\n      <td>2025-03-28 00:00:00+00:00</td>\n      <td>2025-03-28 00:00:00+00:00</td>\n    </tr>\n    <tr>\n      <th>31</th>\n      <td>3654.083570</td>\n      <td>2729.70</td>\n      <td>60.89</td>\n      <td>6744.774288</td>\n      <td>6383.783570</td>\n      <td>itm</td>\n      <td>85000.0</td>\n      <td>otm</td>\n      <td>4110.107230</td>\n      <td>4025.427653</td>\n      <td>60.89</td>\n      <td>0.00</td>\n      <td>4110.107230</td>\n      <td>2025-03-05 00:00:00+00:00</td>\n      <td>87727.74</td>\n      <td>2025-03-28 00:00:00+00:00</td>\n      <td>2025-03-28 00:00:00+00:00</td>\n    </tr>\n    <tr>\n      <th>32</th>\n      <td>4085.664485</td>\n      <td>1729.70</td>\n      <td>60.57</td>\n      <td>6182.376947</td>\n      <td>5815.364485</td>\n      <td>itm</td>\n      <td>86000.0</td>\n      <td>otm</td>\n      <td>4765.975405</td>\n      <td>4459.851121</td>\n      <td>60.57</td>\n      <td>0.00</td>\n      <td>4765.975405</td>\n      <td>2025-03-05 00:00:00+00:00</td>\n      <td>87729.70</td>\n      <td>2025-03-28 00:00:00+00:00</td>\n      <td>2025-03-28 00:00:00+00:00</td>\n    </tr>\n    <tr>\n      <th>33</th>\n      <td>4085.664485</td>\n      <td>1729.70</td>\n      <td>60.57</td>\n      <td>6182.376947</td>\n      <td>5815.364485</td>\n      <td>itm</td>\n      <td>86000.0</td>\n      <td>otm</td>\n      <td>4765.975405</td>\n      <td>4459.851121</td>\n      <td>60.57</td>\n      <td>0.00</td>\n      <td>4765.975405</td>\n      <td>2025-03-05 00:00:00+00:00</td>\n      <td>87727.74</td>\n      <td>2025-03-28 00:00:00+00:00</td>\n      <td>2025-03-28 00:00:00+00:00</td>\n    </tr>\n    <tr>\n      <th>34</th>\n      <td>4853.424495</td>\n      <td>0.00</td>\n      <td>60.16</td>\n      <td>5166.625160</td>\n      <td>4853.424495</td>\n      <td>atm</td>\n      <td>88000.0</td>\n      <td>atm</td>\n      <td>5509.292670</td>\n      <td>5437.740076</td>\n      <td>60.16</td>\n      <td>270.30</td>\n      <td>5238.992670</td>\n      <td>2025-03-05 00:00:00+00:00</td>\n      <td>87729.70</td>\n      <td>2025-03-28 00:00:00+00:00</td>\n      <td>2025-03-28 00:00:00+00:00</td>\n    </tr>\n    <tr>\n      <th>35</th>\n      <td>4853.424495</td>\n      <td>0.00</td>\n      <td>60.16</td>\n      <td>5166.625160</td>\n      <td>4853.424495</td>\n      <td>atm</td>\n      <td>88000.0</td>\n      <td>atm</td>\n      <td>5509.292670</td>\n      <td>5437.740076</td>\n      <td>60.16</td>\n      <td>270.30</td>\n      <td>5238.992670</td>\n      <td>2025-03-05 00:00:00+00:00</td>\n      <td>87727.74</td>\n      <td>2025-03-28 00:00:00+00:00</td>\n      <td>2025-03-28 00:00:00+00:00</td>\n    </tr>\n    <tr>\n      <th>36</th>\n      <td>4285.005410</td>\n      <td>0.00</td>\n      <td>59.87</td>\n      <td>4279.660522</td>\n      <td>4285.005410</td>\n      <td>otm</td>\n      <td>90000.0</td>\n      <td>itm</td>\n      <td>7083.376290</td>\n      <td>6544.417054</td>\n      <td>59.87</td>\n      <td>2272.26</td>\n      <td>4811.116290</td>\n      <td>2025-03-05 00:00:00+00:00</td>\n      <td>87729.70</td>\n      <td>2025-03-28 00:00:00+00:00</td>\n      <td>2025-03-28 00:00:00+00:00</td>\n    </tr>\n    <tr>\n      <th>37</th>\n      <td>4285.005410</td>\n      <td>0.00</td>\n      <td>59.87</td>\n      <td>4279.660522</td>\n      <td>4285.005410</td>\n      <td>otm</td>\n      <td>90000.0</td>\n      <td>itm</td>\n      <td>7083.376290</td>\n      <td>6544.417054</td>\n      <td>59.87</td>\n      <td>2272.26</td>\n      <td>4811.116290</td>\n      <td>2025-03-05 00:00:00+00:00</td>\n      <td>87727.74</td>\n      <td>2025-03-28 00:00:00+00:00</td>\n      <td>2025-03-28 00:00:00+00:00</td>\n    </tr>\n    <tr>\n      <th>38</th>\n      <td>3366.789965</td>\n      <td>0.00</td>\n      <td>59.63</td>\n      <td>3510.654212</td>\n      <td>3366.789965</td>\n      <td>otm</td>\n      <td>92000.0</td>\n      <td>itm</td>\n      <td>7520.621740</td>\n      <td>7769.051487</td>\n      <td>59.63</td>\n      <td>4270.30</td>\n      <td>3250.321740</td>\n      <td>2025-03-05 00:00:00+00:00</td>\n      <td>87729.70</td>\n      <td>2025-03-28 00:00:00+00:00</td>\n      <td>2025-03-28 00:00:00+00:00</td>\n    </tr>\n    <tr>\n      <th>39</th>\n      <td>3366.789965</td>\n      <td>0.00</td>\n      <td>59.63</td>\n      <td>3510.654212</td>\n      <td>3366.789965</td>\n      <td>otm</td>\n      <td>92000.0</td>\n      <td>itm</td>\n      <td>7520.621740</td>\n      <td>7769.051487</td>\n      <td>59.63</td>\n      <td>4270.30</td>\n      <td>3250.321740</td>\n      <td>2025-03-05 00:00:00+00:00</td>\n      <td>87727.74</td>\n      <td>2025-03-28 00:00:00+00:00</td>\n      <td>2025-03-28 00:00:00+00:00</td>\n    </tr>\n    <tr>\n      <th>40</th>\n      <td>2798.370880</td>\n      <td>0.00</td>\n      <td>59.66</td>\n      <td>2870.957123</td>\n      <td>2798.370880</td>\n      <td>otm</td>\n      <td>94000.0</td>\n      <td>itm</td>\n      <td>8176.489915</td>\n      <td>9122.995141</td>\n      <td>59.66</td>\n      <td>6270.30</td>\n      <td>1906.189915</td>\n      <td>2025-03-05 00:00:00+00:00</td>\n      <td>87729.70</td>\n      <td>2025-03-28 00:00:00+00:00</td>\n      <td>2025-03-28 00:00:00+00:00</td>\n    </tr>\n    <tr>\n      <th>41</th>\n      <td>2798.370880</td>\n      <td>0.00</td>\n      <td>59.66</td>\n      <td>2870.957123</td>\n      <td>2798.370880</td>\n      <td>otm</td>\n      <td>94000.0</td>\n      <td>itm</td>\n      <td>8176.489915</td>\n      <td>9122.995141</td>\n      <td>59.66</td>\n      <td>6270.30</td>\n      <td>1906.189915</td>\n      <td>2025-03-05 00:00:00+00:00</td>\n      <td>87727.74</td>\n      <td>2025-03-28 00:00:00+00:00</td>\n      <td>2025-03-28 00:00:00+00:00</td>\n    </tr>\n    <tr>\n      <th>42</th>\n      <td>2317.400885</td>\n      <td>0.00</td>\n      <td>59.67</td>\n      <td>2588.319915</td>\n      <td>2317.400885</td>\n      <td>otm</td>\n      <td>95000.0</td>\n      <td>itm</td>\n      <td>12942.465320</td>\n      <td>9837.268814</td>\n      <td>59.67</td>\n      <td>7270.30</td>\n      <td>5672.165320</td>\n      <td>2025-03-05 00:00:00+00:00</td>\n      <td>87729.70</td>\n      <td>2025-03-28 00:00:00+00:00</td>\n      <td>2025-03-28 00:00:00+00:00</td>\n    </tr>\n    <tr>\n      <th>43</th>\n      <td>2317.400885</td>\n      <td>0.00</td>\n      <td>59.67</td>\n      <td>2588.319915</td>\n      <td>2317.400885</td>\n      <td>otm</td>\n      <td>95000.0</td>\n      <td>itm</td>\n      <td>12942.465320</td>\n      <td>9837.268814</td>\n      <td>59.67</td>\n      <td>7270.30</td>\n      <td>5672.165320</td>\n      <td>2025-03-05 00:00:00+00:00</td>\n      <td>87727.74</td>\n      <td>2025-03-28 00:00:00+00:00</td>\n      <td>2025-03-28 00:00:00+00:00</td>\n    </tr>\n  </tbody>\n</table>\n</div>"
     },
     "execution_count": 13,
     "metadata": {},
     "output_type": "execute_result"
    }
   ],
   "source": [
    "df_desk = btc.chain.get_desk(\n",
    "    option_columns=['price', 'exchange_price', 'exchange_iv', 'price_status',\n",
    "                    'intrinsic_value', 'time_value', 'timestamp', 'expiration_date', 'strike'])\n",
    "res_col = ['time_value_call', 'intrinsic_value_call', 'exchange_iv_call', 'exchange_price_call', 'price_call',\n",
    "           'price_status_call',\n",
    "           'strike',\n",
    "           'price_status_put', 'price_put', 'exchange_price_put', 'exchange_iv_put', 'intrinsic_value_put',\n",
    "           'time_value_put',\n",
    "           'timestamp', 'underlying_price', 'expiration_date', 'underlying_expiration_date']\n",
    "df_desk[df_desk['strike'].isin(atm_nearest_strikes[:10])][res_col]"
   ]
  },
  {
   "cell_type": "markdown",
   "id": "29a24774-8941-489a-80b7-1dba8b8c6bbf",
   "metadata": {
    "editable": true,
    "slideshow": {
     "slide_type": ""
    },
    "tags": []
   },
   "source": [
    "The time value of the option decreases by the expiration date\n",
    "\n",
    "ITM options have a low time value (low weight) in the total option price. In fact, the deeper an option is in the money, the lower its time value and the more it resembles a linear underlying asset (i.e., the corresponding futures).\n",
    "\n",
    "OTM options have no intrinsic value (which is understandable – they are unprofitable to execute). The entire value of an out–of-money option is the intrinsic value. It is important to understand that if the market does not overcome the strike of this option, the final expiration option price will be zero.\n",
    "\n",
    "ATM options have the maximum weight of the time value in the option price and the maximum non-linearity. For this reason, they are the most liquid on the market. When the underlying asset moves up or down from current levels, the liquidity of these options will decrease."
   ]
  },
  {
   "cell_type": "code",
   "execution_count": 14,
   "outputs": [
    {
     "data": {
      "text/plain": "(Timestamp('2025-03-05 00:00:00+0000', tz='UTC'),\n Timestamp('2025-03-28 00:00:00+0000', tz='UTC'))"
     },
     "execution_count": 14,
     "metadata": {},
     "output_type": "execute_result"
    }
   ],
   "source": [
    "settlement_date, expiration_date = btc.chain.get_settlement_and_expiration_date()\n",
    "settlement_date, expiration_date"
   ],
   "metadata": {
    "collapsed": false
   }
  },
  {
   "cell_type": "code",
   "execution_count": 15,
   "outputs": [
    {
     "data": {
      "application/vnd.plotly.v1+json": {
       "data": [
        {
         "mode": "lines",
         "name": "ATM",
         "x": [
          "2025-02-11T00:00:00+00:00",
          "2025-02-12T00:00:00+00:00",
          "2025-02-13T00:00:00+00:00",
          "2025-02-14T00:00:00+00:00",
          "2025-02-15T00:00:00+00:00",
          "2025-02-16T00:00:00+00:00",
          "2025-02-17T00:00:00+00:00",
          "2025-02-18T00:00:00+00:00",
          "2025-02-19T00:00:00+00:00",
          "2025-02-20T00:00:00+00:00",
          "2025-02-21T00:00:00+00:00",
          "2025-02-22T00:00:00+00:00",
          "2025-02-23T00:00:00+00:00",
          "2025-02-24T00:00:00+00:00",
          "2025-02-25T00:00:00+00:00",
          "2025-02-26T00:00:00+00:00",
          "2025-02-27T00:00:00+00:00",
          "2025-02-28T00:00:00+00:00",
          "2025-03-01T00:00:00+00:00",
          "2025-03-02T00:00:00+00:00",
          "2025-03-03T00:00:00+00:00",
          "2025-03-04T00:00:00+00:00",
          "2025-03-05T00:00:00+00:00"
         ],
         "y": [
          6745.478680000005,
          6452.733990000002,
          6521.748075,
          6394.061100000005,
          6373.791844999994,
          6107.02487,
          6344.507329999999,
          5742.286250000004,
          5508.174480000001,
          5506.4408,
          4895.938474999994,
          5166.85452,
          4713.883799999996,
          4983.51488,
          4609.59616,
          4289.3448,
          4079.328196999998,
          4345.5494,
          4296.8417,
          5466.53712,
          4735.851799999993,
          5277.290975,
          4853.424495
         ],
         "type": "scatter"
        }
       ],
       "layout": {
        "template": {
         "data": {
          "barpolar": [
           {
            "marker": {
             "line": {
              "color": "rgb(17,17,17)",
              "width": 0.5
             },
             "pattern": {
              "fillmode": "overlay",
              "size": 10,
              "solidity": 0.2
             }
            },
            "type": "barpolar"
           }
          ],
          "bar": [
           {
            "error_x": {
             "color": "#f2f5fa"
            },
            "error_y": {
             "color": "#f2f5fa"
            },
            "marker": {
             "line": {
              "color": "rgb(17,17,17)",
              "width": 0.5
             },
             "pattern": {
              "fillmode": "overlay",
              "size": 10,
              "solidity": 0.2
             }
            },
            "type": "bar"
           }
          ],
          "carpet": [
           {
            "aaxis": {
             "endlinecolor": "#A2B1C6",
             "gridcolor": "#506784",
             "linecolor": "#506784",
             "minorgridcolor": "#506784",
             "startlinecolor": "#A2B1C6"
            },
            "baxis": {
             "endlinecolor": "#A2B1C6",
             "gridcolor": "#506784",
             "linecolor": "#506784",
             "minorgridcolor": "#506784",
             "startlinecolor": "#A2B1C6"
            },
            "type": "carpet"
           }
          ],
          "choropleth": [
           {
            "colorbar": {
             "outlinewidth": 0,
             "ticks": ""
            },
            "type": "choropleth"
           }
          ],
          "contourcarpet": [
           {
            "colorbar": {
             "outlinewidth": 0,
             "ticks": ""
            },
            "type": "contourcarpet"
           }
          ],
          "contour": [
           {
            "colorbar": {
             "outlinewidth": 0,
             "ticks": ""
            },
            "colorscale": [
             [
              0.0,
              "#0d0887"
             ],
             [
              0.1111111111111111,
              "#46039f"
             ],
             [
              0.2222222222222222,
              "#7201a8"
             ],
             [
              0.3333333333333333,
              "#9c179e"
             ],
             [
              0.4444444444444444,
              "#bd3786"
             ],
             [
              0.5555555555555556,
              "#d8576b"
             ],
             [
              0.6666666666666666,
              "#ed7953"
             ],
             [
              0.7777777777777778,
              "#fb9f3a"
             ],
             [
              0.8888888888888888,
              "#fdca26"
             ],
             [
              1.0,
              "#f0f921"
             ]
            ],
            "type": "contour"
           }
          ],
          "heatmapgl": [
           {
            "colorbar": {
             "outlinewidth": 0,
             "ticks": ""
            },
            "colorscale": [
             [
              0.0,
              "#0d0887"
             ],
             [
              0.1111111111111111,
              "#46039f"
             ],
             [
              0.2222222222222222,
              "#7201a8"
             ],
             [
              0.3333333333333333,
              "#9c179e"
             ],
             [
              0.4444444444444444,
              "#bd3786"
             ],
             [
              0.5555555555555556,
              "#d8576b"
             ],
             [
              0.6666666666666666,
              "#ed7953"
             ],
             [
              0.7777777777777778,
              "#fb9f3a"
             ],
             [
              0.8888888888888888,
              "#fdca26"
             ],
             [
              1.0,
              "#f0f921"
             ]
            ],
            "type": "heatmapgl"
           }
          ],
          "heatmap": [
           {
            "colorbar": {
             "outlinewidth": 0,
             "ticks": ""
            },
            "colorscale": [
             [
              0.0,
              "#0d0887"
             ],
             [
              0.1111111111111111,
              "#46039f"
             ],
             [
              0.2222222222222222,
              "#7201a8"
             ],
             [
              0.3333333333333333,
              "#9c179e"
             ],
             [
              0.4444444444444444,
              "#bd3786"
             ],
             [
              0.5555555555555556,
              "#d8576b"
             ],
             [
              0.6666666666666666,
              "#ed7953"
             ],
             [
              0.7777777777777778,
              "#fb9f3a"
             ],
             [
              0.8888888888888888,
              "#fdca26"
             ],
             [
              1.0,
              "#f0f921"
             ]
            ],
            "type": "heatmap"
           }
          ],
          "histogram2dcontour": [
           {
            "colorbar": {
             "outlinewidth": 0,
             "ticks": ""
            },
            "colorscale": [
             [
              0.0,
              "#0d0887"
             ],
             [
              0.1111111111111111,
              "#46039f"
             ],
             [
              0.2222222222222222,
              "#7201a8"
             ],
             [
              0.3333333333333333,
              "#9c179e"
             ],
             [
              0.4444444444444444,
              "#bd3786"
             ],
             [
              0.5555555555555556,
              "#d8576b"
             ],
             [
              0.6666666666666666,
              "#ed7953"
             ],
             [
              0.7777777777777778,
              "#fb9f3a"
             ],
             [
              0.8888888888888888,
              "#fdca26"
             ],
             [
              1.0,
              "#f0f921"
             ]
            ],
            "type": "histogram2dcontour"
           }
          ],
          "histogram2d": [
           {
            "colorbar": {
             "outlinewidth": 0,
             "ticks": ""
            },
            "colorscale": [
             [
              0.0,
              "#0d0887"
             ],
             [
              0.1111111111111111,
              "#46039f"
             ],
             [
              0.2222222222222222,
              "#7201a8"
             ],
             [
              0.3333333333333333,
              "#9c179e"
             ],
             [
              0.4444444444444444,
              "#bd3786"
             ],
             [
              0.5555555555555556,
              "#d8576b"
             ],
             [
              0.6666666666666666,
              "#ed7953"
             ],
             [
              0.7777777777777778,
              "#fb9f3a"
             ],
             [
              0.8888888888888888,
              "#fdca26"
             ],
             [
              1.0,
              "#f0f921"
             ]
            ],
            "type": "histogram2d"
           }
          ],
          "histogram": [
           {
            "marker": {
             "pattern": {
              "fillmode": "overlay",
              "size": 10,
              "solidity": 0.2
             }
            },
            "type": "histogram"
           }
          ],
          "mesh3d": [
           {
            "colorbar": {
             "outlinewidth": 0,
             "ticks": ""
            },
            "type": "mesh3d"
           }
          ],
          "parcoords": [
           {
            "line": {
             "colorbar": {
              "outlinewidth": 0,
              "ticks": ""
             }
            },
            "type": "parcoords"
           }
          ],
          "pie": [
           {
            "automargin": true,
            "type": "pie"
           }
          ],
          "scatter3d": [
           {
            "line": {
             "colorbar": {
              "outlinewidth": 0,
              "ticks": ""
             }
            },
            "marker": {
             "colorbar": {
              "outlinewidth": 0,
              "ticks": ""
             }
            },
            "type": "scatter3d"
           }
          ],
          "scattercarpet": [
           {
            "marker": {
             "colorbar": {
              "outlinewidth": 0,
              "ticks": ""
             }
            },
            "type": "scattercarpet"
           }
          ],
          "scattergeo": [
           {
            "marker": {
             "colorbar": {
              "outlinewidth": 0,
              "ticks": ""
             }
            },
            "type": "scattergeo"
           }
          ],
          "scattergl": [
           {
            "marker": {
             "line": {
              "color": "#283442"
             }
            },
            "type": "scattergl"
           }
          ],
          "scattermapbox": [
           {
            "marker": {
             "colorbar": {
              "outlinewidth": 0,
              "ticks": ""
             }
            },
            "type": "scattermapbox"
           }
          ],
          "scatterpolargl": [
           {
            "marker": {
             "colorbar": {
              "outlinewidth": 0,
              "ticks": ""
             }
            },
            "type": "scatterpolargl"
           }
          ],
          "scatterpolar": [
           {
            "marker": {
             "colorbar": {
              "outlinewidth": 0,
              "ticks": ""
             }
            },
            "type": "scatterpolar"
           }
          ],
          "scatter": [
           {
            "marker": {
             "line": {
              "color": "#283442"
             }
            },
            "type": "scatter"
           }
          ],
          "scatterternary": [
           {
            "marker": {
             "colorbar": {
              "outlinewidth": 0,
              "ticks": ""
             }
            },
            "type": "scatterternary"
           }
          ],
          "surface": [
           {
            "colorbar": {
             "outlinewidth": 0,
             "ticks": ""
            },
            "colorscale": [
             [
              0.0,
              "#0d0887"
             ],
             [
              0.1111111111111111,
              "#46039f"
             ],
             [
              0.2222222222222222,
              "#7201a8"
             ],
             [
              0.3333333333333333,
              "#9c179e"
             ],
             [
              0.4444444444444444,
              "#bd3786"
             ],
             [
              0.5555555555555556,
              "#d8576b"
             ],
             [
              0.6666666666666666,
              "#ed7953"
             ],
             [
              0.7777777777777778,
              "#fb9f3a"
             ],
             [
              0.8888888888888888,
              "#fdca26"
             ],
             [
              1.0,
              "#f0f921"
             ]
            ],
            "type": "surface"
           }
          ],
          "table": [
           {
            "cells": {
             "fill": {
              "color": "#506784"
             },
             "line": {
              "color": "rgb(17,17,17)"
             }
            },
            "header": {
             "fill": {
              "color": "#2a3f5f"
             },
             "line": {
              "color": "rgb(17,17,17)"
             }
            },
            "type": "table"
           }
          ]
         },
         "layout": {
          "annotationdefaults": {
           "arrowcolor": "#f2f5fa",
           "arrowhead": 0,
           "arrowwidth": 1
          },
          "autotypenumbers": "strict",
          "coloraxis": {
           "colorbar": {
            "outlinewidth": 0,
            "ticks": ""
           }
          },
          "colorscale": {
           "diverging": [
            [
             0,
             "#8e0152"
            ],
            [
             0.1,
             "#c51b7d"
            ],
            [
             0.2,
             "#de77ae"
            ],
            [
             0.3,
             "#f1b6da"
            ],
            [
             0.4,
             "#fde0ef"
            ],
            [
             0.5,
             "#f7f7f7"
            ],
            [
             0.6,
             "#e6f5d0"
            ],
            [
             0.7,
             "#b8e186"
            ],
            [
             0.8,
             "#7fbc41"
            ],
            [
             0.9,
             "#4d9221"
            ],
            [
             1,
             "#276419"
            ]
           ],
           "sequential": [
            [
             0.0,
             "#0d0887"
            ],
            [
             0.1111111111111111,
             "#46039f"
            ],
            [
             0.2222222222222222,
             "#7201a8"
            ],
            [
             0.3333333333333333,
             "#9c179e"
            ],
            [
             0.4444444444444444,
             "#bd3786"
            ],
            [
             0.5555555555555556,
             "#d8576b"
            ],
            [
             0.6666666666666666,
             "#ed7953"
            ],
            [
             0.7777777777777778,
             "#fb9f3a"
            ],
            [
             0.8888888888888888,
             "#fdca26"
            ],
            [
             1.0,
             "#f0f921"
            ]
           ],
           "sequentialminus": [
            [
             0.0,
             "#0d0887"
            ],
            [
             0.1111111111111111,
             "#46039f"
            ],
            [
             0.2222222222222222,
             "#7201a8"
            ],
            [
             0.3333333333333333,
             "#9c179e"
            ],
            [
             0.4444444444444444,
             "#bd3786"
            ],
            [
             0.5555555555555556,
             "#d8576b"
            ],
            [
             0.6666666666666666,
             "#ed7953"
            ],
            [
             0.7777777777777778,
             "#fb9f3a"
            ],
            [
             0.8888888888888888,
             "#fdca26"
            ],
            [
             1.0,
             "#f0f921"
            ]
           ]
          },
          "colorway": [
           "#636efa",
           "#EF553B",
           "#00cc96",
           "#ab63fa",
           "#FFA15A",
           "#19d3f3",
           "#FF6692",
           "#B6E880",
           "#FF97FF",
           "#FECB52"
          ],
          "font": {
           "color": "#f2f5fa"
          },
          "geo": {
           "bgcolor": "rgb(17,17,17)",
           "lakecolor": "rgb(17,17,17)",
           "landcolor": "rgb(17,17,17)",
           "showlakes": true,
           "showland": true,
           "subunitcolor": "#506784"
          },
          "hoverlabel": {
           "align": "left"
          },
          "hovermode": "closest",
          "mapbox": {
           "style": "dark"
          },
          "paper_bgcolor": "rgb(17,17,17)",
          "plot_bgcolor": "rgb(17,17,17)",
          "polar": {
           "angularaxis": {
            "gridcolor": "#506784",
            "linecolor": "#506784",
            "ticks": ""
           },
           "bgcolor": "rgb(17,17,17)",
           "radialaxis": {
            "gridcolor": "#506784",
            "linecolor": "#506784",
            "ticks": ""
           }
          },
          "scene": {
           "xaxis": {
            "backgroundcolor": "rgb(17,17,17)",
            "gridcolor": "#506784",
            "gridwidth": 2,
            "linecolor": "#506784",
            "showbackground": true,
            "ticks": "",
            "zerolinecolor": "#C8D4E3"
           },
           "yaxis": {
            "backgroundcolor": "rgb(17,17,17)",
            "gridcolor": "#506784",
            "gridwidth": 2,
            "linecolor": "#506784",
            "showbackground": true,
            "ticks": "",
            "zerolinecolor": "#C8D4E3"
           },
           "zaxis": {
            "backgroundcolor": "rgb(17,17,17)",
            "gridcolor": "#506784",
            "gridwidth": 2,
            "linecolor": "#506784",
            "showbackground": true,
            "ticks": "",
            "zerolinecolor": "#C8D4E3"
           }
          },
          "shapedefaults": {
           "line": {
            "color": "#f2f5fa"
           }
          },
          "sliderdefaults": {
           "bgcolor": "#C8D4E3",
           "bordercolor": "rgb(17,17,17)",
           "borderwidth": 1,
           "tickwidth": 0
          },
          "ternary": {
           "aaxis": {
            "gridcolor": "#506784",
            "linecolor": "#506784",
            "ticks": ""
           },
           "baxis": {
            "gridcolor": "#506784",
            "linecolor": "#506784",
            "ticks": ""
           },
           "bgcolor": "rgb(17,17,17)",
           "caxis": {
            "gridcolor": "#506784",
            "linecolor": "#506784",
            "ticks": ""
           }
          },
          "title": {
           "x": 0.05
          },
          "updatemenudefaults": {
           "bgcolor": "#506784",
           "borderwidth": 0
          },
          "xaxis": {
           "automargin": true,
           "gridcolor": "#283442",
           "linecolor": "#506784",
           "ticks": "",
           "title": {
            "standoff": 15
           },
           "zerolinecolor": "#283442",
           "zerolinewidth": 2
          },
          "yaxis": {
           "automargin": true,
           "gridcolor": "#283442",
           "linecolor": "#506784",
           "ticks": "",
           "title": {
            "standoff": 15
           },
           "zerolinecolor": "#283442",
           "zerolinewidth": 2
          }
         }
        },
        "title": {
         "text": "Time Value for 2025-03-28 expiration"
        }
       },
       "config": {
        "showLink": false,
        "linkText": "Export to plot.ly",
        "plotlyServerURL": "https://plot.ly"
       }
      },
      "text/html": "<div>                            <div id=\"0fb66252-6e44-403a-bcc9-6f9a57ffb107\" class=\"plotly-graph-div\" style=\"height:525px; width:100%;\"></div>            <script type=\"text/javascript\">                require([\"plotly\"], function(Plotly) {                    window.PLOTLYENV=window.PLOTLYENV || {};                                    if (document.getElementById(\"0fb66252-6e44-403a-bcc9-6f9a57ffb107\")) {                    Plotly.newPlot(                        \"0fb66252-6e44-403a-bcc9-6f9a57ffb107\",                        [{\"mode\":\"lines\",\"name\":\"ATM\",\"x\":[\"2025-02-11T00:00:00+00:00\",\"2025-02-12T00:00:00+00:00\",\"2025-02-13T00:00:00+00:00\",\"2025-02-14T00:00:00+00:00\",\"2025-02-15T00:00:00+00:00\",\"2025-02-16T00:00:00+00:00\",\"2025-02-17T00:00:00+00:00\",\"2025-02-18T00:00:00+00:00\",\"2025-02-19T00:00:00+00:00\",\"2025-02-20T00:00:00+00:00\",\"2025-02-21T00:00:00+00:00\",\"2025-02-22T00:00:00+00:00\",\"2025-02-23T00:00:00+00:00\",\"2025-02-24T00:00:00+00:00\",\"2025-02-25T00:00:00+00:00\",\"2025-02-26T00:00:00+00:00\",\"2025-02-27T00:00:00+00:00\",\"2025-02-28T00:00:00+00:00\",\"2025-03-01T00:00:00+00:00\",\"2025-03-02T00:00:00+00:00\",\"2025-03-03T00:00:00+00:00\",\"2025-03-04T00:00:00+00:00\",\"2025-03-05T00:00:00+00:00\"],\"y\":[6745.478680000005,6452.733990000002,6521.748075,6394.061100000005,6373.791844999994,6107.02487,6344.507329999999,5742.286250000004,5508.174480000001,5506.4408,4895.938474999994,5166.85452,4713.883799999996,4983.51488,4609.59616,4289.3448,4079.328196999998,4345.5494,4296.8417,5466.53712,4735.851799999993,5277.290975,4853.424495],\"type\":\"scatter\"}],                        {\"template\":{\"data\":{\"barpolar\":[{\"marker\":{\"line\":{\"color\":\"rgb(17,17,17)\",\"width\":0.5},\"pattern\":{\"fillmode\":\"overlay\",\"size\":10,\"solidity\":0.2}},\"type\":\"barpolar\"}],\"bar\":[{\"error_x\":{\"color\":\"#f2f5fa\"},\"error_y\":{\"color\":\"#f2f5fa\"},\"marker\":{\"line\":{\"color\":\"rgb(17,17,17)\",\"width\":0.5},\"pattern\":{\"fillmode\":\"overlay\",\"size\":10,\"solidity\":0.2}},\"type\":\"bar\"}],\"carpet\":[{\"aaxis\":{\"endlinecolor\":\"#A2B1C6\",\"gridcolor\":\"#506784\",\"linecolor\":\"#506784\",\"minorgridcolor\":\"#506784\",\"startlinecolor\":\"#A2B1C6\"},\"baxis\":{\"endlinecolor\":\"#A2B1C6\",\"gridcolor\":\"#506784\",\"linecolor\":\"#506784\",\"minorgridcolor\":\"#506784\",\"startlinecolor\":\"#A2B1C6\"},\"type\":\"carpet\"}],\"choropleth\":[{\"colorbar\":{\"outlinewidth\":0,\"ticks\":\"\"},\"type\":\"choropleth\"}],\"contourcarpet\":[{\"colorbar\":{\"outlinewidth\":0,\"ticks\":\"\"},\"type\":\"contourcarpet\"}],\"contour\":[{\"colorbar\":{\"outlinewidth\":0,\"ticks\":\"\"},\"colorscale\":[[0.0,\"#0d0887\"],[0.1111111111111111,\"#46039f\"],[0.2222222222222222,\"#7201a8\"],[0.3333333333333333,\"#9c179e\"],[0.4444444444444444,\"#bd3786\"],[0.5555555555555556,\"#d8576b\"],[0.6666666666666666,\"#ed7953\"],[0.7777777777777778,\"#fb9f3a\"],[0.8888888888888888,\"#fdca26\"],[1.0,\"#f0f921\"]],\"type\":\"contour\"}],\"heatmapgl\":[{\"colorbar\":{\"outlinewidth\":0,\"ticks\":\"\"},\"colorscale\":[[0.0,\"#0d0887\"],[0.1111111111111111,\"#46039f\"],[0.2222222222222222,\"#7201a8\"],[0.3333333333333333,\"#9c179e\"],[0.4444444444444444,\"#bd3786\"],[0.5555555555555556,\"#d8576b\"],[0.6666666666666666,\"#ed7953\"],[0.7777777777777778,\"#fb9f3a\"],[0.8888888888888888,\"#fdca26\"],[1.0,\"#f0f921\"]],\"type\":\"heatmapgl\"}],\"heatmap\":[{\"colorbar\":{\"outlinewidth\":0,\"ticks\":\"\"},\"colorscale\":[[0.0,\"#0d0887\"],[0.1111111111111111,\"#46039f\"],[0.2222222222222222,\"#7201a8\"],[0.3333333333333333,\"#9c179e\"],[0.4444444444444444,\"#bd3786\"],[0.5555555555555556,\"#d8576b\"],[0.6666666666666666,\"#ed7953\"],[0.7777777777777778,\"#fb9f3a\"],[0.8888888888888888,\"#fdca26\"],[1.0,\"#f0f921\"]],\"type\":\"heatmap\"}],\"histogram2dcontour\":[{\"colorbar\":{\"outlinewidth\":0,\"ticks\":\"\"},\"colorscale\":[[0.0,\"#0d0887\"],[0.1111111111111111,\"#46039f\"],[0.2222222222222222,\"#7201a8\"],[0.3333333333333333,\"#9c179e\"],[0.4444444444444444,\"#bd3786\"],[0.5555555555555556,\"#d8576b\"],[0.6666666666666666,\"#ed7953\"],[0.7777777777777778,\"#fb9f3a\"],[0.8888888888888888,\"#fdca26\"],[1.0,\"#f0f921\"]],\"type\":\"histogram2dcontour\"}],\"histogram2d\":[{\"colorbar\":{\"outlinewidth\":0,\"ticks\":\"\"},\"colorscale\":[[0.0,\"#0d0887\"],[0.1111111111111111,\"#46039f\"],[0.2222222222222222,\"#7201a8\"],[0.3333333333333333,\"#9c179e\"],[0.4444444444444444,\"#bd3786\"],[0.5555555555555556,\"#d8576b\"],[0.6666666666666666,\"#ed7953\"],[0.7777777777777778,\"#fb9f3a\"],[0.8888888888888888,\"#fdca26\"],[1.0,\"#f0f921\"]],\"type\":\"histogram2d\"}],\"histogram\":[{\"marker\":{\"pattern\":{\"fillmode\":\"overlay\",\"size\":10,\"solidity\":0.2}},\"type\":\"histogram\"}],\"mesh3d\":[{\"colorbar\":{\"outlinewidth\":0,\"ticks\":\"\"},\"type\":\"mesh3d\"}],\"parcoords\":[{\"line\":{\"colorbar\":{\"outlinewidth\":0,\"ticks\":\"\"}},\"type\":\"parcoords\"}],\"pie\":[{\"automargin\":true,\"type\":\"pie\"}],\"scatter3d\":[{\"line\":{\"colorbar\":{\"outlinewidth\":0,\"ticks\":\"\"}},\"marker\":{\"colorbar\":{\"outlinewidth\":0,\"ticks\":\"\"}},\"type\":\"scatter3d\"}],\"scattercarpet\":[{\"marker\":{\"colorbar\":{\"outlinewidth\":0,\"ticks\":\"\"}},\"type\":\"scattercarpet\"}],\"scattergeo\":[{\"marker\":{\"colorbar\":{\"outlinewidth\":0,\"ticks\":\"\"}},\"type\":\"scattergeo\"}],\"scattergl\":[{\"marker\":{\"line\":{\"color\":\"#283442\"}},\"type\":\"scattergl\"}],\"scattermapbox\":[{\"marker\":{\"colorbar\":{\"outlinewidth\":0,\"ticks\":\"\"}},\"type\":\"scattermapbox\"}],\"scatterpolargl\":[{\"marker\":{\"colorbar\":{\"outlinewidth\":0,\"ticks\":\"\"}},\"type\":\"scatterpolargl\"}],\"scatterpolar\":[{\"marker\":{\"colorbar\":{\"outlinewidth\":0,\"ticks\":\"\"}},\"type\":\"scatterpolar\"}],\"scatter\":[{\"marker\":{\"line\":{\"color\":\"#283442\"}},\"type\":\"scatter\"}],\"scatterternary\":[{\"marker\":{\"colorbar\":{\"outlinewidth\":0,\"ticks\":\"\"}},\"type\":\"scatterternary\"}],\"surface\":[{\"colorbar\":{\"outlinewidth\":0,\"ticks\":\"\"},\"colorscale\":[[0.0,\"#0d0887\"],[0.1111111111111111,\"#46039f\"],[0.2222222222222222,\"#7201a8\"],[0.3333333333333333,\"#9c179e\"],[0.4444444444444444,\"#bd3786\"],[0.5555555555555556,\"#d8576b\"],[0.6666666666666666,\"#ed7953\"],[0.7777777777777778,\"#fb9f3a\"],[0.8888888888888888,\"#fdca26\"],[1.0,\"#f0f921\"]],\"type\":\"surface\"}],\"table\":[{\"cells\":{\"fill\":{\"color\":\"#506784\"},\"line\":{\"color\":\"rgb(17,17,17)\"}},\"header\":{\"fill\":{\"color\":\"#2a3f5f\"},\"line\":{\"color\":\"rgb(17,17,17)\"}},\"type\":\"table\"}]},\"layout\":{\"annotationdefaults\":{\"arrowcolor\":\"#f2f5fa\",\"arrowhead\":0,\"arrowwidth\":1},\"autotypenumbers\":\"strict\",\"coloraxis\":{\"colorbar\":{\"outlinewidth\":0,\"ticks\":\"\"}},\"colorscale\":{\"diverging\":[[0,\"#8e0152\"],[0.1,\"#c51b7d\"],[0.2,\"#de77ae\"],[0.3,\"#f1b6da\"],[0.4,\"#fde0ef\"],[0.5,\"#f7f7f7\"],[0.6,\"#e6f5d0\"],[0.7,\"#b8e186\"],[0.8,\"#7fbc41\"],[0.9,\"#4d9221\"],[1,\"#276419\"]],\"sequential\":[[0.0,\"#0d0887\"],[0.1111111111111111,\"#46039f\"],[0.2222222222222222,\"#7201a8\"],[0.3333333333333333,\"#9c179e\"],[0.4444444444444444,\"#bd3786\"],[0.5555555555555556,\"#d8576b\"],[0.6666666666666666,\"#ed7953\"],[0.7777777777777778,\"#fb9f3a\"],[0.8888888888888888,\"#fdca26\"],[1.0,\"#f0f921\"]],\"sequentialminus\":[[0.0,\"#0d0887\"],[0.1111111111111111,\"#46039f\"],[0.2222222222222222,\"#7201a8\"],[0.3333333333333333,\"#9c179e\"],[0.4444444444444444,\"#bd3786\"],[0.5555555555555556,\"#d8576b\"],[0.6666666666666666,\"#ed7953\"],[0.7777777777777778,\"#fb9f3a\"],[0.8888888888888888,\"#fdca26\"],[1.0,\"#f0f921\"]]},\"colorway\":[\"#636efa\",\"#EF553B\",\"#00cc96\",\"#ab63fa\",\"#FFA15A\",\"#19d3f3\",\"#FF6692\",\"#B6E880\",\"#FF97FF\",\"#FECB52\"],\"font\":{\"color\":\"#f2f5fa\"},\"geo\":{\"bgcolor\":\"rgb(17,17,17)\",\"lakecolor\":\"rgb(17,17,17)\",\"landcolor\":\"rgb(17,17,17)\",\"showlakes\":true,\"showland\":true,\"subunitcolor\":\"#506784\"},\"hoverlabel\":{\"align\":\"left\"},\"hovermode\":\"closest\",\"mapbox\":{\"style\":\"dark\"},\"paper_bgcolor\":\"rgb(17,17,17)\",\"plot_bgcolor\":\"rgb(17,17,17)\",\"polar\":{\"angularaxis\":{\"gridcolor\":\"#506784\",\"linecolor\":\"#506784\",\"ticks\":\"\"},\"bgcolor\":\"rgb(17,17,17)\",\"radialaxis\":{\"gridcolor\":\"#506784\",\"linecolor\":\"#506784\",\"ticks\":\"\"}},\"scene\":{\"xaxis\":{\"backgroundcolor\":\"rgb(17,17,17)\",\"gridcolor\":\"#506784\",\"gridwidth\":2,\"linecolor\":\"#506784\",\"showbackground\":true,\"ticks\":\"\",\"zerolinecolor\":\"#C8D4E3\"},\"yaxis\":{\"backgroundcolor\":\"rgb(17,17,17)\",\"gridcolor\":\"#506784\",\"gridwidth\":2,\"linecolor\":\"#506784\",\"showbackground\":true,\"ticks\":\"\",\"zerolinecolor\":\"#C8D4E3\"},\"zaxis\":{\"backgroundcolor\":\"rgb(17,17,17)\",\"gridcolor\":\"#506784\",\"gridwidth\":2,\"linecolor\":\"#506784\",\"showbackground\":true,\"ticks\":\"\",\"zerolinecolor\":\"#C8D4E3\"}},\"shapedefaults\":{\"line\":{\"color\":\"#f2f5fa\"}},\"sliderdefaults\":{\"bgcolor\":\"#C8D4E3\",\"bordercolor\":\"rgb(17,17,17)\",\"borderwidth\":1,\"tickwidth\":0},\"ternary\":{\"aaxis\":{\"gridcolor\":\"#506784\",\"linecolor\":\"#506784\",\"ticks\":\"\"},\"baxis\":{\"gridcolor\":\"#506784\",\"linecolor\":\"#506784\",\"ticks\":\"\"},\"bgcolor\":\"rgb(17,17,17)\",\"caxis\":{\"gridcolor\":\"#506784\",\"linecolor\":\"#506784\",\"ticks\":\"\"}},\"title\":{\"x\":0.05},\"updatemenudefaults\":{\"bgcolor\":\"#506784\",\"borderwidth\":0},\"xaxis\":{\"automargin\":true,\"gridcolor\":\"#283442\",\"linecolor\":\"#506784\",\"ticks\":\"\",\"title\":{\"standoff\":15},\"zerolinecolor\":\"#283442\",\"zerolinewidth\":2},\"yaxis\":{\"automargin\":true,\"gridcolor\":\"#283442\",\"linecolor\":\"#506784\",\"ticks\":\"\",\"title\":{\"standoff\":15},\"zerolinecolor\":\"#283442\",\"zerolinewidth\":2}}},\"title\":{\"text\":\"Time Value for 2025-03-28 expiration\"}},                        {\"responsive\": true}                    ).then(function(){\n                            \nvar gd = document.getElementById('0fb66252-6e44-403a-bcc9-6f9a57ffb107');\nvar x = new MutationObserver(function (mutations, observer) {{\n        var display = window.getComputedStyle(gd).display;\n        if (!display || display === 'none') {{\n            console.log([gd, 'removed!']);\n            Plotly.purge(gd);\n            observer.disconnect();\n        }}\n}});\n\n// Listen for the removal of the full notebook cells\nvar notebookContainer = gd.closest('#notebook-container');\nif (notebookContainer) {{\n    x.observe(notebookContainer, {childList: true});\n}}\n\n// Listen for the clearing of the current output cell\nvar outputEl = gd.closest('.output');\nif (outputEl) {{\n    x.observe(outputEl, {childList: true});\n}}\n\n                        })                };                });            </script>        </div>"
     },
     "metadata": {},
     "output_type": "display_data"
    }
   ],
   "source": [
    "btc.chart.init(title=f'Time Value for {expiration_date.date().isoformat()} expiration')\n",
    "btc.chart.price.time_values(expiration_date=expiration_date, name='ATM')\n",
    "btc.chart.show()"
   ],
   "metadata": {
    "collapsed": false
   }
  },
  {
   "cell_type": "code",
   "execution_count": 16,
   "outputs": [
    {
     "data": {
      "application/vnd.plotly.v1+json": {
       "data": [
        {
         "mode": "lines",
         "name": "ATM",
         "x": [
          "2025-02-11T00:00:00+00:00",
          "2025-02-12T00:00:00+00:00",
          "2025-02-13T00:00:00+00:00",
          "2025-02-14T00:00:00+00:00",
          "2025-02-15T00:00:00+00:00",
          "2025-02-16T00:00:00+00:00",
          "2025-02-17T00:00:00+00:00",
          "2025-02-18T00:00:00+00:00",
          "2025-02-19T00:00:00+00:00",
          "2025-02-20T00:00:00+00:00",
          "2025-02-21T00:00:00+00:00",
          "2025-02-22T00:00:00+00:00",
          "2025-02-23T00:00:00+00:00",
          "2025-02-24T00:00:00+00:00",
          "2025-02-25T00:00:00+00:00",
          "2025-02-26T00:00:00+00:00",
          "2025-02-27T00:00:00+00:00",
          "2025-02-28T00:00:00+00:00",
          "2025-03-01T00:00:00+00:00",
          "2025-03-02T00:00:00+00:00",
          "2025-03-03T00:00:00+00:00",
          "2025-03-04T00:00:00+00:00",
          "2025-03-05T00:00:00+00:00"
         ],
         "y": [
          6745.478680000005,
          6452.733990000002,
          6521.748075,
          6394.061100000005,
          6373.791844999994,
          6107.02487,
          6344.507329999999,
          5742.286250000004,
          5508.174480000001,
          5506.4408,
          4895.938474999994,
          5166.85452,
          4713.883799999996,
          4983.51488,
          4609.59616,
          4289.3448,
          4079.328196999998,
          4345.5494,
          4296.8417,
          5466.53712,
          4735.851799999993,
          5277.290975,
          4853.424495
         ],
         "type": "scatter"
        },
        {
         "mode": "lines",
         "name": "ATM",
         "x": [
          "2025-02-11T00:00:00+00:00",
          "2025-02-12T00:00:00+00:00",
          "2025-02-13T00:00:00+00:00",
          "2025-02-14T00:00:00+00:00",
          "2025-02-15T00:00:00+00:00",
          "2025-02-16T00:00:00+00:00",
          "2025-02-17T00:00:00+00:00",
          "2025-02-18T00:00:00+00:00",
          "2025-02-19T00:00:00+00:00",
          "2025-02-20T00:00:00+00:00",
          "2025-02-21T00:00:00+00:00",
          "2025-02-22T00:00:00+00:00",
          "2025-02-23T00:00:00+00:00",
          "2025-02-24T00:00:00+00:00",
          "2025-02-25T00:00:00+00:00",
          "2025-02-26T00:00:00+00:00",
          "2025-02-27T00:00:00+00:00",
          "2025-02-28T00:00:00+00:00",
          "2025-03-01T00:00:00+00:00",
          "2025-03-02T00:00:00+00:00",
          "2025-03-03T00:00:00+00:00",
          "2025-03-04T00:00:00+00:00",
          "2025-03-05T00:00:00+00:00"
         ],
         "y": [
          6745.478680000005,
          6452.733990000002,
          6521.748075,
          6394.061100000005,
          6373.791844999994,
          6107.02487,
          6344.507329999999,
          5742.286250000004,
          5508.174480000001,
          5506.4408,
          4895.938474999994,
          5166.85452,
          4713.883799999996,
          4983.51488,
          4609.59616,
          4289.3448,
          4079.328196999998,
          4345.5494,
          4296.8417,
          5466.53712,
          4735.851799999993,
          5277.290975,
          4853.424495
         ],
         "type": "scatter"
        },
        {
         "mode": "lines",
         "name": "strike 85000.0",
         "x": [
          "2025-02-11T00:00:00+00:00",
          "2025-02-12T00:00:00+00:00",
          "2025-02-13T00:00:00+00:00",
          "2025-02-14T00:00:00+00:00",
          "2025-02-15T00:00:00+00:00",
          "2025-02-16T00:00:00+00:00",
          "2025-02-17T00:00:00+00:00",
          "2025-02-18T00:00:00+00:00",
          "2025-02-19T00:00:00+00:00",
          "2025-02-20T00:00:00+00:00",
          "2025-02-21T00:00:00+00:00",
          "2025-02-22T00:00:00+00:00",
          "2025-02-23T00:00:00+00:00",
          "2025-02-24T00:00:00+00:00",
          "2025-02-25T00:00:00+00:00",
          "2025-02-26T00:00:00+00:00",
          "2025-02-26T00:00:00+00:00",
          "2025-02-27T00:00:00+00:00",
          "2025-02-27T00:00:00+00:00",
          "2025-02-28T00:00:00+00:00",
          "2025-02-28T00:00:00+00:00",
          "2025-03-01T00:00:00+00:00",
          "2025-03-02T00:00:00+00:00",
          "2025-03-02T00:00:00+00:00",
          "2025-03-03T00:00:00+00:00",
          "2025-03-04T00:00:00+00:00",
          "2025-03-05T00:00:00+00:00"
         ],
         "y": [
          5888.81319,
          5285.79108,
          4879.233745,
          5801.828935,
          5221.123315,
          4760.59419,
          4836.80213,
          4636.69797,
          4058.65488,
          4080.6659500000005,
          4229.6474,
          3766.49208,
          3899.1820500000003,
          3200.4224000000004,
          2836.67456,
          3036.18328,
          2523.144,
          2581.550805,
          3207.894279,
          2404.8186,
          3122.0452,
          3011.0129,
          4382.65476,
          3251.64708,
          3618.4344,
          3663.5739000000003,
          3366.789965
         ],
         "type": "scatter"
        },
        {
         "mode": "lines",
         "name": "ATM distance -$5000",
         "x": [
          "2025-02-11T00:00:00+00:00",
          "2025-02-11T00:00:00+00:00",
          "2025-02-12T00:00:00+00:00",
          "2025-02-12T00:00:00+00:00",
          "2025-02-13T00:00:00+00:00",
          "2025-02-13T00:00:00+00:00",
          "2025-02-14T00:00:00+00:00",
          "2025-02-14T00:00:00+00:00",
          "2025-02-15T00:00:00+00:00",
          "2025-02-15T00:00:00+00:00",
          "2025-02-16T00:00:00+00:00",
          "2025-02-16T00:00:00+00:00",
          "2025-02-17T00:00:00+00:00",
          "2025-02-17T00:00:00+00:00",
          "2025-02-18T00:00:00+00:00",
          "2025-02-18T00:00:00+00:00",
          "2025-02-19T00:00:00+00:00",
          "2025-02-19T00:00:00+00:00",
          "2025-02-20T00:00:00+00:00",
          "2025-02-21T00:00:00+00:00",
          "2025-02-21T00:00:00+00:00",
          "2025-02-22T00:00:00+00:00",
          "2025-02-22T00:00:00+00:00",
          "2025-02-23T00:00:00+00:00",
          "2025-02-23T00:00:00+00:00",
          "2025-02-24T00:00:00+00:00",
          "2025-02-25T00:00:00+00:00",
          "2025-02-26T00:00:00+00:00",
          "2025-02-27T00:00:00+00:00",
          "2025-02-28T00:00:00+00:00",
          "2025-03-01T00:00:00+00:00",
          "2025-03-01T00:00:00+00:00",
          "2025-03-02T00:00:00+00:00",
          "2025-03-03T00:00:00+00:00",
          "2025-03-03T00:00:00+00:00",
          "2025-03-04T00:00:00+00:00",
          "2025-03-04T00:00:00+00:00",
          "2025-03-05T00:00:00+00:00",
          "2025-03-05T00:00:00+00:00"
         ],
         "y": [
          4373.280700000005,
          5446.843926000003,
          3235.814150000004,
          2704.089450000003,
          4751.250894999996,
          3910.6727749999955,
          4880.559215000005,
          3758.1467850000045,
          3691.8889049999943,
          4813.569094999995,
          5011.383290000005,
          6145.820710000005,
          3457.3407799999914,
          4451.62905,
          4610.3468500000035,
          2557.1858400000037,
          4111.512639999999,
          3705.984199999999,
          3830.4639999999954,
          3058.826349999994,
          4326.940249999994,
          2686.934320000001,
          4010.897280000001,
          3024.510199999996,
          2083.607299999994,
          4219.736960000004,
          2548.252079999994,
          2549.055599999998,
          1432.3482749999976,
          2149.656799999995,
          1867.0427099999997,
          1733.8749980000057,
          3595.935680000004,
          2009.6733999999924,
          3275.731199999993,
          3904.87575,
          1032.7962499999967,
          830.9417499999945,
          3616.0235600000033
         ],
         "type": "scatter"
        }
       ],
       "layout": {
        "template": {
         "data": {
          "barpolar": [
           {
            "marker": {
             "line": {
              "color": "rgb(17,17,17)",
              "width": 0.5
             },
             "pattern": {
              "fillmode": "overlay",
              "size": 10,
              "solidity": 0.2
             }
            },
            "type": "barpolar"
           }
          ],
          "bar": [
           {
            "error_x": {
             "color": "#f2f5fa"
            },
            "error_y": {
             "color": "#f2f5fa"
            },
            "marker": {
             "line": {
              "color": "rgb(17,17,17)",
              "width": 0.5
             },
             "pattern": {
              "fillmode": "overlay",
              "size": 10,
              "solidity": 0.2
             }
            },
            "type": "bar"
           }
          ],
          "carpet": [
           {
            "aaxis": {
             "endlinecolor": "#A2B1C6",
             "gridcolor": "#506784",
             "linecolor": "#506784",
             "minorgridcolor": "#506784",
             "startlinecolor": "#A2B1C6"
            },
            "baxis": {
             "endlinecolor": "#A2B1C6",
             "gridcolor": "#506784",
             "linecolor": "#506784",
             "minorgridcolor": "#506784",
             "startlinecolor": "#A2B1C6"
            },
            "type": "carpet"
           }
          ],
          "choropleth": [
           {
            "colorbar": {
             "outlinewidth": 0,
             "ticks": ""
            },
            "type": "choropleth"
           }
          ],
          "contourcarpet": [
           {
            "colorbar": {
             "outlinewidth": 0,
             "ticks": ""
            },
            "type": "contourcarpet"
           }
          ],
          "contour": [
           {
            "colorbar": {
             "outlinewidth": 0,
             "ticks": ""
            },
            "colorscale": [
             [
              0.0,
              "#0d0887"
             ],
             [
              0.1111111111111111,
              "#46039f"
             ],
             [
              0.2222222222222222,
              "#7201a8"
             ],
             [
              0.3333333333333333,
              "#9c179e"
             ],
             [
              0.4444444444444444,
              "#bd3786"
             ],
             [
              0.5555555555555556,
              "#d8576b"
             ],
             [
              0.6666666666666666,
              "#ed7953"
             ],
             [
              0.7777777777777778,
              "#fb9f3a"
             ],
             [
              0.8888888888888888,
              "#fdca26"
             ],
             [
              1.0,
              "#f0f921"
             ]
            ],
            "type": "contour"
           }
          ],
          "heatmapgl": [
           {
            "colorbar": {
             "outlinewidth": 0,
             "ticks": ""
            },
            "colorscale": [
             [
              0.0,
              "#0d0887"
             ],
             [
              0.1111111111111111,
              "#46039f"
             ],
             [
              0.2222222222222222,
              "#7201a8"
             ],
             [
              0.3333333333333333,
              "#9c179e"
             ],
             [
              0.4444444444444444,
              "#bd3786"
             ],
             [
              0.5555555555555556,
              "#d8576b"
             ],
             [
              0.6666666666666666,
              "#ed7953"
             ],
             [
              0.7777777777777778,
              "#fb9f3a"
             ],
             [
              0.8888888888888888,
              "#fdca26"
             ],
             [
              1.0,
              "#f0f921"
             ]
            ],
            "type": "heatmapgl"
           }
          ],
          "heatmap": [
           {
            "colorbar": {
             "outlinewidth": 0,
             "ticks": ""
            },
            "colorscale": [
             [
              0.0,
              "#0d0887"
             ],
             [
              0.1111111111111111,
              "#46039f"
             ],
             [
              0.2222222222222222,
              "#7201a8"
             ],
             [
              0.3333333333333333,
              "#9c179e"
             ],
             [
              0.4444444444444444,
              "#bd3786"
             ],
             [
              0.5555555555555556,
              "#d8576b"
             ],
             [
              0.6666666666666666,
              "#ed7953"
             ],
             [
              0.7777777777777778,
              "#fb9f3a"
             ],
             [
              0.8888888888888888,
              "#fdca26"
             ],
             [
              1.0,
              "#f0f921"
             ]
            ],
            "type": "heatmap"
           }
          ],
          "histogram2dcontour": [
           {
            "colorbar": {
             "outlinewidth": 0,
             "ticks": ""
            },
            "colorscale": [
             [
              0.0,
              "#0d0887"
             ],
             [
              0.1111111111111111,
              "#46039f"
             ],
             [
              0.2222222222222222,
              "#7201a8"
             ],
             [
              0.3333333333333333,
              "#9c179e"
             ],
             [
              0.4444444444444444,
              "#bd3786"
             ],
             [
              0.5555555555555556,
              "#d8576b"
             ],
             [
              0.6666666666666666,
              "#ed7953"
             ],
             [
              0.7777777777777778,
              "#fb9f3a"
             ],
             [
              0.8888888888888888,
              "#fdca26"
             ],
             [
              1.0,
              "#f0f921"
             ]
            ],
            "type": "histogram2dcontour"
           }
          ],
          "histogram2d": [
           {
            "colorbar": {
             "outlinewidth": 0,
             "ticks": ""
            },
            "colorscale": [
             [
              0.0,
              "#0d0887"
             ],
             [
              0.1111111111111111,
              "#46039f"
             ],
             [
              0.2222222222222222,
              "#7201a8"
             ],
             [
              0.3333333333333333,
              "#9c179e"
             ],
             [
              0.4444444444444444,
              "#bd3786"
             ],
             [
              0.5555555555555556,
              "#d8576b"
             ],
             [
              0.6666666666666666,
              "#ed7953"
             ],
             [
              0.7777777777777778,
              "#fb9f3a"
             ],
             [
              0.8888888888888888,
              "#fdca26"
             ],
             [
              1.0,
              "#f0f921"
             ]
            ],
            "type": "histogram2d"
           }
          ],
          "histogram": [
           {
            "marker": {
             "pattern": {
              "fillmode": "overlay",
              "size": 10,
              "solidity": 0.2
             }
            },
            "type": "histogram"
           }
          ],
          "mesh3d": [
           {
            "colorbar": {
             "outlinewidth": 0,
             "ticks": ""
            },
            "type": "mesh3d"
           }
          ],
          "parcoords": [
           {
            "line": {
             "colorbar": {
              "outlinewidth": 0,
              "ticks": ""
             }
            },
            "type": "parcoords"
           }
          ],
          "pie": [
           {
            "automargin": true,
            "type": "pie"
           }
          ],
          "scatter3d": [
           {
            "line": {
             "colorbar": {
              "outlinewidth": 0,
              "ticks": ""
             }
            },
            "marker": {
             "colorbar": {
              "outlinewidth": 0,
              "ticks": ""
             }
            },
            "type": "scatter3d"
           }
          ],
          "scattercarpet": [
           {
            "marker": {
             "colorbar": {
              "outlinewidth": 0,
              "ticks": ""
             }
            },
            "type": "scattercarpet"
           }
          ],
          "scattergeo": [
           {
            "marker": {
             "colorbar": {
              "outlinewidth": 0,
              "ticks": ""
             }
            },
            "type": "scattergeo"
           }
          ],
          "scattergl": [
           {
            "marker": {
             "line": {
              "color": "#283442"
             }
            },
            "type": "scattergl"
           }
          ],
          "scattermapbox": [
           {
            "marker": {
             "colorbar": {
              "outlinewidth": 0,
              "ticks": ""
             }
            },
            "type": "scattermapbox"
           }
          ],
          "scatterpolargl": [
           {
            "marker": {
             "colorbar": {
              "outlinewidth": 0,
              "ticks": ""
             }
            },
            "type": "scatterpolargl"
           }
          ],
          "scatterpolar": [
           {
            "marker": {
             "colorbar": {
              "outlinewidth": 0,
              "ticks": ""
             }
            },
            "type": "scatterpolar"
           }
          ],
          "scatter": [
           {
            "marker": {
             "line": {
              "color": "#283442"
             }
            },
            "type": "scatter"
           }
          ],
          "scatterternary": [
           {
            "marker": {
             "colorbar": {
              "outlinewidth": 0,
              "ticks": ""
             }
            },
            "type": "scatterternary"
           }
          ],
          "surface": [
           {
            "colorbar": {
             "outlinewidth": 0,
             "ticks": ""
            },
            "colorscale": [
             [
              0.0,
              "#0d0887"
             ],
             [
              0.1111111111111111,
              "#46039f"
             ],
             [
              0.2222222222222222,
              "#7201a8"
             ],
             [
              0.3333333333333333,
              "#9c179e"
             ],
             [
              0.4444444444444444,
              "#bd3786"
             ],
             [
              0.5555555555555556,
              "#d8576b"
             ],
             [
              0.6666666666666666,
              "#ed7953"
             ],
             [
              0.7777777777777778,
              "#fb9f3a"
             ],
             [
              0.8888888888888888,
              "#fdca26"
             ],
             [
              1.0,
              "#f0f921"
             ]
            ],
            "type": "surface"
           }
          ],
          "table": [
           {
            "cells": {
             "fill": {
              "color": "#506784"
             },
             "line": {
              "color": "rgb(17,17,17)"
             }
            },
            "header": {
             "fill": {
              "color": "#2a3f5f"
             },
             "line": {
              "color": "rgb(17,17,17)"
             }
            },
            "type": "table"
           }
          ]
         },
         "layout": {
          "annotationdefaults": {
           "arrowcolor": "#f2f5fa",
           "arrowhead": 0,
           "arrowwidth": 1
          },
          "autotypenumbers": "strict",
          "coloraxis": {
           "colorbar": {
            "outlinewidth": 0,
            "ticks": ""
           }
          },
          "colorscale": {
           "diverging": [
            [
             0,
             "#8e0152"
            ],
            [
             0.1,
             "#c51b7d"
            ],
            [
             0.2,
             "#de77ae"
            ],
            [
             0.3,
             "#f1b6da"
            ],
            [
             0.4,
             "#fde0ef"
            ],
            [
             0.5,
             "#f7f7f7"
            ],
            [
             0.6,
             "#e6f5d0"
            ],
            [
             0.7,
             "#b8e186"
            ],
            [
             0.8,
             "#7fbc41"
            ],
            [
             0.9,
             "#4d9221"
            ],
            [
             1,
             "#276419"
            ]
           ],
           "sequential": [
            [
             0.0,
             "#0d0887"
            ],
            [
             0.1111111111111111,
             "#46039f"
            ],
            [
             0.2222222222222222,
             "#7201a8"
            ],
            [
             0.3333333333333333,
             "#9c179e"
            ],
            [
             0.4444444444444444,
             "#bd3786"
            ],
            [
             0.5555555555555556,
             "#d8576b"
            ],
            [
             0.6666666666666666,
             "#ed7953"
            ],
            [
             0.7777777777777778,
             "#fb9f3a"
            ],
            [
             0.8888888888888888,
             "#fdca26"
            ],
            [
             1.0,
             "#f0f921"
            ]
           ],
           "sequentialminus": [
            [
             0.0,
             "#0d0887"
            ],
            [
             0.1111111111111111,
             "#46039f"
            ],
            [
             0.2222222222222222,
             "#7201a8"
            ],
            [
             0.3333333333333333,
             "#9c179e"
            ],
            [
             0.4444444444444444,
             "#bd3786"
            ],
            [
             0.5555555555555556,
             "#d8576b"
            ],
            [
             0.6666666666666666,
             "#ed7953"
            ],
            [
             0.7777777777777778,
             "#fb9f3a"
            ],
            [
             0.8888888888888888,
             "#fdca26"
            ],
            [
             1.0,
             "#f0f921"
            ]
           ]
          },
          "colorway": [
           "#636efa",
           "#EF553B",
           "#00cc96",
           "#ab63fa",
           "#FFA15A",
           "#19d3f3",
           "#FF6692",
           "#B6E880",
           "#FF97FF",
           "#FECB52"
          ],
          "font": {
           "color": "#f2f5fa"
          },
          "geo": {
           "bgcolor": "rgb(17,17,17)",
           "lakecolor": "rgb(17,17,17)",
           "landcolor": "rgb(17,17,17)",
           "showlakes": true,
           "showland": true,
           "subunitcolor": "#506784"
          },
          "hoverlabel": {
           "align": "left"
          },
          "hovermode": "closest",
          "mapbox": {
           "style": "dark"
          },
          "paper_bgcolor": "rgb(17,17,17)",
          "plot_bgcolor": "rgb(17,17,17)",
          "polar": {
           "angularaxis": {
            "gridcolor": "#506784",
            "linecolor": "#506784",
            "ticks": ""
           },
           "bgcolor": "rgb(17,17,17)",
           "radialaxis": {
            "gridcolor": "#506784",
            "linecolor": "#506784",
            "ticks": ""
           }
          },
          "scene": {
           "xaxis": {
            "backgroundcolor": "rgb(17,17,17)",
            "gridcolor": "#506784",
            "gridwidth": 2,
            "linecolor": "#506784",
            "showbackground": true,
            "ticks": "",
            "zerolinecolor": "#C8D4E3"
           },
           "yaxis": {
            "backgroundcolor": "rgb(17,17,17)",
            "gridcolor": "#506784",
            "gridwidth": 2,
            "linecolor": "#506784",
            "showbackground": true,
            "ticks": "",
            "zerolinecolor": "#C8D4E3"
           },
           "zaxis": {
            "backgroundcolor": "rgb(17,17,17)",
            "gridcolor": "#506784",
            "gridwidth": 2,
            "linecolor": "#506784",
            "showbackground": true,
            "ticks": "",
            "zerolinecolor": "#C8D4E3"
           }
          },
          "shapedefaults": {
           "line": {
            "color": "#f2f5fa"
           }
          },
          "sliderdefaults": {
           "bgcolor": "#C8D4E3",
           "bordercolor": "rgb(17,17,17)",
           "borderwidth": 1,
           "tickwidth": 0
          },
          "ternary": {
           "aaxis": {
            "gridcolor": "#506784",
            "linecolor": "#506784",
            "ticks": ""
           },
           "baxis": {
            "gridcolor": "#506784",
            "linecolor": "#506784",
            "ticks": ""
           },
           "bgcolor": "rgb(17,17,17)",
           "caxis": {
            "gridcolor": "#506784",
            "linecolor": "#506784",
            "ticks": ""
           }
          },
          "title": {
           "x": 0.05
          },
          "updatemenudefaults": {
           "bgcolor": "#506784",
           "borderwidth": 0
          },
          "xaxis": {
           "automargin": true,
           "gridcolor": "#283442",
           "linecolor": "#506784",
           "ticks": "",
           "title": {
            "standoff": 15
           },
           "zerolinecolor": "#283442",
           "zerolinewidth": 2
          },
          "yaxis": {
           "automargin": true,
           "gridcolor": "#283442",
           "linecolor": "#506784",
           "ticks": "",
           "title": {
            "standoff": 15
           },
           "zerolinecolor": "#283442",
           "zerolinewidth": 2
          }
         }
        },
        "title": {
         "text": "Time Value for 2025-03-28 expiration"
        }
       },
       "config": {
        "showLink": false,
        "linkText": "Export to plot.ly",
        "plotlyServerURL": "https://plot.ly"
       }
      },
      "text/html": "<div>                            <div id=\"69d856f9-4061-400b-bfa4-44f08cf5624d\" class=\"plotly-graph-div\" style=\"height:525px; width:100%;\"></div>            <script type=\"text/javascript\">                require([\"plotly\"], function(Plotly) {                    window.PLOTLYENV=window.PLOTLYENV || {};                                    if (document.getElementById(\"69d856f9-4061-400b-bfa4-44f08cf5624d\")) {                    Plotly.newPlot(                        \"69d856f9-4061-400b-bfa4-44f08cf5624d\",                        [{\"mode\":\"lines\",\"name\":\"ATM\",\"x\":[\"2025-02-11T00:00:00+00:00\",\"2025-02-12T00:00:00+00:00\",\"2025-02-13T00:00:00+00:00\",\"2025-02-14T00:00:00+00:00\",\"2025-02-15T00:00:00+00:00\",\"2025-02-16T00:00:00+00:00\",\"2025-02-17T00:00:00+00:00\",\"2025-02-18T00:00:00+00:00\",\"2025-02-19T00:00:00+00:00\",\"2025-02-20T00:00:00+00:00\",\"2025-02-21T00:00:00+00:00\",\"2025-02-22T00:00:00+00:00\",\"2025-02-23T00:00:00+00:00\",\"2025-02-24T00:00:00+00:00\",\"2025-02-25T00:00:00+00:00\",\"2025-02-26T00:00:00+00:00\",\"2025-02-27T00:00:00+00:00\",\"2025-02-28T00:00:00+00:00\",\"2025-03-01T00:00:00+00:00\",\"2025-03-02T00:00:00+00:00\",\"2025-03-03T00:00:00+00:00\",\"2025-03-04T00:00:00+00:00\",\"2025-03-05T00:00:00+00:00\"],\"y\":[6745.478680000005,6452.733990000002,6521.748075,6394.061100000005,6373.791844999994,6107.02487,6344.507329999999,5742.286250000004,5508.174480000001,5506.4408,4895.938474999994,5166.85452,4713.883799999996,4983.51488,4609.59616,4289.3448,4079.328196999998,4345.5494,4296.8417,5466.53712,4735.851799999993,5277.290975,4853.424495],\"type\":\"scatter\"},{\"mode\":\"lines\",\"name\":\"ATM\",\"x\":[\"2025-02-11T00:00:00+00:00\",\"2025-02-12T00:00:00+00:00\",\"2025-02-13T00:00:00+00:00\",\"2025-02-14T00:00:00+00:00\",\"2025-02-15T00:00:00+00:00\",\"2025-02-16T00:00:00+00:00\",\"2025-02-17T00:00:00+00:00\",\"2025-02-18T00:00:00+00:00\",\"2025-02-19T00:00:00+00:00\",\"2025-02-20T00:00:00+00:00\",\"2025-02-21T00:00:00+00:00\",\"2025-02-22T00:00:00+00:00\",\"2025-02-23T00:00:00+00:00\",\"2025-02-24T00:00:00+00:00\",\"2025-02-25T00:00:00+00:00\",\"2025-02-26T00:00:00+00:00\",\"2025-02-27T00:00:00+00:00\",\"2025-02-28T00:00:00+00:00\",\"2025-03-01T00:00:00+00:00\",\"2025-03-02T00:00:00+00:00\",\"2025-03-03T00:00:00+00:00\",\"2025-03-04T00:00:00+00:00\",\"2025-03-05T00:00:00+00:00\"],\"y\":[6745.478680000005,6452.733990000002,6521.748075,6394.061100000005,6373.791844999994,6107.02487,6344.507329999999,5742.286250000004,5508.174480000001,5506.4408,4895.938474999994,5166.85452,4713.883799999996,4983.51488,4609.59616,4289.3448,4079.328196999998,4345.5494,4296.8417,5466.53712,4735.851799999993,5277.290975,4853.424495],\"type\":\"scatter\"},{\"mode\":\"lines\",\"name\":\"strike 85000.0\",\"x\":[\"2025-02-11T00:00:00+00:00\",\"2025-02-12T00:00:00+00:00\",\"2025-02-13T00:00:00+00:00\",\"2025-02-14T00:00:00+00:00\",\"2025-02-15T00:00:00+00:00\",\"2025-02-16T00:00:00+00:00\",\"2025-02-17T00:00:00+00:00\",\"2025-02-18T00:00:00+00:00\",\"2025-02-19T00:00:00+00:00\",\"2025-02-20T00:00:00+00:00\",\"2025-02-21T00:00:00+00:00\",\"2025-02-22T00:00:00+00:00\",\"2025-02-23T00:00:00+00:00\",\"2025-02-24T00:00:00+00:00\",\"2025-02-25T00:00:00+00:00\",\"2025-02-26T00:00:00+00:00\",\"2025-02-26T00:00:00+00:00\",\"2025-02-27T00:00:00+00:00\",\"2025-02-27T00:00:00+00:00\",\"2025-02-28T00:00:00+00:00\",\"2025-02-28T00:00:00+00:00\",\"2025-03-01T00:00:00+00:00\",\"2025-03-02T00:00:00+00:00\",\"2025-03-02T00:00:00+00:00\",\"2025-03-03T00:00:00+00:00\",\"2025-03-04T00:00:00+00:00\",\"2025-03-05T00:00:00+00:00\"],\"y\":[5888.81319,5285.79108,4879.233745,5801.828935,5221.123315,4760.59419,4836.80213,4636.69797,4058.65488,4080.6659500000005,4229.6474,3766.49208,3899.1820500000003,3200.4224000000004,2836.67456,3036.18328,2523.144,2581.550805,3207.894279,2404.8186,3122.0452,3011.0129,4382.65476,3251.64708,3618.4344,3663.5739000000003,3366.789965],\"type\":\"scatter\"},{\"mode\":\"lines\",\"name\":\"ATM distance -$5000\",\"x\":[\"2025-02-11T00:00:00+00:00\",\"2025-02-11T00:00:00+00:00\",\"2025-02-12T00:00:00+00:00\",\"2025-02-12T00:00:00+00:00\",\"2025-02-13T00:00:00+00:00\",\"2025-02-13T00:00:00+00:00\",\"2025-02-14T00:00:00+00:00\",\"2025-02-14T00:00:00+00:00\",\"2025-02-15T00:00:00+00:00\",\"2025-02-15T00:00:00+00:00\",\"2025-02-16T00:00:00+00:00\",\"2025-02-16T00:00:00+00:00\",\"2025-02-17T00:00:00+00:00\",\"2025-02-17T00:00:00+00:00\",\"2025-02-18T00:00:00+00:00\",\"2025-02-18T00:00:00+00:00\",\"2025-02-19T00:00:00+00:00\",\"2025-02-19T00:00:00+00:00\",\"2025-02-20T00:00:00+00:00\",\"2025-02-21T00:00:00+00:00\",\"2025-02-21T00:00:00+00:00\",\"2025-02-22T00:00:00+00:00\",\"2025-02-22T00:00:00+00:00\",\"2025-02-23T00:00:00+00:00\",\"2025-02-23T00:00:00+00:00\",\"2025-02-24T00:00:00+00:00\",\"2025-02-25T00:00:00+00:00\",\"2025-02-26T00:00:00+00:00\",\"2025-02-27T00:00:00+00:00\",\"2025-02-28T00:00:00+00:00\",\"2025-03-01T00:00:00+00:00\",\"2025-03-01T00:00:00+00:00\",\"2025-03-02T00:00:00+00:00\",\"2025-03-03T00:00:00+00:00\",\"2025-03-03T00:00:00+00:00\",\"2025-03-04T00:00:00+00:00\",\"2025-03-04T00:00:00+00:00\",\"2025-03-05T00:00:00+00:00\",\"2025-03-05T00:00:00+00:00\"],\"y\":[4373.280700000005,5446.843926000003,3235.814150000004,2704.089450000003,4751.250894999996,3910.6727749999955,4880.559215000005,3758.1467850000045,3691.8889049999943,4813.569094999995,5011.383290000005,6145.820710000005,3457.3407799999914,4451.62905,4610.3468500000035,2557.1858400000037,4111.512639999999,3705.984199999999,3830.4639999999954,3058.826349999994,4326.940249999994,2686.934320000001,4010.897280000001,3024.510199999996,2083.607299999994,4219.736960000004,2548.252079999994,2549.055599999998,1432.3482749999976,2149.656799999995,1867.0427099999997,1733.8749980000057,3595.935680000004,2009.6733999999924,3275.731199999993,3904.87575,1032.7962499999967,830.9417499999945,3616.0235600000033],\"type\":\"scatter\"}],                        {\"template\":{\"data\":{\"barpolar\":[{\"marker\":{\"line\":{\"color\":\"rgb(17,17,17)\",\"width\":0.5},\"pattern\":{\"fillmode\":\"overlay\",\"size\":10,\"solidity\":0.2}},\"type\":\"barpolar\"}],\"bar\":[{\"error_x\":{\"color\":\"#f2f5fa\"},\"error_y\":{\"color\":\"#f2f5fa\"},\"marker\":{\"line\":{\"color\":\"rgb(17,17,17)\",\"width\":0.5},\"pattern\":{\"fillmode\":\"overlay\",\"size\":10,\"solidity\":0.2}},\"type\":\"bar\"}],\"carpet\":[{\"aaxis\":{\"endlinecolor\":\"#A2B1C6\",\"gridcolor\":\"#506784\",\"linecolor\":\"#506784\",\"minorgridcolor\":\"#506784\",\"startlinecolor\":\"#A2B1C6\"},\"baxis\":{\"endlinecolor\":\"#A2B1C6\",\"gridcolor\":\"#506784\",\"linecolor\":\"#506784\",\"minorgridcolor\":\"#506784\",\"startlinecolor\":\"#A2B1C6\"},\"type\":\"carpet\"}],\"choropleth\":[{\"colorbar\":{\"outlinewidth\":0,\"ticks\":\"\"},\"type\":\"choropleth\"}],\"contourcarpet\":[{\"colorbar\":{\"outlinewidth\":0,\"ticks\":\"\"},\"type\":\"contourcarpet\"}],\"contour\":[{\"colorbar\":{\"outlinewidth\":0,\"ticks\":\"\"},\"colorscale\":[[0.0,\"#0d0887\"],[0.1111111111111111,\"#46039f\"],[0.2222222222222222,\"#7201a8\"],[0.3333333333333333,\"#9c179e\"],[0.4444444444444444,\"#bd3786\"],[0.5555555555555556,\"#d8576b\"],[0.6666666666666666,\"#ed7953\"],[0.7777777777777778,\"#fb9f3a\"],[0.8888888888888888,\"#fdca26\"],[1.0,\"#f0f921\"]],\"type\":\"contour\"}],\"heatmapgl\":[{\"colorbar\":{\"outlinewidth\":0,\"ticks\":\"\"},\"colorscale\":[[0.0,\"#0d0887\"],[0.1111111111111111,\"#46039f\"],[0.2222222222222222,\"#7201a8\"],[0.3333333333333333,\"#9c179e\"],[0.4444444444444444,\"#bd3786\"],[0.5555555555555556,\"#d8576b\"],[0.6666666666666666,\"#ed7953\"],[0.7777777777777778,\"#fb9f3a\"],[0.8888888888888888,\"#fdca26\"],[1.0,\"#f0f921\"]],\"type\":\"heatmapgl\"}],\"heatmap\":[{\"colorbar\":{\"outlinewidth\":0,\"ticks\":\"\"},\"colorscale\":[[0.0,\"#0d0887\"],[0.1111111111111111,\"#46039f\"],[0.2222222222222222,\"#7201a8\"],[0.3333333333333333,\"#9c179e\"],[0.4444444444444444,\"#bd3786\"],[0.5555555555555556,\"#d8576b\"],[0.6666666666666666,\"#ed7953\"],[0.7777777777777778,\"#fb9f3a\"],[0.8888888888888888,\"#fdca26\"],[1.0,\"#f0f921\"]],\"type\":\"heatmap\"}],\"histogram2dcontour\":[{\"colorbar\":{\"outlinewidth\":0,\"ticks\":\"\"},\"colorscale\":[[0.0,\"#0d0887\"],[0.1111111111111111,\"#46039f\"],[0.2222222222222222,\"#7201a8\"],[0.3333333333333333,\"#9c179e\"],[0.4444444444444444,\"#bd3786\"],[0.5555555555555556,\"#d8576b\"],[0.6666666666666666,\"#ed7953\"],[0.7777777777777778,\"#fb9f3a\"],[0.8888888888888888,\"#fdca26\"],[1.0,\"#f0f921\"]],\"type\":\"histogram2dcontour\"}],\"histogram2d\":[{\"colorbar\":{\"outlinewidth\":0,\"ticks\":\"\"},\"colorscale\":[[0.0,\"#0d0887\"],[0.1111111111111111,\"#46039f\"],[0.2222222222222222,\"#7201a8\"],[0.3333333333333333,\"#9c179e\"],[0.4444444444444444,\"#bd3786\"],[0.5555555555555556,\"#d8576b\"],[0.6666666666666666,\"#ed7953\"],[0.7777777777777778,\"#fb9f3a\"],[0.8888888888888888,\"#fdca26\"],[1.0,\"#f0f921\"]],\"type\":\"histogram2d\"}],\"histogram\":[{\"marker\":{\"pattern\":{\"fillmode\":\"overlay\",\"size\":10,\"solidity\":0.2}},\"type\":\"histogram\"}],\"mesh3d\":[{\"colorbar\":{\"outlinewidth\":0,\"ticks\":\"\"},\"type\":\"mesh3d\"}],\"parcoords\":[{\"line\":{\"colorbar\":{\"outlinewidth\":0,\"ticks\":\"\"}},\"type\":\"parcoords\"}],\"pie\":[{\"automargin\":true,\"type\":\"pie\"}],\"scatter3d\":[{\"line\":{\"colorbar\":{\"outlinewidth\":0,\"ticks\":\"\"}},\"marker\":{\"colorbar\":{\"outlinewidth\":0,\"ticks\":\"\"}},\"type\":\"scatter3d\"}],\"scattercarpet\":[{\"marker\":{\"colorbar\":{\"outlinewidth\":0,\"ticks\":\"\"}},\"type\":\"scattercarpet\"}],\"scattergeo\":[{\"marker\":{\"colorbar\":{\"outlinewidth\":0,\"ticks\":\"\"}},\"type\":\"scattergeo\"}],\"scattergl\":[{\"marker\":{\"line\":{\"color\":\"#283442\"}},\"type\":\"scattergl\"}],\"scattermapbox\":[{\"marker\":{\"colorbar\":{\"outlinewidth\":0,\"ticks\":\"\"}},\"type\":\"scattermapbox\"}],\"scatterpolargl\":[{\"marker\":{\"colorbar\":{\"outlinewidth\":0,\"ticks\":\"\"}},\"type\":\"scatterpolargl\"}],\"scatterpolar\":[{\"marker\":{\"colorbar\":{\"outlinewidth\":0,\"ticks\":\"\"}},\"type\":\"scatterpolar\"}],\"scatter\":[{\"marker\":{\"line\":{\"color\":\"#283442\"}},\"type\":\"scatter\"}],\"scatterternary\":[{\"marker\":{\"colorbar\":{\"outlinewidth\":0,\"ticks\":\"\"}},\"type\":\"scatterternary\"}],\"surface\":[{\"colorbar\":{\"outlinewidth\":0,\"ticks\":\"\"},\"colorscale\":[[0.0,\"#0d0887\"],[0.1111111111111111,\"#46039f\"],[0.2222222222222222,\"#7201a8\"],[0.3333333333333333,\"#9c179e\"],[0.4444444444444444,\"#bd3786\"],[0.5555555555555556,\"#d8576b\"],[0.6666666666666666,\"#ed7953\"],[0.7777777777777778,\"#fb9f3a\"],[0.8888888888888888,\"#fdca26\"],[1.0,\"#f0f921\"]],\"type\":\"surface\"}],\"table\":[{\"cells\":{\"fill\":{\"color\":\"#506784\"},\"line\":{\"color\":\"rgb(17,17,17)\"}},\"header\":{\"fill\":{\"color\":\"#2a3f5f\"},\"line\":{\"color\":\"rgb(17,17,17)\"}},\"type\":\"table\"}]},\"layout\":{\"annotationdefaults\":{\"arrowcolor\":\"#f2f5fa\",\"arrowhead\":0,\"arrowwidth\":1},\"autotypenumbers\":\"strict\",\"coloraxis\":{\"colorbar\":{\"outlinewidth\":0,\"ticks\":\"\"}},\"colorscale\":{\"diverging\":[[0,\"#8e0152\"],[0.1,\"#c51b7d\"],[0.2,\"#de77ae\"],[0.3,\"#f1b6da\"],[0.4,\"#fde0ef\"],[0.5,\"#f7f7f7\"],[0.6,\"#e6f5d0\"],[0.7,\"#b8e186\"],[0.8,\"#7fbc41\"],[0.9,\"#4d9221\"],[1,\"#276419\"]],\"sequential\":[[0.0,\"#0d0887\"],[0.1111111111111111,\"#46039f\"],[0.2222222222222222,\"#7201a8\"],[0.3333333333333333,\"#9c179e\"],[0.4444444444444444,\"#bd3786\"],[0.5555555555555556,\"#d8576b\"],[0.6666666666666666,\"#ed7953\"],[0.7777777777777778,\"#fb9f3a\"],[0.8888888888888888,\"#fdca26\"],[1.0,\"#f0f921\"]],\"sequentialminus\":[[0.0,\"#0d0887\"],[0.1111111111111111,\"#46039f\"],[0.2222222222222222,\"#7201a8\"],[0.3333333333333333,\"#9c179e\"],[0.4444444444444444,\"#bd3786\"],[0.5555555555555556,\"#d8576b\"],[0.6666666666666666,\"#ed7953\"],[0.7777777777777778,\"#fb9f3a\"],[0.8888888888888888,\"#fdca26\"],[1.0,\"#f0f921\"]]},\"colorway\":[\"#636efa\",\"#EF553B\",\"#00cc96\",\"#ab63fa\",\"#FFA15A\",\"#19d3f3\",\"#FF6692\",\"#B6E880\",\"#FF97FF\",\"#FECB52\"],\"font\":{\"color\":\"#f2f5fa\"},\"geo\":{\"bgcolor\":\"rgb(17,17,17)\",\"lakecolor\":\"rgb(17,17,17)\",\"landcolor\":\"rgb(17,17,17)\",\"showlakes\":true,\"showland\":true,\"subunitcolor\":\"#506784\"},\"hoverlabel\":{\"align\":\"left\"},\"hovermode\":\"closest\",\"mapbox\":{\"style\":\"dark\"},\"paper_bgcolor\":\"rgb(17,17,17)\",\"plot_bgcolor\":\"rgb(17,17,17)\",\"polar\":{\"angularaxis\":{\"gridcolor\":\"#506784\",\"linecolor\":\"#506784\",\"ticks\":\"\"},\"bgcolor\":\"rgb(17,17,17)\",\"radialaxis\":{\"gridcolor\":\"#506784\",\"linecolor\":\"#506784\",\"ticks\":\"\"}},\"scene\":{\"xaxis\":{\"backgroundcolor\":\"rgb(17,17,17)\",\"gridcolor\":\"#506784\",\"gridwidth\":2,\"linecolor\":\"#506784\",\"showbackground\":true,\"ticks\":\"\",\"zerolinecolor\":\"#C8D4E3\"},\"yaxis\":{\"backgroundcolor\":\"rgb(17,17,17)\",\"gridcolor\":\"#506784\",\"gridwidth\":2,\"linecolor\":\"#506784\",\"showbackground\":true,\"ticks\":\"\",\"zerolinecolor\":\"#C8D4E3\"},\"zaxis\":{\"backgroundcolor\":\"rgb(17,17,17)\",\"gridcolor\":\"#506784\",\"gridwidth\":2,\"linecolor\":\"#506784\",\"showbackground\":true,\"ticks\":\"\",\"zerolinecolor\":\"#C8D4E3\"}},\"shapedefaults\":{\"line\":{\"color\":\"#f2f5fa\"}},\"sliderdefaults\":{\"bgcolor\":\"#C8D4E3\",\"bordercolor\":\"rgb(17,17,17)\",\"borderwidth\":1,\"tickwidth\":0},\"ternary\":{\"aaxis\":{\"gridcolor\":\"#506784\",\"linecolor\":\"#506784\",\"ticks\":\"\"},\"baxis\":{\"gridcolor\":\"#506784\",\"linecolor\":\"#506784\",\"ticks\":\"\"},\"bgcolor\":\"rgb(17,17,17)\",\"caxis\":{\"gridcolor\":\"#506784\",\"linecolor\":\"#506784\",\"ticks\":\"\"}},\"title\":{\"x\":0.05},\"updatemenudefaults\":{\"bgcolor\":\"#506784\",\"borderwidth\":0},\"xaxis\":{\"automargin\":true,\"gridcolor\":\"#283442\",\"linecolor\":\"#506784\",\"ticks\":\"\",\"title\":{\"standoff\":15},\"zerolinecolor\":\"#283442\",\"zerolinewidth\":2},\"yaxis\":{\"automargin\":true,\"gridcolor\":\"#283442\",\"linecolor\":\"#506784\",\"ticks\":\"\",\"title\":{\"standoff\":15},\"zerolinecolor\":\"#283442\",\"zerolinewidth\":2}}},\"title\":{\"text\":\"Time Value for 2025-03-28 expiration\"}},                        {\"responsive\": true}                    ).then(function(){\n                            \nvar gd = document.getElementById('69d856f9-4061-400b-bfa4-44f08cf5624d');\nvar x = new MutationObserver(function (mutations, observer) {{\n        var display = window.getComputedStyle(gd).display;\n        if (!display || display === 'none') {{\n            console.log([gd, 'removed!']);\n            Plotly.purge(gd);\n            observer.disconnect();\n        }}\n}});\n\n// Listen for the removal of the full notebook cells\nvar notebookContainer = gd.closest('#notebook-container');\nif (notebookContainer) {{\n    x.observe(notebookContainer, {childList: true});\n}}\n\n// Listen for the clearing of the current output cell\nvar outputEl = gd.closest('.output');\nif (outputEl) {{\n    x.observe(outputEl, {childList: true});\n}}\n\n                        })                };                });            </script>        </div>"
     },
     "metadata": {},
     "output_type": "display_data"
    }
   ],
   "source": [
    "# add values to chart\n",
    "btc.chart.price.time_values_for_strike(expiration_date=expiration_date, strike=atm_nearest_strikes[5],\n",
    "                                       name=f'strike {atm_nearest_strikes[3]}')\n",
    "btc.chart.price.time_values_for_distance(expiration_date=expiration_date, distance=-5000, name='ATM distance -$5000')\n",
    "btc.chart.show()"
   ],
   "metadata": {
    "collapsed": false
   }
  },
  {
   "cell_type": "code",
   "execution_count": 17,
   "outputs": [
    {
     "data": {
      "text/plain": "                    timestamp   strike  time_value\n19  2025-03-02 00:00:00+00:00  98000.0  848.255760\n46  2025-03-03 00:00:00+00:00  91000.0  258.459600\n118 2025-03-05 00:00:00+00:00  92000.0   17.489818",
      "text/html": "<div>\n<style scoped>\n    .dataframe tbody tr th:only-of-type {\n        vertical-align: middle;\n    }\n\n    .dataframe tbody tr th {\n        vertical-align: top;\n    }\n\n    .dataframe thead th {\n        text-align: right;\n    }\n</style>\n<table border=\"1\" class=\"dataframe\">\n  <thead>\n    <tr style=\"text-align: right;\">\n      <th></th>\n      <th>timestamp</th>\n      <th>strike</th>\n      <th>time_value</th>\n    </tr>\n  </thead>\n  <tbody>\n    <tr>\n      <th>19</th>\n      <td>2025-03-02 00:00:00+00:00</td>\n      <td>98000.0</td>\n      <td>848.255760</td>\n    </tr>\n    <tr>\n      <th>46</th>\n      <td>2025-03-03 00:00:00+00:00</td>\n      <td>91000.0</td>\n      <td>258.459600</td>\n    </tr>\n    <tr>\n      <th>118</th>\n      <td>2025-03-05 00:00:00+00:00</td>\n      <td>92000.0</td>\n      <td>17.489818</td>\n    </tr>\n  </tbody>\n</table>\n</div>"
     },
     "execution_count": 17,
     "metadata": {},
     "output_type": "execute_result"
    }
   ],
   "source": [
    "df_time_value_strike = btc.analytic.price.time_value_series_by_strike_to_atm_distance(strike=atm_nearest_strikes[5])\n",
    "df_time_value_strike.iloc[[0, int(len(df_time_value_strike) / 2), -1]]"
   ],
   "metadata": {
    "collapsed": false
   }
  },
  {
   "cell_type": "code",
   "execution_count": 18,
   "outputs": [
    {
     "data": {
      "text/plain": "                    timestamp   strike   time_value\n14  2025-03-02 00:00:00+00:00  94000.0  1941.599331\n36  2025-03-03 00:00:00+00:00  86000.0  1490.383099\n55  2025-03-04 00:00:00+00:00  87000.0  1084.251698\n113 2025-03-05 00:00:00+00:00  87500.0   655.868175",
      "text/html": "<div>\n<style scoped>\n    .dataframe tbody tr th:only-of-type {\n        vertical-align: middle;\n    }\n\n    .dataframe tbody tr th {\n        vertical-align: top;\n    }\n\n    .dataframe thead th {\n        text-align: right;\n    }\n</style>\n<table border=\"1\" class=\"dataframe\">\n  <thead>\n    <tr style=\"text-align: right;\">\n      <th></th>\n      <th>timestamp</th>\n      <th>strike</th>\n      <th>time_value</th>\n    </tr>\n  </thead>\n  <tbody>\n    <tr>\n      <th>14</th>\n      <td>2025-03-02 00:00:00+00:00</td>\n      <td>94000.0</td>\n      <td>1941.599331</td>\n    </tr>\n    <tr>\n      <th>36</th>\n      <td>2025-03-03 00:00:00+00:00</td>\n      <td>86000.0</td>\n      <td>1490.383099</td>\n    </tr>\n    <tr>\n      <th>55</th>\n      <td>2025-03-04 00:00:00+00:00</td>\n      <td>87000.0</td>\n      <td>1084.251698</td>\n    </tr>\n    <tr>\n      <th>113</th>\n      <td>2025-03-05 00:00:00+00:00</td>\n      <td>87500.0</td>\n      <td>655.868175</td>\n    </tr>\n  </tbody>\n</table>\n</div>"
     },
     "execution_count": 18,
     "metadata": {},
     "output_type": "execute_result"
    }
   ],
   "source": [
    "df_time_value_atm = btc.analytic.price.time_value_series_by_atm_distance(distance=0)\n",
    "df_time_value_atm"
   ],
   "metadata": {
    "collapsed": false
   }
  },
  {
   "cell_type": "code",
   "execution_count": 19,
   "outputs": [
    {
     "data": {
      "application/vnd.plotly.v1+json": {
       "data": [
        {
         "mode": "lines",
         "name": "Strike cur ATM 88000.0",
         "x": [
          "2025-03-02T00:00:00+00:00",
          "2025-03-02T00:00:00+00:00",
          "2025-03-03T00:00:00+00:00",
          "2025-03-03T00:00:00+00:00",
          "2025-03-04T00:00:00+00:00",
          "2025-03-04T00:00:00+00:00",
          "2025-03-05T00:00:00+00:00"
         ],
         "y": [
          848.2557599999999,
          612.62916,
          310.15152,
          258.4596,
          17.44559,
          43.613974999999996,
          17.489818
         ],
         "type": "scatter"
        },
        {
         "mode": "lines",
         "name": "ATM",
         "x": [
          "2025-03-02T00:00:00+00:00",
          "2025-03-03T00:00:00+00:00",
          "2025-03-04T00:00:00+00:00",
          "2025-03-05T00:00:00+00:00"
         ],
         "y": [
          1941.599331485982,
          1490.3830988948048,
          1084.251698449786,
          655.868175
         ],
         "type": "scatter"
        }
       ],
       "layout": {
        "template": {
         "data": {
          "barpolar": [
           {
            "marker": {
             "line": {
              "color": "rgb(17,17,17)",
              "width": 0.5
             },
             "pattern": {
              "fillmode": "overlay",
              "size": 10,
              "solidity": 0.2
             }
            },
            "type": "barpolar"
           }
          ],
          "bar": [
           {
            "error_x": {
             "color": "#f2f5fa"
            },
            "error_y": {
             "color": "#f2f5fa"
            },
            "marker": {
             "line": {
              "color": "rgb(17,17,17)",
              "width": 0.5
             },
             "pattern": {
              "fillmode": "overlay",
              "size": 10,
              "solidity": 0.2
             }
            },
            "type": "bar"
           }
          ],
          "carpet": [
           {
            "aaxis": {
             "endlinecolor": "#A2B1C6",
             "gridcolor": "#506784",
             "linecolor": "#506784",
             "minorgridcolor": "#506784",
             "startlinecolor": "#A2B1C6"
            },
            "baxis": {
             "endlinecolor": "#A2B1C6",
             "gridcolor": "#506784",
             "linecolor": "#506784",
             "minorgridcolor": "#506784",
             "startlinecolor": "#A2B1C6"
            },
            "type": "carpet"
           }
          ],
          "choropleth": [
           {
            "colorbar": {
             "outlinewidth": 0,
             "ticks": ""
            },
            "type": "choropleth"
           }
          ],
          "contourcarpet": [
           {
            "colorbar": {
             "outlinewidth": 0,
             "ticks": ""
            },
            "type": "contourcarpet"
           }
          ],
          "contour": [
           {
            "colorbar": {
             "outlinewidth": 0,
             "ticks": ""
            },
            "colorscale": [
             [
              0.0,
              "#0d0887"
             ],
             [
              0.1111111111111111,
              "#46039f"
             ],
             [
              0.2222222222222222,
              "#7201a8"
             ],
             [
              0.3333333333333333,
              "#9c179e"
             ],
             [
              0.4444444444444444,
              "#bd3786"
             ],
             [
              0.5555555555555556,
              "#d8576b"
             ],
             [
              0.6666666666666666,
              "#ed7953"
             ],
             [
              0.7777777777777778,
              "#fb9f3a"
             ],
             [
              0.8888888888888888,
              "#fdca26"
             ],
             [
              1.0,
              "#f0f921"
             ]
            ],
            "type": "contour"
           }
          ],
          "heatmapgl": [
           {
            "colorbar": {
             "outlinewidth": 0,
             "ticks": ""
            },
            "colorscale": [
             [
              0.0,
              "#0d0887"
             ],
             [
              0.1111111111111111,
              "#46039f"
             ],
             [
              0.2222222222222222,
              "#7201a8"
             ],
             [
              0.3333333333333333,
              "#9c179e"
             ],
             [
              0.4444444444444444,
              "#bd3786"
             ],
             [
              0.5555555555555556,
              "#d8576b"
             ],
             [
              0.6666666666666666,
              "#ed7953"
             ],
             [
              0.7777777777777778,
              "#fb9f3a"
             ],
             [
              0.8888888888888888,
              "#fdca26"
             ],
             [
              1.0,
              "#f0f921"
             ]
            ],
            "type": "heatmapgl"
           }
          ],
          "heatmap": [
           {
            "colorbar": {
             "outlinewidth": 0,
             "ticks": ""
            },
            "colorscale": [
             [
              0.0,
              "#0d0887"
             ],
             [
              0.1111111111111111,
              "#46039f"
             ],
             [
              0.2222222222222222,
              "#7201a8"
             ],
             [
              0.3333333333333333,
              "#9c179e"
             ],
             [
              0.4444444444444444,
              "#bd3786"
             ],
             [
              0.5555555555555556,
              "#d8576b"
             ],
             [
              0.6666666666666666,
              "#ed7953"
             ],
             [
              0.7777777777777778,
              "#fb9f3a"
             ],
             [
              0.8888888888888888,
              "#fdca26"
             ],
             [
              1.0,
              "#f0f921"
             ]
            ],
            "type": "heatmap"
           }
          ],
          "histogram2dcontour": [
           {
            "colorbar": {
             "outlinewidth": 0,
             "ticks": ""
            },
            "colorscale": [
             [
              0.0,
              "#0d0887"
             ],
             [
              0.1111111111111111,
              "#46039f"
             ],
             [
              0.2222222222222222,
              "#7201a8"
             ],
             [
              0.3333333333333333,
              "#9c179e"
             ],
             [
              0.4444444444444444,
              "#bd3786"
             ],
             [
              0.5555555555555556,
              "#d8576b"
             ],
             [
              0.6666666666666666,
              "#ed7953"
             ],
             [
              0.7777777777777778,
              "#fb9f3a"
             ],
             [
              0.8888888888888888,
              "#fdca26"
             ],
             [
              1.0,
              "#f0f921"
             ]
            ],
            "type": "histogram2dcontour"
           }
          ],
          "histogram2d": [
           {
            "colorbar": {
             "outlinewidth": 0,
             "ticks": ""
            },
            "colorscale": [
             [
              0.0,
              "#0d0887"
             ],
             [
              0.1111111111111111,
              "#46039f"
             ],
             [
              0.2222222222222222,
              "#7201a8"
             ],
             [
              0.3333333333333333,
              "#9c179e"
             ],
             [
              0.4444444444444444,
              "#bd3786"
             ],
             [
              0.5555555555555556,
              "#d8576b"
             ],
             [
              0.6666666666666666,
              "#ed7953"
             ],
             [
              0.7777777777777778,
              "#fb9f3a"
             ],
             [
              0.8888888888888888,
              "#fdca26"
             ],
             [
              1.0,
              "#f0f921"
             ]
            ],
            "type": "histogram2d"
           }
          ],
          "histogram": [
           {
            "marker": {
             "pattern": {
              "fillmode": "overlay",
              "size": 10,
              "solidity": 0.2
             }
            },
            "type": "histogram"
           }
          ],
          "mesh3d": [
           {
            "colorbar": {
             "outlinewidth": 0,
             "ticks": ""
            },
            "type": "mesh3d"
           }
          ],
          "parcoords": [
           {
            "line": {
             "colorbar": {
              "outlinewidth": 0,
              "ticks": ""
             }
            },
            "type": "parcoords"
           }
          ],
          "pie": [
           {
            "automargin": true,
            "type": "pie"
           }
          ],
          "scatter3d": [
           {
            "line": {
             "colorbar": {
              "outlinewidth": 0,
              "ticks": ""
             }
            },
            "marker": {
             "colorbar": {
              "outlinewidth": 0,
              "ticks": ""
             }
            },
            "type": "scatter3d"
           }
          ],
          "scattercarpet": [
           {
            "marker": {
             "colorbar": {
              "outlinewidth": 0,
              "ticks": ""
             }
            },
            "type": "scattercarpet"
           }
          ],
          "scattergeo": [
           {
            "marker": {
             "colorbar": {
              "outlinewidth": 0,
              "ticks": ""
             }
            },
            "type": "scattergeo"
           }
          ],
          "scattergl": [
           {
            "marker": {
             "line": {
              "color": "#283442"
             }
            },
            "type": "scattergl"
           }
          ],
          "scattermapbox": [
           {
            "marker": {
             "colorbar": {
              "outlinewidth": 0,
              "ticks": ""
             }
            },
            "type": "scattermapbox"
           }
          ],
          "scatterpolargl": [
           {
            "marker": {
             "colorbar": {
              "outlinewidth": 0,
              "ticks": ""
             }
            },
            "type": "scatterpolargl"
           }
          ],
          "scatterpolar": [
           {
            "marker": {
             "colorbar": {
              "outlinewidth": 0,
              "ticks": ""
             }
            },
            "type": "scatterpolar"
           }
          ],
          "scatter": [
           {
            "marker": {
             "line": {
              "color": "#283442"
             }
            },
            "type": "scatter"
           }
          ],
          "scatterternary": [
           {
            "marker": {
             "colorbar": {
              "outlinewidth": 0,
              "ticks": ""
             }
            },
            "type": "scatterternary"
           }
          ],
          "surface": [
           {
            "colorbar": {
             "outlinewidth": 0,
             "ticks": ""
            },
            "colorscale": [
             [
              0.0,
              "#0d0887"
             ],
             [
              0.1111111111111111,
              "#46039f"
             ],
             [
              0.2222222222222222,
              "#7201a8"
             ],
             [
              0.3333333333333333,
              "#9c179e"
             ],
             [
              0.4444444444444444,
              "#bd3786"
             ],
             [
              0.5555555555555556,
              "#d8576b"
             ],
             [
              0.6666666666666666,
              "#ed7953"
             ],
             [
              0.7777777777777778,
              "#fb9f3a"
             ],
             [
              0.8888888888888888,
              "#fdca26"
             ],
             [
              1.0,
              "#f0f921"
             ]
            ],
            "type": "surface"
           }
          ],
          "table": [
           {
            "cells": {
             "fill": {
              "color": "#506784"
             },
             "line": {
              "color": "rgb(17,17,17)"
             }
            },
            "header": {
             "fill": {
              "color": "#2a3f5f"
             },
             "line": {
              "color": "rgb(17,17,17)"
             }
            },
            "type": "table"
           }
          ]
         },
         "layout": {
          "annotationdefaults": {
           "arrowcolor": "#f2f5fa",
           "arrowhead": 0,
           "arrowwidth": 1
          },
          "autotypenumbers": "strict",
          "coloraxis": {
           "colorbar": {
            "outlinewidth": 0,
            "ticks": ""
           }
          },
          "colorscale": {
           "diverging": [
            [
             0,
             "#8e0152"
            ],
            [
             0.1,
             "#c51b7d"
            ],
            [
             0.2,
             "#de77ae"
            ],
            [
             0.3,
             "#f1b6da"
            ],
            [
             0.4,
             "#fde0ef"
            ],
            [
             0.5,
             "#f7f7f7"
            ],
            [
             0.6,
             "#e6f5d0"
            ],
            [
             0.7,
             "#b8e186"
            ],
            [
             0.8,
             "#7fbc41"
            ],
            [
             0.9,
             "#4d9221"
            ],
            [
             1,
             "#276419"
            ]
           ],
           "sequential": [
            [
             0.0,
             "#0d0887"
            ],
            [
             0.1111111111111111,
             "#46039f"
            ],
            [
             0.2222222222222222,
             "#7201a8"
            ],
            [
             0.3333333333333333,
             "#9c179e"
            ],
            [
             0.4444444444444444,
             "#bd3786"
            ],
            [
             0.5555555555555556,
             "#d8576b"
            ],
            [
             0.6666666666666666,
             "#ed7953"
            ],
            [
             0.7777777777777778,
             "#fb9f3a"
            ],
            [
             0.8888888888888888,
             "#fdca26"
            ],
            [
             1.0,
             "#f0f921"
            ]
           ],
           "sequentialminus": [
            [
             0.0,
             "#0d0887"
            ],
            [
             0.1111111111111111,
             "#46039f"
            ],
            [
             0.2222222222222222,
             "#7201a8"
            ],
            [
             0.3333333333333333,
             "#9c179e"
            ],
            [
             0.4444444444444444,
             "#bd3786"
            ],
            [
             0.5555555555555556,
             "#d8576b"
            ],
            [
             0.6666666666666666,
             "#ed7953"
            ],
            [
             0.7777777777777778,
             "#fb9f3a"
            ],
            [
             0.8888888888888888,
             "#fdca26"
            ],
            [
             1.0,
             "#f0f921"
            ]
           ]
          },
          "colorway": [
           "#636efa",
           "#EF553B",
           "#00cc96",
           "#ab63fa",
           "#FFA15A",
           "#19d3f3",
           "#FF6692",
           "#B6E880",
           "#FF97FF",
           "#FECB52"
          ],
          "font": {
           "color": "#f2f5fa"
          },
          "geo": {
           "bgcolor": "rgb(17,17,17)",
           "lakecolor": "rgb(17,17,17)",
           "landcolor": "rgb(17,17,17)",
           "showlakes": true,
           "showland": true,
           "subunitcolor": "#506784"
          },
          "hoverlabel": {
           "align": "left"
          },
          "hovermode": "closest",
          "mapbox": {
           "style": "dark"
          },
          "paper_bgcolor": "rgb(17,17,17)",
          "plot_bgcolor": "rgb(17,17,17)",
          "polar": {
           "angularaxis": {
            "gridcolor": "#506784",
            "linecolor": "#506784",
            "ticks": ""
           },
           "bgcolor": "rgb(17,17,17)",
           "radialaxis": {
            "gridcolor": "#506784",
            "linecolor": "#506784",
            "ticks": ""
           }
          },
          "scene": {
           "xaxis": {
            "backgroundcolor": "rgb(17,17,17)",
            "gridcolor": "#506784",
            "gridwidth": 2,
            "linecolor": "#506784",
            "showbackground": true,
            "ticks": "",
            "zerolinecolor": "#C8D4E3"
           },
           "yaxis": {
            "backgroundcolor": "rgb(17,17,17)",
            "gridcolor": "#506784",
            "gridwidth": 2,
            "linecolor": "#506784",
            "showbackground": true,
            "ticks": "",
            "zerolinecolor": "#C8D4E3"
           },
           "zaxis": {
            "backgroundcolor": "rgb(17,17,17)",
            "gridcolor": "#506784",
            "gridwidth": 2,
            "linecolor": "#506784",
            "showbackground": true,
            "ticks": "",
            "zerolinecolor": "#C8D4E3"
           }
          },
          "shapedefaults": {
           "line": {
            "color": "#f2f5fa"
           }
          },
          "sliderdefaults": {
           "bgcolor": "#C8D4E3",
           "bordercolor": "rgb(17,17,17)",
           "borderwidth": 1,
           "tickwidth": 0
          },
          "ternary": {
           "aaxis": {
            "gridcolor": "#506784",
            "linecolor": "#506784",
            "ticks": ""
           },
           "baxis": {
            "gridcolor": "#506784",
            "linecolor": "#506784",
            "ticks": ""
           },
           "bgcolor": "rgb(17,17,17)",
           "caxis": {
            "gridcolor": "#506784",
            "linecolor": "#506784",
            "ticks": ""
           }
          },
          "title": {
           "x": 0.05
          },
          "updatemenudefaults": {
           "bgcolor": "#506784",
           "borderwidth": 0
          },
          "xaxis": {
           "automargin": true,
           "gridcolor": "#283442",
           "linecolor": "#506784",
           "ticks": "",
           "title": {
            "standoff": 15
           },
           "zerolinecolor": "#283442",
           "zerolinewidth": 2
          },
          "yaxis": {
           "automargin": true,
           "gridcolor": "#283442",
           "linecolor": "#506784",
           "ticks": "",
           "title": {
            "standoff": 15
           },
           "zerolinecolor": "#283442",
           "zerolinewidth": 2
          }
         }
        },
        "title": {
         "text": "Time Value from prepared dataframes for 2025-03-28 expiration"
        }
       },
       "config": {
        "showLink": false,
        "linkText": "Export to plot.ly",
        "plotlyServerURL": "https://plot.ly"
       }
      },
      "text/html": "<div>                            <div id=\"f59aea78-70b2-4d40-aa05-5af191a69b05\" class=\"plotly-graph-div\" style=\"height:525px; width:100%;\"></div>            <script type=\"text/javascript\">                require([\"plotly\"], function(Plotly) {                    window.PLOTLYENV=window.PLOTLYENV || {};                                    if (document.getElementById(\"f59aea78-70b2-4d40-aa05-5af191a69b05\")) {                    Plotly.newPlot(                        \"f59aea78-70b2-4d40-aa05-5af191a69b05\",                        [{\"mode\":\"lines\",\"name\":\"Strike cur ATM 88000.0\",\"x\":[\"2025-03-02T00:00:00+00:00\",\"2025-03-02T00:00:00+00:00\",\"2025-03-03T00:00:00+00:00\",\"2025-03-03T00:00:00+00:00\",\"2025-03-04T00:00:00+00:00\",\"2025-03-04T00:00:00+00:00\",\"2025-03-05T00:00:00+00:00\"],\"y\":[848.2557599999999,612.62916,310.15152,258.4596,17.44559,43.613974999999996,17.489818],\"type\":\"scatter\"},{\"mode\":\"lines\",\"name\":\"ATM\",\"x\":[\"2025-03-02T00:00:00+00:00\",\"2025-03-03T00:00:00+00:00\",\"2025-03-04T00:00:00+00:00\",\"2025-03-05T00:00:00+00:00\"],\"y\":[1941.599331485982,1490.3830988948048,1084.251698449786,655.868175],\"type\":\"scatter\"}],                        {\"template\":{\"data\":{\"barpolar\":[{\"marker\":{\"line\":{\"color\":\"rgb(17,17,17)\",\"width\":0.5},\"pattern\":{\"fillmode\":\"overlay\",\"size\":10,\"solidity\":0.2}},\"type\":\"barpolar\"}],\"bar\":[{\"error_x\":{\"color\":\"#f2f5fa\"},\"error_y\":{\"color\":\"#f2f5fa\"},\"marker\":{\"line\":{\"color\":\"rgb(17,17,17)\",\"width\":0.5},\"pattern\":{\"fillmode\":\"overlay\",\"size\":10,\"solidity\":0.2}},\"type\":\"bar\"}],\"carpet\":[{\"aaxis\":{\"endlinecolor\":\"#A2B1C6\",\"gridcolor\":\"#506784\",\"linecolor\":\"#506784\",\"minorgridcolor\":\"#506784\",\"startlinecolor\":\"#A2B1C6\"},\"baxis\":{\"endlinecolor\":\"#A2B1C6\",\"gridcolor\":\"#506784\",\"linecolor\":\"#506784\",\"minorgridcolor\":\"#506784\",\"startlinecolor\":\"#A2B1C6\"},\"type\":\"carpet\"}],\"choropleth\":[{\"colorbar\":{\"outlinewidth\":0,\"ticks\":\"\"},\"type\":\"choropleth\"}],\"contourcarpet\":[{\"colorbar\":{\"outlinewidth\":0,\"ticks\":\"\"},\"type\":\"contourcarpet\"}],\"contour\":[{\"colorbar\":{\"outlinewidth\":0,\"ticks\":\"\"},\"colorscale\":[[0.0,\"#0d0887\"],[0.1111111111111111,\"#46039f\"],[0.2222222222222222,\"#7201a8\"],[0.3333333333333333,\"#9c179e\"],[0.4444444444444444,\"#bd3786\"],[0.5555555555555556,\"#d8576b\"],[0.6666666666666666,\"#ed7953\"],[0.7777777777777778,\"#fb9f3a\"],[0.8888888888888888,\"#fdca26\"],[1.0,\"#f0f921\"]],\"type\":\"contour\"}],\"heatmapgl\":[{\"colorbar\":{\"outlinewidth\":0,\"ticks\":\"\"},\"colorscale\":[[0.0,\"#0d0887\"],[0.1111111111111111,\"#46039f\"],[0.2222222222222222,\"#7201a8\"],[0.3333333333333333,\"#9c179e\"],[0.4444444444444444,\"#bd3786\"],[0.5555555555555556,\"#d8576b\"],[0.6666666666666666,\"#ed7953\"],[0.7777777777777778,\"#fb9f3a\"],[0.8888888888888888,\"#fdca26\"],[1.0,\"#f0f921\"]],\"type\":\"heatmapgl\"}],\"heatmap\":[{\"colorbar\":{\"outlinewidth\":0,\"ticks\":\"\"},\"colorscale\":[[0.0,\"#0d0887\"],[0.1111111111111111,\"#46039f\"],[0.2222222222222222,\"#7201a8\"],[0.3333333333333333,\"#9c179e\"],[0.4444444444444444,\"#bd3786\"],[0.5555555555555556,\"#d8576b\"],[0.6666666666666666,\"#ed7953\"],[0.7777777777777778,\"#fb9f3a\"],[0.8888888888888888,\"#fdca26\"],[1.0,\"#f0f921\"]],\"type\":\"heatmap\"}],\"histogram2dcontour\":[{\"colorbar\":{\"outlinewidth\":0,\"ticks\":\"\"},\"colorscale\":[[0.0,\"#0d0887\"],[0.1111111111111111,\"#46039f\"],[0.2222222222222222,\"#7201a8\"],[0.3333333333333333,\"#9c179e\"],[0.4444444444444444,\"#bd3786\"],[0.5555555555555556,\"#d8576b\"],[0.6666666666666666,\"#ed7953\"],[0.7777777777777778,\"#fb9f3a\"],[0.8888888888888888,\"#fdca26\"],[1.0,\"#f0f921\"]],\"type\":\"histogram2dcontour\"}],\"histogram2d\":[{\"colorbar\":{\"outlinewidth\":0,\"ticks\":\"\"},\"colorscale\":[[0.0,\"#0d0887\"],[0.1111111111111111,\"#46039f\"],[0.2222222222222222,\"#7201a8\"],[0.3333333333333333,\"#9c179e\"],[0.4444444444444444,\"#bd3786\"],[0.5555555555555556,\"#d8576b\"],[0.6666666666666666,\"#ed7953\"],[0.7777777777777778,\"#fb9f3a\"],[0.8888888888888888,\"#fdca26\"],[1.0,\"#f0f921\"]],\"type\":\"histogram2d\"}],\"histogram\":[{\"marker\":{\"pattern\":{\"fillmode\":\"overlay\",\"size\":10,\"solidity\":0.2}},\"type\":\"histogram\"}],\"mesh3d\":[{\"colorbar\":{\"outlinewidth\":0,\"ticks\":\"\"},\"type\":\"mesh3d\"}],\"parcoords\":[{\"line\":{\"colorbar\":{\"outlinewidth\":0,\"ticks\":\"\"}},\"type\":\"parcoords\"}],\"pie\":[{\"automargin\":true,\"type\":\"pie\"}],\"scatter3d\":[{\"line\":{\"colorbar\":{\"outlinewidth\":0,\"ticks\":\"\"}},\"marker\":{\"colorbar\":{\"outlinewidth\":0,\"ticks\":\"\"}},\"type\":\"scatter3d\"}],\"scattercarpet\":[{\"marker\":{\"colorbar\":{\"outlinewidth\":0,\"ticks\":\"\"}},\"type\":\"scattercarpet\"}],\"scattergeo\":[{\"marker\":{\"colorbar\":{\"outlinewidth\":0,\"ticks\":\"\"}},\"type\":\"scattergeo\"}],\"scattergl\":[{\"marker\":{\"line\":{\"color\":\"#283442\"}},\"type\":\"scattergl\"}],\"scattermapbox\":[{\"marker\":{\"colorbar\":{\"outlinewidth\":0,\"ticks\":\"\"}},\"type\":\"scattermapbox\"}],\"scatterpolargl\":[{\"marker\":{\"colorbar\":{\"outlinewidth\":0,\"ticks\":\"\"}},\"type\":\"scatterpolargl\"}],\"scatterpolar\":[{\"marker\":{\"colorbar\":{\"outlinewidth\":0,\"ticks\":\"\"}},\"type\":\"scatterpolar\"}],\"scatter\":[{\"marker\":{\"line\":{\"color\":\"#283442\"}},\"type\":\"scatter\"}],\"scatterternary\":[{\"marker\":{\"colorbar\":{\"outlinewidth\":0,\"ticks\":\"\"}},\"type\":\"scatterternary\"}],\"surface\":[{\"colorbar\":{\"outlinewidth\":0,\"ticks\":\"\"},\"colorscale\":[[0.0,\"#0d0887\"],[0.1111111111111111,\"#46039f\"],[0.2222222222222222,\"#7201a8\"],[0.3333333333333333,\"#9c179e\"],[0.4444444444444444,\"#bd3786\"],[0.5555555555555556,\"#d8576b\"],[0.6666666666666666,\"#ed7953\"],[0.7777777777777778,\"#fb9f3a\"],[0.8888888888888888,\"#fdca26\"],[1.0,\"#f0f921\"]],\"type\":\"surface\"}],\"table\":[{\"cells\":{\"fill\":{\"color\":\"#506784\"},\"line\":{\"color\":\"rgb(17,17,17)\"}},\"header\":{\"fill\":{\"color\":\"#2a3f5f\"},\"line\":{\"color\":\"rgb(17,17,17)\"}},\"type\":\"table\"}]},\"layout\":{\"annotationdefaults\":{\"arrowcolor\":\"#f2f5fa\",\"arrowhead\":0,\"arrowwidth\":1},\"autotypenumbers\":\"strict\",\"coloraxis\":{\"colorbar\":{\"outlinewidth\":0,\"ticks\":\"\"}},\"colorscale\":{\"diverging\":[[0,\"#8e0152\"],[0.1,\"#c51b7d\"],[0.2,\"#de77ae\"],[0.3,\"#f1b6da\"],[0.4,\"#fde0ef\"],[0.5,\"#f7f7f7\"],[0.6,\"#e6f5d0\"],[0.7,\"#b8e186\"],[0.8,\"#7fbc41\"],[0.9,\"#4d9221\"],[1,\"#276419\"]],\"sequential\":[[0.0,\"#0d0887\"],[0.1111111111111111,\"#46039f\"],[0.2222222222222222,\"#7201a8\"],[0.3333333333333333,\"#9c179e\"],[0.4444444444444444,\"#bd3786\"],[0.5555555555555556,\"#d8576b\"],[0.6666666666666666,\"#ed7953\"],[0.7777777777777778,\"#fb9f3a\"],[0.8888888888888888,\"#fdca26\"],[1.0,\"#f0f921\"]],\"sequentialminus\":[[0.0,\"#0d0887\"],[0.1111111111111111,\"#46039f\"],[0.2222222222222222,\"#7201a8\"],[0.3333333333333333,\"#9c179e\"],[0.4444444444444444,\"#bd3786\"],[0.5555555555555556,\"#d8576b\"],[0.6666666666666666,\"#ed7953\"],[0.7777777777777778,\"#fb9f3a\"],[0.8888888888888888,\"#fdca26\"],[1.0,\"#f0f921\"]]},\"colorway\":[\"#636efa\",\"#EF553B\",\"#00cc96\",\"#ab63fa\",\"#FFA15A\",\"#19d3f3\",\"#FF6692\",\"#B6E880\",\"#FF97FF\",\"#FECB52\"],\"font\":{\"color\":\"#f2f5fa\"},\"geo\":{\"bgcolor\":\"rgb(17,17,17)\",\"lakecolor\":\"rgb(17,17,17)\",\"landcolor\":\"rgb(17,17,17)\",\"showlakes\":true,\"showland\":true,\"subunitcolor\":\"#506784\"},\"hoverlabel\":{\"align\":\"left\"},\"hovermode\":\"closest\",\"mapbox\":{\"style\":\"dark\"},\"paper_bgcolor\":\"rgb(17,17,17)\",\"plot_bgcolor\":\"rgb(17,17,17)\",\"polar\":{\"angularaxis\":{\"gridcolor\":\"#506784\",\"linecolor\":\"#506784\",\"ticks\":\"\"},\"bgcolor\":\"rgb(17,17,17)\",\"radialaxis\":{\"gridcolor\":\"#506784\",\"linecolor\":\"#506784\",\"ticks\":\"\"}},\"scene\":{\"xaxis\":{\"backgroundcolor\":\"rgb(17,17,17)\",\"gridcolor\":\"#506784\",\"gridwidth\":2,\"linecolor\":\"#506784\",\"showbackground\":true,\"ticks\":\"\",\"zerolinecolor\":\"#C8D4E3\"},\"yaxis\":{\"backgroundcolor\":\"rgb(17,17,17)\",\"gridcolor\":\"#506784\",\"gridwidth\":2,\"linecolor\":\"#506784\",\"showbackground\":true,\"ticks\":\"\",\"zerolinecolor\":\"#C8D4E3\"},\"zaxis\":{\"backgroundcolor\":\"rgb(17,17,17)\",\"gridcolor\":\"#506784\",\"gridwidth\":2,\"linecolor\":\"#506784\",\"showbackground\":true,\"ticks\":\"\",\"zerolinecolor\":\"#C8D4E3\"}},\"shapedefaults\":{\"line\":{\"color\":\"#f2f5fa\"}},\"sliderdefaults\":{\"bgcolor\":\"#C8D4E3\",\"bordercolor\":\"rgb(17,17,17)\",\"borderwidth\":1,\"tickwidth\":0},\"ternary\":{\"aaxis\":{\"gridcolor\":\"#506784\",\"linecolor\":\"#506784\",\"ticks\":\"\"},\"baxis\":{\"gridcolor\":\"#506784\",\"linecolor\":\"#506784\",\"ticks\":\"\"},\"bgcolor\":\"rgb(17,17,17)\",\"caxis\":{\"gridcolor\":\"#506784\",\"linecolor\":\"#506784\",\"ticks\":\"\"}},\"title\":{\"x\":0.05},\"updatemenudefaults\":{\"bgcolor\":\"#506784\",\"borderwidth\":0},\"xaxis\":{\"automargin\":true,\"gridcolor\":\"#283442\",\"linecolor\":\"#506784\",\"ticks\":\"\",\"title\":{\"standoff\":15},\"zerolinecolor\":\"#283442\",\"zerolinewidth\":2},\"yaxis\":{\"automargin\":true,\"gridcolor\":\"#283442\",\"linecolor\":\"#506784\",\"ticks\":\"\",\"title\":{\"standoff\":15},\"zerolinecolor\":\"#283442\",\"zerolinewidth\":2}}},\"title\":{\"text\":\"Time Value from prepared dataframes for 2025-03-28 expiration\"}},                        {\"responsive\": true}                    ).then(function(){\n                            \nvar gd = document.getElementById('f59aea78-70b2-4d40-aa05-5af191a69b05');\nvar x = new MutationObserver(function (mutations, observer) {{\n        var display = window.getComputedStyle(gd).display;\n        if (!display || display === 'none') {{\n            console.log([gd, 'removed!']);\n            Plotly.purge(gd);\n            observer.disconnect();\n        }}\n}});\n\n// Listen for the removal of the full notebook cells\nvar notebookContainer = gd.closest('#notebook-container');\nif (notebookContainer) {{\n    x.observe(notebookContainer, {childList: true});\n}}\n\n// Listen for the clearing of the current output cell\nvar outputEl = gd.closest('.output');\nif (outputEl) {{\n    x.observe(outputEl, {childList: true});\n}}\n\n                        })                };                });            </script>        </div>"
     },
     "metadata": {},
     "output_type": "display_data"
    }
   ],
   "source": [
    "auto_expiration_date = btc.chain.df_chain['expiration_date'].min()\n",
    "btc.chart.init(title=f'Time Value from prepared dataframes for {auto_expiration_date.date().isoformat()} expiration')\n",
    "btc.chart.price.time_values([df_time_value_strike, df_time_value_atm], [f'Strike cur ATM {atm_strike}', 'ATM'],\n",
    "                            expiration_date=expiration_date)\n",
    "btc.chart.show()"
   ],
   "metadata": {
    "collapsed": false
   }
  },
  {
   "cell_type": "markdown",
   "id": "3a293c1b-8c08-42bd-b75f-d5d328ab2652",
   "metadata": {},
   "source": [
    "## Non-linearity of options\n",
    "\n",
    "When buying an option, we have the so–called non-linearity of profit - in a positive scenario (growth of the underlying asset) we earn more, in a negative scenario (a decline in the underlying asset), we lose less with the same amount of futures change."
   ]
  },
  {
   "cell_type": "code",
   "execution_count": 20,
   "id": "9629a5c6-a150-4ecf-8faa-aae8023dba4c",
   "metadata": {},
   "outputs": [
    {
     "data": {
      "text/plain": "(np.float64(78000.0), np.float64(102000.0))"
     },
     "execution_count": 20,
     "metadata": {},
     "output_type": "execute_result"
    }
   ],
   "source": [
    "strikes = btc.chain.get_atm_nearest_strikes()\n",
    "max_strike_risk_2 = list(filter(lambda x: atm_strike < x < atm_strike * 1.05, strikes))[-1]\n",
    "strike_start = sorted(filter(lambda x: x <= min(atm_strike, max_strike_risk_2) * 0.90, strikes))[-1]\n",
    "strike_end = sorted(filter(lambda x: x >= max(atm_strike, max_strike_risk_2) * 1.1, strikes))[0]\n",
    "strike_start, strike_end"
   ]
  },
  {
   "cell_type": "code",
   "execution_count": 21,
   "outputs": [
    {
     "data": {
      "text/plain": "    strike  risk_pnl  risk_pnl_premium\n0  20000.0 -67729.70         -67729.70\n1  30000.0 -57727.74         -57727.74",
      "text/html": "<div>\n<style scoped>\n    .dataframe tbody tr th:only-of-type {\n        vertical-align: middle;\n    }\n\n    .dataframe tbody tr th {\n        vertical-align: top;\n    }\n\n    .dataframe thead th {\n        text-align: right;\n    }\n</style>\n<table border=\"1\" class=\"dataframe\">\n  <thead>\n    <tr style=\"text-align: right;\">\n      <th></th>\n      <th>strike</th>\n      <th>risk_pnl</th>\n      <th>risk_pnl_premium</th>\n    </tr>\n  </thead>\n  <tbody>\n    <tr>\n      <th>0</th>\n      <td>20000.0</td>\n      <td>-67729.70</td>\n      <td>-67729.70</td>\n    </tr>\n    <tr>\n      <th>1</th>\n      <td>30000.0</td>\n      <td>-57727.74</td>\n      <td>-57727.74</td>\n    </tr>\n  </tbody>\n</table>\n</div>"
     },
     "execution_count": 21,
     "metadata": {},
     "output_type": "execute_result"
    }
   ],
   "source": [
    "fut_legs = [OptionLeg(strike=0, lots=1, type=LegType.FUTURE)]\n",
    "fut_risk_profile, fut_risk_legs_pnl = btc.analytic.risk.chain_risk_profile(fut_legs)\n",
    "fut_risk_profile.head(2)"
   ],
   "metadata": {
    "collapsed": false
   }
  },
  {
   "cell_type": "code",
   "execution_count": 22,
   "outputs": [],
   "source": [
    "call_legs = [OptionLeg(strike=atm_strike, lots=1, type=LegType.OPTION_CALL)]\n",
    "call_risk_profile, call_risk_legs_pnl = btc.analytic.risk.chain_risk_profile(call_legs)\n",
    "call_legs_1 = [OptionLeg(strike=max_strike_risk_2, lots=1, type=LegType.OPTION_CALL)]\n",
    "call_risk_profile_1, df_legs_risk_profile = btc.analytic.risk.chain_risk_profile(call_legs_1)"
   ],
   "metadata": {
    "collapsed": false
   }
  },
  {
   "cell_type": "code",
   "execution_count": 23,
   "id": "0c56e063-ee5a-43e8-9645-b866550e27c3",
   "metadata": {},
   "outputs": [
    {
     "data": {
      "application/vnd.plotly.v1+json": {
       "data": [
        {
         "mode": "lines",
         "name": "fut",
         "x": [
          80000.0,
          82000.0,
          84000.0,
          85000.0,
          86000.0,
          88000.0,
          90000.0,
          92000.0,
          94000.0,
          95000.0,
          96000.0,
          98000.0,
          100000.0
         ],
         "y": [
          -7729.699999999997,
          -5727.740000000005,
          -3729.699999999997,
          -2729.699999999997,
          -1729.699999999997,
          270.3000000000029,
          2270.300000000003,
          4270.300000000003,
          6270.300000000003,
          7270.300000000003,
          8270.300000000003,
          10270.300000000003,
          12270.300000000003
         ],
         "type": "scatter"
        },
        {
         "mode": "lines",
         "name": "call atm 88000.0",
         "x": [
          80000.0,
          82000.0,
          84000.0,
          85000.0,
          86000.0,
          88000.0,
          90000.0,
          92000.0,
          94000.0,
          95000.0,
          96000.0,
          98000.0,
          100000.0
         ],
         "y": [
          -4853.424495,
          -4853.424495,
          -4853.424495,
          -4853.424495,
          -4853.424495,
          -4853.424495,
          -2853.424495,
          -853.4244950000002,
          1146.5755049999998,
          2146.575505,
          3146.575505,
          5146.575505,
          7146.575505
         ],
         "type": "scatter"
        },
        {
         "mode": "lines",
         "name": "call 92000.0",
         "x": [
          80000.0,
          82000.0,
          84000.0,
          85000.0,
          86000.0,
          88000.0,
          90000.0,
          92000.0,
          94000.0,
          95000.0,
          96000.0,
          98000.0,
          100000.0
         ],
         "y": [
          -3366.789965,
          -3366.789965,
          -3366.789965,
          -3366.789965,
          -3366.789965,
          -3366.789965,
          -3366.789965,
          -3366.789965,
          -1366.789965,
          -366.78996499999994,
          633.2100350000001,
          2633.210035,
          4633.210035
         ],
         "type": "scatter"
        },
        {
         "mode": "lines",
         "name": "call premium 92000.0",
         "x": [
          80000.0,
          82000.0,
          84000.0,
          85000.0,
          86000.0,
          88000.0,
          90000.0,
          92000.0,
          94000.0,
          95000.0,
          96000.0,
          98000.0,
          100000.0
         ],
         "y": [
          -3366.789965,
          -3366.789965,
          -3366.789965,
          -3366.789965,
          -3366.789965,
          -2513.3654699999997,
          -1081.7845550000002,
          0.0,
          1431.5809150000023,
          1950.6109199999955,
          2994.335465,
          4382.191834999994,
          6032.395475000001
         ],
         "type": "scatter"
        }
       ],
       "layout": {
        "template": {
         "data": {
          "barpolar": [
           {
            "marker": {
             "line": {
              "color": "rgb(17,17,17)",
              "width": 0.5
             },
             "pattern": {
              "fillmode": "overlay",
              "size": 10,
              "solidity": 0.2
             }
            },
            "type": "barpolar"
           }
          ],
          "bar": [
           {
            "error_x": {
             "color": "#f2f5fa"
            },
            "error_y": {
             "color": "#f2f5fa"
            },
            "marker": {
             "line": {
              "color": "rgb(17,17,17)",
              "width": 0.5
             },
             "pattern": {
              "fillmode": "overlay",
              "size": 10,
              "solidity": 0.2
             }
            },
            "type": "bar"
           }
          ],
          "carpet": [
           {
            "aaxis": {
             "endlinecolor": "#A2B1C6",
             "gridcolor": "#506784",
             "linecolor": "#506784",
             "minorgridcolor": "#506784",
             "startlinecolor": "#A2B1C6"
            },
            "baxis": {
             "endlinecolor": "#A2B1C6",
             "gridcolor": "#506784",
             "linecolor": "#506784",
             "minorgridcolor": "#506784",
             "startlinecolor": "#A2B1C6"
            },
            "type": "carpet"
           }
          ],
          "choropleth": [
           {
            "colorbar": {
             "outlinewidth": 0,
             "ticks": ""
            },
            "type": "choropleth"
           }
          ],
          "contourcarpet": [
           {
            "colorbar": {
             "outlinewidth": 0,
             "ticks": ""
            },
            "type": "contourcarpet"
           }
          ],
          "contour": [
           {
            "colorbar": {
             "outlinewidth": 0,
             "ticks": ""
            },
            "colorscale": [
             [
              0.0,
              "#0d0887"
             ],
             [
              0.1111111111111111,
              "#46039f"
             ],
             [
              0.2222222222222222,
              "#7201a8"
             ],
             [
              0.3333333333333333,
              "#9c179e"
             ],
             [
              0.4444444444444444,
              "#bd3786"
             ],
             [
              0.5555555555555556,
              "#d8576b"
             ],
             [
              0.6666666666666666,
              "#ed7953"
             ],
             [
              0.7777777777777778,
              "#fb9f3a"
             ],
             [
              0.8888888888888888,
              "#fdca26"
             ],
             [
              1.0,
              "#f0f921"
             ]
            ],
            "type": "contour"
           }
          ],
          "heatmapgl": [
           {
            "colorbar": {
             "outlinewidth": 0,
             "ticks": ""
            },
            "colorscale": [
             [
              0.0,
              "#0d0887"
             ],
             [
              0.1111111111111111,
              "#46039f"
             ],
             [
              0.2222222222222222,
              "#7201a8"
             ],
             [
              0.3333333333333333,
              "#9c179e"
             ],
             [
              0.4444444444444444,
              "#bd3786"
             ],
             [
              0.5555555555555556,
              "#d8576b"
             ],
             [
              0.6666666666666666,
              "#ed7953"
             ],
             [
              0.7777777777777778,
              "#fb9f3a"
             ],
             [
              0.8888888888888888,
              "#fdca26"
             ],
             [
              1.0,
              "#f0f921"
             ]
            ],
            "type": "heatmapgl"
           }
          ],
          "heatmap": [
           {
            "colorbar": {
             "outlinewidth": 0,
             "ticks": ""
            },
            "colorscale": [
             [
              0.0,
              "#0d0887"
             ],
             [
              0.1111111111111111,
              "#46039f"
             ],
             [
              0.2222222222222222,
              "#7201a8"
             ],
             [
              0.3333333333333333,
              "#9c179e"
             ],
             [
              0.4444444444444444,
              "#bd3786"
             ],
             [
              0.5555555555555556,
              "#d8576b"
             ],
             [
              0.6666666666666666,
              "#ed7953"
             ],
             [
              0.7777777777777778,
              "#fb9f3a"
             ],
             [
              0.8888888888888888,
              "#fdca26"
             ],
             [
              1.0,
              "#f0f921"
             ]
            ],
            "type": "heatmap"
           }
          ],
          "histogram2dcontour": [
           {
            "colorbar": {
             "outlinewidth": 0,
             "ticks": ""
            },
            "colorscale": [
             [
              0.0,
              "#0d0887"
             ],
             [
              0.1111111111111111,
              "#46039f"
             ],
             [
              0.2222222222222222,
              "#7201a8"
             ],
             [
              0.3333333333333333,
              "#9c179e"
             ],
             [
              0.4444444444444444,
              "#bd3786"
             ],
             [
              0.5555555555555556,
              "#d8576b"
             ],
             [
              0.6666666666666666,
              "#ed7953"
             ],
             [
              0.7777777777777778,
              "#fb9f3a"
             ],
             [
              0.8888888888888888,
              "#fdca26"
             ],
             [
              1.0,
              "#f0f921"
             ]
            ],
            "type": "histogram2dcontour"
           }
          ],
          "histogram2d": [
           {
            "colorbar": {
             "outlinewidth": 0,
             "ticks": ""
            },
            "colorscale": [
             [
              0.0,
              "#0d0887"
             ],
             [
              0.1111111111111111,
              "#46039f"
             ],
             [
              0.2222222222222222,
              "#7201a8"
             ],
             [
              0.3333333333333333,
              "#9c179e"
             ],
             [
              0.4444444444444444,
              "#bd3786"
             ],
             [
              0.5555555555555556,
              "#d8576b"
             ],
             [
              0.6666666666666666,
              "#ed7953"
             ],
             [
              0.7777777777777778,
              "#fb9f3a"
             ],
             [
              0.8888888888888888,
              "#fdca26"
             ],
             [
              1.0,
              "#f0f921"
             ]
            ],
            "type": "histogram2d"
           }
          ],
          "histogram": [
           {
            "marker": {
             "pattern": {
              "fillmode": "overlay",
              "size": 10,
              "solidity": 0.2
             }
            },
            "type": "histogram"
           }
          ],
          "mesh3d": [
           {
            "colorbar": {
             "outlinewidth": 0,
             "ticks": ""
            },
            "type": "mesh3d"
           }
          ],
          "parcoords": [
           {
            "line": {
             "colorbar": {
              "outlinewidth": 0,
              "ticks": ""
             }
            },
            "type": "parcoords"
           }
          ],
          "pie": [
           {
            "automargin": true,
            "type": "pie"
           }
          ],
          "scatter3d": [
           {
            "line": {
             "colorbar": {
              "outlinewidth": 0,
              "ticks": ""
             }
            },
            "marker": {
             "colorbar": {
              "outlinewidth": 0,
              "ticks": ""
             }
            },
            "type": "scatter3d"
           }
          ],
          "scattercarpet": [
           {
            "marker": {
             "colorbar": {
              "outlinewidth": 0,
              "ticks": ""
             }
            },
            "type": "scattercarpet"
           }
          ],
          "scattergeo": [
           {
            "marker": {
             "colorbar": {
              "outlinewidth": 0,
              "ticks": ""
             }
            },
            "type": "scattergeo"
           }
          ],
          "scattergl": [
           {
            "marker": {
             "line": {
              "color": "#283442"
             }
            },
            "type": "scattergl"
           }
          ],
          "scattermapbox": [
           {
            "marker": {
             "colorbar": {
              "outlinewidth": 0,
              "ticks": ""
             }
            },
            "type": "scattermapbox"
           }
          ],
          "scatterpolargl": [
           {
            "marker": {
             "colorbar": {
              "outlinewidth": 0,
              "ticks": ""
             }
            },
            "type": "scatterpolargl"
           }
          ],
          "scatterpolar": [
           {
            "marker": {
             "colorbar": {
              "outlinewidth": 0,
              "ticks": ""
             }
            },
            "type": "scatterpolar"
           }
          ],
          "scatter": [
           {
            "marker": {
             "line": {
              "color": "#283442"
             }
            },
            "type": "scatter"
           }
          ],
          "scatterternary": [
           {
            "marker": {
             "colorbar": {
              "outlinewidth": 0,
              "ticks": ""
             }
            },
            "type": "scatterternary"
           }
          ],
          "surface": [
           {
            "colorbar": {
             "outlinewidth": 0,
             "ticks": ""
            },
            "colorscale": [
             [
              0.0,
              "#0d0887"
             ],
             [
              0.1111111111111111,
              "#46039f"
             ],
             [
              0.2222222222222222,
              "#7201a8"
             ],
             [
              0.3333333333333333,
              "#9c179e"
             ],
             [
              0.4444444444444444,
              "#bd3786"
             ],
             [
              0.5555555555555556,
              "#d8576b"
             ],
             [
              0.6666666666666666,
              "#ed7953"
             ],
             [
              0.7777777777777778,
              "#fb9f3a"
             ],
             [
              0.8888888888888888,
              "#fdca26"
             ],
             [
              1.0,
              "#f0f921"
             ]
            ],
            "type": "surface"
           }
          ],
          "table": [
           {
            "cells": {
             "fill": {
              "color": "#506784"
             },
             "line": {
              "color": "rgb(17,17,17)"
             }
            },
            "header": {
             "fill": {
              "color": "#2a3f5f"
             },
             "line": {
              "color": "rgb(17,17,17)"
             }
            },
            "type": "table"
           }
          ]
         },
         "layout": {
          "annotationdefaults": {
           "arrowcolor": "#f2f5fa",
           "arrowhead": 0,
           "arrowwidth": 1
          },
          "autotypenumbers": "strict",
          "coloraxis": {
           "colorbar": {
            "outlinewidth": 0,
            "ticks": ""
           }
          },
          "colorscale": {
           "diverging": [
            [
             0,
             "#8e0152"
            ],
            [
             0.1,
             "#c51b7d"
            ],
            [
             0.2,
             "#de77ae"
            ],
            [
             0.3,
             "#f1b6da"
            ],
            [
             0.4,
             "#fde0ef"
            ],
            [
             0.5,
             "#f7f7f7"
            ],
            [
             0.6,
             "#e6f5d0"
            ],
            [
             0.7,
             "#b8e186"
            ],
            [
             0.8,
             "#7fbc41"
            ],
            [
             0.9,
             "#4d9221"
            ],
            [
             1,
             "#276419"
            ]
           ],
           "sequential": [
            [
             0.0,
             "#0d0887"
            ],
            [
             0.1111111111111111,
             "#46039f"
            ],
            [
             0.2222222222222222,
             "#7201a8"
            ],
            [
             0.3333333333333333,
             "#9c179e"
            ],
            [
             0.4444444444444444,
             "#bd3786"
            ],
            [
             0.5555555555555556,
             "#d8576b"
            ],
            [
             0.6666666666666666,
             "#ed7953"
            ],
            [
             0.7777777777777778,
             "#fb9f3a"
            ],
            [
             0.8888888888888888,
             "#fdca26"
            ],
            [
             1.0,
             "#f0f921"
            ]
           ],
           "sequentialminus": [
            [
             0.0,
             "#0d0887"
            ],
            [
             0.1111111111111111,
             "#46039f"
            ],
            [
             0.2222222222222222,
             "#7201a8"
            ],
            [
             0.3333333333333333,
             "#9c179e"
            ],
            [
             0.4444444444444444,
             "#bd3786"
            ],
            [
             0.5555555555555556,
             "#d8576b"
            ],
            [
             0.6666666666666666,
             "#ed7953"
            ],
            [
             0.7777777777777778,
             "#fb9f3a"
            ],
            [
             0.8888888888888888,
             "#fdca26"
            ],
            [
             1.0,
             "#f0f921"
            ]
           ]
          },
          "colorway": [
           "#636efa",
           "#EF553B",
           "#00cc96",
           "#ab63fa",
           "#FFA15A",
           "#19d3f3",
           "#FF6692",
           "#B6E880",
           "#FF97FF",
           "#FECB52"
          ],
          "font": {
           "color": "#f2f5fa"
          },
          "geo": {
           "bgcolor": "rgb(17,17,17)",
           "lakecolor": "rgb(17,17,17)",
           "landcolor": "rgb(17,17,17)",
           "showlakes": true,
           "showland": true,
           "subunitcolor": "#506784"
          },
          "hoverlabel": {
           "align": "left"
          },
          "hovermode": "closest",
          "mapbox": {
           "style": "dark"
          },
          "paper_bgcolor": "rgb(17,17,17)",
          "plot_bgcolor": "rgb(17,17,17)",
          "polar": {
           "angularaxis": {
            "gridcolor": "#506784",
            "linecolor": "#506784",
            "ticks": ""
           },
           "bgcolor": "rgb(17,17,17)",
           "radialaxis": {
            "gridcolor": "#506784",
            "linecolor": "#506784",
            "ticks": ""
           }
          },
          "scene": {
           "xaxis": {
            "backgroundcolor": "rgb(17,17,17)",
            "gridcolor": "#506784",
            "gridwidth": 2,
            "linecolor": "#506784",
            "showbackground": true,
            "ticks": "",
            "zerolinecolor": "#C8D4E3"
           },
           "yaxis": {
            "backgroundcolor": "rgb(17,17,17)",
            "gridcolor": "#506784",
            "gridwidth": 2,
            "linecolor": "#506784",
            "showbackground": true,
            "ticks": "",
            "zerolinecolor": "#C8D4E3"
           },
           "zaxis": {
            "backgroundcolor": "rgb(17,17,17)",
            "gridcolor": "#506784",
            "gridwidth": 2,
            "linecolor": "#506784",
            "showbackground": true,
            "ticks": "",
            "zerolinecolor": "#C8D4E3"
           }
          },
          "shapedefaults": {
           "line": {
            "color": "#f2f5fa"
           }
          },
          "sliderdefaults": {
           "bgcolor": "#C8D4E3",
           "bordercolor": "rgb(17,17,17)",
           "borderwidth": 1,
           "tickwidth": 0
          },
          "ternary": {
           "aaxis": {
            "gridcolor": "#506784",
            "linecolor": "#506784",
            "ticks": ""
           },
           "baxis": {
            "gridcolor": "#506784",
            "linecolor": "#506784",
            "ticks": ""
           },
           "bgcolor": "rgb(17,17,17)",
           "caxis": {
            "gridcolor": "#506784",
            "linecolor": "#506784",
            "ticks": ""
           }
          },
          "title": {
           "x": 0.05
          },
          "updatemenudefaults": {
           "bgcolor": "#506784",
           "borderwidth": 0
          },
          "xaxis": {
           "automargin": true,
           "gridcolor": "#283442",
           "linecolor": "#506784",
           "ticks": "",
           "title": {
            "standoff": 15
           },
           "zerolinecolor": "#283442",
           "zerolinewidth": 2
          },
          "yaxis": {
           "automargin": true,
           "gridcolor": "#283442",
           "linecolor": "#506784",
           "ticks": "",
           "title": {
            "standoff": 15
           },
           "zerolinecolor": "#283442",
           "zerolinewidth": 2
          }
         }
        }
       },
       "config": {
        "showLink": false,
        "linkText": "Export to plot.ly",
        "plotlyServerURL": "https://plot.ly"
       }
      },
      "text/html": "<div>                            <div id=\"67057e5e-13b3-499e-b870-415f81c5860d\" class=\"plotly-graph-div\" style=\"height:525px; width:100%;\"></div>            <script type=\"text/javascript\">                require([\"plotly\"], function(Plotly) {                    window.PLOTLYENV=window.PLOTLYENV || {};                                    if (document.getElementById(\"67057e5e-13b3-499e-b870-415f81c5860d\")) {                    Plotly.newPlot(                        \"67057e5e-13b3-499e-b870-415f81c5860d\",                        [{\"mode\":\"lines\",\"name\":\"fut\",\"x\":[80000.0,82000.0,84000.0,85000.0,86000.0,88000.0,90000.0,92000.0,94000.0,95000.0,96000.0,98000.0,100000.0],\"y\":[-7729.699999999997,-5727.740000000005,-3729.699999999997,-2729.699999999997,-1729.699999999997,270.3000000000029,2270.300000000003,4270.300000000003,6270.300000000003,7270.300000000003,8270.300000000003,10270.300000000003,12270.300000000003],\"type\":\"scatter\"},{\"mode\":\"lines\",\"name\":\"call atm 88000.0\",\"x\":[80000.0,82000.0,84000.0,85000.0,86000.0,88000.0,90000.0,92000.0,94000.0,95000.0,96000.0,98000.0,100000.0],\"y\":[-4853.424495,-4853.424495,-4853.424495,-4853.424495,-4853.424495,-4853.424495,-2853.424495,-853.4244950000002,1146.5755049999998,2146.575505,3146.575505,5146.575505,7146.575505],\"type\":\"scatter\"},{\"mode\":\"lines\",\"name\":\"call 92000.0\",\"x\":[80000.0,82000.0,84000.0,85000.0,86000.0,88000.0,90000.0,92000.0,94000.0,95000.0,96000.0,98000.0,100000.0],\"y\":[-3366.789965,-3366.789965,-3366.789965,-3366.789965,-3366.789965,-3366.789965,-3366.789965,-3366.789965,-1366.789965,-366.78996499999994,633.2100350000001,2633.210035,4633.210035],\"type\":\"scatter\"},{\"mode\":\"lines\",\"name\":\"call premium 92000.0\",\"x\":[80000.0,82000.0,84000.0,85000.0,86000.0,88000.0,90000.0,92000.0,94000.0,95000.0,96000.0,98000.0,100000.0],\"y\":[-3366.789965,-3366.789965,-3366.789965,-3366.789965,-3366.789965,-2513.3654699999997,-1081.7845550000002,0.0,1431.5809150000023,1950.6109199999955,2994.335465,4382.191834999994,6032.395475000001],\"type\":\"scatter\"}],                        {\"template\":{\"data\":{\"barpolar\":[{\"marker\":{\"line\":{\"color\":\"rgb(17,17,17)\",\"width\":0.5},\"pattern\":{\"fillmode\":\"overlay\",\"size\":10,\"solidity\":0.2}},\"type\":\"barpolar\"}],\"bar\":[{\"error_x\":{\"color\":\"#f2f5fa\"},\"error_y\":{\"color\":\"#f2f5fa\"},\"marker\":{\"line\":{\"color\":\"rgb(17,17,17)\",\"width\":0.5},\"pattern\":{\"fillmode\":\"overlay\",\"size\":10,\"solidity\":0.2}},\"type\":\"bar\"}],\"carpet\":[{\"aaxis\":{\"endlinecolor\":\"#A2B1C6\",\"gridcolor\":\"#506784\",\"linecolor\":\"#506784\",\"minorgridcolor\":\"#506784\",\"startlinecolor\":\"#A2B1C6\"},\"baxis\":{\"endlinecolor\":\"#A2B1C6\",\"gridcolor\":\"#506784\",\"linecolor\":\"#506784\",\"minorgridcolor\":\"#506784\",\"startlinecolor\":\"#A2B1C6\"},\"type\":\"carpet\"}],\"choropleth\":[{\"colorbar\":{\"outlinewidth\":0,\"ticks\":\"\"},\"type\":\"choropleth\"}],\"contourcarpet\":[{\"colorbar\":{\"outlinewidth\":0,\"ticks\":\"\"},\"type\":\"contourcarpet\"}],\"contour\":[{\"colorbar\":{\"outlinewidth\":0,\"ticks\":\"\"},\"colorscale\":[[0.0,\"#0d0887\"],[0.1111111111111111,\"#46039f\"],[0.2222222222222222,\"#7201a8\"],[0.3333333333333333,\"#9c179e\"],[0.4444444444444444,\"#bd3786\"],[0.5555555555555556,\"#d8576b\"],[0.6666666666666666,\"#ed7953\"],[0.7777777777777778,\"#fb9f3a\"],[0.8888888888888888,\"#fdca26\"],[1.0,\"#f0f921\"]],\"type\":\"contour\"}],\"heatmapgl\":[{\"colorbar\":{\"outlinewidth\":0,\"ticks\":\"\"},\"colorscale\":[[0.0,\"#0d0887\"],[0.1111111111111111,\"#46039f\"],[0.2222222222222222,\"#7201a8\"],[0.3333333333333333,\"#9c179e\"],[0.4444444444444444,\"#bd3786\"],[0.5555555555555556,\"#d8576b\"],[0.6666666666666666,\"#ed7953\"],[0.7777777777777778,\"#fb9f3a\"],[0.8888888888888888,\"#fdca26\"],[1.0,\"#f0f921\"]],\"type\":\"heatmapgl\"}],\"heatmap\":[{\"colorbar\":{\"outlinewidth\":0,\"ticks\":\"\"},\"colorscale\":[[0.0,\"#0d0887\"],[0.1111111111111111,\"#46039f\"],[0.2222222222222222,\"#7201a8\"],[0.3333333333333333,\"#9c179e\"],[0.4444444444444444,\"#bd3786\"],[0.5555555555555556,\"#d8576b\"],[0.6666666666666666,\"#ed7953\"],[0.7777777777777778,\"#fb9f3a\"],[0.8888888888888888,\"#fdca26\"],[1.0,\"#f0f921\"]],\"type\":\"heatmap\"}],\"histogram2dcontour\":[{\"colorbar\":{\"outlinewidth\":0,\"ticks\":\"\"},\"colorscale\":[[0.0,\"#0d0887\"],[0.1111111111111111,\"#46039f\"],[0.2222222222222222,\"#7201a8\"],[0.3333333333333333,\"#9c179e\"],[0.4444444444444444,\"#bd3786\"],[0.5555555555555556,\"#d8576b\"],[0.6666666666666666,\"#ed7953\"],[0.7777777777777778,\"#fb9f3a\"],[0.8888888888888888,\"#fdca26\"],[1.0,\"#f0f921\"]],\"type\":\"histogram2dcontour\"}],\"histogram2d\":[{\"colorbar\":{\"outlinewidth\":0,\"ticks\":\"\"},\"colorscale\":[[0.0,\"#0d0887\"],[0.1111111111111111,\"#46039f\"],[0.2222222222222222,\"#7201a8\"],[0.3333333333333333,\"#9c179e\"],[0.4444444444444444,\"#bd3786\"],[0.5555555555555556,\"#d8576b\"],[0.6666666666666666,\"#ed7953\"],[0.7777777777777778,\"#fb9f3a\"],[0.8888888888888888,\"#fdca26\"],[1.0,\"#f0f921\"]],\"type\":\"histogram2d\"}],\"histogram\":[{\"marker\":{\"pattern\":{\"fillmode\":\"overlay\",\"size\":10,\"solidity\":0.2}},\"type\":\"histogram\"}],\"mesh3d\":[{\"colorbar\":{\"outlinewidth\":0,\"ticks\":\"\"},\"type\":\"mesh3d\"}],\"parcoords\":[{\"line\":{\"colorbar\":{\"outlinewidth\":0,\"ticks\":\"\"}},\"type\":\"parcoords\"}],\"pie\":[{\"automargin\":true,\"type\":\"pie\"}],\"scatter3d\":[{\"line\":{\"colorbar\":{\"outlinewidth\":0,\"ticks\":\"\"}},\"marker\":{\"colorbar\":{\"outlinewidth\":0,\"ticks\":\"\"}},\"type\":\"scatter3d\"}],\"scattercarpet\":[{\"marker\":{\"colorbar\":{\"outlinewidth\":0,\"ticks\":\"\"}},\"type\":\"scattercarpet\"}],\"scattergeo\":[{\"marker\":{\"colorbar\":{\"outlinewidth\":0,\"ticks\":\"\"}},\"type\":\"scattergeo\"}],\"scattergl\":[{\"marker\":{\"line\":{\"color\":\"#283442\"}},\"type\":\"scattergl\"}],\"scattermapbox\":[{\"marker\":{\"colorbar\":{\"outlinewidth\":0,\"ticks\":\"\"}},\"type\":\"scattermapbox\"}],\"scatterpolargl\":[{\"marker\":{\"colorbar\":{\"outlinewidth\":0,\"ticks\":\"\"}},\"type\":\"scatterpolargl\"}],\"scatterpolar\":[{\"marker\":{\"colorbar\":{\"outlinewidth\":0,\"ticks\":\"\"}},\"type\":\"scatterpolar\"}],\"scatter\":[{\"marker\":{\"line\":{\"color\":\"#283442\"}},\"type\":\"scatter\"}],\"scatterternary\":[{\"marker\":{\"colorbar\":{\"outlinewidth\":0,\"ticks\":\"\"}},\"type\":\"scatterternary\"}],\"surface\":[{\"colorbar\":{\"outlinewidth\":0,\"ticks\":\"\"},\"colorscale\":[[0.0,\"#0d0887\"],[0.1111111111111111,\"#46039f\"],[0.2222222222222222,\"#7201a8\"],[0.3333333333333333,\"#9c179e\"],[0.4444444444444444,\"#bd3786\"],[0.5555555555555556,\"#d8576b\"],[0.6666666666666666,\"#ed7953\"],[0.7777777777777778,\"#fb9f3a\"],[0.8888888888888888,\"#fdca26\"],[1.0,\"#f0f921\"]],\"type\":\"surface\"}],\"table\":[{\"cells\":{\"fill\":{\"color\":\"#506784\"},\"line\":{\"color\":\"rgb(17,17,17)\"}},\"header\":{\"fill\":{\"color\":\"#2a3f5f\"},\"line\":{\"color\":\"rgb(17,17,17)\"}},\"type\":\"table\"}]},\"layout\":{\"annotationdefaults\":{\"arrowcolor\":\"#f2f5fa\",\"arrowhead\":0,\"arrowwidth\":1},\"autotypenumbers\":\"strict\",\"coloraxis\":{\"colorbar\":{\"outlinewidth\":0,\"ticks\":\"\"}},\"colorscale\":{\"diverging\":[[0,\"#8e0152\"],[0.1,\"#c51b7d\"],[0.2,\"#de77ae\"],[0.3,\"#f1b6da\"],[0.4,\"#fde0ef\"],[0.5,\"#f7f7f7\"],[0.6,\"#e6f5d0\"],[0.7,\"#b8e186\"],[0.8,\"#7fbc41\"],[0.9,\"#4d9221\"],[1,\"#276419\"]],\"sequential\":[[0.0,\"#0d0887\"],[0.1111111111111111,\"#46039f\"],[0.2222222222222222,\"#7201a8\"],[0.3333333333333333,\"#9c179e\"],[0.4444444444444444,\"#bd3786\"],[0.5555555555555556,\"#d8576b\"],[0.6666666666666666,\"#ed7953\"],[0.7777777777777778,\"#fb9f3a\"],[0.8888888888888888,\"#fdca26\"],[1.0,\"#f0f921\"]],\"sequentialminus\":[[0.0,\"#0d0887\"],[0.1111111111111111,\"#46039f\"],[0.2222222222222222,\"#7201a8\"],[0.3333333333333333,\"#9c179e\"],[0.4444444444444444,\"#bd3786\"],[0.5555555555555556,\"#d8576b\"],[0.6666666666666666,\"#ed7953\"],[0.7777777777777778,\"#fb9f3a\"],[0.8888888888888888,\"#fdca26\"],[1.0,\"#f0f921\"]]},\"colorway\":[\"#636efa\",\"#EF553B\",\"#00cc96\",\"#ab63fa\",\"#FFA15A\",\"#19d3f3\",\"#FF6692\",\"#B6E880\",\"#FF97FF\",\"#FECB52\"],\"font\":{\"color\":\"#f2f5fa\"},\"geo\":{\"bgcolor\":\"rgb(17,17,17)\",\"lakecolor\":\"rgb(17,17,17)\",\"landcolor\":\"rgb(17,17,17)\",\"showlakes\":true,\"showland\":true,\"subunitcolor\":\"#506784\"},\"hoverlabel\":{\"align\":\"left\"},\"hovermode\":\"closest\",\"mapbox\":{\"style\":\"dark\"},\"paper_bgcolor\":\"rgb(17,17,17)\",\"plot_bgcolor\":\"rgb(17,17,17)\",\"polar\":{\"angularaxis\":{\"gridcolor\":\"#506784\",\"linecolor\":\"#506784\",\"ticks\":\"\"},\"bgcolor\":\"rgb(17,17,17)\",\"radialaxis\":{\"gridcolor\":\"#506784\",\"linecolor\":\"#506784\",\"ticks\":\"\"}},\"scene\":{\"xaxis\":{\"backgroundcolor\":\"rgb(17,17,17)\",\"gridcolor\":\"#506784\",\"gridwidth\":2,\"linecolor\":\"#506784\",\"showbackground\":true,\"ticks\":\"\",\"zerolinecolor\":\"#C8D4E3\"},\"yaxis\":{\"backgroundcolor\":\"rgb(17,17,17)\",\"gridcolor\":\"#506784\",\"gridwidth\":2,\"linecolor\":\"#506784\",\"showbackground\":true,\"ticks\":\"\",\"zerolinecolor\":\"#C8D4E3\"},\"zaxis\":{\"backgroundcolor\":\"rgb(17,17,17)\",\"gridcolor\":\"#506784\",\"gridwidth\":2,\"linecolor\":\"#506784\",\"showbackground\":true,\"ticks\":\"\",\"zerolinecolor\":\"#C8D4E3\"}},\"shapedefaults\":{\"line\":{\"color\":\"#f2f5fa\"}},\"sliderdefaults\":{\"bgcolor\":\"#C8D4E3\",\"bordercolor\":\"rgb(17,17,17)\",\"borderwidth\":1,\"tickwidth\":0},\"ternary\":{\"aaxis\":{\"gridcolor\":\"#506784\",\"linecolor\":\"#506784\",\"ticks\":\"\"},\"baxis\":{\"gridcolor\":\"#506784\",\"linecolor\":\"#506784\",\"ticks\":\"\"},\"bgcolor\":\"rgb(17,17,17)\",\"caxis\":{\"gridcolor\":\"#506784\",\"linecolor\":\"#506784\",\"ticks\":\"\"}},\"title\":{\"x\":0.05},\"updatemenudefaults\":{\"bgcolor\":\"#506784\",\"borderwidth\":0},\"xaxis\":{\"automargin\":true,\"gridcolor\":\"#283442\",\"linecolor\":\"#506784\",\"ticks\":\"\",\"title\":{\"standoff\":15},\"zerolinecolor\":\"#283442\",\"zerolinewidth\":2},\"yaxis\":{\"automargin\":true,\"gridcolor\":\"#283442\",\"linecolor\":\"#506784\",\"ticks\":\"\",\"title\":{\"standoff\":15},\"zerolinecolor\":\"#283442\",\"zerolinewidth\":2}}}},                        {\"responsive\": true}                    ).then(function(){\n                            \nvar gd = document.getElementById('67057e5e-13b3-499e-b870-415f81c5860d');\nvar x = new MutationObserver(function (mutations, observer) {{\n        var display = window.getComputedStyle(gd).display;\n        if (!display || display === 'none') {{\n            console.log([gd, 'removed!']);\n            Plotly.purge(gd);\n            observer.disconnect();\n        }}\n}});\n\n// Listen for the removal of the full notebook cells\nvar notebookContainer = gd.closest('#notebook-container');\nif (notebookContainer) {{\n    x.observe(notebookContainer, {childList: true});\n}}\n\n// Listen for the clearing of the current output cell\nvar outputEl = gd.closest('.output');\nif (outputEl) {{\n    x.observe(outputEl, {childList: true});\n}}\n\n                        })                };                });            </script>        </div>"
     },
     "metadata": {},
     "output_type": "display_data"
    }
   ],
   "source": [
    "fut_view = fut_risk_profile[\n",
    "    (fut_risk_profile['strike'] > strike_start) & (fut_risk_profile['strike'] < strike_end)]\n",
    "call_view_1 = call_risk_profile[\n",
    "    (call_risk_profile['strike'] > strike_start) & (call_risk_profile['strike'] < strike_end)]\n",
    "call_view_2 = call_risk_profile_1[\n",
    "    (call_risk_profile_1['strike'] > strike_start) & (call_risk_profile_1['strike'] < strike_end)]\n",
    "data = [\n",
    "    go.Scatter(x=fut_view['strike'], y=fut_view['risk_pnl'].to_list(), mode='lines', name='fut'),\n",
    "\n",
    "    go.Scatter(x=call_view_1['strike'], y=call_view_1['risk_pnl'].to_list(), mode='lines',\n",
    "               name=f'call atm {call_legs[0].strike}'),\n",
    "    go.Scatter(x=call_view_2['strike'], y=call_view_2['risk_pnl'], mode='lines',\n",
    "               name=f'call {call_legs_1[0].strike}'),\n",
    "    go.Scatter(x=call_view_2['strike'], y=call_view_2['risk_pnl_premium'], mode='lines',\n",
    "               name=f'call premium {call_legs_1[0].strike}')\n",
    "]  # markers, lines\n",
    "iplot(data)"
   ]
  },
  {
   "cell_type": "code",
   "execution_count": 24,
   "outputs": [
    {
     "data": {
      "text/plain": "      strike     risk_pnl  risk_pnl_premium\n0    20000.0  62490.70733      62499.452239\n1    30000.0  52490.70733      52508.197148\n2    40000.0  42490.70733      42560.666602\n3    45000.0  37490.70733      37586.901329\n4    50000.0  32490.70733      32639.370783\n..       ...          ...               ...\n43  180000.0  -5509.29267      -5509.292670\n44  200000.0  -5509.29267      -5509.292670\n45  220000.0  -5509.29267      -5509.292670\n46  250000.0  -5509.29267      -5509.292670\n47  300000.0  -5509.29267      -5509.292670\n\n[48 rows x 3 columns]",
      "text/html": "<div>\n<style scoped>\n    .dataframe tbody tr th:only-of-type {\n        vertical-align: middle;\n    }\n\n    .dataframe tbody tr th {\n        vertical-align: top;\n    }\n\n    .dataframe thead th {\n        text-align: right;\n    }\n</style>\n<table border=\"1\" class=\"dataframe\">\n  <thead>\n    <tr style=\"text-align: right;\">\n      <th></th>\n      <th>strike</th>\n      <th>risk_pnl</th>\n      <th>risk_pnl_premium</th>\n    </tr>\n  </thead>\n  <tbody>\n    <tr>\n      <th>0</th>\n      <td>20000.0</td>\n      <td>62490.70733</td>\n      <td>62499.452239</td>\n    </tr>\n    <tr>\n      <th>1</th>\n      <td>30000.0</td>\n      <td>52490.70733</td>\n      <td>52508.197148</td>\n    </tr>\n    <tr>\n      <th>2</th>\n      <td>40000.0</td>\n      <td>42490.70733</td>\n      <td>42560.666602</td>\n    </tr>\n    <tr>\n      <th>3</th>\n      <td>45000.0</td>\n      <td>37490.70733</td>\n      <td>37586.901329</td>\n    </tr>\n    <tr>\n      <th>4</th>\n      <td>50000.0</td>\n      <td>32490.70733</td>\n      <td>32639.370783</td>\n    </tr>\n    <tr>\n      <th>...</th>\n      <td>...</td>\n      <td>...</td>\n      <td>...</td>\n    </tr>\n    <tr>\n      <th>43</th>\n      <td>180000.0</td>\n      <td>-5509.29267</td>\n      <td>-5509.292670</td>\n    </tr>\n    <tr>\n      <th>44</th>\n      <td>200000.0</td>\n      <td>-5509.29267</td>\n      <td>-5509.292670</td>\n    </tr>\n    <tr>\n      <th>45</th>\n      <td>220000.0</td>\n      <td>-5509.29267</td>\n      <td>-5509.292670</td>\n    </tr>\n    <tr>\n      <th>46</th>\n      <td>250000.0</td>\n      <td>-5509.29267</td>\n      <td>-5509.292670</td>\n    </tr>\n    <tr>\n      <th>47</th>\n      <td>300000.0</td>\n      <td>-5509.29267</td>\n      <td>-5509.292670</td>\n    </tr>\n  </tbody>\n</table>\n<p>48 rows × 3 columns</p>\n</div>"
     },
     "execution_count": 24,
     "metadata": {},
     "output_type": "execute_result"
    }
   ],
   "source": [
    "short_long_legs = [OptionLeg(strike=atm_strike, lots=1, type=LegType.OPTION_PUT)]\n",
    "put_atm_risk_profile, put_atm_risk_legs_pnl = btc.analytic.risk.chain_risk_profile(short_long_legs)\n",
    "put_atm_risk_profile"
   ],
   "metadata": {
    "collapsed": false
   }
  },
  {
   "cell_type": "markdown",
   "source": [
    "Non-linearity of profit. We make more profit at the turning point than at futures по премии."
   ],
   "metadata": {
    "collapsed": false
   }
  },
  {
   "cell_type": "code",
   "execution_count": 25,
   "outputs": [
    {
     "data": {
      "application/vnd.plotly.v1+json": {
       "data": [
        {
         "mode": "lines",
         "name": "fut",
         "x": [
          80000.0,
          82000.0,
          84000.0,
          85000.0,
          86000.0,
          88000.0,
          90000.0,
          92000.0,
          94000.0,
          95000.0,
          96000.0,
          98000.0,
          100000.0
         ],
         "y": [
          -7729.699999999997,
          -5727.740000000005,
          -3729.699999999997,
          -2729.699999999997,
          -1729.699999999997,
          270.3000000000029,
          2270.300000000003,
          4270.300000000003,
          6270.300000000003,
          7270.300000000003,
          8270.300000000003,
          10270.300000000003,
          12270.300000000003
         ],
         "type": "scatter"
        },
        {
         "mode": "lines",
         "name": "call atm 88000.0",
         "x": [
          80000.0,
          82000.0,
          84000.0,
          85000.0,
          86000.0,
          88000.0,
          90000.0,
          92000.0,
          94000.0,
          95000.0,
          96000.0,
          98000.0,
          100000.0
         ],
         "y": [
          2490.70733,
          490.7073300000002,
          -1509.2926699999998,
          -2509.29267,
          -3509.29267,
          -5509.29267,
          -5509.29267,
          -5509.29267,
          -5509.29267,
          -5509.29267,
          -5509.29267,
          -5509.29267,
          -5509.29267
         ],
         "type": "scatter"
        },
        {
         "mode": "lines",
         "name": "call atm premium 88000.0",
         "x": [
          80000.0,
          82000.0,
          84000.0,
          85000.0,
          86000.0,
          88000.0,
          90000.0,
          92000.0,
          94000.0,
          95000.0,
          96000.0,
          98000.0,
          100000.0
         ],
         "y": [
          4851.83276,
          3638.874569999999,
          2382.1918349999996,
          1600.8145599999998,
          1256.6827350000003,
          0.0,
          -425.91637999999966,
          -1988.6709300000011,
          -3332.8027550000006,
          433.1726499999995,
          1225.878995,
          450.1662549999992,
          -3692.33645
         ],
         "type": "scatter"
        }
       ],
       "layout": {
        "template": {
         "data": {
          "barpolar": [
           {
            "marker": {
             "line": {
              "color": "rgb(17,17,17)",
              "width": 0.5
             },
             "pattern": {
              "fillmode": "overlay",
              "size": 10,
              "solidity": 0.2
             }
            },
            "type": "barpolar"
           }
          ],
          "bar": [
           {
            "error_x": {
             "color": "#f2f5fa"
            },
            "error_y": {
             "color": "#f2f5fa"
            },
            "marker": {
             "line": {
              "color": "rgb(17,17,17)",
              "width": 0.5
             },
             "pattern": {
              "fillmode": "overlay",
              "size": 10,
              "solidity": 0.2
             }
            },
            "type": "bar"
           }
          ],
          "carpet": [
           {
            "aaxis": {
             "endlinecolor": "#A2B1C6",
             "gridcolor": "#506784",
             "linecolor": "#506784",
             "minorgridcolor": "#506784",
             "startlinecolor": "#A2B1C6"
            },
            "baxis": {
             "endlinecolor": "#A2B1C6",
             "gridcolor": "#506784",
             "linecolor": "#506784",
             "minorgridcolor": "#506784",
             "startlinecolor": "#A2B1C6"
            },
            "type": "carpet"
           }
          ],
          "choropleth": [
           {
            "colorbar": {
             "outlinewidth": 0,
             "ticks": ""
            },
            "type": "choropleth"
           }
          ],
          "contourcarpet": [
           {
            "colorbar": {
             "outlinewidth": 0,
             "ticks": ""
            },
            "type": "contourcarpet"
           }
          ],
          "contour": [
           {
            "colorbar": {
             "outlinewidth": 0,
             "ticks": ""
            },
            "colorscale": [
             [
              0.0,
              "#0d0887"
             ],
             [
              0.1111111111111111,
              "#46039f"
             ],
             [
              0.2222222222222222,
              "#7201a8"
             ],
             [
              0.3333333333333333,
              "#9c179e"
             ],
             [
              0.4444444444444444,
              "#bd3786"
             ],
             [
              0.5555555555555556,
              "#d8576b"
             ],
             [
              0.6666666666666666,
              "#ed7953"
             ],
             [
              0.7777777777777778,
              "#fb9f3a"
             ],
             [
              0.8888888888888888,
              "#fdca26"
             ],
             [
              1.0,
              "#f0f921"
             ]
            ],
            "type": "contour"
           }
          ],
          "heatmapgl": [
           {
            "colorbar": {
             "outlinewidth": 0,
             "ticks": ""
            },
            "colorscale": [
             [
              0.0,
              "#0d0887"
             ],
             [
              0.1111111111111111,
              "#46039f"
             ],
             [
              0.2222222222222222,
              "#7201a8"
             ],
             [
              0.3333333333333333,
              "#9c179e"
             ],
             [
              0.4444444444444444,
              "#bd3786"
             ],
             [
              0.5555555555555556,
              "#d8576b"
             ],
             [
              0.6666666666666666,
              "#ed7953"
             ],
             [
              0.7777777777777778,
              "#fb9f3a"
             ],
             [
              0.8888888888888888,
              "#fdca26"
             ],
             [
              1.0,
              "#f0f921"
             ]
            ],
            "type": "heatmapgl"
           }
          ],
          "heatmap": [
           {
            "colorbar": {
             "outlinewidth": 0,
             "ticks": ""
            },
            "colorscale": [
             [
              0.0,
              "#0d0887"
             ],
             [
              0.1111111111111111,
              "#46039f"
             ],
             [
              0.2222222222222222,
              "#7201a8"
             ],
             [
              0.3333333333333333,
              "#9c179e"
             ],
             [
              0.4444444444444444,
              "#bd3786"
             ],
             [
              0.5555555555555556,
              "#d8576b"
             ],
             [
              0.6666666666666666,
              "#ed7953"
             ],
             [
              0.7777777777777778,
              "#fb9f3a"
             ],
             [
              0.8888888888888888,
              "#fdca26"
             ],
             [
              1.0,
              "#f0f921"
             ]
            ],
            "type": "heatmap"
           }
          ],
          "histogram2dcontour": [
           {
            "colorbar": {
             "outlinewidth": 0,
             "ticks": ""
            },
            "colorscale": [
             [
              0.0,
              "#0d0887"
             ],
             [
              0.1111111111111111,
              "#46039f"
             ],
             [
              0.2222222222222222,
              "#7201a8"
             ],
             [
              0.3333333333333333,
              "#9c179e"
             ],
             [
              0.4444444444444444,
              "#bd3786"
             ],
             [
              0.5555555555555556,
              "#d8576b"
             ],
             [
              0.6666666666666666,
              "#ed7953"
             ],
             [
              0.7777777777777778,
              "#fb9f3a"
             ],
             [
              0.8888888888888888,
              "#fdca26"
             ],
             [
              1.0,
              "#f0f921"
             ]
            ],
            "type": "histogram2dcontour"
           }
          ],
          "histogram2d": [
           {
            "colorbar": {
             "outlinewidth": 0,
             "ticks": ""
            },
            "colorscale": [
             [
              0.0,
              "#0d0887"
             ],
             [
              0.1111111111111111,
              "#46039f"
             ],
             [
              0.2222222222222222,
              "#7201a8"
             ],
             [
              0.3333333333333333,
              "#9c179e"
             ],
             [
              0.4444444444444444,
              "#bd3786"
             ],
             [
              0.5555555555555556,
              "#d8576b"
             ],
             [
              0.6666666666666666,
              "#ed7953"
             ],
             [
              0.7777777777777778,
              "#fb9f3a"
             ],
             [
              0.8888888888888888,
              "#fdca26"
             ],
             [
              1.0,
              "#f0f921"
             ]
            ],
            "type": "histogram2d"
           }
          ],
          "histogram": [
           {
            "marker": {
             "pattern": {
              "fillmode": "overlay",
              "size": 10,
              "solidity": 0.2
             }
            },
            "type": "histogram"
           }
          ],
          "mesh3d": [
           {
            "colorbar": {
             "outlinewidth": 0,
             "ticks": ""
            },
            "type": "mesh3d"
           }
          ],
          "parcoords": [
           {
            "line": {
             "colorbar": {
              "outlinewidth": 0,
              "ticks": ""
             }
            },
            "type": "parcoords"
           }
          ],
          "pie": [
           {
            "automargin": true,
            "type": "pie"
           }
          ],
          "scatter3d": [
           {
            "line": {
             "colorbar": {
              "outlinewidth": 0,
              "ticks": ""
             }
            },
            "marker": {
             "colorbar": {
              "outlinewidth": 0,
              "ticks": ""
             }
            },
            "type": "scatter3d"
           }
          ],
          "scattercarpet": [
           {
            "marker": {
             "colorbar": {
              "outlinewidth": 0,
              "ticks": ""
             }
            },
            "type": "scattercarpet"
           }
          ],
          "scattergeo": [
           {
            "marker": {
             "colorbar": {
              "outlinewidth": 0,
              "ticks": ""
             }
            },
            "type": "scattergeo"
           }
          ],
          "scattergl": [
           {
            "marker": {
             "line": {
              "color": "#283442"
             }
            },
            "type": "scattergl"
           }
          ],
          "scattermapbox": [
           {
            "marker": {
             "colorbar": {
              "outlinewidth": 0,
              "ticks": ""
             }
            },
            "type": "scattermapbox"
           }
          ],
          "scatterpolargl": [
           {
            "marker": {
             "colorbar": {
              "outlinewidth": 0,
              "ticks": ""
             }
            },
            "type": "scatterpolargl"
           }
          ],
          "scatterpolar": [
           {
            "marker": {
             "colorbar": {
              "outlinewidth": 0,
              "ticks": ""
             }
            },
            "type": "scatterpolar"
           }
          ],
          "scatter": [
           {
            "marker": {
             "line": {
              "color": "#283442"
             }
            },
            "type": "scatter"
           }
          ],
          "scatterternary": [
           {
            "marker": {
             "colorbar": {
              "outlinewidth": 0,
              "ticks": ""
             }
            },
            "type": "scatterternary"
           }
          ],
          "surface": [
           {
            "colorbar": {
             "outlinewidth": 0,
             "ticks": ""
            },
            "colorscale": [
             [
              0.0,
              "#0d0887"
             ],
             [
              0.1111111111111111,
              "#46039f"
             ],
             [
              0.2222222222222222,
              "#7201a8"
             ],
             [
              0.3333333333333333,
              "#9c179e"
             ],
             [
              0.4444444444444444,
              "#bd3786"
             ],
             [
              0.5555555555555556,
              "#d8576b"
             ],
             [
              0.6666666666666666,
              "#ed7953"
             ],
             [
              0.7777777777777778,
              "#fb9f3a"
             ],
             [
              0.8888888888888888,
              "#fdca26"
             ],
             [
              1.0,
              "#f0f921"
             ]
            ],
            "type": "surface"
           }
          ],
          "table": [
           {
            "cells": {
             "fill": {
              "color": "#506784"
             },
             "line": {
              "color": "rgb(17,17,17)"
             }
            },
            "header": {
             "fill": {
              "color": "#2a3f5f"
             },
             "line": {
              "color": "rgb(17,17,17)"
             }
            },
            "type": "table"
           }
          ]
         },
         "layout": {
          "annotationdefaults": {
           "arrowcolor": "#f2f5fa",
           "arrowhead": 0,
           "arrowwidth": 1
          },
          "autotypenumbers": "strict",
          "coloraxis": {
           "colorbar": {
            "outlinewidth": 0,
            "ticks": ""
           }
          },
          "colorscale": {
           "diverging": [
            [
             0,
             "#8e0152"
            ],
            [
             0.1,
             "#c51b7d"
            ],
            [
             0.2,
             "#de77ae"
            ],
            [
             0.3,
             "#f1b6da"
            ],
            [
             0.4,
             "#fde0ef"
            ],
            [
             0.5,
             "#f7f7f7"
            ],
            [
             0.6,
             "#e6f5d0"
            ],
            [
             0.7,
             "#b8e186"
            ],
            [
             0.8,
             "#7fbc41"
            ],
            [
             0.9,
             "#4d9221"
            ],
            [
             1,
             "#276419"
            ]
           ],
           "sequential": [
            [
             0.0,
             "#0d0887"
            ],
            [
             0.1111111111111111,
             "#46039f"
            ],
            [
             0.2222222222222222,
             "#7201a8"
            ],
            [
             0.3333333333333333,
             "#9c179e"
            ],
            [
             0.4444444444444444,
             "#bd3786"
            ],
            [
             0.5555555555555556,
             "#d8576b"
            ],
            [
             0.6666666666666666,
             "#ed7953"
            ],
            [
             0.7777777777777778,
             "#fb9f3a"
            ],
            [
             0.8888888888888888,
             "#fdca26"
            ],
            [
             1.0,
             "#f0f921"
            ]
           ],
           "sequentialminus": [
            [
             0.0,
             "#0d0887"
            ],
            [
             0.1111111111111111,
             "#46039f"
            ],
            [
             0.2222222222222222,
             "#7201a8"
            ],
            [
             0.3333333333333333,
             "#9c179e"
            ],
            [
             0.4444444444444444,
             "#bd3786"
            ],
            [
             0.5555555555555556,
             "#d8576b"
            ],
            [
             0.6666666666666666,
             "#ed7953"
            ],
            [
             0.7777777777777778,
             "#fb9f3a"
            ],
            [
             0.8888888888888888,
             "#fdca26"
            ],
            [
             1.0,
             "#f0f921"
            ]
           ]
          },
          "colorway": [
           "#636efa",
           "#EF553B",
           "#00cc96",
           "#ab63fa",
           "#FFA15A",
           "#19d3f3",
           "#FF6692",
           "#B6E880",
           "#FF97FF",
           "#FECB52"
          ],
          "font": {
           "color": "#f2f5fa"
          },
          "geo": {
           "bgcolor": "rgb(17,17,17)",
           "lakecolor": "rgb(17,17,17)",
           "landcolor": "rgb(17,17,17)",
           "showlakes": true,
           "showland": true,
           "subunitcolor": "#506784"
          },
          "hoverlabel": {
           "align": "left"
          },
          "hovermode": "closest",
          "mapbox": {
           "style": "dark"
          },
          "paper_bgcolor": "rgb(17,17,17)",
          "plot_bgcolor": "rgb(17,17,17)",
          "polar": {
           "angularaxis": {
            "gridcolor": "#506784",
            "linecolor": "#506784",
            "ticks": ""
           },
           "bgcolor": "rgb(17,17,17)",
           "radialaxis": {
            "gridcolor": "#506784",
            "linecolor": "#506784",
            "ticks": ""
           }
          },
          "scene": {
           "xaxis": {
            "backgroundcolor": "rgb(17,17,17)",
            "gridcolor": "#506784",
            "gridwidth": 2,
            "linecolor": "#506784",
            "showbackground": true,
            "ticks": "",
            "zerolinecolor": "#C8D4E3"
           },
           "yaxis": {
            "backgroundcolor": "rgb(17,17,17)",
            "gridcolor": "#506784",
            "gridwidth": 2,
            "linecolor": "#506784",
            "showbackground": true,
            "ticks": "",
            "zerolinecolor": "#C8D4E3"
           },
           "zaxis": {
            "backgroundcolor": "rgb(17,17,17)",
            "gridcolor": "#506784",
            "gridwidth": 2,
            "linecolor": "#506784",
            "showbackground": true,
            "ticks": "",
            "zerolinecolor": "#C8D4E3"
           }
          },
          "shapedefaults": {
           "line": {
            "color": "#f2f5fa"
           }
          },
          "sliderdefaults": {
           "bgcolor": "#C8D4E3",
           "bordercolor": "rgb(17,17,17)",
           "borderwidth": 1,
           "tickwidth": 0
          },
          "ternary": {
           "aaxis": {
            "gridcolor": "#506784",
            "linecolor": "#506784",
            "ticks": ""
           },
           "baxis": {
            "gridcolor": "#506784",
            "linecolor": "#506784",
            "ticks": ""
           },
           "bgcolor": "rgb(17,17,17)",
           "caxis": {
            "gridcolor": "#506784",
            "linecolor": "#506784",
            "ticks": ""
           }
          },
          "title": {
           "x": 0.05
          },
          "updatemenudefaults": {
           "bgcolor": "#506784",
           "borderwidth": 0
          },
          "xaxis": {
           "automargin": true,
           "gridcolor": "#283442",
           "linecolor": "#506784",
           "ticks": "",
           "title": {
            "standoff": 15
           },
           "zerolinecolor": "#283442",
           "zerolinewidth": 2
          },
          "yaxis": {
           "automargin": true,
           "gridcolor": "#283442",
           "linecolor": "#506784",
           "ticks": "",
           "title": {
            "standoff": 15
           },
           "zerolinecolor": "#283442",
           "zerolinewidth": 2
          }
         }
        }
       },
       "config": {
        "showLink": false,
        "linkText": "Export to plot.ly",
        "plotlyServerURL": "https://plot.ly"
       }
      },
      "text/html": "<div>                            <div id=\"306af86b-dadb-4e90-8309-a3a065088b5d\" class=\"plotly-graph-div\" style=\"height:525px; width:100%;\"></div>            <script type=\"text/javascript\">                require([\"plotly\"], function(Plotly) {                    window.PLOTLYENV=window.PLOTLYENV || {};                                    if (document.getElementById(\"306af86b-dadb-4e90-8309-a3a065088b5d\")) {                    Plotly.newPlot(                        \"306af86b-dadb-4e90-8309-a3a065088b5d\",                        [{\"mode\":\"lines\",\"name\":\"fut\",\"x\":[80000.0,82000.0,84000.0,85000.0,86000.0,88000.0,90000.0,92000.0,94000.0,95000.0,96000.0,98000.0,100000.0],\"y\":[-7729.699999999997,-5727.740000000005,-3729.699999999997,-2729.699999999997,-1729.699999999997,270.3000000000029,2270.300000000003,4270.300000000003,6270.300000000003,7270.300000000003,8270.300000000003,10270.300000000003,12270.300000000003],\"type\":\"scatter\"},{\"mode\":\"lines\",\"name\":\"call atm 88000.0\",\"x\":[80000.0,82000.0,84000.0,85000.0,86000.0,88000.0,90000.0,92000.0,94000.0,95000.0,96000.0,98000.0,100000.0],\"y\":[2490.70733,490.7073300000002,-1509.2926699999998,-2509.29267,-3509.29267,-5509.29267,-5509.29267,-5509.29267,-5509.29267,-5509.29267,-5509.29267,-5509.29267,-5509.29267],\"type\":\"scatter\"},{\"mode\":\"lines\",\"name\":\"call atm premium 88000.0\",\"x\":[80000.0,82000.0,84000.0,85000.0,86000.0,88000.0,90000.0,92000.0,94000.0,95000.0,96000.0,98000.0,100000.0],\"y\":[4851.83276,3638.874569999999,2382.1918349999996,1600.8145599999998,1256.6827350000003,0.0,-425.91637999999966,-1988.6709300000011,-3332.8027550000006,433.1726499999995,1225.878995,450.1662549999992,-3692.33645],\"type\":\"scatter\"}],                        {\"template\":{\"data\":{\"barpolar\":[{\"marker\":{\"line\":{\"color\":\"rgb(17,17,17)\",\"width\":0.5},\"pattern\":{\"fillmode\":\"overlay\",\"size\":10,\"solidity\":0.2}},\"type\":\"barpolar\"}],\"bar\":[{\"error_x\":{\"color\":\"#f2f5fa\"},\"error_y\":{\"color\":\"#f2f5fa\"},\"marker\":{\"line\":{\"color\":\"rgb(17,17,17)\",\"width\":0.5},\"pattern\":{\"fillmode\":\"overlay\",\"size\":10,\"solidity\":0.2}},\"type\":\"bar\"}],\"carpet\":[{\"aaxis\":{\"endlinecolor\":\"#A2B1C6\",\"gridcolor\":\"#506784\",\"linecolor\":\"#506784\",\"minorgridcolor\":\"#506784\",\"startlinecolor\":\"#A2B1C6\"},\"baxis\":{\"endlinecolor\":\"#A2B1C6\",\"gridcolor\":\"#506784\",\"linecolor\":\"#506784\",\"minorgridcolor\":\"#506784\",\"startlinecolor\":\"#A2B1C6\"},\"type\":\"carpet\"}],\"choropleth\":[{\"colorbar\":{\"outlinewidth\":0,\"ticks\":\"\"},\"type\":\"choropleth\"}],\"contourcarpet\":[{\"colorbar\":{\"outlinewidth\":0,\"ticks\":\"\"},\"type\":\"contourcarpet\"}],\"contour\":[{\"colorbar\":{\"outlinewidth\":0,\"ticks\":\"\"},\"colorscale\":[[0.0,\"#0d0887\"],[0.1111111111111111,\"#46039f\"],[0.2222222222222222,\"#7201a8\"],[0.3333333333333333,\"#9c179e\"],[0.4444444444444444,\"#bd3786\"],[0.5555555555555556,\"#d8576b\"],[0.6666666666666666,\"#ed7953\"],[0.7777777777777778,\"#fb9f3a\"],[0.8888888888888888,\"#fdca26\"],[1.0,\"#f0f921\"]],\"type\":\"contour\"}],\"heatmapgl\":[{\"colorbar\":{\"outlinewidth\":0,\"ticks\":\"\"},\"colorscale\":[[0.0,\"#0d0887\"],[0.1111111111111111,\"#46039f\"],[0.2222222222222222,\"#7201a8\"],[0.3333333333333333,\"#9c179e\"],[0.4444444444444444,\"#bd3786\"],[0.5555555555555556,\"#d8576b\"],[0.6666666666666666,\"#ed7953\"],[0.7777777777777778,\"#fb9f3a\"],[0.8888888888888888,\"#fdca26\"],[1.0,\"#f0f921\"]],\"type\":\"heatmapgl\"}],\"heatmap\":[{\"colorbar\":{\"outlinewidth\":0,\"ticks\":\"\"},\"colorscale\":[[0.0,\"#0d0887\"],[0.1111111111111111,\"#46039f\"],[0.2222222222222222,\"#7201a8\"],[0.3333333333333333,\"#9c179e\"],[0.4444444444444444,\"#bd3786\"],[0.5555555555555556,\"#d8576b\"],[0.6666666666666666,\"#ed7953\"],[0.7777777777777778,\"#fb9f3a\"],[0.8888888888888888,\"#fdca26\"],[1.0,\"#f0f921\"]],\"type\":\"heatmap\"}],\"histogram2dcontour\":[{\"colorbar\":{\"outlinewidth\":0,\"ticks\":\"\"},\"colorscale\":[[0.0,\"#0d0887\"],[0.1111111111111111,\"#46039f\"],[0.2222222222222222,\"#7201a8\"],[0.3333333333333333,\"#9c179e\"],[0.4444444444444444,\"#bd3786\"],[0.5555555555555556,\"#d8576b\"],[0.6666666666666666,\"#ed7953\"],[0.7777777777777778,\"#fb9f3a\"],[0.8888888888888888,\"#fdca26\"],[1.0,\"#f0f921\"]],\"type\":\"histogram2dcontour\"}],\"histogram2d\":[{\"colorbar\":{\"outlinewidth\":0,\"ticks\":\"\"},\"colorscale\":[[0.0,\"#0d0887\"],[0.1111111111111111,\"#46039f\"],[0.2222222222222222,\"#7201a8\"],[0.3333333333333333,\"#9c179e\"],[0.4444444444444444,\"#bd3786\"],[0.5555555555555556,\"#d8576b\"],[0.6666666666666666,\"#ed7953\"],[0.7777777777777778,\"#fb9f3a\"],[0.8888888888888888,\"#fdca26\"],[1.0,\"#f0f921\"]],\"type\":\"histogram2d\"}],\"histogram\":[{\"marker\":{\"pattern\":{\"fillmode\":\"overlay\",\"size\":10,\"solidity\":0.2}},\"type\":\"histogram\"}],\"mesh3d\":[{\"colorbar\":{\"outlinewidth\":0,\"ticks\":\"\"},\"type\":\"mesh3d\"}],\"parcoords\":[{\"line\":{\"colorbar\":{\"outlinewidth\":0,\"ticks\":\"\"}},\"type\":\"parcoords\"}],\"pie\":[{\"automargin\":true,\"type\":\"pie\"}],\"scatter3d\":[{\"line\":{\"colorbar\":{\"outlinewidth\":0,\"ticks\":\"\"}},\"marker\":{\"colorbar\":{\"outlinewidth\":0,\"ticks\":\"\"}},\"type\":\"scatter3d\"}],\"scattercarpet\":[{\"marker\":{\"colorbar\":{\"outlinewidth\":0,\"ticks\":\"\"}},\"type\":\"scattercarpet\"}],\"scattergeo\":[{\"marker\":{\"colorbar\":{\"outlinewidth\":0,\"ticks\":\"\"}},\"type\":\"scattergeo\"}],\"scattergl\":[{\"marker\":{\"line\":{\"color\":\"#283442\"}},\"type\":\"scattergl\"}],\"scattermapbox\":[{\"marker\":{\"colorbar\":{\"outlinewidth\":0,\"ticks\":\"\"}},\"type\":\"scattermapbox\"}],\"scatterpolargl\":[{\"marker\":{\"colorbar\":{\"outlinewidth\":0,\"ticks\":\"\"}},\"type\":\"scatterpolargl\"}],\"scatterpolar\":[{\"marker\":{\"colorbar\":{\"outlinewidth\":0,\"ticks\":\"\"}},\"type\":\"scatterpolar\"}],\"scatter\":[{\"marker\":{\"line\":{\"color\":\"#283442\"}},\"type\":\"scatter\"}],\"scatterternary\":[{\"marker\":{\"colorbar\":{\"outlinewidth\":0,\"ticks\":\"\"}},\"type\":\"scatterternary\"}],\"surface\":[{\"colorbar\":{\"outlinewidth\":0,\"ticks\":\"\"},\"colorscale\":[[0.0,\"#0d0887\"],[0.1111111111111111,\"#46039f\"],[0.2222222222222222,\"#7201a8\"],[0.3333333333333333,\"#9c179e\"],[0.4444444444444444,\"#bd3786\"],[0.5555555555555556,\"#d8576b\"],[0.6666666666666666,\"#ed7953\"],[0.7777777777777778,\"#fb9f3a\"],[0.8888888888888888,\"#fdca26\"],[1.0,\"#f0f921\"]],\"type\":\"surface\"}],\"table\":[{\"cells\":{\"fill\":{\"color\":\"#506784\"},\"line\":{\"color\":\"rgb(17,17,17)\"}},\"header\":{\"fill\":{\"color\":\"#2a3f5f\"},\"line\":{\"color\":\"rgb(17,17,17)\"}},\"type\":\"table\"}]},\"layout\":{\"annotationdefaults\":{\"arrowcolor\":\"#f2f5fa\",\"arrowhead\":0,\"arrowwidth\":1},\"autotypenumbers\":\"strict\",\"coloraxis\":{\"colorbar\":{\"outlinewidth\":0,\"ticks\":\"\"}},\"colorscale\":{\"diverging\":[[0,\"#8e0152\"],[0.1,\"#c51b7d\"],[0.2,\"#de77ae\"],[0.3,\"#f1b6da\"],[0.4,\"#fde0ef\"],[0.5,\"#f7f7f7\"],[0.6,\"#e6f5d0\"],[0.7,\"#b8e186\"],[0.8,\"#7fbc41\"],[0.9,\"#4d9221\"],[1,\"#276419\"]],\"sequential\":[[0.0,\"#0d0887\"],[0.1111111111111111,\"#46039f\"],[0.2222222222222222,\"#7201a8\"],[0.3333333333333333,\"#9c179e\"],[0.4444444444444444,\"#bd3786\"],[0.5555555555555556,\"#d8576b\"],[0.6666666666666666,\"#ed7953\"],[0.7777777777777778,\"#fb9f3a\"],[0.8888888888888888,\"#fdca26\"],[1.0,\"#f0f921\"]],\"sequentialminus\":[[0.0,\"#0d0887\"],[0.1111111111111111,\"#46039f\"],[0.2222222222222222,\"#7201a8\"],[0.3333333333333333,\"#9c179e\"],[0.4444444444444444,\"#bd3786\"],[0.5555555555555556,\"#d8576b\"],[0.6666666666666666,\"#ed7953\"],[0.7777777777777778,\"#fb9f3a\"],[0.8888888888888888,\"#fdca26\"],[1.0,\"#f0f921\"]]},\"colorway\":[\"#636efa\",\"#EF553B\",\"#00cc96\",\"#ab63fa\",\"#FFA15A\",\"#19d3f3\",\"#FF6692\",\"#B6E880\",\"#FF97FF\",\"#FECB52\"],\"font\":{\"color\":\"#f2f5fa\"},\"geo\":{\"bgcolor\":\"rgb(17,17,17)\",\"lakecolor\":\"rgb(17,17,17)\",\"landcolor\":\"rgb(17,17,17)\",\"showlakes\":true,\"showland\":true,\"subunitcolor\":\"#506784\"},\"hoverlabel\":{\"align\":\"left\"},\"hovermode\":\"closest\",\"mapbox\":{\"style\":\"dark\"},\"paper_bgcolor\":\"rgb(17,17,17)\",\"plot_bgcolor\":\"rgb(17,17,17)\",\"polar\":{\"angularaxis\":{\"gridcolor\":\"#506784\",\"linecolor\":\"#506784\",\"ticks\":\"\"},\"bgcolor\":\"rgb(17,17,17)\",\"radialaxis\":{\"gridcolor\":\"#506784\",\"linecolor\":\"#506784\",\"ticks\":\"\"}},\"scene\":{\"xaxis\":{\"backgroundcolor\":\"rgb(17,17,17)\",\"gridcolor\":\"#506784\",\"gridwidth\":2,\"linecolor\":\"#506784\",\"showbackground\":true,\"ticks\":\"\",\"zerolinecolor\":\"#C8D4E3\"},\"yaxis\":{\"backgroundcolor\":\"rgb(17,17,17)\",\"gridcolor\":\"#506784\",\"gridwidth\":2,\"linecolor\":\"#506784\",\"showbackground\":true,\"ticks\":\"\",\"zerolinecolor\":\"#C8D4E3\"},\"zaxis\":{\"backgroundcolor\":\"rgb(17,17,17)\",\"gridcolor\":\"#506784\",\"gridwidth\":2,\"linecolor\":\"#506784\",\"showbackground\":true,\"ticks\":\"\",\"zerolinecolor\":\"#C8D4E3\"}},\"shapedefaults\":{\"line\":{\"color\":\"#f2f5fa\"}},\"sliderdefaults\":{\"bgcolor\":\"#C8D4E3\",\"bordercolor\":\"rgb(17,17,17)\",\"borderwidth\":1,\"tickwidth\":0},\"ternary\":{\"aaxis\":{\"gridcolor\":\"#506784\",\"linecolor\":\"#506784\",\"ticks\":\"\"},\"baxis\":{\"gridcolor\":\"#506784\",\"linecolor\":\"#506784\",\"ticks\":\"\"},\"bgcolor\":\"rgb(17,17,17)\",\"caxis\":{\"gridcolor\":\"#506784\",\"linecolor\":\"#506784\",\"ticks\":\"\"}},\"title\":{\"x\":0.05},\"updatemenudefaults\":{\"bgcolor\":\"#506784\",\"borderwidth\":0},\"xaxis\":{\"automargin\":true,\"gridcolor\":\"#283442\",\"linecolor\":\"#506784\",\"ticks\":\"\",\"title\":{\"standoff\":15},\"zerolinecolor\":\"#283442\",\"zerolinewidth\":2},\"yaxis\":{\"automargin\":true,\"gridcolor\":\"#283442\",\"linecolor\":\"#506784\",\"ticks\":\"\",\"title\":{\"standoff\":15},\"zerolinecolor\":\"#283442\",\"zerolinewidth\":2}}}},                        {\"responsive\": true}                    ).then(function(){\n                            \nvar gd = document.getElementById('306af86b-dadb-4e90-8309-a3a065088b5d');\nvar x = new MutationObserver(function (mutations, observer) {{\n        var display = window.getComputedStyle(gd).display;\n        if (!display || display === 'none') {{\n            console.log([gd, 'removed!']);\n            Plotly.purge(gd);\n            observer.disconnect();\n        }}\n}});\n\n// Listen for the removal of the full notebook cells\nvar notebookContainer = gd.closest('#notebook-container');\nif (notebookContainer) {{\n    x.observe(notebookContainer, {childList: true});\n}}\n\n// Listen for the clearing of the current output cell\nvar outputEl = gd.closest('.output');\nif (outputEl) {{\n    x.observe(outputEl, {childList: true});\n}}\n\n                        })                };                });            </script>        </div>"
     },
     "metadata": {},
     "output_type": "display_data"
    }
   ],
   "source": [
    "fut_view = fut_risk_profile[\n",
    "    (fut_risk_profile['strike'] > strike_start) & (fut_risk_profile['strike'] < strike_end)]\n",
    "put_view_1 = put_atm_risk_profile[\n",
    "    (put_atm_risk_profile['strike'] > strike_start) & (put_atm_risk_profile['strike'] < strike_end)]\n",
    "data = [\n",
    "    go.Scatter(x=fut_view['strike'], y=fut_view['risk_pnl'].to_list(), mode='lines', name='fut'),\n",
    "\n",
    "    go.Scatter(x=put_view_1['strike'], y=put_view_1['risk_pnl'].to_list(), mode='lines',\n",
    "               name=f'call atm {short_long_legs[0].strike}'),\n",
    "    go.Scatter(x=put_view_1['strike'], y=put_view_1['risk_pnl_premium'], mode='lines',\n",
    "               name=f'call atm premium {short_long_legs[0].strike}'),\n",
    "]  # markers, lines\n",
    "iplot(data)\n",
    "# TODO move to chart above calc"
   ],
   "metadata": {
    "collapsed": false
   }
  },
  {
   "cell_type": "markdown",
   "source": [
    "**THE RISKS OF BUYING OPTIONS**\n",
    "\n",
    "Risks of Long Call:\n",
    "- Decreasing the price of the underlying asset (UA). The position earns on the growth of the underlying asset\n",
    "- The expiration date is approaching. The fewer days before the expiration of an option, the cheaper its cost while maintaining the same underlying asset price and volatility values.\n",
    "- Reducing market volatility. With increasing volatility in the market, the probability of moving position in the money increases and, accordingly, options become more expensive (with other parameters constant). With a decrease in volatility, option premiums are getting cheaper. Thus, it is not profitable for option buyers to reduce volatility.\n",
    "\n",
    "Risks of Long Put:\n",
    "- Increasing the price of the underlying asset. The position earns on the decreasing the underlying asset price\n",
    "- The expiration date is approaching.\n",
    "- Reducing market volatility.\n",
    "\n",
    "The asymmetric dynamics of the stock market. Usually, market growth occurs more smoothly and relatively slowly, and the decline is usually very sharp. Due to the fact that the decline is usually faster than the growth, the purchase of a Put option can be more effective than the purchase of a Call.\n",
    "\n",
    "For both strategies, reducing market volatility works against the position, as the Call and Put premiums in the market become cheaper in this case.\n",
    "When the stock market declines, volatility tends to increase (which is understandable, the decline occurs more quickly), and when it increases, it usually decreases.\n",
    "\n",
    "By buying a Call option, we earn money on the growth of the UA, on the decrease in volatility that usually accompanies the growth of the instrument, which works against our position.\n",
    "\n",
    "By buying a Put option, we have the opposite picture. We make money from a declining market, and the resulting general increase in market volatility helps us make even more profit.\n",
    "\n",
    "**Thus, buying a Put option is a more effective strategy than buying a Call option, both because of the faster decline in the market and due to the impact of market volatility on our position.**\n",
    "\n",
    "When buying a longer-term option, we have less risk, but this position will be less profitable if the market moves in our direction.\n",
    "\n",
    "When buying a shorter-term option, we have a greater negative time impact on the position, but in the case of a trend towards us, the option will rise in price faster."
   ],
   "metadata": {
    "collapsed": false
   }
  },
  {
   "cell_type": "markdown",
   "source": [
    "## Profit ratio\n",
    "TODO to chart"
   ],
   "metadata": {
    "collapsed": false
   }
  },
  {
   "cell_type": "code",
   "execution_count": 26,
   "outputs": [
    {
     "data": {
      "text/plain": "{'fut': np.float64(87729.7),\n 'target': 110000,\n 'atm': np.float64(88000.0),\n 'itm': np.float64(65000.0),\n 'otm': np.float64(100000.0)}"
     },
     "execution_count": 26,
     "metadata": {},
     "output_type": "execute_result"
    }
   ],
   "source": [
    "df_chain_call = df_opt_chain[df_opt_chain['option_type'] == 'c'].sort_values('strike').reset_index(drop=True)\n",
    "current_fut_price = df_chain_call.iloc[0]['underlying_price']\n",
    "target_price = 110_000\n",
    "call_atm = df_chain_call[df_chain_call['price_status'] == 'atm'].iloc[0]\n",
    "call_itm = df_chain_call[df_chain_call['strike'] < call_atm['strike'] - (target_price - call_atm['strike'])].iloc[-1]\n",
    "call_otm = df_chain_call[df_chain_call['strike'] > (target_price - call_atm['strike'])/2 + call_atm['strike']].iloc[0]\n",
    "\n",
    "{'fut': current_fut_price,  'target': target_price, 'atm': call_atm['strike'], 'itm': call_itm['strike'], 'otm': call_otm['strike']}"
   ],
   "metadata": {
    "collapsed": false
   }
  },
  {
   "cell_type": "code",
   "execution_count": 27,
   "outputs": [
    {
     "data": {
      "text/plain": "             Metric    future   ITM 65000.0   ATM 88000.0 OTM 100000.0\n0             Price   87729.7  20681.709785   4853.424495   1399.18544\n1  Expiration price  110000.0       45000.0       22000.0      10000.0\n2            Profit   22270.3  24318.290215  17146.575505   8600.81456\n3      Profit ratio  0.253851      1.175836      3.532882     6.147015",
      "text/html": "<div>\n<style scoped>\n    .dataframe tbody tr th:only-of-type {\n        vertical-align: middle;\n    }\n\n    .dataframe tbody tr th {\n        vertical-align: top;\n    }\n\n    .dataframe thead th {\n        text-align: right;\n    }\n</style>\n<table border=\"1\" class=\"dataframe\">\n  <thead>\n    <tr style=\"text-align: right;\">\n      <th></th>\n      <th>Metric</th>\n      <th>future</th>\n      <th>ITM 65000.0</th>\n      <th>ATM 88000.0</th>\n      <th>OTM 100000.0</th>\n    </tr>\n  </thead>\n  <tbody>\n    <tr>\n      <th>0</th>\n      <td>Price</td>\n      <td>87729.7</td>\n      <td>20681.709785</td>\n      <td>4853.424495</td>\n      <td>1399.18544</td>\n    </tr>\n    <tr>\n      <th>1</th>\n      <td>Expiration price</td>\n      <td>110000.0</td>\n      <td>45000.0</td>\n      <td>22000.0</td>\n      <td>10000.0</td>\n    </tr>\n    <tr>\n      <th>2</th>\n      <td>Profit</td>\n      <td>22270.3</td>\n      <td>24318.290215</td>\n      <td>17146.575505</td>\n      <td>8600.81456</td>\n    </tr>\n    <tr>\n      <th>3</th>\n      <td>Profit ratio</td>\n      <td>0.253851</td>\n      <td>1.175836</td>\n      <td>3.532882</td>\n      <td>6.147015</td>\n    </tr>\n  </tbody>\n</table>\n</div>"
     },
     "execution_count": 27,
     "metadata": {},
     "output_type": "execute_result"
    }
   ],
   "source": [
    "df_profit = pd.DataFrame.from_dict({\n",
    "    'future':                       {'Price': current_fut_price, 'Expiration price': target_price},\n",
    "    f'ITM {call_itm[\"strike\"]}':    {'Price': call_itm['price'], 'Expiration price': target_price - call_itm['strike']},\n",
    "    f'ATM {call_atm[\"strike\"]}':    {'Price': call_atm['price'], 'Expiration price': target_price - call_atm['strike']},\n",
    "    f'OTM {call_otm[\"strike\"]}':    {'Price': call_otm['price'], 'Expiration price': target_price - call_otm['strike']}\n",
    "})\n",
    "\n",
    "df_profit.index.name = 'Metric'\n",
    "df_profit.reset_index(drop=False, inplace=True)\n",
    "columns = [col for col in df_profit.columns if col != 'Metric']\n",
    "profit_diff = df_profit[columns].reset_index(drop=True).diff().dropna()\n",
    "\n",
    "profit_diff['Metric'] = 'Profit'\n",
    "\n",
    "df_profit = pd.concat([df_profit, profit_diff], ignore_index=True)\n",
    "profit_ratio = df_profit[columns].iloc[2]/df_profit[columns].iloc[0]\n",
    "profit_ratio['Metric'] = 'Profit ratio'\n",
    "df_profit = pd.concat([df_profit, profit_ratio.to_frame().T], ignore_index=True)\n",
    "df_profit"
   ],
   "metadata": {
    "collapsed": false
   }
  },
  {
   "cell_type": "markdown",
   "source": [
    "**Recommendation**:\n",
    "\n",
    "If there are waiting underlying asser grow, it has sense to buy call option with strike in the middle of awaiting price\n",
    "\n",
    "If time has a negative effect on our position, it means that we should be in the position for a minimum of time!\n",
    "\n",
    "He stays in the position of purchased options for as little time as possible. We entered at the beginning of the movement:\n",
    "\n",
    "1. either you made a profit quickly and exited the position (or you rebuilt it in the hope of making even more profit with less risk)\n",
    "\n",
    "2. either they made a mistake with the direction of movement and exited the position with a loss (or they rebuilt it in the hope of recapturing the loss due to the new option scheme)\n",
    "\n",
    "The main mistake most beginners make is holding positions based on buying Call or Put options for a long time.\n",
    "\n",
    "Set a time frame for holding a position in advance and follow it clearly.\n",
    "\n",
    "**When should you use naked option buying in your trading?** Only if there are strong trends up or down in the shortest possible time."
   ],
   "metadata": {
    "collapsed": false
   }
  },
  {
   "cell_type": "markdown",
   "source": [
    "## Selling options\n",
    "\n",
    "Covered– we have sold an option and have a long position in the underlying asset in case of a Call sale or a short position in the underlying asset in case of a Put sale. The position in the underlying asset covers your risks on the option sold.\n",
    "\n",
    "From a mathematical point of view, the probability of making a profit when selling options is higher than when buying options.\n",
    "\n",
    "When selling an option, we make a profit in the amount of a premium, not only when:\n",
    "- the underlying asset (UA) price changes in our direction (in this case, with a decrease in futures);\n",
    "- while maintaining the UA price at the current level (sideways market movement);\n",
    "- when selling an OTM option when futures move against our position (sale strike + premium earned).\n",
    "\n",
    "We only lose money when there is a strong trend against us.\n"
   ],
   "metadata": {
    "collapsed": false
   }
  },
  {
   "cell_type": "code",
   "execution_count": 28,
   "outputs": [],
   "source": [
    "short_long_legs = [OptionLeg(strike=atm_strike, lots=-1, type=LegType.OPTION_CALL)]\n",
    "short_long_risk_profile, short_long_risk_legs_pnl = btc.analytic.risk.chain_risk_profile(short_long_legs)\n",
    "short_long_legs_otm = [OptionLeg(strike=max_strike_risk_2, lots=-1, type=LegType.OPTION_CALL)]\n",
    "short_long_risk_profile_otm, short_long_risk_legs_pnl_otm = btc.analytic.risk.chain_risk_profile(short_long_legs_otm)\n"
   ],
   "metadata": {
    "collapsed": false
   }
  },
  {
   "cell_type": "code",
   "execution_count": 29,
   "outputs": [
    {
     "data": {
      "application/vnd.plotly.v1+json": {
       "data": [
        {
         "mode": "lines",
         "name": "fut",
         "x": [
          80000.0,
          82000.0,
          84000.0,
          85000.0,
          86000.0,
          88000.0,
          90000.0,
          92000.0,
          94000.0,
          95000.0,
          96000.0,
          98000.0,
          100000.0
         ],
         "y": [
          -7729.699999999997,
          -5727.740000000005,
          -3729.699999999997,
          -2729.699999999997,
          -1729.699999999997,
          270.3000000000029,
          2270.300000000003,
          4270.300000000003,
          6270.300000000003,
          7270.300000000003,
          8270.300000000003,
          10270.300000000003,
          12270.300000000003
         ],
         "type": "scatter"
        },
        {
         "mode": "lines",
         "name": "short call atm 88000.0",
         "x": [
          80000.0,
          82000.0,
          84000.0,
          85000.0,
          86000.0,
          88000.0,
          90000.0,
          92000.0,
          94000.0,
          95000.0,
          96000.0,
          98000.0,
          100000.0
         ],
         "y": [
          4853.424495,
          4853.424495,
          4853.424495,
          4853.424495,
          4853.424495,
          4853.424495,
          2853.424495,
          853.4244950000002,
          -1146.5755049999998,
          -2146.575505,
          -3146.575505,
          -5146.575505,
          -7146.575505
         ],
         "type": "scatter"
        },
        {
         "mode": "lines",
         "name": "call 92000.0",
         "x": [
          80000.0,
          82000.0,
          84000.0,
          85000.0,
          86000.0,
          88000.0,
          90000.0,
          92000.0,
          94000.0,
          95000.0,
          96000.0,
          98000.0,
          100000.0
         ],
         "y": [
          3366.789965,
          3366.789965,
          3366.789965,
          3366.789965,
          3366.789965,
          3366.789965,
          3366.789965,
          3366.789965,
          1366.789965,
          366.78996499999994,
          -633.2100350000001,
          -2633.210035,
          -4633.210035
         ],
         "type": "scatter"
        }
       ],
       "layout": {
        "template": {
         "data": {
          "barpolar": [
           {
            "marker": {
             "line": {
              "color": "rgb(17,17,17)",
              "width": 0.5
             },
             "pattern": {
              "fillmode": "overlay",
              "size": 10,
              "solidity": 0.2
             }
            },
            "type": "barpolar"
           }
          ],
          "bar": [
           {
            "error_x": {
             "color": "#f2f5fa"
            },
            "error_y": {
             "color": "#f2f5fa"
            },
            "marker": {
             "line": {
              "color": "rgb(17,17,17)",
              "width": 0.5
             },
             "pattern": {
              "fillmode": "overlay",
              "size": 10,
              "solidity": 0.2
             }
            },
            "type": "bar"
           }
          ],
          "carpet": [
           {
            "aaxis": {
             "endlinecolor": "#A2B1C6",
             "gridcolor": "#506784",
             "linecolor": "#506784",
             "minorgridcolor": "#506784",
             "startlinecolor": "#A2B1C6"
            },
            "baxis": {
             "endlinecolor": "#A2B1C6",
             "gridcolor": "#506784",
             "linecolor": "#506784",
             "minorgridcolor": "#506784",
             "startlinecolor": "#A2B1C6"
            },
            "type": "carpet"
           }
          ],
          "choropleth": [
           {
            "colorbar": {
             "outlinewidth": 0,
             "ticks": ""
            },
            "type": "choropleth"
           }
          ],
          "contourcarpet": [
           {
            "colorbar": {
             "outlinewidth": 0,
             "ticks": ""
            },
            "type": "contourcarpet"
           }
          ],
          "contour": [
           {
            "colorbar": {
             "outlinewidth": 0,
             "ticks": ""
            },
            "colorscale": [
             [
              0.0,
              "#0d0887"
             ],
             [
              0.1111111111111111,
              "#46039f"
             ],
             [
              0.2222222222222222,
              "#7201a8"
             ],
             [
              0.3333333333333333,
              "#9c179e"
             ],
             [
              0.4444444444444444,
              "#bd3786"
             ],
             [
              0.5555555555555556,
              "#d8576b"
             ],
             [
              0.6666666666666666,
              "#ed7953"
             ],
             [
              0.7777777777777778,
              "#fb9f3a"
             ],
             [
              0.8888888888888888,
              "#fdca26"
             ],
             [
              1.0,
              "#f0f921"
             ]
            ],
            "type": "contour"
           }
          ],
          "heatmapgl": [
           {
            "colorbar": {
             "outlinewidth": 0,
             "ticks": ""
            },
            "colorscale": [
             [
              0.0,
              "#0d0887"
             ],
             [
              0.1111111111111111,
              "#46039f"
             ],
             [
              0.2222222222222222,
              "#7201a8"
             ],
             [
              0.3333333333333333,
              "#9c179e"
             ],
             [
              0.4444444444444444,
              "#bd3786"
             ],
             [
              0.5555555555555556,
              "#d8576b"
             ],
             [
              0.6666666666666666,
              "#ed7953"
             ],
             [
              0.7777777777777778,
              "#fb9f3a"
             ],
             [
              0.8888888888888888,
              "#fdca26"
             ],
             [
              1.0,
              "#f0f921"
             ]
            ],
            "type": "heatmapgl"
           }
          ],
          "heatmap": [
           {
            "colorbar": {
             "outlinewidth": 0,
             "ticks": ""
            },
            "colorscale": [
             [
              0.0,
              "#0d0887"
             ],
             [
              0.1111111111111111,
              "#46039f"
             ],
             [
              0.2222222222222222,
              "#7201a8"
             ],
             [
              0.3333333333333333,
              "#9c179e"
             ],
             [
              0.4444444444444444,
              "#bd3786"
             ],
             [
              0.5555555555555556,
              "#d8576b"
             ],
             [
              0.6666666666666666,
              "#ed7953"
             ],
             [
              0.7777777777777778,
              "#fb9f3a"
             ],
             [
              0.8888888888888888,
              "#fdca26"
             ],
             [
              1.0,
              "#f0f921"
             ]
            ],
            "type": "heatmap"
           }
          ],
          "histogram2dcontour": [
           {
            "colorbar": {
             "outlinewidth": 0,
             "ticks": ""
            },
            "colorscale": [
             [
              0.0,
              "#0d0887"
             ],
             [
              0.1111111111111111,
              "#46039f"
             ],
             [
              0.2222222222222222,
              "#7201a8"
             ],
             [
              0.3333333333333333,
              "#9c179e"
             ],
             [
              0.4444444444444444,
              "#bd3786"
             ],
             [
              0.5555555555555556,
              "#d8576b"
             ],
             [
              0.6666666666666666,
              "#ed7953"
             ],
             [
              0.7777777777777778,
              "#fb9f3a"
             ],
             [
              0.8888888888888888,
              "#fdca26"
             ],
             [
              1.0,
              "#f0f921"
             ]
            ],
            "type": "histogram2dcontour"
           }
          ],
          "histogram2d": [
           {
            "colorbar": {
             "outlinewidth": 0,
             "ticks": ""
            },
            "colorscale": [
             [
              0.0,
              "#0d0887"
             ],
             [
              0.1111111111111111,
              "#46039f"
             ],
             [
              0.2222222222222222,
              "#7201a8"
             ],
             [
              0.3333333333333333,
              "#9c179e"
             ],
             [
              0.4444444444444444,
              "#bd3786"
             ],
             [
              0.5555555555555556,
              "#d8576b"
             ],
             [
              0.6666666666666666,
              "#ed7953"
             ],
             [
              0.7777777777777778,
              "#fb9f3a"
             ],
             [
              0.8888888888888888,
              "#fdca26"
             ],
             [
              1.0,
              "#f0f921"
             ]
            ],
            "type": "histogram2d"
           }
          ],
          "histogram": [
           {
            "marker": {
             "pattern": {
              "fillmode": "overlay",
              "size": 10,
              "solidity": 0.2
             }
            },
            "type": "histogram"
           }
          ],
          "mesh3d": [
           {
            "colorbar": {
             "outlinewidth": 0,
             "ticks": ""
            },
            "type": "mesh3d"
           }
          ],
          "parcoords": [
           {
            "line": {
             "colorbar": {
              "outlinewidth": 0,
              "ticks": ""
             }
            },
            "type": "parcoords"
           }
          ],
          "pie": [
           {
            "automargin": true,
            "type": "pie"
           }
          ],
          "scatter3d": [
           {
            "line": {
             "colorbar": {
              "outlinewidth": 0,
              "ticks": ""
             }
            },
            "marker": {
             "colorbar": {
              "outlinewidth": 0,
              "ticks": ""
             }
            },
            "type": "scatter3d"
           }
          ],
          "scattercarpet": [
           {
            "marker": {
             "colorbar": {
              "outlinewidth": 0,
              "ticks": ""
             }
            },
            "type": "scattercarpet"
           }
          ],
          "scattergeo": [
           {
            "marker": {
             "colorbar": {
              "outlinewidth": 0,
              "ticks": ""
             }
            },
            "type": "scattergeo"
           }
          ],
          "scattergl": [
           {
            "marker": {
             "line": {
              "color": "#283442"
             }
            },
            "type": "scattergl"
           }
          ],
          "scattermapbox": [
           {
            "marker": {
             "colorbar": {
              "outlinewidth": 0,
              "ticks": ""
             }
            },
            "type": "scattermapbox"
           }
          ],
          "scatterpolargl": [
           {
            "marker": {
             "colorbar": {
              "outlinewidth": 0,
              "ticks": ""
             }
            },
            "type": "scatterpolargl"
           }
          ],
          "scatterpolar": [
           {
            "marker": {
             "colorbar": {
              "outlinewidth": 0,
              "ticks": ""
             }
            },
            "type": "scatterpolar"
           }
          ],
          "scatter": [
           {
            "marker": {
             "line": {
              "color": "#283442"
             }
            },
            "type": "scatter"
           }
          ],
          "scatterternary": [
           {
            "marker": {
             "colorbar": {
              "outlinewidth": 0,
              "ticks": ""
             }
            },
            "type": "scatterternary"
           }
          ],
          "surface": [
           {
            "colorbar": {
             "outlinewidth": 0,
             "ticks": ""
            },
            "colorscale": [
             [
              0.0,
              "#0d0887"
             ],
             [
              0.1111111111111111,
              "#46039f"
             ],
             [
              0.2222222222222222,
              "#7201a8"
             ],
             [
              0.3333333333333333,
              "#9c179e"
             ],
             [
              0.4444444444444444,
              "#bd3786"
             ],
             [
              0.5555555555555556,
              "#d8576b"
             ],
             [
              0.6666666666666666,
              "#ed7953"
             ],
             [
              0.7777777777777778,
              "#fb9f3a"
             ],
             [
              0.8888888888888888,
              "#fdca26"
             ],
             [
              1.0,
              "#f0f921"
             ]
            ],
            "type": "surface"
           }
          ],
          "table": [
           {
            "cells": {
             "fill": {
              "color": "#506784"
             },
             "line": {
              "color": "rgb(17,17,17)"
             }
            },
            "header": {
             "fill": {
              "color": "#2a3f5f"
             },
             "line": {
              "color": "rgb(17,17,17)"
             }
            },
            "type": "table"
           }
          ]
         },
         "layout": {
          "annotationdefaults": {
           "arrowcolor": "#f2f5fa",
           "arrowhead": 0,
           "arrowwidth": 1
          },
          "autotypenumbers": "strict",
          "coloraxis": {
           "colorbar": {
            "outlinewidth": 0,
            "ticks": ""
           }
          },
          "colorscale": {
           "diverging": [
            [
             0,
             "#8e0152"
            ],
            [
             0.1,
             "#c51b7d"
            ],
            [
             0.2,
             "#de77ae"
            ],
            [
             0.3,
             "#f1b6da"
            ],
            [
             0.4,
             "#fde0ef"
            ],
            [
             0.5,
             "#f7f7f7"
            ],
            [
             0.6,
             "#e6f5d0"
            ],
            [
             0.7,
             "#b8e186"
            ],
            [
             0.8,
             "#7fbc41"
            ],
            [
             0.9,
             "#4d9221"
            ],
            [
             1,
             "#276419"
            ]
           ],
           "sequential": [
            [
             0.0,
             "#0d0887"
            ],
            [
             0.1111111111111111,
             "#46039f"
            ],
            [
             0.2222222222222222,
             "#7201a8"
            ],
            [
             0.3333333333333333,
             "#9c179e"
            ],
            [
             0.4444444444444444,
             "#bd3786"
            ],
            [
             0.5555555555555556,
             "#d8576b"
            ],
            [
             0.6666666666666666,
             "#ed7953"
            ],
            [
             0.7777777777777778,
             "#fb9f3a"
            ],
            [
             0.8888888888888888,
             "#fdca26"
            ],
            [
             1.0,
             "#f0f921"
            ]
           ],
           "sequentialminus": [
            [
             0.0,
             "#0d0887"
            ],
            [
             0.1111111111111111,
             "#46039f"
            ],
            [
             0.2222222222222222,
             "#7201a8"
            ],
            [
             0.3333333333333333,
             "#9c179e"
            ],
            [
             0.4444444444444444,
             "#bd3786"
            ],
            [
             0.5555555555555556,
             "#d8576b"
            ],
            [
             0.6666666666666666,
             "#ed7953"
            ],
            [
             0.7777777777777778,
             "#fb9f3a"
            ],
            [
             0.8888888888888888,
             "#fdca26"
            ],
            [
             1.0,
             "#f0f921"
            ]
           ]
          },
          "colorway": [
           "#636efa",
           "#EF553B",
           "#00cc96",
           "#ab63fa",
           "#FFA15A",
           "#19d3f3",
           "#FF6692",
           "#B6E880",
           "#FF97FF",
           "#FECB52"
          ],
          "font": {
           "color": "#f2f5fa"
          },
          "geo": {
           "bgcolor": "rgb(17,17,17)",
           "lakecolor": "rgb(17,17,17)",
           "landcolor": "rgb(17,17,17)",
           "showlakes": true,
           "showland": true,
           "subunitcolor": "#506784"
          },
          "hoverlabel": {
           "align": "left"
          },
          "hovermode": "closest",
          "mapbox": {
           "style": "dark"
          },
          "paper_bgcolor": "rgb(17,17,17)",
          "plot_bgcolor": "rgb(17,17,17)",
          "polar": {
           "angularaxis": {
            "gridcolor": "#506784",
            "linecolor": "#506784",
            "ticks": ""
           },
           "bgcolor": "rgb(17,17,17)",
           "radialaxis": {
            "gridcolor": "#506784",
            "linecolor": "#506784",
            "ticks": ""
           }
          },
          "scene": {
           "xaxis": {
            "backgroundcolor": "rgb(17,17,17)",
            "gridcolor": "#506784",
            "gridwidth": 2,
            "linecolor": "#506784",
            "showbackground": true,
            "ticks": "",
            "zerolinecolor": "#C8D4E3"
           },
           "yaxis": {
            "backgroundcolor": "rgb(17,17,17)",
            "gridcolor": "#506784",
            "gridwidth": 2,
            "linecolor": "#506784",
            "showbackground": true,
            "ticks": "",
            "zerolinecolor": "#C8D4E3"
           },
           "zaxis": {
            "backgroundcolor": "rgb(17,17,17)",
            "gridcolor": "#506784",
            "gridwidth": 2,
            "linecolor": "#506784",
            "showbackground": true,
            "ticks": "",
            "zerolinecolor": "#C8D4E3"
           }
          },
          "shapedefaults": {
           "line": {
            "color": "#f2f5fa"
           }
          },
          "sliderdefaults": {
           "bgcolor": "#C8D4E3",
           "bordercolor": "rgb(17,17,17)",
           "borderwidth": 1,
           "tickwidth": 0
          },
          "ternary": {
           "aaxis": {
            "gridcolor": "#506784",
            "linecolor": "#506784",
            "ticks": ""
           },
           "baxis": {
            "gridcolor": "#506784",
            "linecolor": "#506784",
            "ticks": ""
           },
           "bgcolor": "rgb(17,17,17)",
           "caxis": {
            "gridcolor": "#506784",
            "linecolor": "#506784",
            "ticks": ""
           }
          },
          "title": {
           "x": 0.05
          },
          "updatemenudefaults": {
           "bgcolor": "#506784",
           "borderwidth": 0
          },
          "xaxis": {
           "automargin": true,
           "gridcolor": "#283442",
           "linecolor": "#506784",
           "ticks": "",
           "title": {
            "standoff": 15
           },
           "zerolinecolor": "#283442",
           "zerolinewidth": 2
          },
          "yaxis": {
           "automargin": true,
           "gridcolor": "#283442",
           "linecolor": "#506784",
           "ticks": "",
           "title": {
            "standoff": 15
           },
           "zerolinecolor": "#283442",
           "zerolinewidth": 2
          }
         }
        }
       },
       "config": {
        "showLink": false,
        "linkText": "Export to plot.ly",
        "plotlyServerURL": "https://plot.ly"
       }
      },
      "text/html": "<div>                            <div id=\"f22ce343-2b6c-4fca-a816-b9daffcac120\" class=\"plotly-graph-div\" style=\"height:525px; width:100%;\"></div>            <script type=\"text/javascript\">                require([\"plotly\"], function(Plotly) {                    window.PLOTLYENV=window.PLOTLYENV || {};                                    if (document.getElementById(\"f22ce343-2b6c-4fca-a816-b9daffcac120\")) {                    Plotly.newPlot(                        \"f22ce343-2b6c-4fca-a816-b9daffcac120\",                        [{\"mode\":\"lines\",\"name\":\"fut\",\"x\":[80000.0,82000.0,84000.0,85000.0,86000.0,88000.0,90000.0,92000.0,94000.0,95000.0,96000.0,98000.0,100000.0],\"y\":[-7729.699999999997,-5727.740000000005,-3729.699999999997,-2729.699999999997,-1729.699999999997,270.3000000000029,2270.300000000003,4270.300000000003,6270.300000000003,7270.300000000003,8270.300000000003,10270.300000000003,12270.300000000003],\"type\":\"scatter\"},{\"mode\":\"lines\",\"name\":\"short call atm 88000.0\",\"x\":[80000.0,82000.0,84000.0,85000.0,86000.0,88000.0,90000.0,92000.0,94000.0,95000.0,96000.0,98000.0,100000.0],\"y\":[4853.424495,4853.424495,4853.424495,4853.424495,4853.424495,4853.424495,2853.424495,853.4244950000002,-1146.5755049999998,-2146.575505,-3146.575505,-5146.575505,-7146.575505],\"type\":\"scatter\"},{\"mode\":\"lines\",\"name\":\"call 92000.0\",\"x\":[80000.0,82000.0,84000.0,85000.0,86000.0,88000.0,90000.0,92000.0,94000.0,95000.0,96000.0,98000.0,100000.0],\"y\":[3366.789965,3366.789965,3366.789965,3366.789965,3366.789965,3366.789965,3366.789965,3366.789965,1366.789965,366.78996499999994,-633.2100350000001,-2633.210035,-4633.210035],\"type\":\"scatter\"}],                        {\"template\":{\"data\":{\"barpolar\":[{\"marker\":{\"line\":{\"color\":\"rgb(17,17,17)\",\"width\":0.5},\"pattern\":{\"fillmode\":\"overlay\",\"size\":10,\"solidity\":0.2}},\"type\":\"barpolar\"}],\"bar\":[{\"error_x\":{\"color\":\"#f2f5fa\"},\"error_y\":{\"color\":\"#f2f5fa\"},\"marker\":{\"line\":{\"color\":\"rgb(17,17,17)\",\"width\":0.5},\"pattern\":{\"fillmode\":\"overlay\",\"size\":10,\"solidity\":0.2}},\"type\":\"bar\"}],\"carpet\":[{\"aaxis\":{\"endlinecolor\":\"#A2B1C6\",\"gridcolor\":\"#506784\",\"linecolor\":\"#506784\",\"minorgridcolor\":\"#506784\",\"startlinecolor\":\"#A2B1C6\"},\"baxis\":{\"endlinecolor\":\"#A2B1C6\",\"gridcolor\":\"#506784\",\"linecolor\":\"#506784\",\"minorgridcolor\":\"#506784\",\"startlinecolor\":\"#A2B1C6\"},\"type\":\"carpet\"}],\"choropleth\":[{\"colorbar\":{\"outlinewidth\":0,\"ticks\":\"\"},\"type\":\"choropleth\"}],\"contourcarpet\":[{\"colorbar\":{\"outlinewidth\":0,\"ticks\":\"\"},\"type\":\"contourcarpet\"}],\"contour\":[{\"colorbar\":{\"outlinewidth\":0,\"ticks\":\"\"},\"colorscale\":[[0.0,\"#0d0887\"],[0.1111111111111111,\"#46039f\"],[0.2222222222222222,\"#7201a8\"],[0.3333333333333333,\"#9c179e\"],[0.4444444444444444,\"#bd3786\"],[0.5555555555555556,\"#d8576b\"],[0.6666666666666666,\"#ed7953\"],[0.7777777777777778,\"#fb9f3a\"],[0.8888888888888888,\"#fdca26\"],[1.0,\"#f0f921\"]],\"type\":\"contour\"}],\"heatmapgl\":[{\"colorbar\":{\"outlinewidth\":0,\"ticks\":\"\"},\"colorscale\":[[0.0,\"#0d0887\"],[0.1111111111111111,\"#46039f\"],[0.2222222222222222,\"#7201a8\"],[0.3333333333333333,\"#9c179e\"],[0.4444444444444444,\"#bd3786\"],[0.5555555555555556,\"#d8576b\"],[0.6666666666666666,\"#ed7953\"],[0.7777777777777778,\"#fb9f3a\"],[0.8888888888888888,\"#fdca26\"],[1.0,\"#f0f921\"]],\"type\":\"heatmapgl\"}],\"heatmap\":[{\"colorbar\":{\"outlinewidth\":0,\"ticks\":\"\"},\"colorscale\":[[0.0,\"#0d0887\"],[0.1111111111111111,\"#46039f\"],[0.2222222222222222,\"#7201a8\"],[0.3333333333333333,\"#9c179e\"],[0.4444444444444444,\"#bd3786\"],[0.5555555555555556,\"#d8576b\"],[0.6666666666666666,\"#ed7953\"],[0.7777777777777778,\"#fb9f3a\"],[0.8888888888888888,\"#fdca26\"],[1.0,\"#f0f921\"]],\"type\":\"heatmap\"}],\"histogram2dcontour\":[{\"colorbar\":{\"outlinewidth\":0,\"ticks\":\"\"},\"colorscale\":[[0.0,\"#0d0887\"],[0.1111111111111111,\"#46039f\"],[0.2222222222222222,\"#7201a8\"],[0.3333333333333333,\"#9c179e\"],[0.4444444444444444,\"#bd3786\"],[0.5555555555555556,\"#d8576b\"],[0.6666666666666666,\"#ed7953\"],[0.7777777777777778,\"#fb9f3a\"],[0.8888888888888888,\"#fdca26\"],[1.0,\"#f0f921\"]],\"type\":\"histogram2dcontour\"}],\"histogram2d\":[{\"colorbar\":{\"outlinewidth\":0,\"ticks\":\"\"},\"colorscale\":[[0.0,\"#0d0887\"],[0.1111111111111111,\"#46039f\"],[0.2222222222222222,\"#7201a8\"],[0.3333333333333333,\"#9c179e\"],[0.4444444444444444,\"#bd3786\"],[0.5555555555555556,\"#d8576b\"],[0.6666666666666666,\"#ed7953\"],[0.7777777777777778,\"#fb9f3a\"],[0.8888888888888888,\"#fdca26\"],[1.0,\"#f0f921\"]],\"type\":\"histogram2d\"}],\"histogram\":[{\"marker\":{\"pattern\":{\"fillmode\":\"overlay\",\"size\":10,\"solidity\":0.2}},\"type\":\"histogram\"}],\"mesh3d\":[{\"colorbar\":{\"outlinewidth\":0,\"ticks\":\"\"},\"type\":\"mesh3d\"}],\"parcoords\":[{\"line\":{\"colorbar\":{\"outlinewidth\":0,\"ticks\":\"\"}},\"type\":\"parcoords\"}],\"pie\":[{\"automargin\":true,\"type\":\"pie\"}],\"scatter3d\":[{\"line\":{\"colorbar\":{\"outlinewidth\":0,\"ticks\":\"\"}},\"marker\":{\"colorbar\":{\"outlinewidth\":0,\"ticks\":\"\"}},\"type\":\"scatter3d\"}],\"scattercarpet\":[{\"marker\":{\"colorbar\":{\"outlinewidth\":0,\"ticks\":\"\"}},\"type\":\"scattercarpet\"}],\"scattergeo\":[{\"marker\":{\"colorbar\":{\"outlinewidth\":0,\"ticks\":\"\"}},\"type\":\"scattergeo\"}],\"scattergl\":[{\"marker\":{\"line\":{\"color\":\"#283442\"}},\"type\":\"scattergl\"}],\"scattermapbox\":[{\"marker\":{\"colorbar\":{\"outlinewidth\":0,\"ticks\":\"\"}},\"type\":\"scattermapbox\"}],\"scatterpolargl\":[{\"marker\":{\"colorbar\":{\"outlinewidth\":0,\"ticks\":\"\"}},\"type\":\"scatterpolargl\"}],\"scatterpolar\":[{\"marker\":{\"colorbar\":{\"outlinewidth\":0,\"ticks\":\"\"}},\"type\":\"scatterpolar\"}],\"scatter\":[{\"marker\":{\"line\":{\"color\":\"#283442\"}},\"type\":\"scatter\"}],\"scatterternary\":[{\"marker\":{\"colorbar\":{\"outlinewidth\":0,\"ticks\":\"\"}},\"type\":\"scatterternary\"}],\"surface\":[{\"colorbar\":{\"outlinewidth\":0,\"ticks\":\"\"},\"colorscale\":[[0.0,\"#0d0887\"],[0.1111111111111111,\"#46039f\"],[0.2222222222222222,\"#7201a8\"],[0.3333333333333333,\"#9c179e\"],[0.4444444444444444,\"#bd3786\"],[0.5555555555555556,\"#d8576b\"],[0.6666666666666666,\"#ed7953\"],[0.7777777777777778,\"#fb9f3a\"],[0.8888888888888888,\"#fdca26\"],[1.0,\"#f0f921\"]],\"type\":\"surface\"}],\"table\":[{\"cells\":{\"fill\":{\"color\":\"#506784\"},\"line\":{\"color\":\"rgb(17,17,17)\"}},\"header\":{\"fill\":{\"color\":\"#2a3f5f\"},\"line\":{\"color\":\"rgb(17,17,17)\"}},\"type\":\"table\"}]},\"layout\":{\"annotationdefaults\":{\"arrowcolor\":\"#f2f5fa\",\"arrowhead\":0,\"arrowwidth\":1},\"autotypenumbers\":\"strict\",\"coloraxis\":{\"colorbar\":{\"outlinewidth\":0,\"ticks\":\"\"}},\"colorscale\":{\"diverging\":[[0,\"#8e0152\"],[0.1,\"#c51b7d\"],[0.2,\"#de77ae\"],[0.3,\"#f1b6da\"],[0.4,\"#fde0ef\"],[0.5,\"#f7f7f7\"],[0.6,\"#e6f5d0\"],[0.7,\"#b8e186\"],[0.8,\"#7fbc41\"],[0.9,\"#4d9221\"],[1,\"#276419\"]],\"sequential\":[[0.0,\"#0d0887\"],[0.1111111111111111,\"#46039f\"],[0.2222222222222222,\"#7201a8\"],[0.3333333333333333,\"#9c179e\"],[0.4444444444444444,\"#bd3786\"],[0.5555555555555556,\"#d8576b\"],[0.6666666666666666,\"#ed7953\"],[0.7777777777777778,\"#fb9f3a\"],[0.8888888888888888,\"#fdca26\"],[1.0,\"#f0f921\"]],\"sequentialminus\":[[0.0,\"#0d0887\"],[0.1111111111111111,\"#46039f\"],[0.2222222222222222,\"#7201a8\"],[0.3333333333333333,\"#9c179e\"],[0.4444444444444444,\"#bd3786\"],[0.5555555555555556,\"#d8576b\"],[0.6666666666666666,\"#ed7953\"],[0.7777777777777778,\"#fb9f3a\"],[0.8888888888888888,\"#fdca26\"],[1.0,\"#f0f921\"]]},\"colorway\":[\"#636efa\",\"#EF553B\",\"#00cc96\",\"#ab63fa\",\"#FFA15A\",\"#19d3f3\",\"#FF6692\",\"#B6E880\",\"#FF97FF\",\"#FECB52\"],\"font\":{\"color\":\"#f2f5fa\"},\"geo\":{\"bgcolor\":\"rgb(17,17,17)\",\"lakecolor\":\"rgb(17,17,17)\",\"landcolor\":\"rgb(17,17,17)\",\"showlakes\":true,\"showland\":true,\"subunitcolor\":\"#506784\"},\"hoverlabel\":{\"align\":\"left\"},\"hovermode\":\"closest\",\"mapbox\":{\"style\":\"dark\"},\"paper_bgcolor\":\"rgb(17,17,17)\",\"plot_bgcolor\":\"rgb(17,17,17)\",\"polar\":{\"angularaxis\":{\"gridcolor\":\"#506784\",\"linecolor\":\"#506784\",\"ticks\":\"\"},\"bgcolor\":\"rgb(17,17,17)\",\"radialaxis\":{\"gridcolor\":\"#506784\",\"linecolor\":\"#506784\",\"ticks\":\"\"}},\"scene\":{\"xaxis\":{\"backgroundcolor\":\"rgb(17,17,17)\",\"gridcolor\":\"#506784\",\"gridwidth\":2,\"linecolor\":\"#506784\",\"showbackground\":true,\"ticks\":\"\",\"zerolinecolor\":\"#C8D4E3\"},\"yaxis\":{\"backgroundcolor\":\"rgb(17,17,17)\",\"gridcolor\":\"#506784\",\"gridwidth\":2,\"linecolor\":\"#506784\",\"showbackground\":true,\"ticks\":\"\",\"zerolinecolor\":\"#C8D4E3\"},\"zaxis\":{\"backgroundcolor\":\"rgb(17,17,17)\",\"gridcolor\":\"#506784\",\"gridwidth\":2,\"linecolor\":\"#506784\",\"showbackground\":true,\"ticks\":\"\",\"zerolinecolor\":\"#C8D4E3\"}},\"shapedefaults\":{\"line\":{\"color\":\"#f2f5fa\"}},\"sliderdefaults\":{\"bgcolor\":\"#C8D4E3\",\"bordercolor\":\"rgb(17,17,17)\",\"borderwidth\":1,\"tickwidth\":0},\"ternary\":{\"aaxis\":{\"gridcolor\":\"#506784\",\"linecolor\":\"#506784\",\"ticks\":\"\"},\"baxis\":{\"gridcolor\":\"#506784\",\"linecolor\":\"#506784\",\"ticks\":\"\"},\"bgcolor\":\"rgb(17,17,17)\",\"caxis\":{\"gridcolor\":\"#506784\",\"linecolor\":\"#506784\",\"ticks\":\"\"}},\"title\":{\"x\":0.05},\"updatemenudefaults\":{\"bgcolor\":\"#506784\",\"borderwidth\":0},\"xaxis\":{\"automargin\":true,\"gridcolor\":\"#283442\",\"linecolor\":\"#506784\",\"ticks\":\"\",\"title\":{\"standoff\":15},\"zerolinecolor\":\"#283442\",\"zerolinewidth\":2},\"yaxis\":{\"automargin\":true,\"gridcolor\":\"#283442\",\"linecolor\":\"#506784\",\"ticks\":\"\",\"title\":{\"standoff\":15},\"zerolinecolor\":\"#283442\",\"zerolinewidth\":2}}}},                        {\"responsive\": true}                    ).then(function(){\n                            \nvar gd = document.getElementById('f22ce343-2b6c-4fca-a816-b9daffcac120');\nvar x = new MutationObserver(function (mutations, observer) {{\n        var display = window.getComputedStyle(gd).display;\n        if (!display || display === 'none') {{\n            console.log([gd, 'removed!']);\n            Plotly.purge(gd);\n            observer.disconnect();\n        }}\n}});\n\n// Listen for the removal of the full notebook cells\nvar notebookContainer = gd.closest('#notebook-container');\nif (notebookContainer) {{\n    x.observe(notebookContainer, {childList: true});\n}}\n\n// Listen for the clearing of the current output cell\nvar outputEl = gd.closest('.output');\nif (outputEl) {{\n    x.observe(outputEl, {childList: true});\n}}\n\n                        })                };                });            </script>        </div>"
     },
     "metadata": {},
     "output_type": "display_data"
    }
   ],
   "source": [
    "short_call_view_1 = short_long_risk_profile[\n",
    "    (short_long_risk_profile['strike'] > strike_start) & (short_long_risk_profile['strike'] < strike_end)]\n",
    "short_call_view_otm = short_long_risk_profile_otm[\n",
    "    (short_long_risk_profile_otm['strike'] > strike_start) & (short_long_risk_profile_otm['strike'] < strike_end)]\n",
    "data = [\n",
    "    go.Scatter(x=fut_view['strike'], y=fut_view['risk_pnl'].to_list(), mode='lines', name='fut'),\n",
    "\n",
    "    go.Scatter(x=short_call_view_1['strike'], y=short_call_view_1['risk_pnl'].to_list(), mode='lines',\n",
    "               name=f'short call atm {short_long_legs[0].strike}'),\n",
    "    go.Scatter(x=short_call_view_otm['strike'], y=short_call_view_otm['risk_pnl'], mode='lines',\n",
    "               name=f'call {short_long_legs_otm[0].strike}'),\n",
    "]\n",
    "iplot(data)"
   ],
   "metadata": {
    "collapsed": false
   }
  },
  {
   "cell_type": "markdown",
   "source": [
    "Selling uncovered options involves three main risks:\n",
    "\n",
    "1. BA's move against our position (price risk)\n",
    "\n",
    "2. Increased volatility in the market\n",
    "\n",
    "3. Possible increase in the guarantee provision for the position\n",
    "\n",
    "Note that, unlike buying options, time works for us, not against us.\n"
   ],
   "metadata": {
    "collapsed": false
   }
  },
  {
   "cell_type": "markdown",
   "source": [
    "### Non-linearity of loss\n",
    "\n",
    "When selling an option, losses increase more than profits with the same price change.\n",
    "\n",
    "It is quite possible to get a loss when selling options not only because of the strong movement of the BA against our position, but also as a result of increased market volatility due to the increased margin requirement\n",
    "\n"
   ],
   "metadata": {
    "collapsed": false
   }
  },
  {
   "cell_type": "code",
   "execution_count": 30,
   "outputs": [
    {
     "data": {
      "application/vnd.plotly.v1+json": {
       "data": [
        {
         "mode": "lines",
         "name": "fut",
         "x": [
          80000.0,
          82000.0,
          84000.0,
          85000.0,
          86000.0,
          88000.0,
          90000.0,
          92000.0,
          94000.0,
          95000.0,
          96000.0,
          98000.0,
          100000.0
         ],
         "y": [
          -7729.699999999997,
          -5727.740000000005,
          -3729.699999999997,
          -2729.699999999997,
          -1729.699999999997,
          270.3000000000029,
          2270.300000000003,
          4270.300000000003,
          6270.300000000003,
          7270.300000000003,
          8270.300000000003,
          10270.300000000003,
          12270.300000000003
         ],
         "type": "scatter"
        },
        {
         "mode": "lines",
         "name": "short call atm 88000.0",
         "x": [
          80000.0,
          82000.0,
          84000.0,
          85000.0,
          86000.0,
          88000.0,
          90000.0,
          92000.0,
          94000.0,
          95000.0,
          96000.0,
          98000.0,
          100000.0
         ],
         "y": [
          4853.424495,
          4853.424495,
          4853.424495,
          4853.424495,
          4853.424495,
          4853.424495,
          2853.424495,
          853.4244950000002,
          -1146.5755049999998,
          -2146.575505,
          -3146.575505,
          -5146.575505,
          -7146.575505
         ],
         "type": "scatter"
        },
        {
         "mode": "lines",
         "name": "short call atm premium 88000.0",
         "x": [
          80000.0,
          82000.0,
          84000.0,
          85000.0,
          86000.0,
          88000.0,
          90000.0,
          92000.0,
          94000.0,
          95000.0,
          96000.0,
          98000.0,
          100000.0
         ],
         "y": [
          4108.515495000001,
          4294.7427450000005,
          1507.7009349999998,
          1469.6409250000006,
          1038.0600100000001,
          0.0,
          -1431.5809149999977,
          -2513.3654700000034,
          -3944.946385000002,
          -4463.976389999995,
          -4853.424495,
          -4853.424495,
          -4853.424495
         ],
         "type": "scatter"
        }
       ],
       "layout": {
        "template": {
         "data": {
          "barpolar": [
           {
            "marker": {
             "line": {
              "color": "rgb(17,17,17)",
              "width": 0.5
             },
             "pattern": {
              "fillmode": "overlay",
              "size": 10,
              "solidity": 0.2
             }
            },
            "type": "barpolar"
           }
          ],
          "bar": [
           {
            "error_x": {
             "color": "#f2f5fa"
            },
            "error_y": {
             "color": "#f2f5fa"
            },
            "marker": {
             "line": {
              "color": "rgb(17,17,17)",
              "width": 0.5
             },
             "pattern": {
              "fillmode": "overlay",
              "size": 10,
              "solidity": 0.2
             }
            },
            "type": "bar"
           }
          ],
          "carpet": [
           {
            "aaxis": {
             "endlinecolor": "#A2B1C6",
             "gridcolor": "#506784",
             "linecolor": "#506784",
             "minorgridcolor": "#506784",
             "startlinecolor": "#A2B1C6"
            },
            "baxis": {
             "endlinecolor": "#A2B1C6",
             "gridcolor": "#506784",
             "linecolor": "#506784",
             "minorgridcolor": "#506784",
             "startlinecolor": "#A2B1C6"
            },
            "type": "carpet"
           }
          ],
          "choropleth": [
           {
            "colorbar": {
             "outlinewidth": 0,
             "ticks": ""
            },
            "type": "choropleth"
           }
          ],
          "contourcarpet": [
           {
            "colorbar": {
             "outlinewidth": 0,
             "ticks": ""
            },
            "type": "contourcarpet"
           }
          ],
          "contour": [
           {
            "colorbar": {
             "outlinewidth": 0,
             "ticks": ""
            },
            "colorscale": [
             [
              0.0,
              "#0d0887"
             ],
             [
              0.1111111111111111,
              "#46039f"
             ],
             [
              0.2222222222222222,
              "#7201a8"
             ],
             [
              0.3333333333333333,
              "#9c179e"
             ],
             [
              0.4444444444444444,
              "#bd3786"
             ],
             [
              0.5555555555555556,
              "#d8576b"
             ],
             [
              0.6666666666666666,
              "#ed7953"
             ],
             [
              0.7777777777777778,
              "#fb9f3a"
             ],
             [
              0.8888888888888888,
              "#fdca26"
             ],
             [
              1.0,
              "#f0f921"
             ]
            ],
            "type": "contour"
           }
          ],
          "heatmapgl": [
           {
            "colorbar": {
             "outlinewidth": 0,
             "ticks": ""
            },
            "colorscale": [
             [
              0.0,
              "#0d0887"
             ],
             [
              0.1111111111111111,
              "#46039f"
             ],
             [
              0.2222222222222222,
              "#7201a8"
             ],
             [
              0.3333333333333333,
              "#9c179e"
             ],
             [
              0.4444444444444444,
              "#bd3786"
             ],
             [
              0.5555555555555556,
              "#d8576b"
             ],
             [
              0.6666666666666666,
              "#ed7953"
             ],
             [
              0.7777777777777778,
              "#fb9f3a"
             ],
             [
              0.8888888888888888,
              "#fdca26"
             ],
             [
              1.0,
              "#f0f921"
             ]
            ],
            "type": "heatmapgl"
           }
          ],
          "heatmap": [
           {
            "colorbar": {
             "outlinewidth": 0,
             "ticks": ""
            },
            "colorscale": [
             [
              0.0,
              "#0d0887"
             ],
             [
              0.1111111111111111,
              "#46039f"
             ],
             [
              0.2222222222222222,
              "#7201a8"
             ],
             [
              0.3333333333333333,
              "#9c179e"
             ],
             [
              0.4444444444444444,
              "#bd3786"
             ],
             [
              0.5555555555555556,
              "#d8576b"
             ],
             [
              0.6666666666666666,
              "#ed7953"
             ],
             [
              0.7777777777777778,
              "#fb9f3a"
             ],
             [
              0.8888888888888888,
              "#fdca26"
             ],
             [
              1.0,
              "#f0f921"
             ]
            ],
            "type": "heatmap"
           }
          ],
          "histogram2dcontour": [
           {
            "colorbar": {
             "outlinewidth": 0,
             "ticks": ""
            },
            "colorscale": [
             [
              0.0,
              "#0d0887"
             ],
             [
              0.1111111111111111,
              "#46039f"
             ],
             [
              0.2222222222222222,
              "#7201a8"
             ],
             [
              0.3333333333333333,
              "#9c179e"
             ],
             [
              0.4444444444444444,
              "#bd3786"
             ],
             [
              0.5555555555555556,
              "#d8576b"
             ],
             [
              0.6666666666666666,
              "#ed7953"
             ],
             [
              0.7777777777777778,
              "#fb9f3a"
             ],
             [
              0.8888888888888888,
              "#fdca26"
             ],
             [
              1.0,
              "#f0f921"
             ]
            ],
            "type": "histogram2dcontour"
           }
          ],
          "histogram2d": [
           {
            "colorbar": {
             "outlinewidth": 0,
             "ticks": ""
            },
            "colorscale": [
             [
              0.0,
              "#0d0887"
             ],
             [
              0.1111111111111111,
              "#46039f"
             ],
             [
              0.2222222222222222,
              "#7201a8"
             ],
             [
              0.3333333333333333,
              "#9c179e"
             ],
             [
              0.4444444444444444,
              "#bd3786"
             ],
             [
              0.5555555555555556,
              "#d8576b"
             ],
             [
              0.6666666666666666,
              "#ed7953"
             ],
             [
              0.7777777777777778,
              "#fb9f3a"
             ],
             [
              0.8888888888888888,
              "#fdca26"
             ],
             [
              1.0,
              "#f0f921"
             ]
            ],
            "type": "histogram2d"
           }
          ],
          "histogram": [
           {
            "marker": {
             "pattern": {
              "fillmode": "overlay",
              "size": 10,
              "solidity": 0.2
             }
            },
            "type": "histogram"
           }
          ],
          "mesh3d": [
           {
            "colorbar": {
             "outlinewidth": 0,
             "ticks": ""
            },
            "type": "mesh3d"
           }
          ],
          "parcoords": [
           {
            "line": {
             "colorbar": {
              "outlinewidth": 0,
              "ticks": ""
             }
            },
            "type": "parcoords"
           }
          ],
          "pie": [
           {
            "automargin": true,
            "type": "pie"
           }
          ],
          "scatter3d": [
           {
            "line": {
             "colorbar": {
              "outlinewidth": 0,
              "ticks": ""
             }
            },
            "marker": {
             "colorbar": {
              "outlinewidth": 0,
              "ticks": ""
             }
            },
            "type": "scatter3d"
           }
          ],
          "scattercarpet": [
           {
            "marker": {
             "colorbar": {
              "outlinewidth": 0,
              "ticks": ""
             }
            },
            "type": "scattercarpet"
           }
          ],
          "scattergeo": [
           {
            "marker": {
             "colorbar": {
              "outlinewidth": 0,
              "ticks": ""
             }
            },
            "type": "scattergeo"
           }
          ],
          "scattergl": [
           {
            "marker": {
             "line": {
              "color": "#283442"
             }
            },
            "type": "scattergl"
           }
          ],
          "scattermapbox": [
           {
            "marker": {
             "colorbar": {
              "outlinewidth": 0,
              "ticks": ""
             }
            },
            "type": "scattermapbox"
           }
          ],
          "scatterpolargl": [
           {
            "marker": {
             "colorbar": {
              "outlinewidth": 0,
              "ticks": ""
             }
            },
            "type": "scatterpolargl"
           }
          ],
          "scatterpolar": [
           {
            "marker": {
             "colorbar": {
              "outlinewidth": 0,
              "ticks": ""
             }
            },
            "type": "scatterpolar"
           }
          ],
          "scatter": [
           {
            "marker": {
             "line": {
              "color": "#283442"
             }
            },
            "type": "scatter"
           }
          ],
          "scatterternary": [
           {
            "marker": {
             "colorbar": {
              "outlinewidth": 0,
              "ticks": ""
             }
            },
            "type": "scatterternary"
           }
          ],
          "surface": [
           {
            "colorbar": {
             "outlinewidth": 0,
             "ticks": ""
            },
            "colorscale": [
             [
              0.0,
              "#0d0887"
             ],
             [
              0.1111111111111111,
              "#46039f"
             ],
             [
              0.2222222222222222,
              "#7201a8"
             ],
             [
              0.3333333333333333,
              "#9c179e"
             ],
             [
              0.4444444444444444,
              "#bd3786"
             ],
             [
              0.5555555555555556,
              "#d8576b"
             ],
             [
              0.6666666666666666,
              "#ed7953"
             ],
             [
              0.7777777777777778,
              "#fb9f3a"
             ],
             [
              0.8888888888888888,
              "#fdca26"
             ],
             [
              1.0,
              "#f0f921"
             ]
            ],
            "type": "surface"
           }
          ],
          "table": [
           {
            "cells": {
             "fill": {
              "color": "#506784"
             },
             "line": {
              "color": "rgb(17,17,17)"
             }
            },
            "header": {
             "fill": {
              "color": "#2a3f5f"
             },
             "line": {
              "color": "rgb(17,17,17)"
             }
            },
            "type": "table"
           }
          ]
         },
         "layout": {
          "annotationdefaults": {
           "arrowcolor": "#f2f5fa",
           "arrowhead": 0,
           "arrowwidth": 1
          },
          "autotypenumbers": "strict",
          "coloraxis": {
           "colorbar": {
            "outlinewidth": 0,
            "ticks": ""
           }
          },
          "colorscale": {
           "diverging": [
            [
             0,
             "#8e0152"
            ],
            [
             0.1,
             "#c51b7d"
            ],
            [
             0.2,
             "#de77ae"
            ],
            [
             0.3,
             "#f1b6da"
            ],
            [
             0.4,
             "#fde0ef"
            ],
            [
             0.5,
             "#f7f7f7"
            ],
            [
             0.6,
             "#e6f5d0"
            ],
            [
             0.7,
             "#b8e186"
            ],
            [
             0.8,
             "#7fbc41"
            ],
            [
             0.9,
             "#4d9221"
            ],
            [
             1,
             "#276419"
            ]
           ],
           "sequential": [
            [
             0.0,
             "#0d0887"
            ],
            [
             0.1111111111111111,
             "#46039f"
            ],
            [
             0.2222222222222222,
             "#7201a8"
            ],
            [
             0.3333333333333333,
             "#9c179e"
            ],
            [
             0.4444444444444444,
             "#bd3786"
            ],
            [
             0.5555555555555556,
             "#d8576b"
            ],
            [
             0.6666666666666666,
             "#ed7953"
            ],
            [
             0.7777777777777778,
             "#fb9f3a"
            ],
            [
             0.8888888888888888,
             "#fdca26"
            ],
            [
             1.0,
             "#f0f921"
            ]
           ],
           "sequentialminus": [
            [
             0.0,
             "#0d0887"
            ],
            [
             0.1111111111111111,
             "#46039f"
            ],
            [
             0.2222222222222222,
             "#7201a8"
            ],
            [
             0.3333333333333333,
             "#9c179e"
            ],
            [
             0.4444444444444444,
             "#bd3786"
            ],
            [
             0.5555555555555556,
             "#d8576b"
            ],
            [
             0.6666666666666666,
             "#ed7953"
            ],
            [
             0.7777777777777778,
             "#fb9f3a"
            ],
            [
             0.8888888888888888,
             "#fdca26"
            ],
            [
             1.0,
             "#f0f921"
            ]
           ]
          },
          "colorway": [
           "#636efa",
           "#EF553B",
           "#00cc96",
           "#ab63fa",
           "#FFA15A",
           "#19d3f3",
           "#FF6692",
           "#B6E880",
           "#FF97FF",
           "#FECB52"
          ],
          "font": {
           "color": "#f2f5fa"
          },
          "geo": {
           "bgcolor": "rgb(17,17,17)",
           "lakecolor": "rgb(17,17,17)",
           "landcolor": "rgb(17,17,17)",
           "showlakes": true,
           "showland": true,
           "subunitcolor": "#506784"
          },
          "hoverlabel": {
           "align": "left"
          },
          "hovermode": "closest",
          "mapbox": {
           "style": "dark"
          },
          "paper_bgcolor": "rgb(17,17,17)",
          "plot_bgcolor": "rgb(17,17,17)",
          "polar": {
           "angularaxis": {
            "gridcolor": "#506784",
            "linecolor": "#506784",
            "ticks": ""
           },
           "bgcolor": "rgb(17,17,17)",
           "radialaxis": {
            "gridcolor": "#506784",
            "linecolor": "#506784",
            "ticks": ""
           }
          },
          "scene": {
           "xaxis": {
            "backgroundcolor": "rgb(17,17,17)",
            "gridcolor": "#506784",
            "gridwidth": 2,
            "linecolor": "#506784",
            "showbackground": true,
            "ticks": "",
            "zerolinecolor": "#C8D4E3"
           },
           "yaxis": {
            "backgroundcolor": "rgb(17,17,17)",
            "gridcolor": "#506784",
            "gridwidth": 2,
            "linecolor": "#506784",
            "showbackground": true,
            "ticks": "",
            "zerolinecolor": "#C8D4E3"
           },
           "zaxis": {
            "backgroundcolor": "rgb(17,17,17)",
            "gridcolor": "#506784",
            "gridwidth": 2,
            "linecolor": "#506784",
            "showbackground": true,
            "ticks": "",
            "zerolinecolor": "#C8D4E3"
           }
          },
          "shapedefaults": {
           "line": {
            "color": "#f2f5fa"
           }
          },
          "sliderdefaults": {
           "bgcolor": "#C8D4E3",
           "bordercolor": "rgb(17,17,17)",
           "borderwidth": 1,
           "tickwidth": 0
          },
          "ternary": {
           "aaxis": {
            "gridcolor": "#506784",
            "linecolor": "#506784",
            "ticks": ""
           },
           "baxis": {
            "gridcolor": "#506784",
            "linecolor": "#506784",
            "ticks": ""
           },
           "bgcolor": "rgb(17,17,17)",
           "caxis": {
            "gridcolor": "#506784",
            "linecolor": "#506784",
            "ticks": ""
           }
          },
          "title": {
           "x": 0.05
          },
          "updatemenudefaults": {
           "bgcolor": "#506784",
           "borderwidth": 0
          },
          "xaxis": {
           "automargin": true,
           "gridcolor": "#283442",
           "linecolor": "#506784",
           "ticks": "",
           "title": {
            "standoff": 15
           },
           "zerolinecolor": "#283442",
           "zerolinewidth": 2
          },
          "yaxis": {
           "automargin": true,
           "gridcolor": "#283442",
           "linecolor": "#506784",
           "ticks": "",
           "title": {
            "standoff": 15
           },
           "zerolinecolor": "#283442",
           "zerolinewidth": 2
          }
         }
        }
       },
       "config": {
        "showLink": false,
        "linkText": "Export to plot.ly",
        "plotlyServerURL": "https://plot.ly"
       }
      },
      "text/html": "<div>                            <div id=\"1bb808e9-1492-425c-a73f-89bf6f2b3c63\" class=\"plotly-graph-div\" style=\"height:525px; width:100%;\"></div>            <script type=\"text/javascript\">                require([\"plotly\"], function(Plotly) {                    window.PLOTLYENV=window.PLOTLYENV || {};                                    if (document.getElementById(\"1bb808e9-1492-425c-a73f-89bf6f2b3c63\")) {                    Plotly.newPlot(                        \"1bb808e9-1492-425c-a73f-89bf6f2b3c63\",                        [{\"mode\":\"lines\",\"name\":\"fut\",\"x\":[80000.0,82000.0,84000.0,85000.0,86000.0,88000.0,90000.0,92000.0,94000.0,95000.0,96000.0,98000.0,100000.0],\"y\":[-7729.699999999997,-5727.740000000005,-3729.699999999997,-2729.699999999997,-1729.699999999997,270.3000000000029,2270.300000000003,4270.300000000003,6270.300000000003,7270.300000000003,8270.300000000003,10270.300000000003,12270.300000000003],\"type\":\"scatter\"},{\"mode\":\"lines\",\"name\":\"short call atm 88000.0\",\"x\":[80000.0,82000.0,84000.0,85000.0,86000.0,88000.0,90000.0,92000.0,94000.0,95000.0,96000.0,98000.0,100000.0],\"y\":[4853.424495,4853.424495,4853.424495,4853.424495,4853.424495,4853.424495,2853.424495,853.4244950000002,-1146.5755049999998,-2146.575505,-3146.575505,-5146.575505,-7146.575505],\"type\":\"scatter\"},{\"mode\":\"lines\",\"name\":\"short call atm premium 88000.0\",\"x\":[80000.0,82000.0,84000.0,85000.0,86000.0,88000.0,90000.0,92000.0,94000.0,95000.0,96000.0,98000.0,100000.0],\"y\":[4108.515495000001,4294.7427450000005,1507.7009349999998,1469.6409250000006,1038.0600100000001,0.0,-1431.5809149999977,-2513.3654700000034,-3944.946385000002,-4463.976389999995,-4853.424495,-4853.424495,-4853.424495],\"type\":\"scatter\"}],                        {\"template\":{\"data\":{\"barpolar\":[{\"marker\":{\"line\":{\"color\":\"rgb(17,17,17)\",\"width\":0.5},\"pattern\":{\"fillmode\":\"overlay\",\"size\":10,\"solidity\":0.2}},\"type\":\"barpolar\"}],\"bar\":[{\"error_x\":{\"color\":\"#f2f5fa\"},\"error_y\":{\"color\":\"#f2f5fa\"},\"marker\":{\"line\":{\"color\":\"rgb(17,17,17)\",\"width\":0.5},\"pattern\":{\"fillmode\":\"overlay\",\"size\":10,\"solidity\":0.2}},\"type\":\"bar\"}],\"carpet\":[{\"aaxis\":{\"endlinecolor\":\"#A2B1C6\",\"gridcolor\":\"#506784\",\"linecolor\":\"#506784\",\"minorgridcolor\":\"#506784\",\"startlinecolor\":\"#A2B1C6\"},\"baxis\":{\"endlinecolor\":\"#A2B1C6\",\"gridcolor\":\"#506784\",\"linecolor\":\"#506784\",\"minorgridcolor\":\"#506784\",\"startlinecolor\":\"#A2B1C6\"},\"type\":\"carpet\"}],\"choropleth\":[{\"colorbar\":{\"outlinewidth\":0,\"ticks\":\"\"},\"type\":\"choropleth\"}],\"contourcarpet\":[{\"colorbar\":{\"outlinewidth\":0,\"ticks\":\"\"},\"type\":\"contourcarpet\"}],\"contour\":[{\"colorbar\":{\"outlinewidth\":0,\"ticks\":\"\"},\"colorscale\":[[0.0,\"#0d0887\"],[0.1111111111111111,\"#46039f\"],[0.2222222222222222,\"#7201a8\"],[0.3333333333333333,\"#9c179e\"],[0.4444444444444444,\"#bd3786\"],[0.5555555555555556,\"#d8576b\"],[0.6666666666666666,\"#ed7953\"],[0.7777777777777778,\"#fb9f3a\"],[0.8888888888888888,\"#fdca26\"],[1.0,\"#f0f921\"]],\"type\":\"contour\"}],\"heatmapgl\":[{\"colorbar\":{\"outlinewidth\":0,\"ticks\":\"\"},\"colorscale\":[[0.0,\"#0d0887\"],[0.1111111111111111,\"#46039f\"],[0.2222222222222222,\"#7201a8\"],[0.3333333333333333,\"#9c179e\"],[0.4444444444444444,\"#bd3786\"],[0.5555555555555556,\"#d8576b\"],[0.6666666666666666,\"#ed7953\"],[0.7777777777777778,\"#fb9f3a\"],[0.8888888888888888,\"#fdca26\"],[1.0,\"#f0f921\"]],\"type\":\"heatmapgl\"}],\"heatmap\":[{\"colorbar\":{\"outlinewidth\":0,\"ticks\":\"\"},\"colorscale\":[[0.0,\"#0d0887\"],[0.1111111111111111,\"#46039f\"],[0.2222222222222222,\"#7201a8\"],[0.3333333333333333,\"#9c179e\"],[0.4444444444444444,\"#bd3786\"],[0.5555555555555556,\"#d8576b\"],[0.6666666666666666,\"#ed7953\"],[0.7777777777777778,\"#fb9f3a\"],[0.8888888888888888,\"#fdca26\"],[1.0,\"#f0f921\"]],\"type\":\"heatmap\"}],\"histogram2dcontour\":[{\"colorbar\":{\"outlinewidth\":0,\"ticks\":\"\"},\"colorscale\":[[0.0,\"#0d0887\"],[0.1111111111111111,\"#46039f\"],[0.2222222222222222,\"#7201a8\"],[0.3333333333333333,\"#9c179e\"],[0.4444444444444444,\"#bd3786\"],[0.5555555555555556,\"#d8576b\"],[0.6666666666666666,\"#ed7953\"],[0.7777777777777778,\"#fb9f3a\"],[0.8888888888888888,\"#fdca26\"],[1.0,\"#f0f921\"]],\"type\":\"histogram2dcontour\"}],\"histogram2d\":[{\"colorbar\":{\"outlinewidth\":0,\"ticks\":\"\"},\"colorscale\":[[0.0,\"#0d0887\"],[0.1111111111111111,\"#46039f\"],[0.2222222222222222,\"#7201a8\"],[0.3333333333333333,\"#9c179e\"],[0.4444444444444444,\"#bd3786\"],[0.5555555555555556,\"#d8576b\"],[0.6666666666666666,\"#ed7953\"],[0.7777777777777778,\"#fb9f3a\"],[0.8888888888888888,\"#fdca26\"],[1.0,\"#f0f921\"]],\"type\":\"histogram2d\"}],\"histogram\":[{\"marker\":{\"pattern\":{\"fillmode\":\"overlay\",\"size\":10,\"solidity\":0.2}},\"type\":\"histogram\"}],\"mesh3d\":[{\"colorbar\":{\"outlinewidth\":0,\"ticks\":\"\"},\"type\":\"mesh3d\"}],\"parcoords\":[{\"line\":{\"colorbar\":{\"outlinewidth\":0,\"ticks\":\"\"}},\"type\":\"parcoords\"}],\"pie\":[{\"automargin\":true,\"type\":\"pie\"}],\"scatter3d\":[{\"line\":{\"colorbar\":{\"outlinewidth\":0,\"ticks\":\"\"}},\"marker\":{\"colorbar\":{\"outlinewidth\":0,\"ticks\":\"\"}},\"type\":\"scatter3d\"}],\"scattercarpet\":[{\"marker\":{\"colorbar\":{\"outlinewidth\":0,\"ticks\":\"\"}},\"type\":\"scattercarpet\"}],\"scattergeo\":[{\"marker\":{\"colorbar\":{\"outlinewidth\":0,\"ticks\":\"\"}},\"type\":\"scattergeo\"}],\"scattergl\":[{\"marker\":{\"line\":{\"color\":\"#283442\"}},\"type\":\"scattergl\"}],\"scattermapbox\":[{\"marker\":{\"colorbar\":{\"outlinewidth\":0,\"ticks\":\"\"}},\"type\":\"scattermapbox\"}],\"scatterpolargl\":[{\"marker\":{\"colorbar\":{\"outlinewidth\":0,\"ticks\":\"\"}},\"type\":\"scatterpolargl\"}],\"scatterpolar\":[{\"marker\":{\"colorbar\":{\"outlinewidth\":0,\"ticks\":\"\"}},\"type\":\"scatterpolar\"}],\"scatter\":[{\"marker\":{\"line\":{\"color\":\"#283442\"}},\"type\":\"scatter\"}],\"scatterternary\":[{\"marker\":{\"colorbar\":{\"outlinewidth\":0,\"ticks\":\"\"}},\"type\":\"scatterternary\"}],\"surface\":[{\"colorbar\":{\"outlinewidth\":0,\"ticks\":\"\"},\"colorscale\":[[0.0,\"#0d0887\"],[0.1111111111111111,\"#46039f\"],[0.2222222222222222,\"#7201a8\"],[0.3333333333333333,\"#9c179e\"],[0.4444444444444444,\"#bd3786\"],[0.5555555555555556,\"#d8576b\"],[0.6666666666666666,\"#ed7953\"],[0.7777777777777778,\"#fb9f3a\"],[0.8888888888888888,\"#fdca26\"],[1.0,\"#f0f921\"]],\"type\":\"surface\"}],\"table\":[{\"cells\":{\"fill\":{\"color\":\"#506784\"},\"line\":{\"color\":\"rgb(17,17,17)\"}},\"header\":{\"fill\":{\"color\":\"#2a3f5f\"},\"line\":{\"color\":\"rgb(17,17,17)\"}},\"type\":\"table\"}]},\"layout\":{\"annotationdefaults\":{\"arrowcolor\":\"#f2f5fa\",\"arrowhead\":0,\"arrowwidth\":1},\"autotypenumbers\":\"strict\",\"coloraxis\":{\"colorbar\":{\"outlinewidth\":0,\"ticks\":\"\"}},\"colorscale\":{\"diverging\":[[0,\"#8e0152\"],[0.1,\"#c51b7d\"],[0.2,\"#de77ae\"],[0.3,\"#f1b6da\"],[0.4,\"#fde0ef\"],[0.5,\"#f7f7f7\"],[0.6,\"#e6f5d0\"],[0.7,\"#b8e186\"],[0.8,\"#7fbc41\"],[0.9,\"#4d9221\"],[1,\"#276419\"]],\"sequential\":[[0.0,\"#0d0887\"],[0.1111111111111111,\"#46039f\"],[0.2222222222222222,\"#7201a8\"],[0.3333333333333333,\"#9c179e\"],[0.4444444444444444,\"#bd3786\"],[0.5555555555555556,\"#d8576b\"],[0.6666666666666666,\"#ed7953\"],[0.7777777777777778,\"#fb9f3a\"],[0.8888888888888888,\"#fdca26\"],[1.0,\"#f0f921\"]],\"sequentialminus\":[[0.0,\"#0d0887\"],[0.1111111111111111,\"#46039f\"],[0.2222222222222222,\"#7201a8\"],[0.3333333333333333,\"#9c179e\"],[0.4444444444444444,\"#bd3786\"],[0.5555555555555556,\"#d8576b\"],[0.6666666666666666,\"#ed7953\"],[0.7777777777777778,\"#fb9f3a\"],[0.8888888888888888,\"#fdca26\"],[1.0,\"#f0f921\"]]},\"colorway\":[\"#636efa\",\"#EF553B\",\"#00cc96\",\"#ab63fa\",\"#FFA15A\",\"#19d3f3\",\"#FF6692\",\"#B6E880\",\"#FF97FF\",\"#FECB52\"],\"font\":{\"color\":\"#f2f5fa\"},\"geo\":{\"bgcolor\":\"rgb(17,17,17)\",\"lakecolor\":\"rgb(17,17,17)\",\"landcolor\":\"rgb(17,17,17)\",\"showlakes\":true,\"showland\":true,\"subunitcolor\":\"#506784\"},\"hoverlabel\":{\"align\":\"left\"},\"hovermode\":\"closest\",\"mapbox\":{\"style\":\"dark\"},\"paper_bgcolor\":\"rgb(17,17,17)\",\"plot_bgcolor\":\"rgb(17,17,17)\",\"polar\":{\"angularaxis\":{\"gridcolor\":\"#506784\",\"linecolor\":\"#506784\",\"ticks\":\"\"},\"bgcolor\":\"rgb(17,17,17)\",\"radialaxis\":{\"gridcolor\":\"#506784\",\"linecolor\":\"#506784\",\"ticks\":\"\"}},\"scene\":{\"xaxis\":{\"backgroundcolor\":\"rgb(17,17,17)\",\"gridcolor\":\"#506784\",\"gridwidth\":2,\"linecolor\":\"#506784\",\"showbackground\":true,\"ticks\":\"\",\"zerolinecolor\":\"#C8D4E3\"},\"yaxis\":{\"backgroundcolor\":\"rgb(17,17,17)\",\"gridcolor\":\"#506784\",\"gridwidth\":2,\"linecolor\":\"#506784\",\"showbackground\":true,\"ticks\":\"\",\"zerolinecolor\":\"#C8D4E3\"},\"zaxis\":{\"backgroundcolor\":\"rgb(17,17,17)\",\"gridcolor\":\"#506784\",\"gridwidth\":2,\"linecolor\":\"#506784\",\"showbackground\":true,\"ticks\":\"\",\"zerolinecolor\":\"#C8D4E3\"}},\"shapedefaults\":{\"line\":{\"color\":\"#f2f5fa\"}},\"sliderdefaults\":{\"bgcolor\":\"#C8D4E3\",\"bordercolor\":\"rgb(17,17,17)\",\"borderwidth\":1,\"tickwidth\":0},\"ternary\":{\"aaxis\":{\"gridcolor\":\"#506784\",\"linecolor\":\"#506784\",\"ticks\":\"\"},\"baxis\":{\"gridcolor\":\"#506784\",\"linecolor\":\"#506784\",\"ticks\":\"\"},\"bgcolor\":\"rgb(17,17,17)\",\"caxis\":{\"gridcolor\":\"#506784\",\"linecolor\":\"#506784\",\"ticks\":\"\"}},\"title\":{\"x\":0.05},\"updatemenudefaults\":{\"bgcolor\":\"#506784\",\"borderwidth\":0},\"xaxis\":{\"automargin\":true,\"gridcolor\":\"#283442\",\"linecolor\":\"#506784\",\"ticks\":\"\",\"title\":{\"standoff\":15},\"zerolinecolor\":\"#283442\",\"zerolinewidth\":2},\"yaxis\":{\"automargin\":true,\"gridcolor\":\"#283442\",\"linecolor\":\"#506784\",\"ticks\":\"\",\"title\":{\"standoff\":15},\"zerolinecolor\":\"#283442\",\"zerolinewidth\":2}}}},                        {\"responsive\": true}                    ).then(function(){\n                            \nvar gd = document.getElementById('1bb808e9-1492-425c-a73f-89bf6f2b3c63');\nvar x = new MutationObserver(function (mutations, observer) {{\n        var display = window.getComputedStyle(gd).display;\n        if (!display || display === 'none') {{\n            console.log([gd, 'removed!']);\n            Plotly.purge(gd);\n            observer.disconnect();\n        }}\n}});\n\n// Listen for the removal of the full notebook cells\nvar notebookContainer = gd.closest('#notebook-container');\nif (notebookContainer) {{\n    x.observe(notebookContainer, {childList: true});\n}}\n\n// Listen for the clearing of the current output cell\nvar outputEl = gd.closest('.output');\nif (outputEl) {{\n    x.observe(outputEl, {childList: true});\n}}\n\n                        })                };                });            </script>        </div>"
     },
     "metadata": {},
     "output_type": "display_data"
    }
   ],
   "source": [
    "data = [\n",
    "    go.Scatter(x=fut_view['strike'], y=fut_view['risk_pnl'].to_list(), mode='lines', name='fut'),\n",
    "\n",
    "    go.Scatter(x=short_call_view_1['strike'], y=short_call_view_1['risk_pnl'].to_list(), mode='lines',\n",
    "               name=f'short call atm {short_long_legs[0].strike}'),\n",
    "    go.Scatter(x=short_call_view_1['strike'], y=short_call_view_1['risk_pnl_premium'], mode='lines',\n",
    "               name=f'short call atm premium {short_long_legs[0].strike}'),\n",
    "]\n",
    "iplot(data)\n",
    "# TODO wrong premium caclulations, сделать сразу график профиля"
   ],
   "metadata": {
    "collapsed": false
   }
  },
  {
   "cell_type": "code",
   "execution_count": 31,
   "outputs": [
    {
     "data": {
      "application/vnd.plotly.v1+json": {
       "data": [
        {
         "mode": "lines",
         "name": "short call atm 88000.0",
         "x": [
          20000.0,
          30000.0,
          40000.0,
          45000.0,
          50000.0,
          55000.0,
          60000.0,
          65000.0,
          70000.0,
          75000.0,
          76000.0,
          78000.0,
          80000.0,
          82000.0,
          84000.0,
          85000.0,
          86000.0,
          88000.0,
          90000.0,
          92000.0,
          94000.0,
          95000.0,
          96000.0,
          98000.0,
          100000.0,
          102000.0,
          104000.0,
          105000.0,
          106000.0,
          108000.0,
          110000.0,
          112000.0,
          114000.0,
          115000.0,
          120000.0,
          125000.0,
          130000.0,
          135000.0,
          140000.0,
          145000.0,
          150000.0,
          160000.0,
          170000.0,
          175000.0,
          180000.0,
          200000.0,
          220000.0,
          250000.0,
          300000.0
         ],
         "y": [
          4853.424495,
          4853.424495,
          4853.424495,
          4853.424495,
          4853.424495,
          4853.424495,
          4853.424495,
          4853.424495,
          4853.424495,
          4853.424495,
          4853.424495,
          4853.424495,
          4853.424495,
          4853.424495,
          4853.424495,
          4853.424495,
          4853.424495,
          4853.424495,
          2853.424495,
          853.4244950000002,
          -1146.5755049999998,
          -2146.575505,
          -3146.575505,
          -5146.575505,
          -7146.575505,
          -9146.575505,
          -11146.575505,
          -12146.575505,
          -13146.575505,
          -15146.575505,
          -17146.575505,
          -19146.575505,
          -21146.575505,
          -22146.575505,
          -27146.575505,
          -32146.575505,
          -37146.575505,
          -42146.575505,
          -47146.575505,
          -52146.575505,
          -57146.575505,
          -67146.575505,
          -77146.575505,
          -82146.575505,
          -87146.575505,
          -107146.575505,
          -127146.575505,
          -157146.575505,
          -207146.575505
         ],
         "type": "scatter"
        },
        {
         "mode": "lines",
         "name": "short call atm premium 88000.0",
         "x": [
          20000.0,
          30000.0,
          40000.0,
          45000.0,
          50000.0,
          55000.0,
          60000.0,
          65000.0,
          70000.0,
          75000.0,
          76000.0,
          78000.0,
          80000.0,
          82000.0,
          84000.0,
          85000.0,
          86000.0,
          88000.0,
          90000.0,
          92000.0,
          94000.0,
          95000.0,
          96000.0,
          98000.0,
          100000.0,
          102000.0,
          104000.0,
          105000.0,
          106000.0,
          108000.0,
          110000.0,
          112000.0,
          114000.0,
          115000.0,
          120000.0,
          125000.0,
          130000.0,
          135000.0,
          140000.0,
          145000.0,
          150000.0,
          160000.0,
          170000.0,
          175000.0,
          180000.0,
          200000.0,
          220000.0,
          250000.0,
          300000.0
         ],
         "y": [
          4118.439755,
          6536.210534999999,
          6855.2031549999965,
          5440.615845000001,
          1839.8012850000023,
          -973.9714650000014,
          5516.838961000002,
          7171.714710000001,
          4008.1456000000007,
          538.504675000001,
          -942.4653199999984,
          4009.7373350000007,
          4108.515495000001,
          4294.7427450000005,
          1507.7009349999998,
          1469.6409250000006,
          1038.0600100000001,
          0.0,
          -1431.5809149999977,
          -2513.3654700000034,
          -3944.946385000002,
          -4463.976389999995,
          -4853.424495,
          -4853.424495,
          -4853.424495,
          -4853.424495,
          -4853.424495,
          -4853.424495,
          -4853.424495,
          -4853.424495,
          -4853.424495,
          -4853.424495,
          -4853.424495,
          -4853.424495,
          -4853.424495,
          -4853.424495,
          -4853.424495,
          -4853.424495,
          -4853.424495,
          -4853.424495,
          -4853.424495,
          -4853.424495,
          -4853.424495,
          -4853.424495,
          -4853.424495,
          -4853.424495,
          -4853.424495,
          -4853.424495,
          -4853.424495
         ],
         "type": "scatter"
        }
       ],
       "layout": {
        "template": {
         "data": {
          "barpolar": [
           {
            "marker": {
             "line": {
              "color": "rgb(17,17,17)",
              "width": 0.5
             },
             "pattern": {
              "fillmode": "overlay",
              "size": 10,
              "solidity": 0.2
             }
            },
            "type": "barpolar"
           }
          ],
          "bar": [
           {
            "error_x": {
             "color": "#f2f5fa"
            },
            "error_y": {
             "color": "#f2f5fa"
            },
            "marker": {
             "line": {
              "color": "rgb(17,17,17)",
              "width": 0.5
             },
             "pattern": {
              "fillmode": "overlay",
              "size": 10,
              "solidity": 0.2
             }
            },
            "type": "bar"
           }
          ],
          "carpet": [
           {
            "aaxis": {
             "endlinecolor": "#A2B1C6",
             "gridcolor": "#506784",
             "linecolor": "#506784",
             "minorgridcolor": "#506784",
             "startlinecolor": "#A2B1C6"
            },
            "baxis": {
             "endlinecolor": "#A2B1C6",
             "gridcolor": "#506784",
             "linecolor": "#506784",
             "minorgridcolor": "#506784",
             "startlinecolor": "#A2B1C6"
            },
            "type": "carpet"
           }
          ],
          "choropleth": [
           {
            "colorbar": {
             "outlinewidth": 0,
             "ticks": ""
            },
            "type": "choropleth"
           }
          ],
          "contourcarpet": [
           {
            "colorbar": {
             "outlinewidth": 0,
             "ticks": ""
            },
            "type": "contourcarpet"
           }
          ],
          "contour": [
           {
            "colorbar": {
             "outlinewidth": 0,
             "ticks": ""
            },
            "colorscale": [
             [
              0.0,
              "#0d0887"
             ],
             [
              0.1111111111111111,
              "#46039f"
             ],
             [
              0.2222222222222222,
              "#7201a8"
             ],
             [
              0.3333333333333333,
              "#9c179e"
             ],
             [
              0.4444444444444444,
              "#bd3786"
             ],
             [
              0.5555555555555556,
              "#d8576b"
             ],
             [
              0.6666666666666666,
              "#ed7953"
             ],
             [
              0.7777777777777778,
              "#fb9f3a"
             ],
             [
              0.8888888888888888,
              "#fdca26"
             ],
             [
              1.0,
              "#f0f921"
             ]
            ],
            "type": "contour"
           }
          ],
          "heatmapgl": [
           {
            "colorbar": {
             "outlinewidth": 0,
             "ticks": ""
            },
            "colorscale": [
             [
              0.0,
              "#0d0887"
             ],
             [
              0.1111111111111111,
              "#46039f"
             ],
             [
              0.2222222222222222,
              "#7201a8"
             ],
             [
              0.3333333333333333,
              "#9c179e"
             ],
             [
              0.4444444444444444,
              "#bd3786"
             ],
             [
              0.5555555555555556,
              "#d8576b"
             ],
             [
              0.6666666666666666,
              "#ed7953"
             ],
             [
              0.7777777777777778,
              "#fb9f3a"
             ],
             [
              0.8888888888888888,
              "#fdca26"
             ],
             [
              1.0,
              "#f0f921"
             ]
            ],
            "type": "heatmapgl"
           }
          ],
          "heatmap": [
           {
            "colorbar": {
             "outlinewidth": 0,
             "ticks": ""
            },
            "colorscale": [
             [
              0.0,
              "#0d0887"
             ],
             [
              0.1111111111111111,
              "#46039f"
             ],
             [
              0.2222222222222222,
              "#7201a8"
             ],
             [
              0.3333333333333333,
              "#9c179e"
             ],
             [
              0.4444444444444444,
              "#bd3786"
             ],
             [
              0.5555555555555556,
              "#d8576b"
             ],
             [
              0.6666666666666666,
              "#ed7953"
             ],
             [
              0.7777777777777778,
              "#fb9f3a"
             ],
             [
              0.8888888888888888,
              "#fdca26"
             ],
             [
              1.0,
              "#f0f921"
             ]
            ],
            "type": "heatmap"
           }
          ],
          "histogram2dcontour": [
           {
            "colorbar": {
             "outlinewidth": 0,
             "ticks": ""
            },
            "colorscale": [
             [
              0.0,
              "#0d0887"
             ],
             [
              0.1111111111111111,
              "#46039f"
             ],
             [
              0.2222222222222222,
              "#7201a8"
             ],
             [
              0.3333333333333333,
              "#9c179e"
             ],
             [
              0.4444444444444444,
              "#bd3786"
             ],
             [
              0.5555555555555556,
              "#d8576b"
             ],
             [
              0.6666666666666666,
              "#ed7953"
             ],
             [
              0.7777777777777778,
              "#fb9f3a"
             ],
             [
              0.8888888888888888,
              "#fdca26"
             ],
             [
              1.0,
              "#f0f921"
             ]
            ],
            "type": "histogram2dcontour"
           }
          ],
          "histogram2d": [
           {
            "colorbar": {
             "outlinewidth": 0,
             "ticks": ""
            },
            "colorscale": [
             [
              0.0,
              "#0d0887"
             ],
             [
              0.1111111111111111,
              "#46039f"
             ],
             [
              0.2222222222222222,
              "#7201a8"
             ],
             [
              0.3333333333333333,
              "#9c179e"
             ],
             [
              0.4444444444444444,
              "#bd3786"
             ],
             [
              0.5555555555555556,
              "#d8576b"
             ],
             [
              0.6666666666666666,
              "#ed7953"
             ],
             [
              0.7777777777777778,
              "#fb9f3a"
             ],
             [
              0.8888888888888888,
              "#fdca26"
             ],
             [
              1.0,
              "#f0f921"
             ]
            ],
            "type": "histogram2d"
           }
          ],
          "histogram": [
           {
            "marker": {
             "pattern": {
              "fillmode": "overlay",
              "size": 10,
              "solidity": 0.2
             }
            },
            "type": "histogram"
           }
          ],
          "mesh3d": [
           {
            "colorbar": {
             "outlinewidth": 0,
             "ticks": ""
            },
            "type": "mesh3d"
           }
          ],
          "parcoords": [
           {
            "line": {
             "colorbar": {
              "outlinewidth": 0,
              "ticks": ""
             }
            },
            "type": "parcoords"
           }
          ],
          "pie": [
           {
            "automargin": true,
            "type": "pie"
           }
          ],
          "scatter3d": [
           {
            "line": {
             "colorbar": {
              "outlinewidth": 0,
              "ticks": ""
             }
            },
            "marker": {
             "colorbar": {
              "outlinewidth": 0,
              "ticks": ""
             }
            },
            "type": "scatter3d"
           }
          ],
          "scattercarpet": [
           {
            "marker": {
             "colorbar": {
              "outlinewidth": 0,
              "ticks": ""
             }
            },
            "type": "scattercarpet"
           }
          ],
          "scattergeo": [
           {
            "marker": {
             "colorbar": {
              "outlinewidth": 0,
              "ticks": ""
             }
            },
            "type": "scattergeo"
           }
          ],
          "scattergl": [
           {
            "marker": {
             "line": {
              "color": "#283442"
             }
            },
            "type": "scattergl"
           }
          ],
          "scattermapbox": [
           {
            "marker": {
             "colorbar": {
              "outlinewidth": 0,
              "ticks": ""
             }
            },
            "type": "scattermapbox"
           }
          ],
          "scatterpolargl": [
           {
            "marker": {
             "colorbar": {
              "outlinewidth": 0,
              "ticks": ""
             }
            },
            "type": "scatterpolargl"
           }
          ],
          "scatterpolar": [
           {
            "marker": {
             "colorbar": {
              "outlinewidth": 0,
              "ticks": ""
             }
            },
            "type": "scatterpolar"
           }
          ],
          "scatter": [
           {
            "marker": {
             "line": {
              "color": "#283442"
             }
            },
            "type": "scatter"
           }
          ],
          "scatterternary": [
           {
            "marker": {
             "colorbar": {
              "outlinewidth": 0,
              "ticks": ""
             }
            },
            "type": "scatterternary"
           }
          ],
          "surface": [
           {
            "colorbar": {
             "outlinewidth": 0,
             "ticks": ""
            },
            "colorscale": [
             [
              0.0,
              "#0d0887"
             ],
             [
              0.1111111111111111,
              "#46039f"
             ],
             [
              0.2222222222222222,
              "#7201a8"
             ],
             [
              0.3333333333333333,
              "#9c179e"
             ],
             [
              0.4444444444444444,
              "#bd3786"
             ],
             [
              0.5555555555555556,
              "#d8576b"
             ],
             [
              0.6666666666666666,
              "#ed7953"
             ],
             [
              0.7777777777777778,
              "#fb9f3a"
             ],
             [
              0.8888888888888888,
              "#fdca26"
             ],
             [
              1.0,
              "#f0f921"
             ]
            ],
            "type": "surface"
           }
          ],
          "table": [
           {
            "cells": {
             "fill": {
              "color": "#506784"
             },
             "line": {
              "color": "rgb(17,17,17)"
             }
            },
            "header": {
             "fill": {
              "color": "#2a3f5f"
             },
             "line": {
              "color": "rgb(17,17,17)"
             }
            },
            "type": "table"
           }
          ]
         },
         "layout": {
          "annotationdefaults": {
           "arrowcolor": "#f2f5fa",
           "arrowhead": 0,
           "arrowwidth": 1
          },
          "autotypenumbers": "strict",
          "coloraxis": {
           "colorbar": {
            "outlinewidth": 0,
            "ticks": ""
           }
          },
          "colorscale": {
           "diverging": [
            [
             0,
             "#8e0152"
            ],
            [
             0.1,
             "#c51b7d"
            ],
            [
             0.2,
             "#de77ae"
            ],
            [
             0.3,
             "#f1b6da"
            ],
            [
             0.4,
             "#fde0ef"
            ],
            [
             0.5,
             "#f7f7f7"
            ],
            [
             0.6,
             "#e6f5d0"
            ],
            [
             0.7,
             "#b8e186"
            ],
            [
             0.8,
             "#7fbc41"
            ],
            [
             0.9,
             "#4d9221"
            ],
            [
             1,
             "#276419"
            ]
           ],
           "sequential": [
            [
             0.0,
             "#0d0887"
            ],
            [
             0.1111111111111111,
             "#46039f"
            ],
            [
             0.2222222222222222,
             "#7201a8"
            ],
            [
             0.3333333333333333,
             "#9c179e"
            ],
            [
             0.4444444444444444,
             "#bd3786"
            ],
            [
             0.5555555555555556,
             "#d8576b"
            ],
            [
             0.6666666666666666,
             "#ed7953"
            ],
            [
             0.7777777777777778,
             "#fb9f3a"
            ],
            [
             0.8888888888888888,
             "#fdca26"
            ],
            [
             1.0,
             "#f0f921"
            ]
           ],
           "sequentialminus": [
            [
             0.0,
             "#0d0887"
            ],
            [
             0.1111111111111111,
             "#46039f"
            ],
            [
             0.2222222222222222,
             "#7201a8"
            ],
            [
             0.3333333333333333,
             "#9c179e"
            ],
            [
             0.4444444444444444,
             "#bd3786"
            ],
            [
             0.5555555555555556,
             "#d8576b"
            ],
            [
             0.6666666666666666,
             "#ed7953"
            ],
            [
             0.7777777777777778,
             "#fb9f3a"
            ],
            [
             0.8888888888888888,
             "#fdca26"
            ],
            [
             1.0,
             "#f0f921"
            ]
           ]
          },
          "colorway": [
           "#636efa",
           "#EF553B",
           "#00cc96",
           "#ab63fa",
           "#FFA15A",
           "#19d3f3",
           "#FF6692",
           "#B6E880",
           "#FF97FF",
           "#FECB52"
          ],
          "font": {
           "color": "#f2f5fa"
          },
          "geo": {
           "bgcolor": "rgb(17,17,17)",
           "lakecolor": "rgb(17,17,17)",
           "landcolor": "rgb(17,17,17)",
           "showlakes": true,
           "showland": true,
           "subunitcolor": "#506784"
          },
          "hoverlabel": {
           "align": "left"
          },
          "hovermode": "closest",
          "mapbox": {
           "style": "dark"
          },
          "paper_bgcolor": "rgb(17,17,17)",
          "plot_bgcolor": "rgb(17,17,17)",
          "polar": {
           "angularaxis": {
            "gridcolor": "#506784",
            "linecolor": "#506784",
            "ticks": ""
           },
           "bgcolor": "rgb(17,17,17)",
           "radialaxis": {
            "gridcolor": "#506784",
            "linecolor": "#506784",
            "ticks": ""
           }
          },
          "scene": {
           "xaxis": {
            "backgroundcolor": "rgb(17,17,17)",
            "gridcolor": "#506784",
            "gridwidth": 2,
            "linecolor": "#506784",
            "showbackground": true,
            "ticks": "",
            "zerolinecolor": "#C8D4E3"
           },
           "yaxis": {
            "backgroundcolor": "rgb(17,17,17)",
            "gridcolor": "#506784",
            "gridwidth": 2,
            "linecolor": "#506784",
            "showbackground": true,
            "ticks": "",
            "zerolinecolor": "#C8D4E3"
           },
           "zaxis": {
            "backgroundcolor": "rgb(17,17,17)",
            "gridcolor": "#506784",
            "gridwidth": 2,
            "linecolor": "#506784",
            "showbackground": true,
            "ticks": "",
            "zerolinecolor": "#C8D4E3"
           }
          },
          "shapedefaults": {
           "line": {
            "color": "#f2f5fa"
           }
          },
          "sliderdefaults": {
           "bgcolor": "#C8D4E3",
           "bordercolor": "rgb(17,17,17)",
           "borderwidth": 1,
           "tickwidth": 0
          },
          "ternary": {
           "aaxis": {
            "gridcolor": "#506784",
            "linecolor": "#506784",
            "ticks": ""
           },
           "baxis": {
            "gridcolor": "#506784",
            "linecolor": "#506784",
            "ticks": ""
           },
           "bgcolor": "rgb(17,17,17)",
           "caxis": {
            "gridcolor": "#506784",
            "linecolor": "#506784",
            "ticks": ""
           }
          },
          "title": {
           "x": 0.05
          },
          "updatemenudefaults": {
           "bgcolor": "#506784",
           "borderwidth": 0
          },
          "xaxis": {
           "automargin": true,
           "gridcolor": "#283442",
           "linecolor": "#506784",
           "ticks": "",
           "title": {
            "standoff": 15
           },
           "zerolinecolor": "#283442",
           "zerolinewidth": 2
          },
          "yaxis": {
           "automargin": true,
           "gridcolor": "#283442",
           "linecolor": "#506784",
           "ticks": "",
           "title": {
            "standoff": 15
           },
           "zerolinecolor": "#283442",
           "zerolinewidth": 2
          }
         }
        }
       },
       "config": {
        "showLink": false,
        "linkText": "Export to plot.ly",
        "plotlyServerURL": "https://plot.ly"
       }
      },
      "text/html": "<div>                            <div id=\"f95d427e-4400-4a20-98a5-73c96792de6e\" class=\"plotly-graph-div\" style=\"height:525px; width:100%;\"></div>            <script type=\"text/javascript\">                require([\"plotly\"], function(Plotly) {                    window.PLOTLYENV=window.PLOTLYENV || {};                                    if (document.getElementById(\"f95d427e-4400-4a20-98a5-73c96792de6e\")) {                    Plotly.newPlot(                        \"f95d427e-4400-4a20-98a5-73c96792de6e\",                        [{\"mode\":\"lines\",\"name\":\"short call atm 88000.0\",\"x\":[20000.0,30000.0,40000.0,45000.0,50000.0,55000.0,60000.0,65000.0,70000.0,75000.0,76000.0,78000.0,80000.0,82000.0,84000.0,85000.0,86000.0,88000.0,90000.0,92000.0,94000.0,95000.0,96000.0,98000.0,100000.0,102000.0,104000.0,105000.0,106000.0,108000.0,110000.0,112000.0,114000.0,115000.0,120000.0,125000.0,130000.0,135000.0,140000.0,145000.0,150000.0,160000.0,170000.0,175000.0,180000.0,200000.0,220000.0,250000.0,300000.0],\"y\":[4853.424495,4853.424495,4853.424495,4853.424495,4853.424495,4853.424495,4853.424495,4853.424495,4853.424495,4853.424495,4853.424495,4853.424495,4853.424495,4853.424495,4853.424495,4853.424495,4853.424495,4853.424495,2853.424495,853.4244950000002,-1146.5755049999998,-2146.575505,-3146.575505,-5146.575505,-7146.575505,-9146.575505,-11146.575505,-12146.575505,-13146.575505,-15146.575505,-17146.575505,-19146.575505,-21146.575505,-22146.575505,-27146.575505,-32146.575505,-37146.575505,-42146.575505,-47146.575505,-52146.575505,-57146.575505,-67146.575505,-77146.575505,-82146.575505,-87146.575505,-107146.575505,-127146.575505,-157146.575505,-207146.575505],\"type\":\"scatter\"},{\"mode\":\"lines\",\"name\":\"short call atm premium 88000.0\",\"x\":[20000.0,30000.0,40000.0,45000.0,50000.0,55000.0,60000.0,65000.0,70000.0,75000.0,76000.0,78000.0,80000.0,82000.0,84000.0,85000.0,86000.0,88000.0,90000.0,92000.0,94000.0,95000.0,96000.0,98000.0,100000.0,102000.0,104000.0,105000.0,106000.0,108000.0,110000.0,112000.0,114000.0,115000.0,120000.0,125000.0,130000.0,135000.0,140000.0,145000.0,150000.0,160000.0,170000.0,175000.0,180000.0,200000.0,220000.0,250000.0,300000.0],\"y\":[4118.439755,6536.210534999999,6855.2031549999965,5440.615845000001,1839.8012850000023,-973.9714650000014,5516.838961000002,7171.714710000001,4008.1456000000007,538.504675000001,-942.4653199999984,4009.7373350000007,4108.515495000001,4294.7427450000005,1507.7009349999998,1469.6409250000006,1038.0600100000001,0.0,-1431.5809149999977,-2513.3654700000034,-3944.946385000002,-4463.976389999995,-4853.424495,-4853.424495,-4853.424495,-4853.424495,-4853.424495,-4853.424495,-4853.424495,-4853.424495,-4853.424495,-4853.424495,-4853.424495,-4853.424495,-4853.424495,-4853.424495,-4853.424495,-4853.424495,-4853.424495,-4853.424495,-4853.424495,-4853.424495,-4853.424495,-4853.424495,-4853.424495,-4853.424495,-4853.424495,-4853.424495,-4853.424495],\"type\":\"scatter\"}],                        {\"template\":{\"data\":{\"barpolar\":[{\"marker\":{\"line\":{\"color\":\"rgb(17,17,17)\",\"width\":0.5},\"pattern\":{\"fillmode\":\"overlay\",\"size\":10,\"solidity\":0.2}},\"type\":\"barpolar\"}],\"bar\":[{\"error_x\":{\"color\":\"#f2f5fa\"},\"error_y\":{\"color\":\"#f2f5fa\"},\"marker\":{\"line\":{\"color\":\"rgb(17,17,17)\",\"width\":0.5},\"pattern\":{\"fillmode\":\"overlay\",\"size\":10,\"solidity\":0.2}},\"type\":\"bar\"}],\"carpet\":[{\"aaxis\":{\"endlinecolor\":\"#A2B1C6\",\"gridcolor\":\"#506784\",\"linecolor\":\"#506784\",\"minorgridcolor\":\"#506784\",\"startlinecolor\":\"#A2B1C6\"},\"baxis\":{\"endlinecolor\":\"#A2B1C6\",\"gridcolor\":\"#506784\",\"linecolor\":\"#506784\",\"minorgridcolor\":\"#506784\",\"startlinecolor\":\"#A2B1C6\"},\"type\":\"carpet\"}],\"choropleth\":[{\"colorbar\":{\"outlinewidth\":0,\"ticks\":\"\"},\"type\":\"choropleth\"}],\"contourcarpet\":[{\"colorbar\":{\"outlinewidth\":0,\"ticks\":\"\"},\"type\":\"contourcarpet\"}],\"contour\":[{\"colorbar\":{\"outlinewidth\":0,\"ticks\":\"\"},\"colorscale\":[[0.0,\"#0d0887\"],[0.1111111111111111,\"#46039f\"],[0.2222222222222222,\"#7201a8\"],[0.3333333333333333,\"#9c179e\"],[0.4444444444444444,\"#bd3786\"],[0.5555555555555556,\"#d8576b\"],[0.6666666666666666,\"#ed7953\"],[0.7777777777777778,\"#fb9f3a\"],[0.8888888888888888,\"#fdca26\"],[1.0,\"#f0f921\"]],\"type\":\"contour\"}],\"heatmapgl\":[{\"colorbar\":{\"outlinewidth\":0,\"ticks\":\"\"},\"colorscale\":[[0.0,\"#0d0887\"],[0.1111111111111111,\"#46039f\"],[0.2222222222222222,\"#7201a8\"],[0.3333333333333333,\"#9c179e\"],[0.4444444444444444,\"#bd3786\"],[0.5555555555555556,\"#d8576b\"],[0.6666666666666666,\"#ed7953\"],[0.7777777777777778,\"#fb9f3a\"],[0.8888888888888888,\"#fdca26\"],[1.0,\"#f0f921\"]],\"type\":\"heatmapgl\"}],\"heatmap\":[{\"colorbar\":{\"outlinewidth\":0,\"ticks\":\"\"},\"colorscale\":[[0.0,\"#0d0887\"],[0.1111111111111111,\"#46039f\"],[0.2222222222222222,\"#7201a8\"],[0.3333333333333333,\"#9c179e\"],[0.4444444444444444,\"#bd3786\"],[0.5555555555555556,\"#d8576b\"],[0.6666666666666666,\"#ed7953\"],[0.7777777777777778,\"#fb9f3a\"],[0.8888888888888888,\"#fdca26\"],[1.0,\"#f0f921\"]],\"type\":\"heatmap\"}],\"histogram2dcontour\":[{\"colorbar\":{\"outlinewidth\":0,\"ticks\":\"\"},\"colorscale\":[[0.0,\"#0d0887\"],[0.1111111111111111,\"#46039f\"],[0.2222222222222222,\"#7201a8\"],[0.3333333333333333,\"#9c179e\"],[0.4444444444444444,\"#bd3786\"],[0.5555555555555556,\"#d8576b\"],[0.6666666666666666,\"#ed7953\"],[0.7777777777777778,\"#fb9f3a\"],[0.8888888888888888,\"#fdca26\"],[1.0,\"#f0f921\"]],\"type\":\"histogram2dcontour\"}],\"histogram2d\":[{\"colorbar\":{\"outlinewidth\":0,\"ticks\":\"\"},\"colorscale\":[[0.0,\"#0d0887\"],[0.1111111111111111,\"#46039f\"],[0.2222222222222222,\"#7201a8\"],[0.3333333333333333,\"#9c179e\"],[0.4444444444444444,\"#bd3786\"],[0.5555555555555556,\"#d8576b\"],[0.6666666666666666,\"#ed7953\"],[0.7777777777777778,\"#fb9f3a\"],[0.8888888888888888,\"#fdca26\"],[1.0,\"#f0f921\"]],\"type\":\"histogram2d\"}],\"histogram\":[{\"marker\":{\"pattern\":{\"fillmode\":\"overlay\",\"size\":10,\"solidity\":0.2}},\"type\":\"histogram\"}],\"mesh3d\":[{\"colorbar\":{\"outlinewidth\":0,\"ticks\":\"\"},\"type\":\"mesh3d\"}],\"parcoords\":[{\"line\":{\"colorbar\":{\"outlinewidth\":0,\"ticks\":\"\"}},\"type\":\"parcoords\"}],\"pie\":[{\"automargin\":true,\"type\":\"pie\"}],\"scatter3d\":[{\"line\":{\"colorbar\":{\"outlinewidth\":0,\"ticks\":\"\"}},\"marker\":{\"colorbar\":{\"outlinewidth\":0,\"ticks\":\"\"}},\"type\":\"scatter3d\"}],\"scattercarpet\":[{\"marker\":{\"colorbar\":{\"outlinewidth\":0,\"ticks\":\"\"}},\"type\":\"scattercarpet\"}],\"scattergeo\":[{\"marker\":{\"colorbar\":{\"outlinewidth\":0,\"ticks\":\"\"}},\"type\":\"scattergeo\"}],\"scattergl\":[{\"marker\":{\"line\":{\"color\":\"#283442\"}},\"type\":\"scattergl\"}],\"scattermapbox\":[{\"marker\":{\"colorbar\":{\"outlinewidth\":0,\"ticks\":\"\"}},\"type\":\"scattermapbox\"}],\"scatterpolargl\":[{\"marker\":{\"colorbar\":{\"outlinewidth\":0,\"ticks\":\"\"}},\"type\":\"scatterpolargl\"}],\"scatterpolar\":[{\"marker\":{\"colorbar\":{\"outlinewidth\":0,\"ticks\":\"\"}},\"type\":\"scatterpolar\"}],\"scatter\":[{\"marker\":{\"line\":{\"color\":\"#283442\"}},\"type\":\"scatter\"}],\"scatterternary\":[{\"marker\":{\"colorbar\":{\"outlinewidth\":0,\"ticks\":\"\"}},\"type\":\"scatterternary\"}],\"surface\":[{\"colorbar\":{\"outlinewidth\":0,\"ticks\":\"\"},\"colorscale\":[[0.0,\"#0d0887\"],[0.1111111111111111,\"#46039f\"],[0.2222222222222222,\"#7201a8\"],[0.3333333333333333,\"#9c179e\"],[0.4444444444444444,\"#bd3786\"],[0.5555555555555556,\"#d8576b\"],[0.6666666666666666,\"#ed7953\"],[0.7777777777777778,\"#fb9f3a\"],[0.8888888888888888,\"#fdca26\"],[1.0,\"#f0f921\"]],\"type\":\"surface\"}],\"table\":[{\"cells\":{\"fill\":{\"color\":\"#506784\"},\"line\":{\"color\":\"rgb(17,17,17)\"}},\"header\":{\"fill\":{\"color\":\"#2a3f5f\"},\"line\":{\"color\":\"rgb(17,17,17)\"}},\"type\":\"table\"}]},\"layout\":{\"annotationdefaults\":{\"arrowcolor\":\"#f2f5fa\",\"arrowhead\":0,\"arrowwidth\":1},\"autotypenumbers\":\"strict\",\"coloraxis\":{\"colorbar\":{\"outlinewidth\":0,\"ticks\":\"\"}},\"colorscale\":{\"diverging\":[[0,\"#8e0152\"],[0.1,\"#c51b7d\"],[0.2,\"#de77ae\"],[0.3,\"#f1b6da\"],[0.4,\"#fde0ef\"],[0.5,\"#f7f7f7\"],[0.6,\"#e6f5d0\"],[0.7,\"#b8e186\"],[0.8,\"#7fbc41\"],[0.9,\"#4d9221\"],[1,\"#276419\"]],\"sequential\":[[0.0,\"#0d0887\"],[0.1111111111111111,\"#46039f\"],[0.2222222222222222,\"#7201a8\"],[0.3333333333333333,\"#9c179e\"],[0.4444444444444444,\"#bd3786\"],[0.5555555555555556,\"#d8576b\"],[0.6666666666666666,\"#ed7953\"],[0.7777777777777778,\"#fb9f3a\"],[0.8888888888888888,\"#fdca26\"],[1.0,\"#f0f921\"]],\"sequentialminus\":[[0.0,\"#0d0887\"],[0.1111111111111111,\"#46039f\"],[0.2222222222222222,\"#7201a8\"],[0.3333333333333333,\"#9c179e\"],[0.4444444444444444,\"#bd3786\"],[0.5555555555555556,\"#d8576b\"],[0.6666666666666666,\"#ed7953\"],[0.7777777777777778,\"#fb9f3a\"],[0.8888888888888888,\"#fdca26\"],[1.0,\"#f0f921\"]]},\"colorway\":[\"#636efa\",\"#EF553B\",\"#00cc96\",\"#ab63fa\",\"#FFA15A\",\"#19d3f3\",\"#FF6692\",\"#B6E880\",\"#FF97FF\",\"#FECB52\"],\"font\":{\"color\":\"#f2f5fa\"},\"geo\":{\"bgcolor\":\"rgb(17,17,17)\",\"lakecolor\":\"rgb(17,17,17)\",\"landcolor\":\"rgb(17,17,17)\",\"showlakes\":true,\"showland\":true,\"subunitcolor\":\"#506784\"},\"hoverlabel\":{\"align\":\"left\"},\"hovermode\":\"closest\",\"mapbox\":{\"style\":\"dark\"},\"paper_bgcolor\":\"rgb(17,17,17)\",\"plot_bgcolor\":\"rgb(17,17,17)\",\"polar\":{\"angularaxis\":{\"gridcolor\":\"#506784\",\"linecolor\":\"#506784\",\"ticks\":\"\"},\"bgcolor\":\"rgb(17,17,17)\",\"radialaxis\":{\"gridcolor\":\"#506784\",\"linecolor\":\"#506784\",\"ticks\":\"\"}},\"scene\":{\"xaxis\":{\"backgroundcolor\":\"rgb(17,17,17)\",\"gridcolor\":\"#506784\",\"gridwidth\":2,\"linecolor\":\"#506784\",\"showbackground\":true,\"ticks\":\"\",\"zerolinecolor\":\"#C8D4E3\"},\"yaxis\":{\"backgroundcolor\":\"rgb(17,17,17)\",\"gridcolor\":\"#506784\",\"gridwidth\":2,\"linecolor\":\"#506784\",\"showbackground\":true,\"ticks\":\"\",\"zerolinecolor\":\"#C8D4E3\"},\"zaxis\":{\"backgroundcolor\":\"rgb(17,17,17)\",\"gridcolor\":\"#506784\",\"gridwidth\":2,\"linecolor\":\"#506784\",\"showbackground\":true,\"ticks\":\"\",\"zerolinecolor\":\"#C8D4E3\"}},\"shapedefaults\":{\"line\":{\"color\":\"#f2f5fa\"}},\"sliderdefaults\":{\"bgcolor\":\"#C8D4E3\",\"bordercolor\":\"rgb(17,17,17)\",\"borderwidth\":1,\"tickwidth\":0},\"ternary\":{\"aaxis\":{\"gridcolor\":\"#506784\",\"linecolor\":\"#506784\",\"ticks\":\"\"},\"baxis\":{\"gridcolor\":\"#506784\",\"linecolor\":\"#506784\",\"ticks\":\"\"},\"bgcolor\":\"rgb(17,17,17)\",\"caxis\":{\"gridcolor\":\"#506784\",\"linecolor\":\"#506784\",\"ticks\":\"\"}},\"title\":{\"x\":0.05},\"updatemenudefaults\":{\"bgcolor\":\"#506784\",\"borderwidth\":0},\"xaxis\":{\"automargin\":true,\"gridcolor\":\"#283442\",\"linecolor\":\"#506784\",\"ticks\":\"\",\"title\":{\"standoff\":15},\"zerolinecolor\":\"#283442\",\"zerolinewidth\":2},\"yaxis\":{\"automargin\":true,\"gridcolor\":\"#283442\",\"linecolor\":\"#506784\",\"ticks\":\"\",\"title\":{\"standoff\":15},\"zerolinecolor\":\"#283442\",\"zerolinewidth\":2}}}},                        {\"responsive\": true}                    ).then(function(){\n                            \nvar gd = document.getElementById('f95d427e-4400-4a20-98a5-73c96792de6e');\nvar x = new MutationObserver(function (mutations, observer) {{\n        var display = window.getComputedStyle(gd).display;\n        if (!display || display === 'none') {{\n            console.log([gd, 'removed!']);\n            Plotly.purge(gd);\n            observer.disconnect();\n        }}\n}});\n\n// Listen for the removal of the full notebook cells\nvar notebookContainer = gd.closest('#notebook-container');\nif (notebookContainer) {{\n    x.observe(notebookContainer, {childList: true});\n}}\n\n// Listen for the clearing of the current output cell\nvar outputEl = gd.closest('.output');\nif (outputEl) {{\n    x.observe(outputEl, {childList: true});\n}}\n\n                        })                };                });            </script>        </div>"
     },
     "metadata": {},
     "output_type": "display_data"
    }
   ],
   "source": [
    "data = [\n",
    "    go.Scatter(x=short_long_risk_profile['strike'], y=short_long_risk_profile['risk_pnl'].to_list(), mode='lines',\n",
    "               name=f'short call atm {short_long_legs[0].strike}'),\n",
    "    go.Scatter(x=short_long_risk_profile['strike'], y=short_long_risk_profile['risk_pnl_premium'], mode='lines',\n",
    "               name=f'short call atm premium {short_long_legs[0].strike}'),\n",
    "]\n",
    "iplot(data)"
   ],
   "metadata": {
    "collapsed": false
   }
  },
  {
   "cell_type": "markdown",
   "source": [
    "*Resume selling options:*\n",
    "\n",
    "It is not profitable for us to move the BA against our position and increase market volatility in the market (which may lead, among other things, to a serious increase in warranty requirements for our options).\n",
    "\n",
    "Time always works in favor of our position.\n",
    "\n",
    "The risks of selling a Call option (Short Call):\n",
    "* an increase in the futures price (the position earns a decrease as well as while maintaining the price at the current level)\n",
    "* an increase in market volatility. As volatility increases, option premiums in the market become more expensive (while maintaining the same value of the underlying asset and the reserve before expiration)\n",
    "* an increase in margin requirement. The margin requirement may increase both due to the movement of the price of the underlying asset and under the influence of market volatility.\n",
    "\n",
    "Risks of selling a Put option (Short Put):\n",
    "* lower futures prices (the position earns on growth, as well as while maintaining the price at the current level)\n",
    "* increased volatility in the market. With an increase in premium volatility, options on the market become more expensive (while maintaining the same value of the underlying asset and terminating before expiration)\n",
    "* an increase in the margin requirement. The margin requirement may increase both due to the movement of the price of the underlying asset and under the influence of market volatility.\n",
    "\n",
    "\n",
    "By selling the Put option, we lose money on a decrease in the BA, and the resulting general increase in market volatility in most cases gives us an even greater loss on the position.\n",
    "\n",
    "By selling a Call option, we lose money on the growth of the BA, on the reduction of volatility, which usually (I emphasize, not always) accompanies the growth of the instrument works for us and improves our financial result for the position.\n"
   ],
   "metadata": {
    "collapsed": false
   }
  }
 ],
 "metadata": {
  "kernelspec": {
   "display_name": "Python 3 (ipykernel)",
   "language": "python",
   "name": "python3"
  },
  "language_info": {
   "codemirror_mode": {
    "name": "ipython",
    "version": 3
   },
   "file_extension": ".py",
   "mimetype": "text/x-python",
   "name": "python",
   "nbconvert_exporter": "python",
   "pygments_lexer": "ipython3",
   "version": "3.13.0"
  }
 },
 "nbformat": 4,
 "nbformat_minor": 5
}
